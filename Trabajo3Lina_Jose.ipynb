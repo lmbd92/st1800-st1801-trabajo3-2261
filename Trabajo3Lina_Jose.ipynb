{
  "nbformat": 4,
  "nbformat_minor": 0,
  "metadata": {
    "colab": {
      "name": "Trabajo3Lina_Jose.ipynb",
      "provenance": [],
      "include_colab_link": true
    },
    "kernelspec": {
      "name": "python3",
      "display_name": "Python 3"
    },
    "language_info": {
      "name": "python"
    }
  },
  "cells": [
    {
      "cell_type": "markdown",
      "metadata": {
        "id": "view-in-github",
        "colab_type": "text"
      },
      "source": [
        "<a href=\"https://colab.research.google.com/github/lmbd92/st1800-st1801-trabajo3-2261/blob/main/Trabajo3Lina_Jose.ipynb\" target=\"_parent\"><img src=\"https://colab.research.google.com/assets/colab-badge.svg\" alt=\"Open In Colab\"/></a>"
      ]
    },
    {
      "cell_type": "markdown",
      "source": [
        "Integrantes: Lina Beltrán (lbeltra1@eafit.edu.co), Jose Muñoz (jjmunozm@eafit.edu.co)\n",
        "\n",
        "Materia: Alm. & Recu. de información.\n",
        "\n",
        "Trabajo 3\n",
        "\n",
        "Universidad EAFIT - Maestria ciencia en datos y analítica\n",
        "\n",
        "Trabajo 2 Unidad 2 recuperación de texto"
      ],
      "metadata": {
        "id": "Z4h_pwsBq34m"
      }
    },
    {
      "cell_type": "markdown",
      "source": [
        "Data: https://github.com/lmbd92/st1800-st1801-trabajo3-2261/blob/main/Trabajo3/twitter.txt"
      ],
      "metadata": {
        "id": "6yp5sbzv7dbk"
      }
    },
    {
      "cell_type": "markdown",
      "source": [
        "# Abrir archivos desde GitHub"
      ],
      "metadata": {
        "id": "UHB37enaq8xD"
      }
    },
    {
      "cell_type": "code",
      "source": [
        "# OJO!!!! Ejecutar este bloque una sola vez (Por cada sesión iniciada)\n",
        "\n",
        "#!git clone -l -s https://github.com/lmbd92/st1800-st1801-trabajo3-2261.git cloned-repo\n",
        "#%cd cloned-repo\n",
        "#!ls"
      ],
      "metadata": {
        "id": "zOzWds09rd5z"
      },
      "execution_count": 1,
      "outputs": []
    },
    {
      "cell_type": "code",
      "source": [
        "# Delete repo local colab (Usar solo en caso de requerir actualizar el repo desde Github Nuevamente)\n",
        "\n",
        "#!rm -r /content/cloned-repo"
      ],
      "metadata": {
        "id": "r1lCqeA9SkNA"
      },
      "execution_count": 2,
      "outputs": []
    },
    {
      "cell_type": "markdown",
      "source": [
        "**Nota:** Para guardar el notebook directamente en Github, dirigirse a File→Save a copy in GitHub"
      ],
      "metadata": {
        "id": "KZbH5N-4ynB-"
      }
    },
    {
      "cell_type": "markdown",
      "source": [
        "# Preparación de ambiente de trabajo (Dependencias/librerias)"
      ],
      "metadata": {
        "id": "eNUP62YtFN2H"
      }
    },
    {
      "cell_type": "code",
      "source": [
        "# Transmisión eficiente de archivos muy grandes desde/hacia almacenamientos como S3, GCS, Azure Blob Storage, HDFS, WebHDFS\n",
        "!pip install smart-open\n",
        "\n",
        "# Modelado y procesamiento NLP\n",
        "!pip install --upgrade gensim\n",
        "!pip install nltk\n",
        "\n",
        "# Interpretar el tema en un modelo de temas que se ha ajustado a un corpus\n",
        "!pip install pyLDAvis"
      ],
      "metadata": {
        "id": "mtsUDGc89I3Y",
        "colab": {
          "base_uri": "https://localhost:8080/"
        },
        "outputId": "1b38fe3d-b058-4a8a-d66c-996a31ed3e7d"
      },
      "execution_count": 3,
      "outputs": [
        {
          "output_type": "stream",
          "name": "stdout",
          "text": [
            "Requirement already satisfied: smart-open in /usr/local/lib/python3.7/dist-packages (5.2.1)\n",
            "Requirement already satisfied: gensim in /usr/local/lib/python3.7/dist-packages (4.1.2)\n",
            "Requirement already satisfied: smart-open>=1.8.1 in /usr/local/lib/python3.7/dist-packages (from gensim) (5.2.1)\n",
            "Requirement already satisfied: numpy>=1.17.0 in /usr/local/lib/python3.7/dist-packages (from gensim) (1.21.5)\n",
            "Requirement already satisfied: scipy>=0.18.1 in /usr/local/lib/python3.7/dist-packages (from gensim) (1.4.1)\n",
            "Requirement already satisfied: nltk in /usr/local/lib/python3.7/dist-packages (3.2.5)\n",
            "Requirement already satisfied: six in /usr/local/lib/python3.7/dist-packages (from nltk) (1.15.0)\n",
            "Requirement already satisfied: pyLDAvis in /usr/local/lib/python3.7/dist-packages (3.3.1)\n",
            "Requirement already satisfied: jinja2 in /usr/local/lib/python3.7/dist-packages (from pyLDAvis) (2.11.3)\n",
            "Requirement already satisfied: future in /usr/local/lib/python3.7/dist-packages (from pyLDAvis) (0.16.0)\n",
            "Requirement already satisfied: scikit-learn in /usr/local/lib/python3.7/dist-packages (from pyLDAvis) (1.0.2)\n",
            "Requirement already satisfied: pandas>=1.2.0 in /usr/local/lib/python3.7/dist-packages (from pyLDAvis) (1.3.5)\n",
            "Requirement already satisfied: gensim in /usr/local/lib/python3.7/dist-packages (from pyLDAvis) (4.1.2)\n",
            "Requirement already satisfied: funcy in /usr/local/lib/python3.7/dist-packages (from pyLDAvis) (1.17)\n",
            "Requirement already satisfied: numexpr in /usr/local/lib/python3.7/dist-packages (from pyLDAvis) (2.8.1)\n",
            "Requirement already satisfied: joblib in /usr/local/lib/python3.7/dist-packages (from pyLDAvis) (1.1.0)\n",
            "Requirement already satisfied: scipy in /usr/local/lib/python3.7/dist-packages (from pyLDAvis) (1.4.1)\n",
            "Requirement already satisfied: setuptools in /usr/local/lib/python3.7/dist-packages (from pyLDAvis) (57.4.0)\n",
            "Requirement already satisfied: numpy>=1.20.0 in /usr/local/lib/python3.7/dist-packages (from pyLDAvis) (1.21.5)\n",
            "Requirement already satisfied: sklearn in /usr/local/lib/python3.7/dist-packages (from pyLDAvis) (0.0)\n",
            "Requirement already satisfied: python-dateutil>=2.7.3 in /usr/local/lib/python3.7/dist-packages (from pandas>=1.2.0->pyLDAvis) (2.8.2)\n",
            "Requirement already satisfied: pytz>=2017.3 in /usr/local/lib/python3.7/dist-packages (from pandas>=1.2.0->pyLDAvis) (2018.9)\n",
            "Requirement already satisfied: six>=1.5 in /usr/local/lib/python3.7/dist-packages (from python-dateutil>=2.7.3->pandas>=1.2.0->pyLDAvis) (1.15.0)\n",
            "Requirement already satisfied: smart-open>=1.8.1 in /usr/local/lib/python3.7/dist-packages (from gensim->pyLDAvis) (5.2.1)\n",
            "Requirement already satisfied: MarkupSafe>=0.23 in /usr/local/lib/python3.7/dist-packages (from jinja2->pyLDAvis) (2.0.1)\n",
            "Requirement already satisfied: packaging in /usr/local/lib/python3.7/dist-packages (from numexpr->pyLDAvis) (21.3)\n",
            "Requirement already satisfied: pyparsing!=3.0.5,>=2.0.2 in /usr/local/lib/python3.7/dist-packages (from packaging->numexpr->pyLDAvis) (3.0.7)\n",
            "Requirement already satisfied: threadpoolctl>=2.0.0 in /usr/local/lib/python3.7/dist-packages (from scikit-learn->pyLDAvis) (3.1.0)\n"
          ]
        }
      ]
    },
    {
      "cell_type": "code",
      "source": [
        "import pandas as pd\n",
        "import numpy as np\n",
        "import nltk\n",
        "# Soporte para expresiones regulares (RE).\n",
        "import re"
      ],
      "metadata": {
        "id": "xXpQ5d5lDgGl"
      },
      "execution_count": 4,
      "outputs": []
    },
    {
      "cell_type": "code",
      "source": [
        "# nltk: tokenizador y stopwords\n",
        "\n",
        "from nltk.corpus import stopwords\n",
        "nltk.download('punkt')\n",
        "nltk.download('stopwords')\n",
        "nltk.download('words')\n",
        "nltk.download('wordnet')\n",
        "nltk.download('omw-1.4')\n",
        "stop_words_nltk = set(stopwords.words('english'))\n",
        "print(len(stopwords.words('english')))"
      ],
      "metadata": {
        "id": "rtPvxrfnDnXe",
        "outputId": "d88973d6-6561-404c-fa77-ec89da180902",
        "colab": {
          "base_uri": "https://localhost:8080/"
        }
      },
      "execution_count": 5,
      "outputs": [
        {
          "output_type": "stream",
          "name": "stdout",
          "text": [
            "[nltk_data] Downloading package punkt to /root/nltk_data...\n",
            "[nltk_data]   Package punkt is already up-to-date!\n",
            "[nltk_data] Downloading package stopwords to /root/nltk_data...\n",
            "[nltk_data]   Package stopwords is already up-to-date!\n",
            "[nltk_data] Downloading package words to /root/nltk_data...\n",
            "[nltk_data]   Package words is already up-to-date!\n",
            "[nltk_data] Downloading package wordnet to /root/nltk_data...\n",
            "[nltk_data]   Package wordnet is already up-to-date!\n",
            "[nltk_data] Downloading package omw-1.4 to /root/nltk_data...\n",
            "[nltk_data]   Package omw-1.4 is already up-to-date!\n",
            "179\n"
          ]
        }
      ]
    },
    {
      "cell_type": "code",
      "source": [
        "#Lematizar, Stem\n",
        "from nltk.stem import WordNetLemmatizer\n",
        "from nltk.stem import LancasterStemmer\n",
        "#\n",
        "lancaster = LancasterStemmer()\n",
        "wordnet_lemmatizer = WordNetLemmatizer()"
      ],
      "metadata": {
        "id": "LYP0qN2cFAJt"
      },
      "execution_count": 6,
      "outputs": []
    },
    {
      "cell_type": "code",
      "source": [
        "#imprimir listas grandes\n",
        "import pprint\n",
        "from pprint import pprint"
      ],
      "metadata": {
        "id": "c6Z6T2tpH0uy"
      },
      "execution_count": 7,
      "outputs": []
    },
    {
      "cell_type": "markdown",
      "source": [
        "# Carga de Data Raw y EDA básico\n",
        "\n"
      ],
      "metadata": {
        "id": "Lk0ARlhr5Als"
      }
    },
    {
      "cell_type": "code",
      "source": [
        "# Carga de los datos\n",
        "\n",
        "path_in = '/content/cloned-repo/Trabajo3/'\n",
        "path_out = '/content/cloned-repo/Trabajo3/out/'\n",
        "file_name = 'twitterClimateData.csv'\n",
        "\n",
        "df = pd.read_csv(f'{path_in}{file_name}')\n",
        "df.head()"
      ],
      "metadata": {
        "id": "6WWOc5yXF-IE",
        "outputId": "d46d17b1-7759-41ef-89b6-4b46f9fe162b",
        "colab": {
          "base_uri": "https://localhost:8080/",
          "height": 0
        }
      },
      "execution_count": 8,
      "outputs": [
        {
          "output_type": "execute_result",
          "data": {
            "text/plain": [
              "   Unnamed: 0            id     author_id  \\\n",
              "0           0  1.211810e+18  7.590000e+17   \n",
              "1           1  1.210670e+18  2.219547e+07   \n",
              "2           2  1.210590e+18  1.070000e+18   \n",
              "3           3  1.210260e+18  1.339821e+09   \n",
              "4           4  1.209640e+18  1.339821e+09   \n",
              "\n",
              "                                                text  retweets  \\\n",
              "0  2020 is the year we #votethemout, the year we ...        15   \n",
              "1  Winter has not stopped this group of dedicated...         9   \n",
              "2  WEEK 55 of #ClimateStrike at the @UN. Next wee...       545   \n",
              "3   A year of resistance, as youth protests shape...         1   \n",
              "4   HAPPY HOLIDAYS #greta #gretathunberg #climate...         1   \n",
              "\n",
              "                                           permalink  \\\n",
              "0  https://twitter.com/Sphiamia/status/1211807074...   \n",
              "1  https://twitter.com/StephDujarric/status/12106...   \n",
              "2  https://twitter.com/AlexandriaV2005/status/121...   \n",
              "3  https://twitter.com/EnergyHouseVA/status/12102...   \n",
              "4  https://twitter.com/EnergyHouseVA/status/12096...   \n",
              "\n",
              "                        date                  formatted_date  favorites  \\\n",
              "0  2019-12-31 00:31:35+00:00  Tue Dec 31 00:31:35 +0000 2019         46   \n",
              "1  2019-12-27 20:56:21+00:00  Fri Dec 27 20:56:21 +0000 2019         35   \n",
              "2  2019-12-27 15:50:22+00:00  Fri Dec 27 15:50:22 +0000 2019       3283   \n",
              "3  2019-12-26 17:53:26+00:00  Thu Dec 26 17:53:26 +0000 2019          2   \n",
              "4  2019-12-25 00:56:37+00:00  Wed Dec 25 00:56:37 +0000 2019          4   \n",
              "\n",
              "              mentions  ...         location  \\\n",
              "0                  NaN  ...  California, USA   \n",
              "1                  NaN  ...  California, USA   \n",
              "2  @UN @Fridays4future  ...  California, USA   \n",
              "3                  NaN  ...  California, USA   \n",
              "4                  NaN  ...  California, USA   \n",
              "\n",
              "                                          text_clean tb_sentiment_polarity  \\\n",
              "0  2020 is the year we votethemout the year we cl...             -0.100000   \n",
              "1  Winter has not stopped this group of dedicated...              0.000000   \n",
              "2  WEEK 55 of ClimateStrike at the UN Next week F...              0.166667   \n",
              "3   A year of resistance as youth protests shaped...              0.183333   \n",
              "4   HAPPY HOLIDAYS greta gretathunberg climatecha...              0.650000   \n",
              "\n",
              "  tb_sentiment_subjectivity textBlob_sentiment vader_compound  vader_pos  \\\n",
              "0                  0.462500           negative        -0.5682      0.000   \n",
              "1                  0.000000           positive         0.5670      0.215   \n",
              "2                  0.333333           positive        -0.8567      0.023   \n",
              "3                  0.600000           positive         0.7739      0.203   \n",
              "4                  0.800000           positive         0.9413      0.451   \n",
              "\n",
              "   vader_neg vader_neu  V_Sentiment  \n",
              "0      0.131     0.869     Negative  \n",
              "1      0.000     0.785     Positive  \n",
              "2      0.180     0.797     Negative  \n",
              "3      0.051     0.746     Positive  \n",
              "4      0.000     0.549     Positive  \n",
              "\n",
              "[5 rows x 24 columns]"
            ],
            "text/html": [
              "\n",
              "  <div id=\"df-74ef4cb1-34ae-4a81-88c3-f8ea4426c7e5\">\n",
              "    <div class=\"colab-df-container\">\n",
              "      <div>\n",
              "<style scoped>\n",
              "    .dataframe tbody tr th:only-of-type {\n",
              "        vertical-align: middle;\n",
              "    }\n",
              "\n",
              "    .dataframe tbody tr th {\n",
              "        vertical-align: top;\n",
              "    }\n",
              "\n",
              "    .dataframe thead th {\n",
              "        text-align: right;\n",
              "    }\n",
              "</style>\n",
              "<table border=\"1\" class=\"dataframe\">\n",
              "  <thead>\n",
              "    <tr style=\"text-align: right;\">\n",
              "      <th></th>\n",
              "      <th>Unnamed: 0</th>\n",
              "      <th>id</th>\n",
              "      <th>author_id</th>\n",
              "      <th>text</th>\n",
              "      <th>retweets</th>\n",
              "      <th>permalink</th>\n",
              "      <th>date</th>\n",
              "      <th>formatted_date</th>\n",
              "      <th>favorites</th>\n",
              "      <th>mentions</th>\n",
              "      <th>...</th>\n",
              "      <th>location</th>\n",
              "      <th>text_clean</th>\n",
              "      <th>tb_sentiment_polarity</th>\n",
              "      <th>tb_sentiment_subjectivity</th>\n",
              "      <th>textBlob_sentiment</th>\n",
              "      <th>vader_compound</th>\n",
              "      <th>vader_pos</th>\n",
              "      <th>vader_neg</th>\n",
              "      <th>vader_neu</th>\n",
              "      <th>V_Sentiment</th>\n",
              "    </tr>\n",
              "  </thead>\n",
              "  <tbody>\n",
              "    <tr>\n",
              "      <th>0</th>\n",
              "      <td>0</td>\n",
              "      <td>1.211810e+18</td>\n",
              "      <td>7.590000e+17</td>\n",
              "      <td>2020 is the year we #votethemout, the year we ...</td>\n",
              "      <td>15</td>\n",
              "      <td>https://twitter.com/Sphiamia/status/1211807074...</td>\n",
              "      <td>2019-12-31 00:31:35+00:00</td>\n",
              "      <td>Tue Dec 31 00:31:35 +0000 2019</td>\n",
              "      <td>46</td>\n",
              "      <td>NaN</td>\n",
              "      <td>...</td>\n",
              "      <td>California, USA</td>\n",
              "      <td>2020 is the year we votethemout the year we cl...</td>\n",
              "      <td>-0.100000</td>\n",
              "      <td>0.462500</td>\n",
              "      <td>negative</td>\n",
              "      <td>-0.5682</td>\n",
              "      <td>0.000</td>\n",
              "      <td>0.131</td>\n",
              "      <td>0.869</td>\n",
              "      <td>Negative</td>\n",
              "    </tr>\n",
              "    <tr>\n",
              "      <th>1</th>\n",
              "      <td>1</td>\n",
              "      <td>1.210670e+18</td>\n",
              "      <td>2.219547e+07</td>\n",
              "      <td>Winter has not stopped this group of dedicated...</td>\n",
              "      <td>9</td>\n",
              "      <td>https://twitter.com/StephDujarric/status/12106...</td>\n",
              "      <td>2019-12-27 20:56:21+00:00</td>\n",
              "      <td>Fri Dec 27 20:56:21 +0000 2019</td>\n",
              "      <td>35</td>\n",
              "      <td>NaN</td>\n",
              "      <td>...</td>\n",
              "      <td>California, USA</td>\n",
              "      <td>Winter has not stopped this group of dedicated...</td>\n",
              "      <td>0.000000</td>\n",
              "      <td>0.000000</td>\n",
              "      <td>positive</td>\n",
              "      <td>0.5670</td>\n",
              "      <td>0.215</td>\n",
              "      <td>0.000</td>\n",
              "      <td>0.785</td>\n",
              "      <td>Positive</td>\n",
              "    </tr>\n",
              "    <tr>\n",
              "      <th>2</th>\n",
              "      <td>2</td>\n",
              "      <td>1.210590e+18</td>\n",
              "      <td>1.070000e+18</td>\n",
              "      <td>WEEK 55 of #ClimateStrike at the @UN. Next wee...</td>\n",
              "      <td>545</td>\n",
              "      <td>https://twitter.com/AlexandriaV2005/status/121...</td>\n",
              "      <td>2019-12-27 15:50:22+00:00</td>\n",
              "      <td>Fri Dec 27 15:50:22 +0000 2019</td>\n",
              "      <td>3283</td>\n",
              "      <td>@UN @Fridays4future</td>\n",
              "      <td>...</td>\n",
              "      <td>California, USA</td>\n",
              "      <td>WEEK 55 of ClimateStrike at the UN Next week F...</td>\n",
              "      <td>0.166667</td>\n",
              "      <td>0.333333</td>\n",
              "      <td>positive</td>\n",
              "      <td>-0.8567</td>\n",
              "      <td>0.023</td>\n",
              "      <td>0.180</td>\n",
              "      <td>0.797</td>\n",
              "      <td>Negative</td>\n",
              "    </tr>\n",
              "    <tr>\n",
              "      <th>3</th>\n",
              "      <td>3</td>\n",
              "      <td>1.210260e+18</td>\n",
              "      <td>1.339821e+09</td>\n",
              "      <td>A year of resistance, as youth protests shape...</td>\n",
              "      <td>1</td>\n",
              "      <td>https://twitter.com/EnergyHouseVA/status/12102...</td>\n",
              "      <td>2019-12-26 17:53:26+00:00</td>\n",
              "      <td>Thu Dec 26 17:53:26 +0000 2019</td>\n",
              "      <td>2</td>\n",
              "      <td>NaN</td>\n",
              "      <td>...</td>\n",
              "      <td>California, USA</td>\n",
              "      <td>A year of resistance as youth protests shaped...</td>\n",
              "      <td>0.183333</td>\n",
              "      <td>0.600000</td>\n",
              "      <td>positive</td>\n",
              "      <td>0.7739</td>\n",
              "      <td>0.203</td>\n",
              "      <td>0.051</td>\n",
              "      <td>0.746</td>\n",
              "      <td>Positive</td>\n",
              "    </tr>\n",
              "    <tr>\n",
              "      <th>4</th>\n",
              "      <td>4</td>\n",
              "      <td>1.209640e+18</td>\n",
              "      <td>1.339821e+09</td>\n",
              "      <td>HAPPY HOLIDAYS #greta #gretathunberg #climate...</td>\n",
              "      <td>1</td>\n",
              "      <td>https://twitter.com/EnergyHouseVA/status/12096...</td>\n",
              "      <td>2019-12-25 00:56:37+00:00</td>\n",
              "      <td>Wed Dec 25 00:56:37 +0000 2019</td>\n",
              "      <td>4</td>\n",
              "      <td>NaN</td>\n",
              "      <td>...</td>\n",
              "      <td>California, USA</td>\n",
              "      <td>HAPPY HOLIDAYS greta gretathunberg climatecha...</td>\n",
              "      <td>0.650000</td>\n",
              "      <td>0.800000</td>\n",
              "      <td>positive</td>\n",
              "      <td>0.9413</td>\n",
              "      <td>0.451</td>\n",
              "      <td>0.000</td>\n",
              "      <td>0.549</td>\n",
              "      <td>Positive</td>\n",
              "    </tr>\n",
              "  </tbody>\n",
              "</table>\n",
              "<p>5 rows × 24 columns</p>\n",
              "</div>\n",
              "      <button class=\"colab-df-convert\" onclick=\"convertToInteractive('df-74ef4cb1-34ae-4a81-88c3-f8ea4426c7e5')\"\n",
              "              title=\"Convert this dataframe to an interactive table.\"\n",
              "              style=\"display:none;\">\n",
              "        \n",
              "  <svg xmlns=\"http://www.w3.org/2000/svg\" height=\"24px\"viewBox=\"0 0 24 24\"\n",
              "       width=\"24px\">\n",
              "    <path d=\"M0 0h24v24H0V0z\" fill=\"none\"/>\n",
              "    <path d=\"M18.56 5.44l.94 2.06.94-2.06 2.06-.94-2.06-.94-.94-2.06-.94 2.06-2.06.94zm-11 1L8.5 8.5l.94-2.06 2.06-.94-2.06-.94L8.5 2.5l-.94 2.06-2.06.94zm10 10l.94 2.06.94-2.06 2.06-.94-2.06-.94-.94-2.06-.94 2.06-2.06.94z\"/><path d=\"M17.41 7.96l-1.37-1.37c-.4-.4-.92-.59-1.43-.59-.52 0-1.04.2-1.43.59L10.3 9.45l-7.72 7.72c-.78.78-.78 2.05 0 2.83L4 21.41c.39.39.9.59 1.41.59.51 0 1.02-.2 1.41-.59l7.78-7.78 2.81-2.81c.8-.78.8-2.07 0-2.86zM5.41 20L4 18.59l7.72-7.72 1.47 1.35L5.41 20z\"/>\n",
              "  </svg>\n",
              "      </button>\n",
              "      \n",
              "  <style>\n",
              "    .colab-df-container {\n",
              "      display:flex;\n",
              "      flex-wrap:wrap;\n",
              "      gap: 12px;\n",
              "    }\n",
              "\n",
              "    .colab-df-convert {\n",
              "      background-color: #E8F0FE;\n",
              "      border: none;\n",
              "      border-radius: 50%;\n",
              "      cursor: pointer;\n",
              "      display: none;\n",
              "      fill: #1967D2;\n",
              "      height: 32px;\n",
              "      padding: 0 0 0 0;\n",
              "      width: 32px;\n",
              "    }\n",
              "\n",
              "    .colab-df-convert:hover {\n",
              "      background-color: #E2EBFA;\n",
              "      box-shadow: 0px 1px 2px rgba(60, 64, 67, 0.3), 0px 1px 3px 1px rgba(60, 64, 67, 0.15);\n",
              "      fill: #174EA6;\n",
              "    }\n",
              "\n",
              "    [theme=dark] .colab-df-convert {\n",
              "      background-color: #3B4455;\n",
              "      fill: #D2E3FC;\n",
              "    }\n",
              "\n",
              "    [theme=dark] .colab-df-convert:hover {\n",
              "      background-color: #434B5C;\n",
              "      box-shadow: 0px 1px 3px 1px rgba(0, 0, 0, 0.15);\n",
              "      filter: drop-shadow(0px 1px 2px rgba(0, 0, 0, 0.3));\n",
              "      fill: #FFFFFF;\n",
              "    }\n",
              "  </style>\n",
              "\n",
              "      <script>\n",
              "        const buttonEl =\n",
              "          document.querySelector('#df-74ef4cb1-34ae-4a81-88c3-f8ea4426c7e5 button.colab-df-convert');\n",
              "        buttonEl.style.display =\n",
              "          google.colab.kernel.accessAllowed ? 'block' : 'none';\n",
              "\n",
              "        async function convertToInteractive(key) {\n",
              "          const element = document.querySelector('#df-74ef4cb1-34ae-4a81-88c3-f8ea4426c7e5');\n",
              "          const dataTable =\n",
              "            await google.colab.kernel.invokeFunction('convertToInteractive',\n",
              "                                                     [key], {});\n",
              "          if (!dataTable) return;\n",
              "\n",
              "          const docLinkHtml = 'Like what you see? Visit the ' +\n",
              "            '<a target=\"_blank\" href=https://colab.research.google.com/notebooks/data_table.ipynb>data table notebook</a>'\n",
              "            + ' to learn more about interactive tables.';\n",
              "          element.innerHTML = '';\n",
              "          dataTable['output_type'] = 'display_data';\n",
              "          await google.colab.output.renderOutput(dataTable, element);\n",
              "          const docLink = document.createElement('div');\n",
              "          docLink.innerHTML = docLinkHtml;\n",
              "          element.appendChild(docLink);\n",
              "        }\n",
              "      </script>\n",
              "    </div>\n",
              "  </div>\n",
              "  "
            ]
          },
          "metadata": {},
          "execution_count": 8
        }
      ]
    },
    {
      "cell_type": "code",
      "source": [
        "df.shape"
      ],
      "metadata": {
        "id": "7E7uxYmwgRnI",
        "outputId": "607d7929-2488-43e6-8d35-a22af30c2727",
        "colab": {
          "base_uri": "https://localhost:8080/"
        }
      },
      "execution_count": 9,
      "outputs": [
        {
          "output_type": "execute_result",
          "data": {
            "text/plain": [
              "(72405, 24)"
            ]
          },
          "metadata": {},
          "execution_count": 9
        }
      ]
    },
    {
      "cell_type": "code",
      "source": [
        "df.count()"
      ],
      "metadata": {
        "id": "1d-oQ1lRWxTI",
        "outputId": "56eec22d-74ea-456b-fbde-7eab2cb960ad",
        "colab": {
          "base_uri": "https://localhost:8080/"
        }
      },
      "execution_count": 10,
      "outputs": [
        {
          "output_type": "execute_result",
          "data": {
            "text/plain": [
              "Unnamed: 0                   72405\n",
              "id                           72405\n",
              "author_id                    72405\n",
              "text                         72405\n",
              "retweets                     72405\n",
              "permalink                    72405\n",
              "date                         72405\n",
              "formatted_date               72405\n",
              "favorites                    72405\n",
              "mentions                     27554\n",
              "hashtags                     72402\n",
              "geo                              0\n",
              "urls                         33349\n",
              "search_hashtags              72405\n",
              "location                     72405\n",
              "text_clean                   72405\n",
              "tb_sentiment_polarity        72405\n",
              "tb_sentiment_subjectivity    72405\n",
              "textBlob_sentiment           72405\n",
              "vader_compound               72405\n",
              "vader_pos                    72405\n",
              "vader_neg                    72405\n",
              "vader_neu                    72405\n",
              "V_Sentiment                  72405\n",
              "dtype: int64"
            ]
          },
          "metadata": {},
          "execution_count": 10
        }
      ]
    },
    {
      "cell_type": "code",
      "source": [
        "# Importar wordcloud Libreria\n",
        "from wordcloud import WordCloud\n",
        "# Unir palabras y caracteres Raw\n",
        "long_string = ','.join(list(df['text'].values))\n",
        "# Crear objeto de nube de palabras\n",
        "wordcloud = WordCloud(background_color=\"white\", max_words=5000, contour_width=3, contour_color='steelblue')\n",
        "# Generar nube de palabras\n",
        "wordcloud.generate(long_string)\n",
        "# Visualización\n",
        "wordcloud.to_image()"
      ],
      "metadata": {
        "colab": {
          "base_uri": "https://localhost:8080/",
          "height": 0
        },
        "id": "d8cpZLH59GME",
        "outputId": "45e50771-4c97-4045-9542-331c49e9e089"
      },
      "execution_count": 11,
      "outputs": [
        {
          "output_type": "execute_result",
          "data": {
            "text/plain": [
              "<PIL.Image.Image image mode=RGB size=400x200 at 0x7F2298C57A50>"
            ],
            "image/png": "[encoded data removed]"
          },
          "metadata": {},
          "execution_count": 11
        }
      ]
    },
    {
      "cell_type": "markdown",
      "source": [
        "# Preparación de data"
      ],
      "metadata": {
        "id": "s4qk4geXhaoc"
      }
    },
    {
      "cell_type": "markdown",
      "source": [
        "Definimos funcion para optimizar incluyendo stem y Lematización"
      ],
      "metadata": {
        "id": "IfTk9Rsmhnx7"
      }
    },
    {
      "cell_type": "code",
      "source": [
        "def textprep(line):\n",
        "    tokens = nltk.word_tokenize(str(line))\n",
        "    tokens = [w.lower() for w in tokens if len(w)>1]\n",
        "    tokens = [re.sub(r'[^A-Za-z0-9]+','',w) for w in tokens]\n",
        "    tokens = [w for w in tokens if w not in stop_words_nltk] \n",
        "    tokens= [wordnet_lemmatizer.lemmatize(w) for w in tokens]\n",
        "    tokens= [lancaster.stem(w) for w in tokens]\n",
        "    return tokens"
      ],
      "metadata": {
        "id": "6Ei3T9xuhmly"
      },
      "execution_count": 12,
      "outputs": []
    },
    {
      "cell_type": "code",
      "source": [
        "#Filtramos solo la columna de interés\n",
        "text_df = df[['text']]\n",
        "text_df.head()"
      ],
      "metadata": {
        "id": "ciaHgLYFvKMk",
        "outputId": "9b4645e7-0d94-462c-b4c8-a2c21ff3d187",
        "colab": {
          "base_uri": "https://localhost:8080/",
          "height": 0
        }
      },
      "execution_count": 13,
      "outputs": [
        {
          "output_type": "execute_result",
          "data": {
            "text/plain": [
              "                                                text\n",
              "0  2020 is the year we #votethemout, the year we ...\n",
              "1  Winter has not stopped this group of dedicated...\n",
              "2  WEEK 55 of #ClimateStrike at the @UN. Next wee...\n",
              "3   A year of resistance, as youth protests shape...\n",
              "4   HAPPY HOLIDAYS #greta #gretathunberg #climate..."
            ],
            "text/html": [
              "\n",
              "  <div id=\"df-dfba1a57-6c11-4b44-b5f8-9c12731c06b2\">\n",
              "    <div class=\"colab-df-container\">\n",
              "      <div>\n",
              "<style scoped>\n",
              "    .dataframe tbody tr th:only-of-type {\n",
              "        vertical-align: middle;\n",
              "    }\n",
              "\n",
              "    .dataframe tbody tr th {\n",
              "        vertical-align: top;\n",
              "    }\n",
              "\n",
              "    .dataframe thead th {\n",
              "        text-align: right;\n",
              "    }\n",
              "</style>\n",
              "<table border=\"1\" class=\"dataframe\">\n",
              "  <thead>\n",
              "    <tr style=\"text-align: right;\">\n",
              "      <th></th>\n",
              "      <th>text</th>\n",
              "    </tr>\n",
              "  </thead>\n",
              "  <tbody>\n",
              "    <tr>\n",
              "      <th>0</th>\n",
              "      <td>2020 is the year we #votethemout, the year we ...</td>\n",
              "    </tr>\n",
              "    <tr>\n",
              "      <th>1</th>\n",
              "      <td>Winter has not stopped this group of dedicated...</td>\n",
              "    </tr>\n",
              "    <tr>\n",
              "      <th>2</th>\n",
              "      <td>WEEK 55 of #ClimateStrike at the @UN. Next wee...</td>\n",
              "    </tr>\n",
              "    <tr>\n",
              "      <th>3</th>\n",
              "      <td>A year of resistance, as youth protests shape...</td>\n",
              "    </tr>\n",
              "    <tr>\n",
              "      <th>4</th>\n",
              "      <td>HAPPY HOLIDAYS #greta #gretathunberg #climate...</td>\n",
              "    </tr>\n",
              "  </tbody>\n",
              "</table>\n",
              "</div>\n",
              "      <button class=\"colab-df-convert\" onclick=\"convertToInteractive('df-dfba1a57-6c11-4b44-b5f8-9c12731c06b2')\"\n",
              "              title=\"Convert this dataframe to an interactive table.\"\n",
              "              style=\"display:none;\">\n",
              "        \n",
              "  <svg xmlns=\"http://www.w3.org/2000/svg\" height=\"24px\"viewBox=\"0 0 24 24\"\n",
              "       width=\"24px\">\n",
              "    <path d=\"M0 0h24v24H0V0z\" fill=\"none\"/>\n",
              "    <path d=\"M18.56 5.44l.94 2.06.94-2.06 2.06-.94-2.06-.94-.94-2.06-.94 2.06-2.06.94zm-11 1L8.5 8.5l.94-2.06 2.06-.94-2.06-.94L8.5 2.5l-.94 2.06-2.06.94zm10 10l.94 2.06.94-2.06 2.06-.94-2.06-.94-.94-2.06-.94 2.06-2.06.94z\"/><path d=\"M17.41 7.96l-1.37-1.37c-.4-.4-.92-.59-1.43-.59-.52 0-1.04.2-1.43.59L10.3 9.45l-7.72 7.72c-.78.78-.78 2.05 0 2.83L4 21.41c.39.39.9.59 1.41.59.51 0 1.02-.2 1.41-.59l7.78-7.78 2.81-2.81c.8-.78.8-2.07 0-2.86zM5.41 20L4 18.59l7.72-7.72 1.47 1.35L5.41 20z\"/>\n",
              "  </svg>\n",
              "      </button>\n",
              "      \n",
              "  <style>\n",
              "    .colab-df-container {\n",
              "      display:flex;\n",
              "      flex-wrap:wrap;\n",
              "      gap: 12px;\n",
              "    }\n",
              "\n",
              "    .colab-df-convert {\n",
              "      background-color: #E8F0FE;\n",
              "      border: none;\n",
              "      border-radius: 50%;\n",
              "      cursor: pointer;\n",
              "      display: none;\n",
              "      fill: #1967D2;\n",
              "      height: 32px;\n",
              "      padding: 0 0 0 0;\n",
              "      width: 32px;\n",
              "    }\n",
              "\n",
              "    .colab-df-convert:hover {\n",
              "      background-color: #E2EBFA;\n",
              "      box-shadow: 0px 1px 2px rgba(60, 64, 67, 0.3), 0px 1px 3px 1px rgba(60, 64, 67, 0.15);\n",
              "      fill: #174EA6;\n",
              "    }\n",
              "\n",
              "    [theme=dark] .colab-df-convert {\n",
              "      background-color: #3B4455;\n",
              "      fill: #D2E3FC;\n",
              "    }\n",
              "\n",
              "    [theme=dark] .colab-df-convert:hover {\n",
              "      background-color: #434B5C;\n",
              "      box-shadow: 0px 1px 3px 1px rgba(0, 0, 0, 0.15);\n",
              "      filter: drop-shadow(0px 1px 2px rgba(0, 0, 0, 0.3));\n",
              "      fill: #FFFFFF;\n",
              "    }\n",
              "  </style>\n",
              "\n",
              "      <script>\n",
              "        const buttonEl =\n",
              "          document.querySelector('#df-dfba1a57-6c11-4b44-b5f8-9c12731c06b2 button.colab-df-convert');\n",
              "        buttonEl.style.display =\n",
              "          google.colab.kernel.accessAllowed ? 'block' : 'none';\n",
              "\n",
              "        async function convertToInteractive(key) {\n",
              "          const element = document.querySelector('#df-dfba1a57-6c11-4b44-b5f8-9c12731c06b2');\n",
              "          const dataTable =\n",
              "            await google.colab.kernel.invokeFunction('convertToInteractive',\n",
              "                                                     [key], {});\n",
              "          if (!dataTable) return;\n",
              "\n",
              "          const docLinkHtml = 'Like what you see? Visit the ' +\n",
              "            '<a target=\"_blank\" href=https://colab.research.google.com/notebooks/data_table.ipynb>data table notebook</a>'\n",
              "            + ' to learn more about interactive tables.';\n",
              "          element.innerHTML = '';\n",
              "          dataTable['output_type'] = 'display_data';\n",
              "          await google.colab.output.renderOutput(dataTable, element);\n",
              "          const docLink = document.createElement('div');\n",
              "          docLink.innerHTML = docLinkHtml;\n",
              "          element.appendChild(docLink);\n",
              "        }\n",
              "      </script>\n",
              "    </div>\n",
              "  </div>\n",
              "  "
            ]
          },
          "metadata": {},
          "execution_count": 13
        }
      ]
    },
    {
      "cell_type": "code",
      "source": [
        "# creación de columna con tokenización de la columna de interés especifica\n",
        "text_df['tokens_twitter'] = text_df.apply(lambda row: textprep(row['text']), axis=1)\n",
        "text_df.head()"
      ],
      "metadata": {
        "id": "C_m8M7mInA5m",
        "outputId": "9e75c409-147d-4a62-8afd-16a33b889303",
        "colab": {
          "base_uri": "https://localhost:8080/",
          "height": 0
        }
      },
      "execution_count": 14,
      "outputs": [
        {
          "output_type": "stream",
          "name": "stderr",
          "text": [
            "/usr/local/lib/python3.7/dist-packages/ipykernel_launcher.py:2: SettingWithCopyWarning: \n",
            "A value is trying to be set on a copy of a slice from a DataFrame.\n",
            "Try using .loc[row_indexer,col_indexer] = value instead\n",
            "\n",
            "See the caveats in the documentation: https://pandas.pydata.org/pandas-docs/stable/user_guide/indexing.html#returning-a-view-versus-a-copy\n",
            "  \n"
          ]
        },
        {
          "output_type": "execute_result",
          "data": {
            "text/plain": [
              "                                                text  \\\n",
              "0  2020 is the year we #votethemout, the year we ...   \n",
              "1  Winter has not stopped this group of dedicated...   \n",
              "2  WEEK 55 of #ClimateStrike at the @UN. Next wee...   \n",
              "3   A year of resistance, as youth protests shape...   \n",
              "4   HAPPY HOLIDAYS #greta #gretathunberg #climate...   \n",
              "\n",
              "                                      tokens_twitter  \n",
              "0  [2020, year, votethemout, year, climatestrik, ...  \n",
              "1  [wint, stop, group, ded, clim, act, exampl, fo...  \n",
              "2  [week, 55, climatestrik, un, next, week, frida...  \n",
              "3  [year, resist, you, protest, shap, clim, chang...  \n",
              "4  [happy, holiday, gret, gretathunberg, climatec...  "
            ],
            "text/html": [
              "\n",
              "  <div id=\"df-3e18dd06-57af-402b-9fa8-600013c36455\">\n",
              "    <div class=\"colab-df-container\">\n",
              "      <div>\n",
              "<style scoped>\n",
              "    .dataframe tbody tr th:only-of-type {\n",
              "        vertical-align: middle;\n",
              "    }\n",
              "\n",
              "    .dataframe tbody tr th {\n",
              "        vertical-align: top;\n",
              "    }\n",
              "\n",
              "    .dataframe thead th {\n",
              "        text-align: right;\n",
              "    }\n",
              "</style>\n",
              "<table border=\"1\" class=\"dataframe\">\n",
              "  <thead>\n",
              "    <tr style=\"text-align: right;\">\n",
              "      <th></th>\n",
              "      <th>text</th>\n",
              "      <th>tokens_twitter</th>\n",
              "    </tr>\n",
              "  </thead>\n",
              "  <tbody>\n",
              "    <tr>\n",
              "      <th>0</th>\n",
              "      <td>2020 is the year we #votethemout, the year we ...</td>\n",
              "      <td>[2020, year, votethemout, year, climatestrik, ...</td>\n",
              "    </tr>\n",
              "    <tr>\n",
              "      <th>1</th>\n",
              "      <td>Winter has not stopped this group of dedicated...</td>\n",
              "      <td>[wint, stop, group, ded, clim, act, exampl, fo...</td>\n",
              "    </tr>\n",
              "    <tr>\n",
              "      <th>2</th>\n",
              "      <td>WEEK 55 of #ClimateStrike at the @UN. Next wee...</td>\n",
              "      <td>[week, 55, climatestrik, un, next, week, frida...</td>\n",
              "    </tr>\n",
              "    <tr>\n",
              "      <th>3</th>\n",
              "      <td>A year of resistance, as youth protests shape...</td>\n",
              "      <td>[year, resist, you, protest, shap, clim, chang...</td>\n",
              "    </tr>\n",
              "    <tr>\n",
              "      <th>4</th>\n",
              "      <td>HAPPY HOLIDAYS #greta #gretathunberg #climate...</td>\n",
              "      <td>[happy, holiday, gret, gretathunberg, climatec...</td>\n",
              "    </tr>\n",
              "  </tbody>\n",
              "</table>\n",
              "</div>\n",
              "      <button class=\"colab-df-convert\" onclick=\"convertToInteractive('df-3e18dd06-57af-402b-9fa8-600013c36455')\"\n",
              "              title=\"Convert this dataframe to an interactive table.\"\n",
              "              style=\"display:none;\">\n",
              "        \n",
              "  <svg xmlns=\"http://www.w3.org/2000/svg\" height=\"24px\"viewBox=\"0 0 24 24\"\n",
              "       width=\"24px\">\n",
              "    <path d=\"M0 0h24v24H0V0z\" fill=\"none\"/>\n",
              "    <path d=\"M18.56 5.44l.94 2.06.94-2.06 2.06-.94-2.06-.94-.94-2.06-.94 2.06-2.06.94zm-11 1L8.5 8.5l.94-2.06 2.06-.94-2.06-.94L8.5 2.5l-.94 2.06-2.06.94zm10 10l.94 2.06.94-2.06 2.06-.94-2.06-.94-.94-2.06-.94 2.06-2.06.94z\"/><path d=\"M17.41 7.96l-1.37-1.37c-.4-.4-.92-.59-1.43-.59-.52 0-1.04.2-1.43.59L10.3 9.45l-7.72 7.72c-.78.78-.78 2.05 0 2.83L4 21.41c.39.39.9.59 1.41.59.51 0 1.02-.2 1.41-.59l7.78-7.78 2.81-2.81c.8-.78.8-2.07 0-2.86zM5.41 20L4 18.59l7.72-7.72 1.47 1.35L5.41 20z\"/>\n",
              "  </svg>\n",
              "      </button>\n",
              "      \n",
              "  <style>\n",
              "    .colab-df-container {\n",
              "      display:flex;\n",
              "      flex-wrap:wrap;\n",
              "      gap: 12px;\n",
              "    }\n",
              "\n",
              "    .colab-df-convert {\n",
              "      background-color: #E8F0FE;\n",
              "      border: none;\n",
              "      border-radius: 50%;\n",
              "      cursor: pointer;\n",
              "      display: none;\n",
              "      fill: #1967D2;\n",
              "      height: 32px;\n",
              "      padding: 0 0 0 0;\n",
              "      width: 32px;\n",
              "    }\n",
              "\n",
              "    .colab-df-convert:hover {\n",
              "      background-color: #E2EBFA;\n",
              "      box-shadow: 0px 1px 2px rgba(60, 64, 67, 0.3), 0px 1px 3px 1px rgba(60, 64, 67, 0.15);\n",
              "      fill: #174EA6;\n",
              "    }\n",
              "\n",
              "    [theme=dark] .colab-df-convert {\n",
              "      background-color: #3B4455;\n",
              "      fill: #D2E3FC;\n",
              "    }\n",
              "\n",
              "    [theme=dark] .colab-df-convert:hover {\n",
              "      background-color: #434B5C;\n",
              "      box-shadow: 0px 1px 3px 1px rgba(0, 0, 0, 0.15);\n",
              "      filter: drop-shadow(0px 1px 2px rgba(0, 0, 0, 0.3));\n",
              "      fill: #FFFFFF;\n",
              "    }\n",
              "  </style>\n",
              "\n",
              "      <script>\n",
              "        const buttonEl =\n",
              "          document.querySelector('#df-3e18dd06-57af-402b-9fa8-600013c36455 button.colab-df-convert');\n",
              "        buttonEl.style.display =\n",
              "          google.colab.kernel.accessAllowed ? 'block' : 'none';\n",
              "\n",
              "        async function convertToInteractive(key) {\n",
              "          const element = document.querySelector('#df-3e18dd06-57af-402b-9fa8-600013c36455');\n",
              "          const dataTable =\n",
              "            await google.colab.kernel.invokeFunction('convertToInteractive',\n",
              "                                                     [key], {});\n",
              "          if (!dataTable) return;\n",
              "\n",
              "          const docLinkHtml = 'Like what you see? Visit the ' +\n",
              "            '<a target=\"_blank\" href=https://colab.research.google.com/notebooks/data_table.ipynb>data table notebook</a>'\n",
              "            + ' to learn more about interactive tables.';\n",
              "          element.innerHTML = '';\n",
              "          dataTable['output_type'] = 'display_data';\n",
              "          await google.colab.output.renderOutput(dataTable, element);\n",
              "          const docLink = document.createElement('div');\n",
              "          docLink.innerHTML = docLinkHtml;\n",
              "          element.appendChild(docLink);\n",
              "        }\n",
              "      </script>\n",
              "    </div>\n",
              "  </div>\n",
              "  "
            ]
          },
          "metadata": {},
          "execution_count": 14
        }
      ]
    },
    {
      "cell_type": "markdown",
      "source": [
        "Representación Frecuencia Visual del BoW optimizado"
      ],
      "metadata": {
        "id": "AtzEa7eL9-Hp"
      }
    },
    {
      "cell_type": "code",
      "source": [
        "#Convertir Tokens en Lista y Str\n",
        "tokens_twitter_list=text_df['tokens_twitter'].to_list()\n",
        "tokens_twitter_str=\" \".join([str(item) for item in tokens_twitter_list ])\n",
        "# Crear nube de palabras\n",
        "wordcloud = WordCloud(background_color=\"white\", max_words=5000, contour_width=3, contour_color='steelblue')\n",
        "# Generar nube de palabras\n",
        "wordcloud.generate(tokens_twitter_str)\n",
        "# Visualización\n",
        "wordcloud.to_image()"
      ],
      "metadata": {
        "colab": {
          "base_uri": "https://localhost:8080/",
          "height": 0
        },
        "id": "ZSXtvfWK-B5V",
        "outputId": "92a8ddd7-916c-4363-a627-98e6205d8428"
      },
      "execution_count": 15,
      "outputs": [
        {
          "output_type": "execute_result",
          "data": {
            "text/plain": [
              "<PIL.Image.Image image mode=RGB size=400x200 at 0x7F22943333D0>"
            ],
            "image/png": "[encoded data removed]"
          },
          "metadata": {},
          "execution_count": 15
        }
      ]
    },
    {
      "cell_type": "markdown",
      "source": [
        "# Características y representación"
      ],
      "metadata": {
        "id": "Cz8uJi1B5HKx"
      }
    },
    {
      "cell_type": "markdown",
      "source": [
        "Construir el BoW (diccionario) de términos"
      ],
      "metadata": {
        "id": "TvcQLLrjgm2A"
      }
    },
    {
      "cell_type": "code",
      "source": [
        "len(text_df['tokens_twitter'])"
      ],
      "metadata": {
        "id": "JGREnFOFFnLg",
        "outputId": "cad84618-56dc-439e-b034-537171798b61",
        "colab": {
          "base_uri": "https://localhost:8080/"
        }
      },
      "execution_count": 16,
      "outputs": [
        {
          "output_type": "execute_result",
          "data": {
            "text/plain": [
              "72405"
            ]
          },
          "metadata": {},
          "execution_count": 16
        }
      ]
    },
    {
      "cell_type": "code",
      "source": [
        "# Creación del BoW - en gensim es Dictionary\n",
        "from gensim.corpora import Dictionary\n",
        "dictionary = Dictionary(text_df.tokens_twitter)"
      ],
      "metadata": {
        "id": "jXPGQCXuwXqc"
      },
      "execution_count": 17,
      "outputs": []
    },
    {
      "cell_type": "code",
      "source": [
        "# Bag-of-words representacion de documentos.\n",
        "corpus = [dictionary.doc2bow(line) for line in text_df.tokens_twitter]"
      ],
      "metadata": {
        "id": "YkyqTx6QHEcz"
      },
      "execution_count": 18,
      "outputs": []
    },
    {
      "cell_type": "code",
      "source": [
        "for i in corpus[:10]:\n",
        "    print(i)"
      ],
      "metadata": {
        "id": "k4_hD_TLHcEX",
        "outputId": "824e3571-f5ee-423d-ed7e-81d9e62d3662",
        "colab": {
          "base_uri": "https://localhost:8080/"
        }
      },
      "execution_count": 19,
      "outputs": [
        {
          "output_type": "stream",
          "name": "stdout",
          "text": [
            "[(0, 2), (1, 1), (2, 1), (3, 1), (4, 1), (5, 1), (6, 1), (7, 1), (8, 1), (9, 1), (10, 1), (11, 1), (12, 1), (13, 1), (14, 1), (15, 4)]\n",
            "[(2, 1), (16, 1), (17, 1), (18, 1), (19, 1), (20, 1), (21, 1), (22, 1), (23, 1), (24, 1), (25, 1)]\n",
            "[(0, 1), (2, 1), (6, 1), (15, 1), (16, 1), (17, 1), (24, 2), (26, 1), (27, 1), (28, 1), (29, 1), (30, 1), (31, 1), (32, 1), (33, 1), (34, 1), (35, 1), (36, 1), (37, 1), (38, 1), (39, 1), (40, 1), (41, 1), (42, 1), (43, 1), (44, 1), (45, 1), (46, 1), (47, 1), (48, 2)]\n",
            "[(0, 1), (2, 1), (15, 1), (16, 1), (17, 2), (49, 1), (50, 1), (51, 1), (52, 1), (53, 1), (54, 1), (55, 1), (56, 1), (57, 1), (58, 1), (59, 1), (60, 1), (61, 1), (62, 1), (63, 1), (64, 1), (65, 1), (66, 2)]\n",
            "[(2, 1), (17, 1), (49, 1), (51, 1), (52, 1), (54, 1), (55, 1), (56, 1), (57, 2), (58, 1), (59, 1), (63, 1), (67, 1), (68, 1), (69, 1), (70, 1), (71, 1), (72, 1), (73, 1), (74, 1), (75, 1), (76, 1), (77, 1)]\n",
            "[(2, 1), (17, 2), (36, 1), (50, 1), (52, 1), (54, 1), (56, 1), (57, 1), (78, 1), (79, 1), (80, 1), (81, 1), (82, 1), (83, 1), (84, 1), (85, 1), (86, 1), (87, 1), (88, 1), (89, 1), (90, 1)]\n",
            "[(2, 1), (5, 1), (54, 1), (56, 1), (91, 1), (92, 1), (93, 1), (94, 1), (95, 1), (96, 1), (97, 1), (98, 1), (99, 1), (100, 1), (101, 1)]\n",
            "[(2, 1), (102, 1), (103, 1)]\n",
            "[(2, 1), (5, 1), (15, 1), (45, 1), (55, 1), (93, 1), (104, 1), (105, 1), (106, 1), (107, 1), (108, 1), (109, 1), (110, 1), (111, 1), (112, 1)]\n",
            "[(2, 1), (45, 1), (48, 1), (52, 1), (80, 1), (100, 1), (113, 1), (114, 1), (115, 1), (116, 1), (117, 1), (118, 1), (119, 1), (120, 1), (121, 1), (122, 1), (123, 1), (124, 1), (125, 1)]\n"
          ]
        }
      ]
    },
    {
      "cell_type": "markdown",
      "source": [
        "Construir matriz de documentos vs términos"
      ],
      "metadata": {
        "id": "a3Goa699gzT_"
      }
    },
    {
      "cell_type": "code",
      "source": [
        "# libreria para paralelizar\n",
        "import multiprocessing as mp\n",
        "import time\n",
        "\n",
        "t0 = time.time()\n",
        "pool = mp.Pool(mp.cpu_count())\n",
        "doc_term_matrix = pool.map(dictionary.doc2bow, [sentence for sentence in text_df.tokens_twitter])\n",
        "pool.close()\n"
      ],
      "metadata": {
        "id": "cSwWU75Gg0fi"
      },
      "execution_count": 20,
      "outputs": []
    },
    {
      "cell_type": "code",
      "source": [
        "for i in doc_term_matrix[:5]:\n",
        "    print(i)"
      ],
      "metadata": {
        "id": "2MN7GI4Hl2Bg",
        "outputId": "89002e47-0e42-4ae4-a7ca-6769290f23cd",
        "colab": {
          "base_uri": "https://localhost:8080/"
        }
      },
      "execution_count": 21,
      "outputs": [
        {
          "output_type": "stream",
          "name": "stdout",
          "text": [
            "[(0, 2), (1, 1), (2, 1), (3, 1), (4, 1), (5, 1), (6, 1), (7, 1), (8, 1), (9, 1), (10, 1), (11, 1), (12, 1), (13, 1), (14, 1), (15, 4)]\n",
            "[(2, 1), (16, 1), (17, 1), (18, 1), (19, 1), (20, 1), (21, 1), (22, 1), (23, 1), (24, 1), (25, 1)]\n",
            "[(0, 1), (2, 1), (6, 1), (15, 1), (16, 1), (17, 1), (24, 2), (26, 1), (27, 1), (28, 1), (29, 1), (30, 1), (31, 1), (32, 1), (33, 1), (34, 1), (35, 1), (36, 1), (37, 1), (38, 1), (39, 1), (40, 1), (41, 1), (42, 1), (43, 1), (44, 1), (45, 1), (46, 1), (47, 1), (48, 2)]\n",
            "[(0, 1), (2, 1), (15, 1), (16, 1), (17, 2), (49, 1), (50, 1), (51, 1), (52, 1), (53, 1), (54, 1), (55, 1), (56, 1), (57, 1), (58, 1), (59, 1), (60, 1), (61, 1), (62, 1), (63, 1), (64, 1), (65, 1), (66, 2)]\n",
            "[(2, 1), (17, 1), (49, 1), (51, 1), (52, 1), (54, 1), (55, 1), (56, 1), (57, 2), (58, 1), (59, 1), (63, 1), (67, 1), (68, 1), (69, 1), (70, 1), (71, 1), (72, 1), (73, 1), (74, 1), (75, 1), (76, 1), (77, 1)]\n"
          ]
        }
      ]
    },
    {
      "cell_type": "markdown",
      "source": [
        "Construir modelo LDA"
      ],
      "metadata": {
        "id": "rx4ZCidLlTu7"
      }
    },
    {
      "cell_type": "code",
      "source": [
        "#from gensim.models.ldamulticore import LdaMulticore\n",
        "\n",
        "#t0 = time.time()\n",
        "#lda_model = LdaMulticore(doc_term_matrix, num_topics=20, id2word = dictionary, passes=10, workers=10)\n",
        "#print(time.time()-t0)"
      ],
      "metadata": {
        "id": "QI3baWDulUdC"
      },
      "execution_count": 22,
      "outputs": []
    },
    {
      "cell_type": "code",
      "source": [
        "# Build LDA model Otro modelo lda, tiene otro nombr para no confundirse\n",
        "from gensim.models.ldamulticore import LdaMulticore\n",
        "lda_model2 = LdaMulticore(corpus=corpus,\n",
        "                                       id2word=dictionary,\n",
        "                                       num_topics=10)"
      ],
      "metadata": {
        "id": "OPAJ-9qmdk_6"
      },
      "execution_count": 32,
      "outputs": []
    },
    {
      "cell_type": "code",
      "source": [
        "def assigntopic(doc):\n",
        "    vector = lda_model2[dictionary.doc2bow(doc)] \n",
        "    # opción 1: todos los tópicos ordenados de mayor a menor, podria ser topN tambien asi: return vector[:5] n=5\n",
        "    #vector = sorted(vector, key=lambda item: -item[1])\n",
        "    # opción 2: asignar el tópico mayor a cada documento\n",
        "    vector = max(vector,key=lambda item: item[1])\n",
        "    return vector"
      ],
      "metadata": {
        "id": "JkYbDMlvoH-X"
      },
      "execution_count": 33,
      "outputs": []
    },
    {
      "cell_type": "code",
      "source": [
        "text_df['topics'] = text_df.apply(lambda row: assigntopic(row['tokens_twitter']), axis=1)\n",
        "text_df.head()"
      ],
      "metadata": {
        "id": "S7CMmpqTqjK-",
        "colab": {
          "base_uri": "https://localhost:8080/",
          "height": 330
        },
        "outputId": "fc05d456-9d6a-4d9c-d57a-17522289722e"
      },
      "execution_count": 34,
      "outputs": [
        {
          "output_type": "stream",
          "name": "stderr",
          "text": [
            "/usr/local/lib/python3.7/dist-packages/ipykernel_launcher.py:1: SettingWithCopyWarning: \n",
            "A value is trying to be set on a copy of a slice from a DataFrame.\n",
            "Try using .loc[row_indexer,col_indexer] = value instead\n",
            "\n",
            "See the caveats in the documentation: https://pandas.pydata.org/pandas-docs/stable/user_guide/indexing.html#returning-a-view-versus-a-copy\n",
            "  \"\"\"Entry point for launching an IPython kernel.\n"
          ]
        },
        {
          "output_type": "execute_result",
          "data": {
            "text/plain": [
              "                                                text  \\\n",
              "0  2020 is the year we #votethemout, the year we ...   \n",
              "1  Winter has not stopped this group of dedicated...   \n",
              "2  WEEK 55 of #ClimateStrike at the @UN. Next wee...   \n",
              "3   A year of resistance, as youth protests shape...   \n",
              "4   HAPPY HOLIDAYS #greta #gretathunberg #climate...   \n",
              "\n",
              "                                      tokens_twitter           topics  \n",
              "0  [2020, year, votethemout, year, climatestrik, ...   (8, 0.7832034)  \n",
              "1  [wint, stop, group, ded, clim, act, exampl, fo...   (7, 0.7748795)  \n",
              "2  [week, 55, climatestrik, un, next, week, frida...  (7, 0.31980065)  \n",
              "3  [year, resist, you, protest, shap, clim, chang...   (7, 0.3714469)  \n",
              "4  [happy, holiday, gret, gretathunberg, climatec...  (2, 0.51116806)  "
            ],
            "text/html": [
              "\n",
              "  <div id=\"df-976b2884-3d50-4e6f-8159-78fdf6bda562\">\n",
              "    <div class=\"colab-df-container\">\n",
              "      <div>\n",
              "<style scoped>\n",
              "    .dataframe tbody tr th:only-of-type {\n",
              "        vertical-align: middle;\n",
              "    }\n",
              "\n",
              "    .dataframe tbody tr th {\n",
              "        vertical-align: top;\n",
              "    }\n",
              "\n",
              "    .dataframe thead th {\n",
              "        text-align: right;\n",
              "    }\n",
              "</style>\n",
              "<table border=\"1\" class=\"dataframe\">\n",
              "  <thead>\n",
              "    <tr style=\"text-align: right;\">\n",
              "      <th></th>\n",
              "      <th>text</th>\n",
              "      <th>tokens_twitter</th>\n",
              "      <th>topics</th>\n",
              "    </tr>\n",
              "  </thead>\n",
              "  <tbody>\n",
              "    <tr>\n",
              "      <th>0</th>\n",
              "      <td>2020 is the year we #votethemout, the year we ...</td>\n",
              "      <td>[2020, year, votethemout, year, climatestrik, ...</td>\n",
              "      <td>(8, 0.7832034)</td>\n",
              "    </tr>\n",
              "    <tr>\n",
              "      <th>1</th>\n",
              "      <td>Winter has not stopped this group of dedicated...</td>\n",
              "      <td>[wint, stop, group, ded, clim, act, exampl, fo...</td>\n",
              "      <td>(7, 0.7748795)</td>\n",
              "    </tr>\n",
              "    <tr>\n",
              "      <th>2</th>\n",
              "      <td>WEEK 55 of #ClimateStrike at the @UN. Next wee...</td>\n",
              "      <td>[week, 55, climatestrik, un, next, week, frida...</td>\n",
              "      <td>(7, 0.31980065)</td>\n",
              "    </tr>\n",
              "    <tr>\n",
              "      <th>3</th>\n",
              "      <td>A year of resistance, as youth protests shape...</td>\n",
              "      <td>[year, resist, you, protest, shap, clim, chang...</td>\n",
              "      <td>(7, 0.3714469)</td>\n",
              "    </tr>\n",
              "    <tr>\n",
              "      <th>4</th>\n",
              "      <td>HAPPY HOLIDAYS #greta #gretathunberg #climate...</td>\n",
              "      <td>[happy, holiday, gret, gretathunberg, climatec...</td>\n",
              "      <td>(2, 0.51116806)</td>\n",
              "    </tr>\n",
              "  </tbody>\n",
              "</table>\n",
              "</div>\n",
              "      <button class=\"colab-df-convert\" onclick=\"convertToInteractive('df-976b2884-3d50-4e6f-8159-78fdf6bda562')\"\n",
              "              title=\"Convert this dataframe to an interactive table.\"\n",
              "              style=\"display:none;\">\n",
              "        \n",
              "  <svg xmlns=\"http://www.w3.org/2000/svg\" height=\"24px\"viewBox=\"0 0 24 24\"\n",
              "       width=\"24px\">\n",
              "    <path d=\"M0 0h24v24H0V0z\" fill=\"none\"/>\n",
              "    <path d=\"M18.56 5.44l.94 2.06.94-2.06 2.06-.94-2.06-.94-.94-2.06-.94 2.06-2.06.94zm-11 1L8.5 8.5l.94-2.06 2.06-.94-2.06-.94L8.5 2.5l-.94 2.06-2.06.94zm10 10l.94 2.06.94-2.06 2.06-.94-2.06-.94-.94-2.06-.94 2.06-2.06.94z\"/><path d=\"M17.41 7.96l-1.37-1.37c-.4-.4-.92-.59-1.43-.59-.52 0-1.04.2-1.43.59L10.3 9.45l-7.72 7.72c-.78.78-.78 2.05 0 2.83L4 21.41c.39.39.9.59 1.41.59.51 0 1.02-.2 1.41-.59l7.78-7.78 2.81-2.81c.8-.78.8-2.07 0-2.86zM5.41 20L4 18.59l7.72-7.72 1.47 1.35L5.41 20z\"/>\n",
              "  </svg>\n",
              "      </button>\n",
              "      \n",
              "  <style>\n",
              "    .colab-df-container {\n",
              "      display:flex;\n",
              "      flex-wrap:wrap;\n",
              "      gap: 12px;\n",
              "    }\n",
              "\n",
              "    .colab-df-convert {\n",
              "      background-color: #E8F0FE;\n",
              "      border: none;\n",
              "      border-radius: 50%;\n",
              "      cursor: pointer;\n",
              "      display: none;\n",
              "      fill: #1967D2;\n",
              "      height: 32px;\n",
              "      padding: 0 0 0 0;\n",
              "      width: 32px;\n",
              "    }\n",
              "\n",
              "    .colab-df-convert:hover {\n",
              "      background-color: #E2EBFA;\n",
              "      box-shadow: 0px 1px 2px rgba(60, 64, 67, 0.3), 0px 1px 3px 1px rgba(60, 64, 67, 0.15);\n",
              "      fill: #174EA6;\n",
              "    }\n",
              "\n",
              "    [theme=dark] .colab-df-convert {\n",
              "      background-color: #3B4455;\n",
              "      fill: #D2E3FC;\n",
              "    }\n",
              "\n",
              "    [theme=dark] .colab-df-convert:hover {\n",
              "      background-color: #434B5C;\n",
              "      box-shadow: 0px 1px 3px 1px rgba(0, 0, 0, 0.15);\n",
              "      filter: drop-shadow(0px 1px 2px rgba(0, 0, 0, 0.3));\n",
              "      fill: #FFFFFF;\n",
              "    }\n",
              "  </style>\n",
              "\n",
              "      <script>\n",
              "        const buttonEl =\n",
              "          document.querySelector('#df-976b2884-3d50-4e6f-8159-78fdf6bda562 button.colab-df-convert');\n",
              "        buttonEl.style.display =\n",
              "          google.colab.kernel.accessAllowed ? 'block' : 'none';\n",
              "\n",
              "        async function convertToInteractive(key) {\n",
              "          const element = document.querySelector('#df-976b2884-3d50-4e6f-8159-78fdf6bda562');\n",
              "          const dataTable =\n",
              "            await google.colab.kernel.invokeFunction('convertToInteractive',\n",
              "                                                     [key], {});\n",
              "          if (!dataTable) return;\n",
              "\n",
              "          const docLinkHtml = 'Like what you see? Visit the ' +\n",
              "            '<a target=\"_blank\" href=https://colab.research.google.com/notebooks/data_table.ipynb>data table notebook</a>'\n",
              "            + ' to learn more about interactive tables.';\n",
              "          element.innerHTML = '';\n",
              "          dataTable['output_type'] = 'display_data';\n",
              "          await google.colab.output.renderOutput(dataTable, element);\n",
              "          const docLink = document.createElement('div');\n",
              "          docLink.innerHTML = docLinkHtml;\n",
              "          element.appendChild(docLink);\n",
              "        }\n",
              "      </script>\n",
              "    </div>\n",
              "  </div>\n",
              "  "
            ]
          },
          "metadata": {},
          "execution_count": 34
        }
      ]
    },
    {
      "cell_type": "code",
      "source": [
        "# Imprimir Keyword en los topics\n",
        "pprint(lda_model2.print_topics())\n",
        "doc_lda = lda_model2[corpus]\n"
      ],
      "metadata": {
        "colab": {
          "base_uri": "https://localhost:8080/"
        },
        "id": "LGpBAgGZgMol",
        "outputId": "b1abd389-d1d2-47a6-f274-ec4ab9784c1c"
      },
      "execution_count": 26,
      "outputs": [
        {
          "output_type": "stream",
          "name": "stdout",
          "text": [
            "[(0,\n",
            "  '0.024*\"fir\" + 0.021*\"celebr\" + 0.017*\"climatechang\" + 0.014*\"http\" + '\n",
            "  '0.009*\"climateact\" + 0.009*\"socy\" + 0.009*\"driv\" + 0.008*\"nat\" + '\n",
            "  '0.008*\"tonight\" + 0.007*\"outdo\"'),\n",
            " (1,\n",
            "  '0.032*\"sustain\" + 0.023*\"green\" + 0.020*\"http\" + 0.017*\"year\" + '\n",
            "  '0.016*\"climatechang\" + 0.014*\"new\" + 0.013*\"environ\" + 0.013*\"amp\" + '\n",
            "  '0.011*\"team\" + 0.011*\"partn\"'),\n",
            " (2,\n",
            "  '0.081*\"climatestrik\" + 0.030*\"clim\" + 0.025*\"fridaysforfut\" + '\n",
            "  '0.021*\"climateact\" + 0.020*\"act\" + 0.019*\"climatechang\" + '\n",
            "  '0.017*\"gretathunberg\" + 0.016*\"peopl\" + 0.014*\"today\" + 0.014*\"capitol\"'),\n",
            " (3,\n",
            "  '0.028*\"climatestrik\" + 0.027*\"hous\" + 0.016*\"whit\" + 0.013*\"fridaysforfut\" '\n",
            "  '+ 0.013*\"go\" + 0.013*\"anyon\" + 0.011*\"climatecris\" + 0.010*\"dc\" + '\n",
            "  '0.009*\"climatechang\" + 0.008*\"hey\"'),\n",
            " (4,\n",
            "  '0.031*\"climatechang\" + 0.026*\"globalwarm\" + 0.013*\"ris\" + 0.012*\"smok\" + '\n",
            "  '0.012*\"sea\" + 0.010*\"level\" + 0.010*\"progress\" + 0.009*\"fal\" + '\n",
            "  '0.009*\"climateact\" + 0.009*\"ecolog\"'),\n",
            " (5,\n",
            "  '0.057*\"climatechang\" + 0.056*\"climatecris\" + 0.039*\"sydney\" + 0.035*\"http\" '\n",
            "  '+ 0.034*\"climateemerg\" + 0.030*\"climateact\" + 0.026*\"climatechangeisr\" + '\n",
            "  '0.019*\"gretathunberg\" + 0.016*\"via\" + 0.015*\"climatestrik\"'),\n",
            " (6,\n",
            "  '0.068*\"savetheplanet\" + 0.031*\"wat\" + 0.029*\"plast\" + 0.028*\"http\" + '\n",
            "  '0.023*\"environ\" + 0.019*\"oc\" + 0.019*\"pollut\" + 0.018*\"climatechang\" + '\n",
            "  '0.016*\"air\" + 0.013*\"cle\"'),\n",
            " (7,\n",
            "  '0.029*\"energy\" + 0.017*\"sustain\" + 0.015*\"climatechang\" + 0.011*\"renew\" + '\n",
            "  '0.009*\"u\" + 0.009*\"us\" + 0.009*\"lik\" + 0.008*\"amp\" + 0.008*\"greennewd\" + '\n",
            "  '0.007*\"cle\"'),\n",
            " (8,\n",
            "  '0.087*\"greennewd\" + 0.019*\"http\" + 0.018*\"aoc\" + 0.013*\"washington\" + '\n",
            "  '0.012*\"landscapearchitect\" + 0.010*\"benefit\" + 0.008*\"medicareforal\" + '\n",
            "  '0.008*\"new\" + 0.008*\"sunrisemvmt\" + 0.008*\"big\"'),\n",
            " (9,\n",
            "  '0.039*\"climatechang\" + 0.037*\"bushfir\" + 0.024*\"austral\" + 0.017*\"http\" + '\n",
            "  '0.014*\"sdgs\" + 0.009*\"environ\" + 0.009*\"globalwarm\" + 0.008*\"tre\" + '\n",
            "  '0.008*\"climateact\" + 0.007*\"climatecris\"'),\n",
            " (10,\n",
            "  '0.042*\"environ\" + 0.029*\"climatechang\" + 0.021*\"http\" + 0.018*\"ear\" + '\n",
            "  '0.016*\"savetheplanet\" + 0.016*\"planet\" + 0.014*\"amp\" + 0.012*\"sav\" + '\n",
            "  '0.012*\"globalwarm\" + 0.011*\"earthday\"'),\n",
            " (11,\n",
            "  '0.090*\"http\" + 0.069*\"amp\" + 0.051*\"utmsourceigtwittersh\" + 0.031*\"new\" + '\n",
            "  '0.024*\"globalwarm\" + 0.024*\"climatechang\" + 0.018*\"2019\" + 0.015*\"glob\" + '\n",
            "  '0.015*\"weath\" + 0.013*\"clim\"'),\n",
            " (12,\n",
            "  '0.128*\"sustain\" + 0.029*\"environ\" + 0.026*\"http\" + 0.026*\"recyc\" + '\n",
            "  '0.023*\"savetheplanet\" + 0.010*\"ecofriend\" + 0.010*\"climatechang\" + '\n",
            "  '0.009*\"day\" + 0.009*\"heal\" + 0.008*\"virgin\"'),\n",
            " (13,\n",
            "  '0.033*\"amp\" + 0.024*\"fuel\" + 0.021*\"fossil\" + 0.018*\"climatechang\" + '\n",
            "  '0.012*\"emit\" + 0.011*\"nee\" + 0.011*\"industry\" + 0.010*\"carbon\" + '\n",
            "  '0.008*\"term\" + 0.008*\"commit\"'),\n",
            " (14,\n",
            "  '0.024*\"minim\" + 0.021*\"modern\" + 0.016*\"farm\" + 0.015*\"climatechang\" + '\n",
            "  '0.013*\"sustain\" + 0.012*\"specy\" + 0.011*\"ok\" + 0.011*\"le\" + 0.010*\"http\" + '\n",
            "  '0.009*\"surv\"'),\n",
            " (15,\n",
            "  '0.424*\"\" + 0.053*\"auspol\" + 0.028*\"climatechang\" + 0.010*\"nt\" + '\n",
            "  '0.010*\"globalwarm\" + 0.007*\"co\" + 0.007*\"shop\" + 0.005*\"http\" + '\n",
            "  '0.005*\"environ\" + 0.004*\"iron\"'),\n",
            " (16,\n",
            "  '0.040*\"amp\" + 0.038*\"sustain\" + 0.016*\"commun\" + 0.015*\"climatechang\" + '\n",
            "  '0.012*\"climateact\" + 0.009*\"cent\" + 0.009*\"loc\" + 0.009*\"discuss\" + '\n",
            "  '0.008*\"wom\" + 0.008*\"lead\"'),\n",
            " (17,\n",
            "  '0.037*\"climatestrik\" + 0.032*\"today\" + 0.023*\"hal\" + 0.018*\"city\" + '\n",
            "  '0.016*\"amaz\" + 0.015*\"climateact\" + 0.014*\"thank\" + 0.014*\"inspir\" + '\n",
            "  '0.014*\"town\" + 0.014*\"http\"'),\n",
            " (18,\n",
            "  '0.038*\"climatechang\" + 0.034*\"clim\" + 0.022*\"chang\" + 0.017*\"nee\" + '\n",
            "  '0.017*\"climatecris\" + 0.016*\"act\" + 0.009*\"nt\" + 0.009*\"actonclim\" + '\n",
            "  '0.009*\"lead\" + 0.008*\"u\"'),\n",
            " (19,\n",
            "  '0.072*\"de\" + 0.046*\"la\" + 0.042*\"par\" + 0.033*\"le\" + 0.031*\"en\" + '\n",
            "  '0.026*\"un\" + 0.021*\"climatechang\" + 0.019*\"el\" + 0.018*\"er\" + '\n",
            "  '0.017*\"climatestrik\"')]\n"
          ]
        }
      ]
    },
    {
      "cell_type": "code",
      "source": [
        "len(doc_lda)"
      ],
      "metadata": {
        "id": "4iFXcDoDKfEK",
        "outputId": "af541a44-75ca-4a37-c5e3-450abb614b59",
        "colab": {
          "base_uri": "https://localhost:8080/"
        }
      },
      "execution_count": 27,
      "outputs": [
        {
          "output_type": "execute_result",
          "data": {
            "text/plain": [
              "72405"
            ]
          },
          "metadata": {},
          "execution_count": 27
        }
      ]
    },
    {
      "cell_type": "markdown",
      "source": [
        "Analizando Resultados del LDA "
      ],
      "metadata": {
        "id": "taOKE5Hrgqoo"
      }
    },
    {
      "cell_type": "code",
      "source": [
        "#from pyLDAvis \n",
        "import pyLDAvis\n",
        "import pyLDAvis.gensim_models as gensimvis\n",
        "import pickle \n"
      ],
      "metadata": {
        "id": "Hbz-aB1xga6Q"
      },
      "execution_count": 35,
      "outputs": []
    },
    {
      "cell_type": "code",
      "source": [
        "!pip install gensim"
      ],
      "metadata": {
        "id": "BLdJywvmNer4",
        "outputId": "7762a392-a3ff-4961-fb12-2ea612998b02",
        "colab": {
          "base_uri": "https://localhost:8080/"
        }
      },
      "execution_count": 29,
      "outputs": [
        {
          "output_type": "stream",
          "name": "stdout",
          "text": [
            "Requirement already satisfied: gensim in /usr/local/lib/python3.7/dist-packages (4.1.2)\n",
            "Requirement already satisfied: smart-open>=1.8.1 in /usr/local/lib/python3.7/dist-packages (from gensim) (5.2.1)\n",
            "Requirement already satisfied: numpy>=1.17.0 in /usr/local/lib/python3.7/dist-packages (from gensim) (1.21.5)\n",
            "Requirement already satisfied: scipy>=0.18.1 in /usr/local/lib/python3.7/dist-packages (from gensim) (1.4.1)\n"
          ]
        }
      ]
    },
    {
      "cell_type": "code",
      "source": [
        "# Visualize the topics\n",
        "pyLDAvis.enable_notebook()\n",
        "\n",
        "#LDAvis_data_filepath = os.path.join(')\n",
        "# # this is a bit time consuming - make the if statement True\n",
        "# # if you want to execute visualization prep yourself\n",
        "if 1 == 1:\n",
        "    LDAvis_prepared = gensimvis.prepare(lda_model2, corpus, dictionary)\n",
        "    with open(\"/content/cloned-repo/Trabajo3/out\", 'wb') as f:\n",
        "        pickle.dump(LDAvis_prepared, f)\n",
        "# load the pre-prepared pyLDAvis data from disk\n",
        "with open(\"/content/cloned-repo/Trabajo3/out\", 'rb') as f:\n",
        "    LDAvis_prepared = pickle.load(f)\n",
        "pyLDAvis.save_html(LDAvis_prepared, '/content/cloned-repo/Trabajo3/out.html')\n",
        "LDAvis_prepared"
      ],
      "metadata": {
        "colab": {
          "base_uri": "https://localhost:8080/",
          "height": 916
        },
        "id": "Sc6V_UzAgu3n",
        "outputId": "8dbd2584-a459-4626-86b2-c31bc61c7320"
      },
      "execution_count": 36,
      "outputs": [
        {
          "output_type": "stream",
          "name": "stderr",
          "text": [
            "/usr/local/lib/python3.7/dist-packages/pyLDAvis/_prepare.py:247: FutureWarning: In a future version of pandas all arguments of DataFrame.drop except for the argument 'labels' will be keyword-only\n",
            "  by='saliency', ascending=False).head(R).drop('saliency', 1)\n"
          ]
        },
        {
          "output_type": "execute_result",
          "data": {
            "text/plain": [
              "PreparedData(topic_coordinates=              x         y  topics  cluster       Freq\n",
              "topic                                                \n",
              "7      0.110766 -0.155059       1        1  17.822858\n",
              "8      0.124572  0.033731       2        1  14.482816\n",
              "5      0.075506 -0.055218       3        1  13.715838\n",
              "2      0.073507  0.067553       4        1  13.442549\n",
              "4      0.087830  0.065403       5        1  10.851654\n",
              "3      0.083028  0.013273       6        1   9.279879\n",
              "1      0.024815 -0.042195       7        1   5.927855\n",
              "0     -0.297471  0.058009       8        1   5.436587\n",
              "6     -0.211761 -0.174938       9        1   4.876346\n",
              "9     -0.070794  0.189442      10        1   4.163618, topic_info=              Term          Freq         Total Category  logprob  loglift\n",
              "126                 17622.000000  17622.000000  Default  30.0000  30.0000\n",
              "88         sustain  15553.000000  15553.000000  Default  29.0000  29.0000\n",
              "2     climatestrik  18418.000000  18418.000000  Default  28.0000  28.0000\n",
              "2185            de   3140.000000   3140.000000  Default  27.0000  27.0000\n",
              "3550        auspol   2836.000000   2836.000000  Default  26.0000  26.0000\n",
              "...            ...           ...           ...      ...      ...      ...\n",
              "250            amp    314.012757  11394.108320  Topic10  -5.0282  -0.4126\n",
              "796           turn    179.767017    600.702246  Topic10  -5.5860   1.9723\n",
              "717           many    198.626466   1623.085901  Topic10  -5.4862   1.0781\n",
              "163           work    199.700905   2776.192994  Topic10  -5.4808   0.5468\n",
              "1110           fir    188.470265   1327.599462  Topic10  -5.5387   1.2266\n",
              "\n",
              "[774 rows x 6 columns], token_table=      Topic      Freq                Term\n",
              "term                                     \n",
              "126       1  0.000057                    \n",
              "126       2  0.000567                    \n",
              "126       3  0.000567                    \n",
              "126       4  0.000340                    \n",
              "126       5  0.004256                    \n",
              "...     ...       ...                 ...\n",
              "210       7  0.015476               young\n",
              "210       9  0.016581               young\n",
              "3350      2  0.193272              youtub\n",
              "3350     10  0.804641              youtub\n",
              "1495      9  0.992519  youtubeehg2h9ryplq\n",
              "\n",
              "[2438 rows x 3 columns], R=30, lambda_step=0.01, plot_opts={'xlab': 'PC1', 'ylab': 'PC2'}, topic_order=[8, 9, 6, 3, 5, 4, 2, 1, 7, 10])"
            ],
            "text/html": [
              "\n",
              "<link rel=\"stylesheet\" type=\"text/css\" href=\"https://cdn.jsdelivr.net/gh/bmabey/pyLDAvis@3.3.1/pyLDAvis/js/ldavis.v1.0.0.css\">\n",
              "\n",
              "\n",
              "<div id=\"ldavis_el1829139786016570192370502094\"></div>\n",
              "<script type=\"text/javascript\">\n",
              "\n",
              "var ldavis_el1829139786016570192370502094_data = {\"mdsDat\": {\"x\": [0.11076644571061997, 0.12457184683705484, 0.07550646463095725, 0.07350735021253774, 0.08783018150925367, 0.0830280875515665, 0.024815406594897563, -0.2974707112829791, -0.21176123125676533, -0.0707938405071429], \"y\": [-0.1550587897941693, 0.03373051858351482, -0.0552179227219019, 0.06755257443524923, 0.06540300036337655, 0.013272917001438489, -0.04219519982300632, 0.058009025752569617, -0.17493845392249166, 0.18944233012542103], \"topics\": [1, 2, 3, 4, 5, 6, 7, 8, 9, 10], \"cluster\": [1, 1, 1, 1, 1, 1, 1, 1, 1, 1], \"Freq\": [17.82285798229105, 14.482816348294925, 13.715837969821276, 13.442548993063602, 10.851653507796415, 9.279878945138744, 5.927854925398999, 5.436587389951965, 4.876346204905268, 4.163617733337743]}, \"tinfo\": {\"Term\": [\"\", \"sustain\", \"climatestrik\", \"de\", \"auspol\", \"greennewd\", \"sydney\", \"la\", \"clim\", \"savetheplanet\", \"http\", \"amp\", \"le\", \"climatecris\", \"bushfir\", \"climatechang\", \"en\", \"capitol\", \"utmsourceigtwittersh\", \"recyc\", \"par\", \"environ\", \"fridaysforfut\", \"un\", \"energy\", \"stud\", \"climateemerg\", \"act\", \"el\", \"globalwarm\", \"bag\", \"climatestrikedc\", \"circulareconom\", \"capitol\", \"strike4climate\", \"terrac\", \"bot\", \"thisiszeroho\", \"telesummit\", \"americanforest\", \"bay\", \"mitch\", \"orang\", \"27\", \"wed\", \"alongsid\", \"20th\", \"jamiemargolin\", \"earthr\", \"35\", \"deleg\", \"unenviron\", \"fer\", \"glass\", \"lcvoters\", \"symbol\", \"darrellclark\", \"valley\", \"usclimatestrik\", \"tout\", \"staff\", \"sept\", \"you\", \"proud\", \"suprem\", \"hal\", \"strikewithus\", \"architect\", \"septemb\", \"firedrillfriday\", \"young\", \"schoolstrike4climate\", \"join\", \"unit\", \"stud\", \"fridayforfut\", \"striker\", \"school\", \"climatestrik\", \"inspir\", \"janefond\", \"philadelph\", \"striking\", \"fridaysforfut\", \"dc\", \"today\", \"stat\", \"march\", \"lead\", \"friday\", \"strike\", \"amaz\", \"thank\", \"stand\", \"gretathunberg\", \"speak\", \"u\", \"act\", \"climateact\", \"support\", \"clim\", \"peopl\", \"protest\", \"world\", \"actonclim\", \"climatechang\", \"amp\", \"tak\", \"http\", \"chang\", \"greenl\", \"pittsburgh\", \"du\", \"sustainablel\", \"earthday2019\", \"handmad\", \"savetheear\", \"cert\", \"kellytalkstrashcom\", \"savetheb\", \"alg\", \"schoolstrikeforclimate\", \"amb\", \"csr\", \"london\", \"sustainablebusy\", \"noplast\", \"saynotoplast\", \"blogpost\", \"newpost\", \"s\", \"bravo\", \"whatev\", \"roy\", \"ipb\", \"saturdaythought\", \"17\", \"bethechang\", \"refug\", \"voc\", \"footprint\", \"apprecy\", \"bhfyp\", \"episod\", \"blog\", \"podcast\", \"esg\", \"reef\", \"gogreen\", \"explain\", \"globalgo\", \"ecofriend\", \"help\", \"issu\", \"ide\", \"resy\", \"econom\", \"reus\", \"benefit\", \"sdgs\", \"innov\", \"sustain\", \"environ\", \"try\", \"heal\", \"read\", \"climatechang\", \"climatecris\", \"farm\", \"get\", \"http\", \"savetheplanet\", \"cre\", \"lik\", \"nat\", \"new\", \"commun\", \"planet\", \"tim\", \"plan\", \"climateact\", \"globalwarm\", \"gre\", \"work\", \"amp\", \"nee\", \"tak\", \"clim\", \"act\", \"u\", \"mak\", \"chang\", \"us\", \"thank\", \"climatebreakdown\", \"climatedisrupt\", \"burg\", \"grand\", \"dirty\", \"map\", \"tellthetru\", \"che\", \"realest\", \"worldenvironmentday\", \"cbsnews\", \"admit\", \"pipelin\", \"breakfast\", \"tokyo\", \"bir\", \"disciplin\", \"chevron\", \"khayho\", \"margin\", \"maintain\", \"igshid1nb987ukhtqr7\", \"wwwinstagramcompb2pfmhwdsde\", \"blast\", \"meatless\", \"pra\", \"pro\", \"herit\", \"airq\", \"nail\", \"nsw\", \"contest\", \"boom\", \"pour\", \"pennst\", \"climatedeb\", \"york\", \"priorit\", \"er\", \"climatechangeisr\", \"climateactionnow\", \"climateemerg\", \"noplanetb\", \"climatejust\", \"vot\", \"climatecris\", \"cris\", \"dnc\", \"clim\", \"deal\", \"fossil\", \"emerg\", \"extinctionrebel\", \"fuel\", \"urg\", \"ign\", \"chang\", \"climateact\", \"actonclim\", \"new\", \"climatechang\", \"climatestrik\", \"act\", \"want\", \"nee\", \"peopl\", \"govern\", \"gretathunberg\", \"polit\", \"fut\", \"austral\", \"http\", \"fridaysforfut\", \"green\", \"greennewd\", \"tim\", \"today\", \"tak\", \"real\", \"entrepr\", \"bushfir\", \"supplychain\", \"tech\", \"cli\", \"row\", \"sympos\", \"bushfiresnsw\", \"globalcit\", \"cmpsharebtntw\", \"stopadan\", \"worldresourc\", \"wtf\", \"saveouroc\", \"mask\", \"makeadiff\", \"turtl\", \"priz\", \"geograph\", \"australiafir\", \"bean\", \"nmnh\", \"suburb\", \"bush\", \"sc\", \"happyearthday\", \"strongertogether\", \"washingtonpost\", \"endangeredspecy\", \"muellerreport\", \"temp\", \"intellig\", \"sess\", \"excel\", \"tid\", \"ai\", \"scary\", \"weath\", \"warm\", \"ris\", \"john\", \"flood\", \"extrem\", \"trend\", \"level\", \"degr\", \"sea\", \"virgin\", \"glacy\", \"heat\", \"alask\", \"smok\", \"due\", \"beach\", \"adapt\", \"problem\", \"storm\", \"impact\", \"globalwarm\", \"hot\", \"report\", \"climatechang\", \"glob\", \"increas\", \"emit\", \"chang\", \"http\", \"amp\", \"clim\", \"nat\", \"environ\", \"solv\", \"discuss\", \"real\", \"sustain\", \"austral\", \"year\", \"new\", \"fir\", \"climatecris\", \"ev\", \"lik\", \"world\", \"trash\", \"allarecal\", \"savetheamazon\", \"fai\", \"factsmat\", \"theresist\", \"wan\", \"carbonfootprint\", \"ed\", \"utmmediumsoc\", \"wwf\", \"md\", \"vp\", \"decemb\", \"vou\", \"georg\", \"fear\", \"4oceanbracelets\", \"resist\", \"hurt\", \"equip\", \"bord\", \"omg\", \"sleep\", \"cry\", \"buddy\", \"purchas\", \"jfk\", \"oneplanetonehom\", \"bitch\", \"gt\", \"landfil\", \"rely\", \"deforest\", \"straw\", \"prop\", \"greenenergy\", \"cbsthismorning\", \"healthc\", \"ourdailyplanet\", \"exact\", \"gam\", \"daught\", \"bird\", \"bc\", \"lgbtq\", \"destroy\", \"hum\", \"believ\", \"thing\", \"nev\", \"amp\", \"would\", \"nee\", \"say\", \"anim\", \"must\", \"greennewd\", \"know\", \"tel\", \"climatechang\", \"congress\", \"planet\", \"stop\", \"year\", \"sci\", \"u\", \"savetheplanet\", \"us\", \"globalwarm\", \"real\", \"plast\", \"car\", \"sav\", \"ear\", \"lik\", \"environ\", \"climateact\", \"tim\", \"on\", \"get\", \"world\", \"sustain\", \"peopl\", \"http\", \"slowfash\", \"workshop\", \"dispos\", \"rainbow\", \"shop\", \"voteoutthegop\", \"refil\", \"being\", \"yog\", \"rebelforl\", \"embassy\", \"cleanw\", \"soap\", \"asset\", \"sometim\", \"risingfromthewreck\", \"impend\", \"sustainabilitynowsummitcom\", \"machin\", \"eg\", \"smh\", \"sunshin\", \"eib\", \"neu\", \"filt\", \"stakehold\", \"cotton\", \"disclos\", \"sculpt\", \"pesticid\", \"fash\", \"savetheworld\", \"firefight\", \"sustainablefash\", \"sun\", \"fresh\", \"foodwast\", \"drink\", \"recyc\", \"utmsourceigtwittersh\", \"wast\", \"chamb\", \"earthday\", \"april\", \"plasticpollut\", \"wear\", \"sustain\", \"savetheplanet\", \"wat\", \"pack\", \"plast\", \"food\", \"happy\", \"http\", \"green\", \"day\", \"environ\", \"amp\", \"lov\", \"wait\", \"ear\", \"gre\", \"hil\", \"morn\", \"air\", \"celebr\", \"climatechang\", \"new\", \"nat\", \"work\", \"today\", \"hous\", \"globalwarm\", \"sav\", \"climatestrik\", \"climateact\", \"on\", \"get\", \"landscapearchitect\", \"cleanup\", \"phenom\", \"morrison\", \"bio\", \"shor\", \"richmond\", \"yard\", \"strategic\", \"rebel\", \"son\", \"sel\", \"nc\", \"stev\", \"dougla\", \"doll\", \"electricc\", \"ne\", \"adam\", \"votethemout\", \"interact\", \"exerc\", \"91\", \"rail\", \"forecast\", \"ua\", \"branch\", \"der\", \"pocket\", \"israel\", \"modern\", \"divest\", \"bus\", \"hq\", \"cancel\", \"bernie2020\", \"gun\", \"app\", \"dress\", \"tour\", \"wow\", \"landarch\", \"transport\", \"berniesand\", \"greennewd\", \"berny\", \"tril\", \"elect\", \"medicareforal\", \"art\", \"ban\", \"sunrisemvmt\", \"design\", \"wish\", \"http\", \"democr\", \"invest\", \"amp\", \"lik\", \"fossil\", \"extinct\", \"fuel\", \"sustain\", \"see\", \"climatestrik\", \"hey\", \"utmsourceigtwittersh\", \"gre\", \"climatechang\", \"look\", \"car\", \"ev\", \"climateact\", \"deal\", \"aoc\", \"peopl\", \"auspol\", \"la\", \"de\", \"en\", \"que\", \"congr\", \"el\", \"e\", \"greenbuild\", \"nou\", \"starbuck\", \"qui\", \"por\", \"se\", \"con\", \"saveear\", \"momsapprov\", \"fakenew\", \"sunset\", \"climat\", \"roof\", \"blind\", \"sport\", \"plug\", \"excess\", \"threatened\", \"ut\", \"qu\", \"construct\", \"harvest\", \"il\", \"plasticfr\", \"koal\", \"los\", \"est\", \"sal\", \"petit\", \"altern\", \"parlia\", \"le\", \"par\", \"cup\", \"ent\", \"un\", \"au\", \"pa\", \"climatechang\", \"al\", \"climatestrik\", \"del\", \"globalwarm\", \"http\", \"savetheplanet\", \"climateact\", \"sydney\", \"aust\", \"bee\", \"cloud\", \"\", \"youtubeehg2h9ryplq\", \"fantasticbeast\", \"albuquerqu\", \"lee\", \"planetarypoem\", \"homestead\", \"photooftheday\", \"chick\", \"alrok\", \"greenjob\", \"swim\", \"120\", \"scottmorrison\", \"naturelov\", \"tbt\", \"ingredy\", \"realm\", \"honeyb\", \"bamboo\", \"pat\", \"rag\", \"wasteland\", \"math\", \"resort\", \"evangel\", \"vic\", \"distract\", \"washingtondc\", \"idl\", \"quot\", \"upcyc\", \"si\", \"transp\", \"minim\", \"sky\", \"suck\", \"ded\", \"espec\", \"mexico\", \"http\", \"climatechang\", \"maryland\", \"outdo\", \"nt\", \"climateact\", \"climatestrik\", \"saw\", \"lik\", \"stud\", \"gretathunberg\", \"globalwarm\", \"real\", \"com\", \"environ\", \"votebluenomatterwho\", \"prof\", \"votebluetoendthisnightm\", \"derangeddonald\", \"cloth\", \"ship\", \"own\", \"4th\", \"arct\", \"charlot\", \"cod\", \"wh\", \"votebluetosaveameric\", \"gend\", \"jar\", \"dioxid\", \"purpos\", \"bed\", \"bipart\", \"addit\", \"mentalheal\", \"mou\", \"ver\", \"sierraclubmd\", \"rang\", \"origin\", \"sharp\", \"invas\", \"nye\", \"climatecatastroph\", \"nut\", \"iow\", \"sick\", \"law\", \"joebid\", \"fish\", \"stupid\", \"efficy\", \"coal\", \"shel\", \"pac\", \"youtub\", \"bil\", \"wind\", \"nuclear\", \"dec\", \"plant\", \"guy\", \"renew\", \"energy\", \"renewableenergy\", \"tre\", \"climatechang\", \"forest\", \"cold\", \"rest\", \"sol\", \"realdonaldtrump\", \"via\", \"nt\", \"http\", \"amp\", \"turn\", \"many\", \"work\", \"fir\"], \"Freq\": [17622.0, 15553.0, 18418.0, 3140.0, 2836.0, 6161.0, 2129.0, 2000.0, 12888.0, 5330.0, 15975.0, 11394.0, 2312.0, 8510.0, 2379.0, 25300.0, 1352.0, 2322.0, 2068.0, 2002.0, 1714.0, 8277.0, 5307.0, 1735.0, 2393.0, 2798.0, 2984.0, 6689.0, 821.0, 5573.0, 532.7799617087786, 449.08206044630924, 274.8073144447892, 2311.8083260725793, 167.1866561935856, 156.34996179746042, 143.48694881031625, 179.45256894632968, 125.3205534131891, 115.89465911880292, 123.89106033551819, 113.98285142890803, 107.50939622512965, 106.97315267595197, 109.11711159920952, 104.01852776132147, 189.64397942440667, 106.17333219393758, 106.65244570868566, 135.17261172564213, 95.71493465866061, 87.97333721770728, 85.41361187098272, 83.28953439081697, 79.31377729797119, 78.67591084832789, 80.16345965092982, 77.07834820877973, 123.10762756147734, 90.66676213382087, 212.1083020698578, 307.0753325531418, 1518.1319445537636, 1228.2783014217705, 154.9859956628965, 1161.9781260528357, 932.6836094107226, 311.66465522691936, 315.98967235985265, 800.4970124660043, 1559.228685055741, 953.1417756014954, 1857.7400068654836, 1208.7444401827643, 2234.8011963104414, 181.35810582960204, 185.4321593093051, 1327.7692709684477, 11442.596788587623, 1066.6356832797499, 494.09832980841696, 644.8855486339868, 313.45882258457567, 3499.392747498591, 1763.1822629721566, 3502.813621816098, 1904.799388635965, 989.0095472654103, 2472.494628288074, 515.9858099109572, 1104.954444503555, 847.8142975823783, 2276.63294701494, 860.488159153, 2322.161344195614, 977.4862652382832, 2650.8272908935887, 3001.449517401048, 3170.37267342015, 1338.3624191797476, 3383.1346204835527, 1891.3714058331152, 1053.0198390548828, 1316.5429743429634, 1417.9436135330873, 2130.748901748507, 1589.7027508055214, 1195.290753044959, 1360.420560777569, 1142.038824318601, 257.4956487581679, 413.288608916129, 232.94223440182134, 227.5279621297451, 224.98615780545282, 220.77853405023936, 269.6566702568649, 157.17796592342322, 150.06952302739367, 289.7806207799622, 136.53942329071342, 127.22080058676588, 126.01095879961638, 122.9336071360791, 114.76421231976524, 114.0224127203583, 110.41751145227597, 101.2679185417741, 112.70014646594029, 99.10858840872613, 92.52462802480818, 121.17042693237278, 112.53736732922613, 88.01304182105393, 88.0606788136598, 87.43270134389614, 199.41452699712747, 192.29592193091491, 95.32659167057722, 79.21604806853621, 157.00886818805654, 280.6670273815987, 126.01162851283762, 148.52685318126944, 568.1456011704696, 154.13102312252533, 142.69773724558937, 147.91456058926678, 455.48621015113724, 265.5837073890626, 251.9750764977014, 532.3390440877097, 1267.9232777381053, 920.2096485848706, 439.46566047644785, 374.03374698719045, 721.0026938623702, 387.3514117488983, 315.01448318105764, 543.3247091771563, 593.6584525111459, 4718.153481485883, 2954.6542225185667, 363.6833194470652, 714.5718163324416, 583.9257529167029, 4190.523511354281, 1858.3651267656412, 409.21884902460215, 1002.4230224400013, 2461.0817126556417, 1322.7712764227454, 501.76521846412857, 893.215585718604, 806.2805201220378, 942.9413070956249, 623.8175218250216, 749.7642560973208, 831.0007416004147, 565.9247933049103, 1221.1367626872623, 943.3147158934108, 692.082496947886, 682.8924009464828, 972.6493973499163, 733.0927063476393, 669.870458248898, 879.7311720707982, 757.0284509942359, 711.1885416106434, 640.5049117482836, 683.0477744138085, 624.6599628213988, 627.9570871873759, 292.4710305863717, 172.1587576815897, 147.86148476136037, 112.5869554430709, 120.08528613307583, 118.60599310112528, 100.6185369567989, 192.02538559478782, 97.32900281933709, 105.41066579731661, 92.46622441506571, 94.04222627608893, 118.76366314628102, 87.92113924816812, 84.91710803162609, 92.6912624868609, 82.35650715661951, 79.28889500949145, 109.02100925361363, 96.74601063464887, 86.80336681762695, 73.97290599620688, 73.97286003630332, 75.77603710463728, 73.14531980075834, 74.43546484960434, 72.30165223505387, 71.38967446468696, 66.12903955925103, 65.95365656726295, 406.5010075055029, 90.61170553846395, 188.70255810318656, 610.223648155554, 100.94837280069346, 228.40057187553242, 233.825458284314, 85.09089161897025, 1060.5522770721104, 1646.1994734692453, 1272.4738336061055, 2011.6262990020616, 166.63544354334226, 733.3619587623676, 947.4288500587356, 4737.474205633322, 999.6729799211515, 164.81381357372862, 5902.970002850976, 581.464514261795, 615.1426814817837, 391.3656023686237, 444.1805542332649, 632.3672399949235, 384.599716277706, 422.98428792609093, 2366.5155849181456, 2907.687640014939, 1684.3951682979566, 1528.2088559008573, 4928.841243185543, 3950.9212694593402, 1844.558152158675, 742.3951020478246, 1290.3198067833102, 1323.4975625733289, 582.0297107718244, 1173.5678269998475, 646.6073829783609, 944.6625786152945, 652.6037164440562, 1702.208197416289, 990.9045656802049, 690.7600695953195, 967.9646173998565, 724.8790106744179, 751.164766398148, 687.562878096092, 660.351747290107, 431.63920166360595, 2369.200029220525, 251.08270151061433, 182.6702419100417, 153.82668926944277, 127.84880938147819, 125.75076100609618, 181.06665217199276, 105.59172938812024, 109.234756054288, 101.63692513712536, 96.02923483092438, 135.93118922309506, 92.02638649012705, 90.17817999407961, 88.44816934618672, 94.77321475885483, 88.31285672124152, 105.44736288913576, 100.36002259737118, 79.96406776212268, 80.60546942378869, 81.26153746051534, 77.01351381426636, 76.9227948972758, 76.54684741714344, 76.23440317890447, 75.78281756301712, 72.59937635367888, 75.01649045726889, 500.327025158591, 115.22469101271433, 171.74190063558942, 501.45302078886067, 205.45038357563288, 137.40519595200874, 152.61660522098143, 769.1189781664108, 899.4383330215555, 691.013215798642, 357.2996707195782, 629.7177137933728, 344.01222319719653, 181.84955552473826, 565.1547452223831, 322.9562814842193, 519.3485929058476, 511.1597106772731, 137.45999666422856, 396.9266666146815, 182.01306578723862, 476.7487552177405, 303.48167769946315, 331.97974171378723, 274.06651480235473, 577.3583224030599, 291.7849012530684, 915.1532638107304, 2391.897668021985, 383.9098443421902, 509.42100650853655, 6298.030021877058, 1125.2592845498075, 381.9695946311584, 528.2687759095585, 1647.3469941659969, 2693.75199069015, 2016.6182106436097, 1989.8779855527082, 883.1126035658503, 1323.9712255267877, 604.1443123498017, 493.0833133267377, 768.781903787253, 1310.4555302903175, 588.5432171351147, 645.739665505193, 707.3406028790469, 518.0602941962827, 621.1175244273485, 548.0843098526652, 549.0965419790862, 537.1821122025532, 390.98369136545153, 141.177689318597, 218.86985112932277, 201.99354673061688, 124.8701075856963, 148.8890223580405, 131.74117801283919, 112.53042859283617, 119.7935221817937, 157.11188726198117, 108.64403583512784, 183.98872760864316, 97.90529201988076, 96.20135667455078, 94.53672909639654, 254.19879956899365, 162.85099580921585, 87.43067749160052, 585.8511653473251, 81.70967742545143, 81.65849369457578, 111.85328048747073, 123.7297532611404, 74.7300070191716, 79.7765861608416, 75.30258410062956, 113.96758746761896, 81.11377749305312, 71.4406487011103, 67.31998019653808, 248.55893131609386, 114.22231343488953, 134.5393092371627, 198.4974317389559, 217.1895295342277, 140.71811206810602, 132.60261809378287, 95.40709251320048, 244.10348863087395, 105.9577408445931, 156.84676164493052, 174.7362391966161, 176.75873108692278, 225.75761917597268, 212.58011385240374, 153.78155577828286, 272.7623635109696, 627.4156710703055, 448.2393341262569, 617.5044993856345, 353.4689692614445, 2462.7320174515817, 619.74872926321, 1274.95528989854, 694.3685872645011, 319.19309081300054, 509.8583208556284, 1357.8442512466404, 511.33632199136565, 388.90166693451573, 2697.016724013733, 438.79235044589535, 724.7560439326573, 515.2557827263817, 631.0737878791001, 619.8027783521369, 886.403371185859, 872.0732646774337, 599.6262941816126, 844.4892626906914, 625.7601631850354, 458.4722404306976, 481.7102942266878, 494.23894867376833, 538.396356168769, 586.6111106644012, 764.4950984024929, 740.0123156150631, 572.324697230017, 535.9308682877605, 535.5131950806492, 533.3305776736588, 561.9393596952334, 516.6677497222566, 522.3843862989875, 197.72940587356524, 191.36887358129758, 158.27803296287112, 127.28434243985093, 257.25728590590296, 111.55071033117588, 110.75239896779186, 105.91282756527461, 105.7086040403704, 115.2855417961243, 104.67808310353874, 122.52338073813122, 102.3468701363591, 91.23705565329719, 91.35559833580523, 84.75201654062077, 81.66169133538361, 79.54595228462264, 80.71673307763206, 84.94469737528131, 77.94021854427325, 75.89315725663785, 75.22022339072836, 72.79829209241475, 75.72174581887033, 79.15947117335986, 69.73733979990439, 68.77600659419397, 64.1625313682981, 65.68214892771843, 380.2499491442541, 138.2096977674022, 117.69883473412085, 154.65411331786126, 304.2301643466401, 285.4603320506109, 116.34792951356407, 225.16753733948428, 1715.1160045717247, 1724.9927661942072, 584.5622831091787, 134.06607098181902, 580.05784774753, 253.0947529897482, 343.88475328449084, 180.7610044266667, 7272.518158796479, 2639.127662733307, 1005.7771901753057, 287.1475300687092, 794.6467582435503, 598.4775434806714, 550.4127862464517, 4189.167872903938, 863.3589006749681, 1129.9928561732484, 2116.1992160284804, 2588.0423028694545, 704.615515696917, 324.33372464854233, 707.3833234596178, 735.2928021742271, 266.7876175621492, 370.0179015259519, 336.44847460094536, 316.9041626166473, 1106.6115449894526, 558.2860950640512, 463.9045518729025, 445.27111735835206, 506.90162031336666, 396.3136922433036, 493.36298996404946, 381.0592559151547, 484.9567272762327, 419.32309993756667, 379.08727186707847, 379.76149931034286, 477.32594382028844, 146.0987025936715, 136.61081421779605, 136.8372573640875, 148.5410309704618, 134.35747449636324, 177.86878725358918, 108.93229501403727, 102.91442935730527, 97.50355051323761, 132.99435031867725, 110.03736934943367, 79.73041728412726, 96.14824458312884, 77.04697065609115, 93.05803455599133, 75.58908200802558, 76.30438809835277, 73.34267859770549, 72.41082135116169, 70.86086965972494, 70.21514915098442, 65.37131175403796, 71.25217930726365, 64.72447492031309, 64.07774137644444, 63.818952614414314, 62.77946733770688, 65.06310276850142, 61.91052553165112, 501.7668345359872, 89.29655169876335, 115.78767455173185, 72.18656318259762, 68.47840172729113, 160.0701017031289, 79.07492396591522, 107.73476831196552, 99.45043717668936, 212.58225143736487, 215.84764106062286, 98.96112929173457, 299.87861096150215, 242.2420766628117, 2465.7120561008833, 184.41175470313715, 90.42392869772608, 496.5901058505584, 217.86678295117548, 386.4519097107234, 205.36769334278432, 292.79629566435574, 289.1029046584863, 207.130644608459, 1551.1665072716762, 299.3731262959912, 318.21214727812924, 1176.592740335345, 559.9022111678973, 298.7720428958776, 174.27089963783985, 281.71707609157386, 755.7590381144878, 390.1970409891771, 694.1865246645746, 220.33809605069106, 315.85287983647333, 336.43133377856594, 582.076223245627, 275.35216446337296, 261.4395452274687, 281.57132615909774, 332.21087847261265, 225.22569259248667, 221.11232503129534, 223.29874881665566, 2835.0338286641313, 1999.4480083671767, 3137.9503667907047, 1350.8666808936405, 571.0326818277185, 492.7615832395079, 819.3216224781246, 313.219231249135, 260.4743077825735, 232.72481040078412, 227.0283450253087, 214.64993319704402, 196.88486606046655, 308.0155938551805, 173.49875301861624, 145.79982675984198, 137.8018069085649, 152.48400300566328, 127.34910555280632, 122.43623025547244, 124.0526115965679, 116.05410352263348, 151.81851908916846, 115.67309310345641, 134.70704363958143, 107.66004765338151, 108.34336262722762, 102.73782325650464, 100.3335889976475, 97.84332553442206, 293.94871861826056, 370.7910591039048, 182.22728512958503, 510.59555535291975, 682.5821443505215, 290.9350586056398, 223.53455082025818, 184.07783846048054, 225.84967351379092, 1805.37778236086, 1259.1001753323908, 264.02250602284454, 268.4985313454301, 929.2402172920289, 215.45088068369017, 302.18880946471927, 1312.7575650848237, 271.34616650693044, 767.7665923572946, 234.38927074327057, 340.8956846918605, 327.5059961414011, 280.38775864484063, 238.48542969081643, 2128.0478202836694, 392.8532807418801, 239.91807579917324, 191.28033367209864, 17508.518400892033, 160.16221746637157, 160.1622043943944, 160.16209981857688, 155.89535417675557, 154.0216300387149, 94.10743829491479, 92.52212118955602, 86.74910468842712, 82.71319055576654, 93.52688564407542, 75.60488465693908, 75.69334272656506, 74.9950638491775, 71.49731648132668, 65.10910005382367, 64.59284192277971, 58.16053371622418, 54.996422422123075, 54.9929191322369, 54.601861130697955, 81.10510860213621, 50.68256864251327, 50.16002615843655, 49.64292161686973, 50.3888053671789, 68.28883236066352, 102.88608143872678, 339.1598207178716, 59.9958066333686, 114.54646809741847, 248.61243083408195, 89.96819018258913, 101.8616175145862, 391.40174225105545, 172.76555119946426, 115.15393594928634, 166.30199443144264, 204.36879462256385, 92.61246162389698, 785.1260088329208, 911.4166288188468, 142.1449021575745, 127.99755876703472, 255.3901725737987, 388.6294373291873, 456.5291822888728, 124.49144533378406, 237.80279459468971, 192.33637949312356, 168.77437590872697, 154.6795557225255, 137.2722442291706, 134.9312099786636, 134.14086516594634, 252.45745313684594, 191.5284140229372, 175.51899904444565, 172.22310157660556, 178.65828013453222, 115.38175885116222, 140.99240961009505, 102.75843639101151, 392.1624988910066, 92.96156965553351, 87.83866155608949, 87.45771275412925, 85.88323933482947, 99.2167543411795, 83.07324663447166, 98.13885596139254, 92.92126035904998, 71.95400281778754, 74.7595309691786, 138.5754702200836, 65.55865361733049, 63.321847616754916, 61.55144188536316, 67.31290884283503, 63.78850459750432, 62.108790597685854, 55.03405423890003, 54.35886933728622, 54.21603167378131, 53.53367000970344, 132.73521513472102, 89.77889314949016, 65.28233710109221, 198.76451034275374, 170.50219653188262, 142.94009141958398, 86.38675674798559, 260.30621951136936, 434.2560077236098, 93.0248044109613, 218.4017396820183, 203.93182396235827, 428.0737235419046, 181.23298552365617, 160.03962648065894, 137.3981240120623, 393.71553689457977, 212.9836077014618, 335.99318239878306, 577.6479003372564, 178.45850272964265, 275.2792229313475, 1142.8560493065022, 182.8958179476941, 145.72708611207682, 176.01859323519724, 200.3309866387168, 193.99476480863814, 229.47257104584423, 266.4727215124771, 383.072989713134, 314.0127568570653, 179.767017386307, 198.62646648870185, 199.70090484303958, 188.47026494894888], \"Total\": [17622.0, 15553.0, 18418.0, 3140.0, 2836.0, 6161.0, 2129.0, 2000.0, 12888.0, 5330.0, 15975.0, 11394.0, 2312.0, 8510.0, 2379.0, 25300.0, 1352.0, 2322.0, 2068.0, 2002.0, 1714.0, 8277.0, 5307.0, 1735.0, 2393.0, 2798.0, 2984.0, 6689.0, 821.0, 5573.0, 533.8271447901903, 450.4810339889643, 275.8533083261493, 2322.8760590783104, 168.25693413532974, 157.4190204265023, 144.61108374441824, 180.9461921010026, 126.36901426512033, 116.94487891508442, 125.02973862416493, 115.03252592103057, 108.57230758814069, 108.03460362621372, 110.21599321085613, 105.07755779152073, 191.59620005813858, 107.27076095925948, 107.75720758908066, 136.671748941673, 96.78820296374336, 89.01905935495296, 86.46210655762073, 84.33526413582162, 80.36762129775171, 79.72153145973829, 81.2390009849215, 78.12625630665201, 124.83052638538841, 92.01184107666182, 216.50813538571, 316.8046476784908, 1622.8408438952397, 1309.7678647116795, 158.51996558803356, 1258.4594070559099, 1013.1815140965155, 327.6812097594255, 333.2541586840559, 891.1310324964859, 1809.2781274275094, 1103.580385854368, 2250.8282991025176, 1439.786898234457, 2798.671447908694, 190.04300195037587, 194.77650115809456, 1684.642440010193, 18418.516810989124, 1350.6187208152585, 575.6733401736562, 778.9458717398717, 349.67509026767345, 5307.073783239647, 2471.507188687821, 5657.905944756592, 2895.9534969252973, 1353.4781379361734, 4127.126119860611, 634.423863006312, 1600.4797402258855, 1161.2197259070574, 4021.5675274335563, 1188.3670393834186, 4350.262038415605, 1420.2767297281046, 5379.958956038859, 6689.867984492474, 9884.070829792043, 2498.5440667115804, 12888.455143652734, 4773.307429735677, 1768.726590000349, 3541.848660164131, 4644.506131484621, 25300.878413624374, 11394.108319600935, 3236.409280321161, 15975.886222701705, 6577.964684232956, 258.572063080198, 415.11134582940036, 234.02374090446418, 228.6044617720902, 226.16502278700682, 221.93947434653086, 271.23518284056894, 158.43862742426677, 151.32405026858845, 292.218924500208, 137.69239017961868, 128.30080391457716, 127.08731749100187, 124.01215164926562, 115.84353863316889, 115.10204141240408, 111.49505339052561, 102.34949706319694, 113.9072176637187, 100.23782052778188, 93.60338370861336, 122.58844958534999, 113.88696523473472, 89.08956558037004, 89.1392106469572, 88.50920858579289, 201.89060898799872, 194.89383320397732, 96.62021272327141, 80.29295688732226, 159.2213095117684, 286.62276137212166, 127.8205158544943, 151.07486323374377, 591.4727253405035, 156.94148517395337, 147.22583003867464, 153.354045223789, 522.6961166177899, 310.1228196085901, 298.46846284130856, 741.4746601535537, 2205.1097280854747, 1506.3191057825156, 614.213980977398, 500.9360961590591, 1177.8084522436714, 532.5758563091765, 410.2207992853622, 833.2418743091722, 952.7914530707319, 15553.68671212706, 8277.128204880508, 500.0847013782034, 1290.0758121127271, 1033.7896669905779, 25300.878413624374, 8510.83592842836, 683.7215900081479, 3225.727363968238, 15975.886222701705, 5330.812647060073, 1045.168028563355, 3380.9933295448877, 2928.5186813907667, 4157.521980984371, 1813.7634332428468, 2854.815690903344, 3654.501343940302, 1488.6975431612805, 9884.070829792043, 5573.888936056351, 2871.829862916344, 2776.1929936217816, 11394.108319600935, 4500.975672257541, 3236.409280321161, 12888.455143652734, 6689.867984492474, 5379.958956038859, 2862.750386172894, 6577.964684232956, 2362.7655017119428, 4021.5675274335563, 293.52769857846766, 173.27231904001096, 148.91370106646548, 113.63869689576427, 121.2095513594819, 119.78326396877199, 101.67393459138717, 194.06295070229922, 98.39745786150301, 106.61492650277091, 93.52368496618547, 95.13814662327778, 120.1684751470137, 88.97503945951665, 85.96927671392376, 93.84263777270539, 83.40882801467706, 80.34291380532302, 110.48010505533209, 98.05863038132033, 88.00630361554208, 75.02436768855965, 75.02434840090496, 76.85572423026704, 74.20085888274865, 75.51274633518067, 73.35328529894534, 72.4424645757238, 67.18235542429827, 67.00550952577599, 419.4397383438574, 92.14811885708994, 194.34219913343213, 646.6924444601896, 103.19119893419668, 242.65345820736698, 250.0165038392136, 86.85665150994988, 1242.0734598537488, 2100.962537330583, 1638.7403237902092, 2984.229381562813, 182.78597663250133, 975.6832671952585, 1309.7163647295092, 8510.83592842836, 1443.3316657522466, 183.1176591626344, 12888.455143652734, 822.5791536612021, 925.1599759715106, 544.5679200265806, 655.0371286766049, 1037.670868428962, 559.0535404037638, 650.5498833763913, 6577.964684232956, 9884.070829792043, 4644.506131484621, 4157.521980984371, 25300.878413624374, 18418.516810989124, 6689.867984492474, 1735.6974697185924, 4500.975672257541, 4773.307429735677, 1227.2389335594153, 4350.262038415605, 1503.7078153729424, 3280.9044020515707, 1595.665963913792, 15975.886222701705, 5307.073783239647, 2067.0616709315746, 6161.942337629495, 3654.501343940302, 5657.905944756592, 3236.409280321161, 2741.6366662854584, 432.70024548982195, 2379.930359340487, 252.25619635168513, 183.81970381101033, 154.91035715209978, 128.92141021352876, 126.84819515465774, 182.86445537250847, 106.65351330408768, 110.34723578309496, 102.69796845769956, 97.124723627286, 137.487240482505, 93.08717661349435, 91.23930482108346, 89.50950652457227, 95.91567988638242, 89.38034753285383, 106.77138135182443, 101.63428854027215, 81.02649327108114, 81.69096084771711, 82.36835306034448, 78.07541175134031, 77.98999246998754, 77.61105641663191, 77.29559379297645, 76.85852132468621, 73.6614214191576, 76.11557791174825, 511.29367475705476, 117.30508097371862, 175.56669547399693, 522.013107827553, 211.50124838954255, 140.64086996347868, 156.58227707660498, 824.4016030038248, 977.8433937803045, 748.3398067321932, 380.60464350976827, 697.0895315190974, 377.95801544199173, 193.4798352352763, 660.4462875633875, 362.71858451293673, 610.6919163810416, 602.4675405490838, 143.33573383807453, 475.08028656133524, 196.89694012102257, 596.4000629586841, 357.95930981581927, 398.289644788404, 322.45511752936085, 807.6567856789369, 354.5722520498394, 1506.847759500113, 5573.888936056351, 527.005287377113, 780.1424926041051, 25300.878413624374, 2473.7813307852844, 530.1038273235032, 935.9960826418715, 6577.964684232956, 15975.886222701705, 11394.108319600935, 12888.455143652734, 2928.5186813907667, 8277.128204880508, 1507.1650445812102, 951.2249426254319, 2741.6366662854584, 15553.68671212706, 1595.665963913792, 2260.7750594643885, 4157.521980984371, 1327.5994624398195, 8510.83592842836, 2879.0075545998047, 3380.9933295448877, 3541.848660164131, 393.11029328818927, 142.3048639383048, 220.68300936533106, 203.70827420204193, 125.94593061808311, 150.17207444377564, 132.94381428684994, 113.59795711162707, 120.95057841865906, 158.63963995341686, 109.71190703870752, 185.97171062754583, 98.97504502332774, 97.2689701143421, 95.6101394392365, 257.23436893923105, 164.84271695992817, 88.51408939766979, 593.5233678823777, 82.7802601968927, 82.76521116044664, 113.42108776536834, 125.46537569843895, 75.79764343100608, 80.93540430845745, 76.39818711074658, 115.67441551563361, 82.3479945931316, 72.54964311431114, 68.38758879462507, 252.76607692552415, 116.2060854335217, 137.2450172680238, 203.7625751826343, 225.58645183051405, 144.55103055863563, 137.27676435210827, 97.35319149122446, 262.91642695933285, 108.92135659491171, 168.35210961404798, 191.68633260855913, 196.16419197766334, 266.0115436560092, 250.00022138364025, 168.78721936829618, 388.37880927451886, 1249.6379807892808, 778.3591617228805, 1255.1498981298353, 600.6262579135995, 11394.108319600935, 1430.6190735963569, 4500.975672257541, 1813.0286434369991, 544.3628248120963, 1171.8263220696501, 6161.942337629495, 1282.0304473069466, 800.0773655593616, 25300.878413624374, 989.0532231901981, 2854.815690903344, 1485.042553426729, 2260.7750594643885, 2278.675642594668, 5379.958956038859, 5330.812647060073, 2362.7655017119428, 5573.888936056351, 2741.6366662854584, 1309.5287008690157, 1514.8448207330478, 1668.3793003837227, 2552.186301867587, 3380.9933295448877, 8277.128204880508, 9884.070829792043, 3654.501343940302, 2917.6900911916473, 3225.727363968238, 3541.848660164131, 15553.68671212706, 4773.307429735677, 15975.886222701705, 198.80308816668878, 192.44807090025174, 159.43620189810684, 128.42632264858264, 259.7222451986927, 112.62493627801675, 111.8324044965439, 106.98553471070636, 106.78100368652366, 116.48213652644843, 105.76964350221382, 123.80165503395078, 103.42409728595678, 92.30938776518936, 92.44001726126794, 85.83347596294, 82.74006675450862, 80.61991144857255, 81.82879170833793, 86.12241343166004, 79.04055338090404, 76.96577570072546, 76.32965646430813, 73.87343742788447, 76.8554967812359, 80.35237902478433, 70.8095906350392, 69.84872257203088, 65.23984652564418, 66.78649627018791, 390.3408586954068, 140.58085702134284, 119.82504591165593, 158.03584346000304, 313.2263276761612, 293.7700871691596, 118.9056222787153, 234.67247389718943, 2002.1646424396295, 2068.100163535705, 669.6211596307262, 140.8031031631625, 690.9071787526354, 290.66086349459783, 417.0738993670633, 203.7561164563903, 15553.68671212706, 5330.812647060073, 1659.5734236115632, 366.534899219585, 1309.5287008690157, 1006.3175687216168, 906.2025113357087, 15975.886222701705, 2067.0616709315746, 3217.1063981644616, 8277.128204880508, 11394.108319600935, 1878.1144562414502, 599.9850799774376, 2552.186301867587, 2871.829862916344, 435.08294067724984, 916.9870682920082, 750.5344202007848, 681.5987024861449, 25300.878413624374, 4157.521980984371, 2928.5186813907667, 2776.1929936217816, 5657.905944756592, 1759.2902306207416, 5573.888936056351, 1668.3793003837227, 18418.516810989124, 9884.070829792043, 2917.6900911916473, 3225.727363968238, 480.13667220606806, 147.1652052891959, 137.67481480185646, 137.91881810091752, 149.7402793314073, 135.65402462366788, 179.5897833396528, 110.00764342986977, 103.98093712416978, 98.56949511557556, 134.56759654252446, 111.35363477677991, 80.80349428065885, 97.47039618571164, 78.1128123315686, 94.34830882548958, 76.65067970554462, 77.39395030570087, 74.40530878613329, 73.4805434421788, 71.92261729971469, 71.28820413094324, 66.43530176061537, 72.43064811915646, 65.80023337329645, 65.1432340814648, 64.88075973514587, 63.84113493324132, 66.17136268380338, 62.9796952426926, 515.418927126737, 91.04629222066036, 118.8646799884116, 73.55945211317126, 69.71128747465217, 166.93594179311646, 80.79761633382995, 111.53342469745178, 103.70774408015103, 249.6738002149604, 258.08227868279516, 105.96970641916793, 390.20203720122356, 308.8351004119763, 6161.942337629495, 241.14812139056517, 96.30857951656881, 908.5227706073465, 341.4367422951216, 807.1539860873781, 320.20747379745126, 625.4534233994538, 613.5914700288835, 373.89449812044774, 15975.886222701705, 773.1489365970222, 908.5860030370401, 11394.108319600935, 3380.9933295448877, 925.1599759715106, 311.5427895670009, 1037.670868428962, 15553.68671212706, 2963.17528418161, 18418.516810989124, 577.7131668088293, 2068.100163535705, 2871.829862916344, 25300.878413624374, 1830.379678013504, 1514.8448207330478, 2879.0075545998047, 9884.070829792043, 822.5791536612021, 877.9411506462338, 4773.307429735677, 2836.044770038593, 2000.9779250394374, 3140.4918869827634, 1352.3291416812456, 572.1329107251662, 493.77426391791005, 821.6078405039443, 314.3125585485312, 261.4781475191678, 233.73897794981426, 228.03276647447373, 215.65367736619095, 197.92587067118515, 309.64845908064785, 174.52156947453136, 146.80342339846496, 138.80836587239315, 153.65189236613202, 128.35287774430205, 123.47685336188968, 125.11884484210924, 117.05990587438983, 153.1350101739007, 116.67835449896845, 135.88420997638545, 108.67738202791926, 109.3869460438333, 103.74146429210252, 101.33704334283922, 98.84693288018514, 297.69150547438136, 376.816750727116, 184.2622089522787, 521.7023340254342, 704.7735369996275, 299.1366423189373, 230.1966592052383, 189.85456783148473, 237.66811585013056, 2312.366664812637, 1714.2349219078123, 291.6023744882077, 310.30185841724614, 1735.3867291553595, 250.45404034677182, 565.3303618395938, 25300.878413624374, 595.0384554273395, 18418.516810989124, 425.79490912222803, 5573.888936056351, 15975.886222701705, 5330.812647060073, 9884.070829792043, 2129.0894678054656, 393.91117247555565, 240.962735048315, 192.32208751690092, 17622.169073005247, 161.2059908294647, 161.20600784247392, 161.2059439848657, 156.93682474254777, 155.06524377214467, 95.15951082561409, 93.5629416205857, 87.79029550088069, 83.76468737143989, 94.74745710494483, 76.64572808934278, 76.73629606509093, 76.0400311897935, 72.5440702718527, 66.15190154166915, 65.63714397640048, 59.2080173356531, 56.0373750926678, 56.034912374674676, 55.642919167663536, 82.75448607046293, 51.72378830370026, 51.20100078789138, 50.68447890180422, 51.44693218836162, 69.79376376639213, 105.77004962412803, 354.282649899979, 61.8066732389672, 126.56171189913107, 300.5693417124608, 98.09675825915619, 113.43160663118414, 633.5512286625053, 232.2437991325969, 156.99272257761632, 312.6752166841993, 475.3783022953969, 121.98368983325933, 15975.886222701705, 25300.878413624374, 363.27004634990027, 282.3327671158524, 2371.5342786414863, 9884.070829792043, 18418.516810989124, 279.7326418331041, 3380.9933295448877, 2798.671447908694, 4350.262038415605, 5573.888936056351, 2741.6366662854584, 2554.908472566123, 8277.128204880508, 253.52858196898467, 192.62965516931342, 176.59322689995807, 173.29178413697997, 179.83525783164595, 116.45154444656613, 142.40035902849579, 103.82569725206062, 396.4212687389564, 94.05460344523736, 88.90762492362688, 88.53522950141117, 86.94987628598605, 100.5044497162653, 84.17063485989067, 99.47858249051637, 94.2233475155795, 73.02064778891246, 75.91148506200709, 140.86781656519815, 66.64319661018372, 64.38858628843016, 62.6261218018485, 68.50221237934964, 64.93733445629981, 63.25937380646994, 56.10089143531436, 55.426055239530776, 55.283847466445366, 54.600221918511565, 135.79442630823937, 91.66269613882494, 66.7471133551264, 213.58608270987435, 185.77092807958854, 154.21401155529534, 89.98022552097859, 299.8654456762708, 559.8436691974081, 99.95856508128222, 273.28062207010004, 253.5292629243542, 674.4287396384042, 243.3346865270152, 209.91421694562644, 171.56529749201678, 858.1088233166579, 347.13355327385955, 817.9528934269104, 2393.53901741224, 371.21368810189824, 941.5539161561998, 25300.878413624374, 400.2782010467754, 243.69121622321592, 413.9754649645263, 624.4749610640017, 584.7054971723674, 1144.6788161653858, 2371.5342786414863, 15975.886222701705, 11394.108319600935, 600.7022464381479, 1623.0859007038077, 2776.1929936217816, 1327.5994624398195], \"Category\": [\"Default\", \"Default\", \"Default\", \"Default\", \"Default\", \"Default\", \"Default\", \"Default\", \"Default\", \"Default\", \"Default\", \"Default\", \"Default\", \"Default\", \"Default\", \"Default\", \"Default\", \"Default\", \"Default\", \"Default\", \"Default\", \"Default\", \"Default\", \"Default\", \"Default\", \"Default\", \"Default\", \"Default\", \"Default\", \"Default\", \"Topic1\", \"Topic1\", \"Topic1\", \"Topic1\", \"Topic1\", \"Topic1\", \"Topic1\", \"Topic1\", \"Topic1\", \"Topic1\", \"Topic1\", \"Topic1\", \"Topic1\", \"Topic1\", \"Topic1\", \"Topic1\", \"Topic1\", \"Topic1\", \"Topic1\", \"Topic1\", \"Topic1\", \"Topic1\", \"Topic1\", \"Topic1\", \"Topic1\", \"Topic1\", \"Topic1\", \"Topic1\", \"Topic1\", \"Topic1\", \"Topic1\", \"Topic1\", \"Topic1\", \"Topic1\", \"Topic1\", \"Topic1\", \"Topic1\", \"Topic1\", \"Topic1\", \"Topic1\", \"Topic1\", \"Topic1\", \"Topic1\", \"Topic1\", \"Topic1\", \"Topic1\", \"Topic1\", \"Topic1\", \"Topic1\", \"Topic1\", \"Topic1\", \"Topic1\", \"Topic1\", \"Topic1\", \"Topic1\", \"Topic1\", \"Topic1\", \"Topic1\", \"Topic1\", \"Topic1\", \"Topic1\", \"Topic1\", \"Topic1\", \"Topic1\", \"Topic1\", \"Topic1\", \"Topic1\", \"Topic1\", \"Topic1\", \"Topic1\", \"Topic1\", \"Topic1\", \"Topic1\", \"Topic1\", \"Topic1\", \"Topic1\", \"Topic1\", \"Topic1\", \"Topic1\", \"Topic1\", \"Topic2\", \"Topic2\", \"Topic2\", \"Topic2\", \"Topic2\", \"Topic2\", \"Topic2\", \"Topic2\", \"Topic2\", \"Topic2\", \"Topic2\", \"Topic2\", \"Topic2\", \"Topic2\", \"Topic2\", \"Topic2\", \"Topic2\", \"Topic2\", \"Topic2\", \"Topic2\", \"Topic2\", \"Topic2\", \"Topic2\", \"Topic2\", \"Topic2\", \"Topic2\", \"Topic2\", \"Topic2\", \"Topic2\", \"Topic2\", \"Topic2\", \"Topic2\", \"Topic2\", \"Topic2\", \"Topic2\", \"Topic2\", \"Topic2\", \"Topic2\", \"Topic2\", \"Topic2\", \"Topic2\", \"Topic2\", \"Topic2\", \"Topic2\", \"Topic2\", \"Topic2\", \"Topic2\", \"Topic2\", \"Topic2\", \"Topic2\", \"Topic2\", \"Topic2\", \"Topic2\", \"Topic2\", \"Topic2\", \"Topic2\", \"Topic2\", \"Topic2\", \"Topic2\", \"Topic2\", \"Topic2\", \"Topic2\", \"Topic2\", \"Topic2\", \"Topic2\", \"Topic2\", \"Topic2\", \"Topic2\", \"Topic2\", \"Topic2\", \"Topic2\", \"Topic2\", \"Topic2\", \"Topic2\", \"Topic2\", \"Topic2\", \"Topic2\", \"Topic2\", \"Topic2\", \"Topic2\", \"Topic2\", \"Topic2\", \"Topic2\", \"Topic2\", \"Topic3\", \"Topic3\", \"Topic3\", \"Topic3\", \"Topic3\", \"Topic3\", \"Topic3\", \"Topic3\", \"Topic3\", \"Topic3\", \"Topic3\", \"Topic3\", \"Topic3\", \"Topic3\", \"Topic3\", \"Topic3\", \"Topic3\", \"Topic3\", \"Topic3\", \"Topic3\", \"Topic3\", \"Topic3\", \"Topic3\", \"Topic3\", \"Topic3\", \"Topic3\", \"Topic3\", \"Topic3\", \"Topic3\", \"Topic3\", \"Topic3\", \"Topic3\", \"Topic3\", \"Topic3\", \"Topic3\", \"Topic3\", \"Topic3\", \"Topic3\", \"Topic3\", \"Topic3\", \"Topic3\", \"Topic3\", \"Topic3\", \"Topic3\", \"Topic3\", \"Topic3\", \"Topic3\", \"Topic3\", \"Topic3\", \"Topic3\", \"Topic3\", \"Topic3\", \"Topic3\", \"Topic3\", \"Topic3\", \"Topic3\", \"Topic3\", \"Topic3\", \"Topic3\", \"Topic3\", \"Topic3\", \"Topic3\", \"Topic3\", \"Topic3\", \"Topic3\", \"Topic3\", \"Topic3\", \"Topic3\", \"Topic3\", \"Topic3\", \"Topic3\", \"Topic3\", \"Topic3\", \"Topic3\", \"Topic3\", \"Topic3\", \"Topic3\", \"Topic3\", \"Topic3\", \"Topic4\", \"Topic4\", \"Topic4\", \"Topic4\", \"Topic4\", \"Topic4\", \"Topic4\", \"Topic4\", \"Topic4\", \"Topic4\", \"Topic4\", \"Topic4\", \"Topic4\", \"Topic4\", \"Topic4\", \"Topic4\", \"Topic4\", \"Topic4\", \"Topic4\", \"Topic4\", \"Topic4\", \"Topic4\", \"Topic4\", \"Topic4\", \"Topic4\", \"Topic4\", \"Topic4\", \"Topic4\", \"Topic4\", \"Topic4\", \"Topic4\", \"Topic4\", \"Topic4\", \"Topic4\", \"Topic4\", \"Topic4\", \"Topic4\", \"Topic4\", \"Topic4\", \"Topic4\", \"Topic4\", \"Topic4\", \"Topic4\", \"Topic4\", \"Topic4\", \"Topic4\", \"Topic4\", \"Topic4\", \"Topic4\", \"Topic4\", \"Topic4\", \"Topic4\", \"Topic4\", \"Topic4\", \"Topic4\", \"Topic4\", \"Topic4\", \"Topic4\", \"Topic4\", \"Topic4\", \"Topic4\", \"Topic4\", \"Topic4\", \"Topic4\", \"Topic4\", \"Topic4\", \"Topic4\", \"Topic4\", \"Topic4\", \"Topic4\", \"Topic4\", \"Topic4\", \"Topic4\", \"Topic4\", \"Topic4\", \"Topic4\", \"Topic4\", \"Topic4\", \"Topic4\", \"Topic4\", \"Topic4\", \"Topic4\", \"Topic4\", \"Topic5\", \"Topic5\", \"Topic5\", \"Topic5\", \"Topic5\", \"Topic5\", \"Topic5\", \"Topic5\", \"Topic5\", \"Topic5\", \"Topic5\", \"Topic5\", \"Topic5\", \"Topic5\", \"Topic5\", \"Topic5\", \"Topic5\", \"Topic5\", \"Topic5\", \"Topic5\", \"Topic5\", \"Topic5\", \"Topic5\", \"Topic5\", \"Topic5\", \"Topic5\", \"Topic5\", \"Topic5\", \"Topic5\", \"Topic5\", \"Topic5\", \"Topic5\", \"Topic5\", \"Topic5\", \"Topic5\", \"Topic5\", \"Topic5\", \"Topic5\", \"Topic5\", \"Topic5\", \"Topic5\", \"Topic5\", \"Topic5\", \"Topic5\", \"Topic5\", \"Topic5\", \"Topic5\", \"Topic5\", \"Topic5\", \"Topic5\", \"Topic5\", \"Topic5\", \"Topic5\", \"Topic5\", \"Topic5\", \"Topic5\", \"Topic5\", \"Topic5\", \"Topic5\", \"Topic5\", \"Topic5\", \"Topic5\", \"Topic5\", \"Topic5\", \"Topic5\", \"Topic5\", \"Topic5\", \"Topic5\", \"Topic5\", \"Topic5\", \"Topic5\", \"Topic5\", \"Topic5\", \"Topic5\", \"Topic5\", \"Topic5\", \"Topic5\", \"Topic5\", \"Topic5\", \"Topic5\", \"Topic5\", \"Topic5\", \"Topic5\", \"Topic5\", \"Topic5\", \"Topic6\", \"Topic6\", \"Topic6\", \"Topic6\", \"Topic6\", \"Topic6\", \"Topic6\", \"Topic6\", \"Topic6\", \"Topic6\", \"Topic6\", \"Topic6\", \"Topic6\", \"Topic6\", \"Topic6\", \"Topic6\", \"Topic6\", \"Topic6\", \"Topic6\", \"Topic6\", \"Topic6\", \"Topic6\", \"Topic6\", \"Topic6\", \"Topic6\", \"Topic6\", \"Topic6\", \"Topic6\", \"Topic6\", \"Topic6\", \"Topic6\", \"Topic6\", \"Topic6\", \"Topic6\", \"Topic6\", \"Topic6\", \"Topic6\", \"Topic6\", \"Topic6\", \"Topic6\", \"Topic6\", \"Topic6\", \"Topic6\", \"Topic6\", \"Topic6\", \"Topic6\", \"Topic6\", \"Topic6\", \"Topic6\", \"Topic6\", \"Topic6\", \"Topic6\", \"Topic6\", \"Topic6\", \"Topic6\", \"Topic6\", \"Topic6\", \"Topic6\", \"Topic6\", \"Topic6\", \"Topic6\", \"Topic6\", \"Topic6\", \"Topic6\", \"Topic6\", \"Topic6\", \"Topic6\", \"Topic6\", \"Topic6\", \"Topic6\", \"Topic6\", \"Topic6\", \"Topic6\", \"Topic6\", \"Topic6\", \"Topic6\", \"Topic6\", \"Topic6\", \"Topic7\", \"Topic7\", \"Topic7\", \"Topic7\", \"Topic7\", \"Topic7\", \"Topic7\", \"Topic7\", \"Topic7\", \"Topic7\", \"Topic7\", \"Topic7\", \"Topic7\", \"Topic7\", \"Topic7\", \"Topic7\", \"Topic7\", \"Topic7\", \"Topic7\", \"Topic7\", \"Topic7\", \"Topic7\", \"Topic7\", \"Topic7\", \"Topic7\", \"Topic7\", \"Topic7\", \"Topic7\", \"Topic7\", \"Topic7\", \"Topic7\", \"Topic7\", \"Topic7\", \"Topic7\", \"Topic7\", \"Topic7\", \"Topic7\", \"Topic7\", \"Topic7\", \"Topic7\", \"Topic7\", \"Topic7\", \"Topic7\", \"Topic7\", \"Topic7\", \"Topic7\", \"Topic7\", \"Topic7\", \"Topic7\", \"Topic7\", \"Topic7\", \"Topic7\", \"Topic7\", \"Topic7\", \"Topic7\", \"Topic7\", \"Topic7\", \"Topic7\", \"Topic7\", \"Topic7\", \"Topic7\", \"Topic7\", \"Topic7\", \"Topic7\", \"Topic7\", \"Topic7\", \"Topic7\", \"Topic7\", \"Topic7\", \"Topic7\", \"Topic7\", \"Topic7\", \"Topic7\", \"Topic7\", \"Topic7\", \"Topic7\", \"Topic8\", \"Topic8\", \"Topic8\", \"Topic8\", \"Topic8\", \"Topic8\", \"Topic8\", \"Topic8\", \"Topic8\", \"Topic8\", \"Topic8\", \"Topic8\", \"Topic8\", \"Topic8\", \"Topic8\", \"Topic8\", \"Topic8\", \"Topic8\", \"Topic8\", \"Topic8\", \"Topic8\", \"Topic8\", \"Topic8\", \"Topic8\", \"Topic8\", \"Topic8\", \"Topic8\", \"Topic8\", \"Topic8\", \"Topic8\", \"Topic8\", \"Topic8\", \"Topic8\", \"Topic8\", \"Topic8\", \"Topic8\", \"Topic8\", \"Topic8\", \"Topic8\", \"Topic8\", \"Topic8\", \"Topic8\", \"Topic8\", \"Topic8\", \"Topic8\", \"Topic8\", \"Topic8\", \"Topic8\", \"Topic8\", \"Topic8\", \"Topic8\", \"Topic8\", \"Topic8\", \"Topic8\", \"Topic9\", \"Topic9\", \"Topic9\", \"Topic9\", \"Topic9\", \"Topic9\", \"Topic9\", \"Topic9\", \"Topic9\", \"Topic9\", \"Topic9\", \"Topic9\", \"Topic9\", \"Topic9\", \"Topic9\", \"Topic9\", \"Topic9\", \"Topic9\", \"Topic9\", \"Topic9\", \"Topic9\", \"Topic9\", \"Topic9\", \"Topic9\", \"Topic9\", \"Topic9\", \"Topic9\", \"Topic9\", \"Topic9\", \"Topic9\", \"Topic9\", \"Topic9\", \"Topic9\", \"Topic9\", \"Topic9\", \"Topic9\", \"Topic9\", \"Topic9\", \"Topic9\", \"Topic9\", \"Topic9\", \"Topic9\", \"Topic9\", \"Topic9\", \"Topic9\", \"Topic9\", \"Topic9\", \"Topic9\", \"Topic9\", \"Topic9\", \"Topic9\", \"Topic9\", \"Topic9\", \"Topic9\", \"Topic9\", \"Topic9\", \"Topic9\", \"Topic9\", \"Topic9\", \"Topic10\", \"Topic10\", \"Topic10\", \"Topic10\", \"Topic10\", \"Topic10\", \"Topic10\", \"Topic10\", \"Topic10\", \"Topic10\", \"Topic10\", \"Topic10\", \"Topic10\", \"Topic10\", \"Topic10\", \"Topic10\", \"Topic10\", \"Topic10\", \"Topic10\", \"Topic10\", \"Topic10\", \"Topic10\", \"Topic10\", \"Topic10\", \"Topic10\", \"Topic10\", \"Topic10\", \"Topic10\", \"Topic10\", \"Topic10\", \"Topic10\", \"Topic10\", \"Topic10\", \"Topic10\", \"Topic10\", \"Topic10\", \"Topic10\", \"Topic10\", \"Topic10\", \"Topic10\", \"Topic10\", \"Topic10\", \"Topic10\", \"Topic10\", \"Topic10\", \"Topic10\", \"Topic10\", \"Topic10\", \"Topic10\", \"Topic10\", \"Topic10\", \"Topic10\", \"Topic10\", \"Topic10\", \"Topic10\", \"Topic10\", \"Topic10\", \"Topic10\", \"Topic10\", \"Topic10\", \"Topic10\", \"Topic10\", \"Topic10\", \"Topic10\", \"Topic10\", \"Topic10\"], \"logprob\": [30.0, 29.0, 28.0, 27.0, 26.0, 25.0, 24.0, 23.0, 22.0, 21.0, 20.0, 19.0, 18.0, 17.0, 16.0, 15.0, 14.0, 13.0, 12.0, 11.0, 10.0, 9.0, 8.0, 7.0, 6.0, 5.0, 4.0, 3.0, 2.0, 1.0, -5.9536, -6.1245, -6.6157, -4.486, -7.1126, -7.1797, -7.2655, -7.0418, -7.4009, -7.4791, -7.4124, -7.4957, -7.5542, -7.5592, -7.5393, -7.5872, -6.9866, -7.5667, -7.5622, -7.3252, -7.6704, -7.7547, -7.7843, -7.8094, -7.8583, -7.8664, -7.8477, -7.8869, -7.4187, -7.7246, -6.8747, -6.5047, -4.9065, -5.1184, -7.1884, -5.1739, -5.3937, -6.4898, -6.476, -5.5465, -4.8798, -5.372, -4.7046, -5.1344, -4.5198, -7.0313, -7.0091, -5.0405, -2.8867, -5.2595, -6.029, -5.7627, -6.4841, -4.0714, -4.7569, -4.0704, -4.6796, -5.3351, -4.4188, -5.9857, -5.2242, -5.4891, -4.5013, -5.4743, -4.4815, -5.3468, -4.3491, -4.2249, -4.1702, -5.0326, -4.1052, -4.6867, -5.2723, -5.049, -4.9748, -4.5675, -4.8605, -5.1456, -5.0162, -5.1912, -6.4732, -6.0001, -6.5734, -6.597, -6.6082, -6.6271, -6.4271, -6.9669, -7.0131, -6.3551, -7.1076, -7.1783, -7.1879, -7.2126, -7.2814, -7.2878, -7.32, -7.4065, -7.2995, -7.428, -7.4968, -7.227, -7.301, -7.5468, -7.5462, -7.5534, -6.7289, -6.7652, -7.4669, -7.6521, -6.9679, -6.3871, -7.1879, -7.0235, -5.6819, -6.9864, -7.0635, -7.0276, -5.9029, -6.4423, -6.4949, -5.747, -4.8791, -5.1996, -5.9387, -6.0999, -5.4436, -6.0649, -6.2716, -5.7265, -5.6379, -3.5651, -4.0331, -6.128, -5.4526, -5.6545, -3.6837, -4.4968, -6.01, -5.1141, -4.2159, -4.8368, -5.8061, -5.2294, -5.3318, -5.1752, -5.5884, -5.4045, -5.3016, -5.6858, -4.9167, -5.1748, -5.4845, -5.4979, -5.1442, -5.427, -5.5172, -5.2446, -5.3948, -5.4573, -5.562, -5.4977, -5.587, -5.5818, -6.2915, -6.8214, -6.9735, -7.2461, -7.1816, -7.194, -7.3585, -6.7122, -7.3917, -7.312, -7.443, -7.4261, -7.1927, -7.4934, -7.5281, -7.4406, -7.5588, -7.5967, -7.2783, -7.3977, -7.5062, -7.6661, -7.6661, -7.642, -7.6774, -7.6599, -7.689, -7.7017, -7.7782, -7.7809, -5.9622, -7.4632, -6.7297, -5.556, -7.3552, -6.5387, -6.5153, -7.5261, -5.0033, -4.5636, -4.8211, -4.3631, -6.854, -5.3722, -5.1161, -3.5066, -5.0624, -6.865, -3.2866, -5.6043, -5.548, -6.0002, -5.8736, -5.5204, -6.0176, -5.9225, -4.2007, -3.9947, -4.5407, -4.638, -3.467, -3.6881, -4.4498, -5.3599, -4.8072, -4.7818, -5.6033, -4.902, -5.4981, -5.119, -5.4889, -4.5301, -5.0712, -5.432, -5.0946, -5.3838, -5.3482, -5.4367, -5.4771, -5.8821, -4.1794, -6.4239, -6.742, -6.9139, -7.0989, -7.1154, -6.7508, -7.2901, -7.2562, -7.3283, -7.385, -7.0375, -7.4276, -7.4479, -7.4673, -7.3982, -7.4688, -7.2915, -7.3409, -7.5681, -7.5601, -7.552, -7.6057, -7.6069, -7.6118, -7.6159, -7.6218, -7.6647, -7.632, -5.7344, -7.2028, -6.8037, -5.7322, -6.6245, -7.0268, -6.9218, -5.3045, -5.1479, -5.4115, -6.0711, -5.5044, -6.109, -6.7465, -5.6126, -6.1722, -5.6971, -5.713, -7.0264, -5.9659, -6.7456, -5.7827, -6.2344, -6.1446, -6.3363, -5.5912, -6.2737, -5.1306, -4.1699, -5.9993, -5.7164, -3.2017, -4.9239, -6.0044, -5.6801, -4.5428, -4.051, -4.3405, -4.3539, -5.1662, -4.7613, -5.5459, -5.749, -5.3049, -4.7716, -5.572, -5.4793, -5.3882, -5.6996, -5.5182, -5.6433, -5.6414, -5.6634, -5.7669, -6.7856, -6.3471, -6.4274, -6.9083, -6.7324, -6.8548, -7.0124, -6.9498, -6.6786, -7.0475, -6.5207, -7.1516, -7.1691, -7.1866, -6.1975, -6.6428, -7.2647, -5.3625, -7.3324, -7.333, -7.0184, -6.9175, -7.4217, -7.3564, -7.4141, -6.9997, -7.3397, -7.4667, -7.5261, -6.2199, -6.9974, -6.8337, -6.4448, -6.3548, -6.7888, -6.8482, -7.1774, -6.238, -7.0726, -6.6803, -6.5723, -6.5608, -6.3161, -6.3763, -6.7001, -6.127, -5.294, -5.6303, -5.3099, -5.8678, -3.9266, -5.3063, -4.5849, -5.1926, -5.9698, -5.5015, -4.5219, -5.4986, -5.7723, -3.8357, -5.6516, -5.1498, -5.4909, -5.2882, -5.3062, -4.9484, -4.9647, -5.3393, -4.9969, -5.2966, -5.6077, -5.5582, -5.5326, -5.447, -5.3612, -5.0964, -5.1289, -5.3859, -5.4516, -5.4524, -5.4564, -5.4042, -5.4882, -5.4772, -6.2922, -6.3249, -6.5148, -6.7327, -6.029, -6.8646, -6.8718, -6.9165, -6.9184, -6.8317, -6.9282, -6.7708, -6.9508, -7.0657, -7.0644, -7.1394, -7.1765, -7.2028, -7.1882, -7.1371, -7.2232, -7.2498, -7.2587, -7.2914, -7.2521, -7.2077, -7.3344, -7.3483, -7.4177, -7.3943, -5.6383, -6.6504, -6.811, -6.5379, -5.8613, -5.925, -6.8225, -6.1623, -4.1319, -4.1261, -5.2083, -6.6808, -5.216, -6.0454, -5.7388, -6.3819, -2.6873, -3.7009, -4.6656, -5.9191, -4.9012, -5.1847, -5.2685, -3.2389, -4.8183, -4.5492, -3.9217, -3.7205, -5.0215, -5.7973, -5.0175, -4.9789, -5.9927, -5.6656, -5.7607, -5.8205, -4.5701, -5.2543, -5.4394, -5.4804, -5.3508, -5.5969, -5.3779, -5.6362, -5.3951, -5.5405, -5.6414, -5.6396, -4.9627, -6.1467, -6.2138, -6.2121, -6.1301, -6.2304, -5.9499, -6.4402, -6.497, -6.551, -6.2406, -6.4301, -6.7523, -6.565, -6.7865, -6.5977, -6.8056, -6.7962, -6.8358, -6.8486, -6.8702, -6.8794, -6.9509, -6.8647, -6.9608, -6.9708, -6.9749, -6.9913, -6.9556, -7.0052, -4.9128, -6.639, -6.3792, -6.8517, -6.9044, -6.0553, -6.7605, -6.4513, -6.5313, -5.7716, -5.7564, -6.5362, -5.4276, -5.641, -3.3207, -5.9138, -6.6264, -4.9232, -5.7471, -5.1739, -5.8061, -5.4515, -5.4642, -5.7976, -3.7842, -5.4292, -5.3682, -4.0606, -4.8032, -5.4313, -5.9703, -5.49, -4.5032, -5.1643, -4.5882, -5.7358, -5.3757, -5.3125, -4.7643, -5.5129, -5.5647, -5.4906, -5.3252, -5.7138, -5.7323, -5.7224, -3.0946, -3.4438, -2.9931, -3.8359, -4.697, -4.8444, -4.3359, -5.2975, -5.4819, -5.5946, -5.6194, -5.6754, -5.7618, -5.3143, -5.8883, -6.0622, -6.1186, -6.0174, -6.1975, -6.2368, -6.2237, -6.2904, -6.0217, -6.2937, -6.1413, -6.3654, -6.3591, -6.4122, -6.4359, -6.4611, -5.361, -5.1288, -5.8392, -4.8088, -4.5185, -5.3713, -5.6349, -5.8291, -5.6246, -3.5459, -3.9063, -5.4684, -5.4516, -4.2101, -5.6717, -5.3334, -3.8645, -5.441, -4.4009, -5.5874, -5.2128, -5.2529, -5.4083, -5.5701, -3.2727, -4.9622, -5.4554, -5.6819, -1.1652, -5.8595, -5.8595, -5.8595, -5.8865, -5.8986, -6.3912, -6.4082, -6.4726, -6.5203, -6.3974, -6.6101, -6.609, -6.6182, -6.666, -6.7596, -6.7676, -6.8725, -6.9284, -6.9285, -6.9356, -6.5399, -7.0101, -7.0205, -7.0308, -7.0159, -6.7119, -6.302, -5.1092, -6.8414, -6.1947, -5.4198, -6.4362, -6.3121, -4.9659, -5.7837, -6.1894, -5.8219, -5.6157, -6.4072, -4.2698, -4.1207, -5.9788, -6.0837, -5.3929, -4.973, -4.812, -6.1114, -5.4642, -5.6764, -5.8071, -5.8943, -6.0137, -6.0309, -6.0368, -5.2464, -5.5226, -5.6099, -5.6289, -5.5922, -6.0294, -5.829, -6.1453, -4.806, -6.2455, -6.3022, -6.3065, -6.3247, -6.1804, -6.3579, -6.1913, -6.2459, -6.5016, -6.4634, -5.8462, -6.5947, -6.6294, -6.6578, -6.5683, -6.6221, -6.6488, -6.7697, -6.7821, -6.7847, -6.7973, -5.8893, -6.2803, -6.5989, -5.4855, -5.6389, -5.8152, -6.3188, -5.2158, -4.704, -6.2448, -5.3913, -5.4599, -4.7184, -5.5779, -5.7022, -5.8548, -4.802, -5.4164, -4.9606, -4.4187, -5.5933, -5.1599, -3.7364, -5.5687, -5.7959, -5.6071, -5.4777, -5.5098, -5.3419, -5.1924, -4.8294, -5.0282, -5.586, -5.4862, -5.4808, -5.5387], \"loglift\": [30.0, 29.0, 28.0, 27.0, 26.0, 25.0, 24.0, 23.0, 22.0, 21.0, 20.0, 19.0, 18.0, 17.0, 16.0, 15.0, 14.0, 13.0, 12.0, 11.0, 10.0, 9.0, 8.0, 7.0, 6.0, 5.0, 4.0, 3.0, 2.0, 1.0, 1.7227, 1.7216, 1.7209, 1.7199, 1.7183, 1.7179, 1.7169, 1.7164, 1.7164, 1.7157, 1.7155, 1.7155, 1.7149, 1.7148, 1.7147, 1.7146, 1.7144, 1.7144, 1.7144, 1.7137, 1.7135, 1.7129, 1.7125, 1.7122, 1.7115, 1.7115, 1.7114, 1.7112, 1.7108, 1.71, 1.7042, 1.6935, 1.658, 1.6605, 1.7021, 1.6449, 1.6419, 1.6746, 1.6715, 1.6174, 1.576, 1.5781, 1.5328, 1.5498, 1.4997, 1.6779, 1.6755, 1.4866, 1.2487, 1.4886, 1.5719, 1.5358, 1.6154, 1.3082, 1.387, 1.2452, 1.3058, 1.411, 1.2123, 1.5181, 1.3542, 1.4101, 1.1557, 1.4019, 1.097, 1.3511, 1.0169, 0.9232, 0.5876, 1.1004, 0.3872, 0.799, 1.2061, 0.735, 0.5382, -0.7497, -0.2449, 0.7286, -0.7386, -0.0262, 1.928, 1.9278, 1.9276, 1.9275, 1.927, 1.927, 1.9264, 1.9242, 1.9239, 1.9238, 1.9238, 1.9238, 1.9237, 1.9235, 1.9228, 1.9228, 1.9225, 1.9216, 1.9216, 1.9209, 1.9206, 1.9206, 1.9203, 1.9201, 1.92, 1.92, 1.9199, 1.9188, 1.9187, 1.9187, 1.9182, 1.9112, 1.918, 1.9152, 1.892, 1.9141, 1.901, 1.8961, 1.7946, 1.7772, 1.7629, 1.6008, 1.3788, 1.4394, 1.5974, 1.6401, 1.4414, 1.6138, 1.6681, 1.5046, 1.4591, 0.7393, 0.9021, 1.6137, 1.3414, 1.361, 0.1342, 0.4106, 1.4189, 0.7635, 0.0617, 0.5384, 1.1984, 0.6011, 0.6424, 0.4485, 0.8649, 0.5952, 0.4511, 0.965, -0.1589, 0.1558, 0.5092, 0.5297, -0.5286, 0.1174, 0.3571, -0.7523, -0.2467, -0.0913, 0.4349, -0.3327, 0.6018, 0.0753, 1.983, 1.9802, 1.9795, 1.9773, 1.9773, 1.9767, 1.9762, 1.9761, 1.9757, 1.9753, 1.9752, 1.975, 1.9749, 1.9747, 1.9743, 1.9743, 1.9739, 1.9734, 1.9733, 1.9731, 1.9729, 1.9725, 1.9725, 1.9725, 1.9723, 1.9722, 1.9722, 1.972, 1.9708, 1.9708, 1.9553, 1.9698, 1.9572, 1.9286, 1.9646, 1.9261, 1.9197, 1.9661, 1.8286, 1.7427, 1.7337, 1.5922, 1.8941, 1.7011, 1.6628, 1.4008, 1.6193, 1.8813, 1.2057, 1.6397, 1.5785, 1.6563, 1.5982, 1.4914, 1.6126, 1.5561, 0.9643, 0.7631, 0.9723, 0.9858, 0.3509, 0.4472, 0.6983, 1.1373, 0.7372, 0.7039, 1.2406, 0.6764, 1.1427, 0.7416, 1.0925, -0.2525, 0.3084, 0.8905, 0.1357, 0.3689, -0.0326, 0.4376, 0.5631, 2.0043, 2.0022, 2.0021, 2.0005, 1.9997, 1.9984, 1.9981, 1.9969, 1.9967, 1.9966, 1.9964, 1.9954, 1.9954, 1.9953, 1.995, 1.9948, 1.9948, 1.9947, 1.9943, 1.9941, 1.9935, 1.9934, 1.9932, 1.9931, 1.993, 1.9929, 1.9929, 1.9927, 1.9922, 1.9922, 1.9851, 1.9889, 1.9847, 1.9666, 1.9777, 1.9835, 1.9811, 1.9373, 1.9232, 1.927, 1.9436, 1.9051, 1.9126, 1.9448, 1.8509, 1.8906, 1.8447, 1.8424, 1.9649, 1.827, 1.9281, 1.7828, 1.8416, 1.8246, 1.8442, 1.6711, 1.8118, 1.5081, 1.1607, 1.6899, 1.5805, 0.6161, 1.219, 1.679, 1.4347, 0.6222, 0.2266, 0.2751, 0.1385, 0.8079, 0.1739, 1.0926, 1.3497, 0.7352, -0.4672, 1.0093, 0.7537, 0.2356, 1.0657, -0.6108, 0.348, 0.1891, 0.1207, 2.2154, 2.2129, 2.2126, 2.2124, 2.2123, 2.2123, 2.2118, 2.2114, 2.2112, 2.2112, 2.2111, 2.2101, 2.21, 2.2098, 2.2096, 2.209, 2.2087, 2.2085, 2.2078, 2.2078, 2.2074, 2.2069, 2.2069, 2.2067, 2.2064, 2.2064, 2.206, 2.2058, 2.2054, 2.2051, 2.2041, 2.2036, 2.2009, 2.1947, 2.1829, 2.194, 2.1862, 2.2007, 2.1466, 2.1933, 2.1501, 2.1283, 2.1167, 2.0568, 2.0587, 2.1277, 1.8675, 1.5319, 1.669, 1.5115, 1.6907, 0.689, 1.3843, 0.9595, 1.2611, 1.687, 1.3887, 0.7084, 1.3017, 1.4995, -0.0178, 1.4081, 0.8499, 1.1623, 0.9448, 0.9189, 0.4176, 0.4105, 0.8496, 0.3337, 0.7435, 1.1713, 1.0751, 1.0043, 0.6647, 0.4693, -0.1612, -0.3712, 0.3668, 0.5263, 0.4252, 0.3276, -1.0998, -0.0025, -1.1996, 2.3719, 2.3717, 2.37, 2.3684, 2.3678, 2.3677, 2.3676, 2.3672, 2.3672, 2.367, 2.3669, 2.3669, 2.3669, 2.3656, 2.3655, 2.3646, 2.3642, 2.3639, 2.3636, 2.3636, 2.3633, 2.3633, 2.3627, 2.3627, 2.3625, 2.3624, 2.3621, 2.3618, 2.3607, 2.3606, 2.3511, 2.3603, 2.3594, 2.3557, 2.3482, 2.3486, 2.3556, 2.336, 2.2226, 2.1959, 2.2415, 2.3283, 2.2024, 2.2389, 2.1844, 2.2576, 1.6171, 1.6743, 1.8765, 2.1332, 1.8778, 1.8577, 1.8787, 1.0387, 1.5043, 1.3311, 1.0134, 0.8951, 1.397, 1.7622, 1.0942, 1.0149, 1.8882, 1.4698, 1.575, 1.6115, -0.7522, 0.3695, 0.5347, 0.5472, -0.0352, 0.8869, -0.0473, 0.9007, -1.2597, -0.7827, 0.3365, 0.238, 2.8196, 2.8182, 2.8177, 2.8176, 2.8175, 2.8159, 2.8159, 2.8157, 2.8152, 2.8146, 2.8137, 2.8136, 2.8121, 2.8119, 2.8118, 2.8117, 2.8116, 2.8113, 2.8111, 2.8108, 2.8106, 2.8103, 2.8094, 2.8091, 2.809, 2.809, 2.809, 2.8087, 2.8086, 2.8084, 2.7987, 2.8061, 2.7993, 2.8067, 2.8077, 2.7835, 2.804, 2.7909, 2.7836, 2.6647, 2.6468, 2.7571, 2.5622, 2.5826, 1.9096, 2.5573, 2.7625, 2.2215, 2.3762, 2.089, 2.3813, 2.0665, 2.073, 2.2349, 0.4934, 1.8767, 1.7763, 0.555, 1.0273, 1.6952, 2.2446, 1.5217, -0.1988, 0.7981, -0.4529, 1.8616, 0.9464, 0.6812, -0.9465, 0.9313, 1.0686, 0.5007, -0.5674, 1.5302, 1.4466, -0.2368, 2.9117, 2.9113, 2.9112, 2.9109, 2.9101, 2.91, 2.9092, 2.9085, 2.9082, 2.9077, 2.9076, 2.9074, 2.9067, 2.9067, 2.9061, 2.9052, 2.9047, 2.9044, 2.9042, 2.9036, 2.9035, 2.9034, 2.9034, 2.9034, 2.9033, 2.9026, 2.9024, 2.9023, 2.9021, 2.9018, 2.8994, 2.8959, 2.9009, 2.8905, 2.88, 2.8842, 2.8827, 2.8811, 2.861, 2.6645, 2.6034, 2.8127, 2.7673, 2.2874, 2.7615, 2.2857, -0.0467, 2.1268, -0.2656, 2.315, 0.1177, -0.9753, -0.0331, -0.8124, 3.0203, 3.0181, 3.0164, 3.0153, 3.0143, 3.0143, 3.0143, 3.0143, 3.0141, 3.014, 3.0097, 3.0096, 3.0088, 3.0081, 3.0078, 3.0071, 3.0071, 3.0069, 3.0062, 3.0049, 3.0047, 3.0029, 3.002, 3.002, 3.0019, 3.0006, 3.0004, 3.0002, 3.0, 3.0, 2.999, 2.9931, 2.9772, 2.991, 2.921, 2.831, 2.9343, 2.9132, 2.5392, 2.7249, 2.7108, 2.3894, 2.1766, 2.7453, 0.0078, -0.3028, 2.0825, 2.2297, 0.7923, -0.2153, -0.6767, 2.2112, 0.3663, 0.3431, -0.2287, -0.5637, 0.0264, 0.0798, -1.1016, 3.1746, 3.1731, 3.1727, 3.1726, 3.1722, 3.1696, 3.1688, 3.1685, 3.168, 3.1671, 3.1667, 3.1665, 3.1664, 3.1659, 3.1657, 3.1652, 3.1649, 3.1641, 3.1635, 3.1624, 3.1624, 3.1621, 3.1615, 3.1613, 3.1609, 3.1604, 3.1596, 3.1593, 3.1593, 3.1591, 3.156, 3.158, 3.1566, 3.1069, 3.093, 3.1029, 3.138, 3.0373, 2.9248, 3.1069, 2.9546, 2.9611, 2.7242, 2.8841, 2.9075, 2.9567, 2.3997, 2.6903, 2.2891, 1.7572, 2.4464, 1.949, 0.0815, 2.3955, 2.6646, 2.3236, 2.0418, 2.0755, 1.5717, 0.9928, -0.5518, -0.4126, 1.9723, 1.0781, 0.5468, 1.2266]}, \"token.table\": {\"Topic\": [1, 2, 3, 4, 5, 6, 7, 8, 9, 10, 9, 1, 2, 1, 3, 1, 1, 9, 5, 10, 7, 1, 2, 3, 4, 5, 6, 7, 8, 9, 10, 1, 2, 3, 4, 5, 6, 7, 8, 9, 10, 7, 2, 3, 4, 6, 8, 4, 7, 10, 3, 4, 7, 2, 3, 4, 5, 6, 7, 8, 9, 10, 3, 1, 2, 3, 4, 5, 6, 7, 8, 9, 2, 4, 5, 10, 9, 2, 5, 1, 9, 6, 8, 1, 2, 3, 4, 5, 6, 7, 9, 10, 2, 1, 1, 2, 3, 4, 5, 6, 7, 8, 9, 10, 2, 4, 5, 6, 7, 8, 9, 10, 1, 2, 3, 4, 5, 6, 7, 8, 9, 10, 3, 7, 2, 5, 1, 5, 6, 9, 1, 5, 4, 10, 1, 2, 3, 4, 5, 6, 7, 8, 9, 6, 7, 8, 8, 9, 1, 2, 3, 4, 6, 8, 9, 4, 1, 9, 1, 4, 7, 8, 1, 1, 2, 3, 5, 7, 9, 2, 4, 5, 8, 9, 10, 4, 10, 9, 6, 1, 2, 3, 4, 5, 6, 7, 8, 9, 10, 1, 2, 3, 6, 8, 2, 7, 10, 2, 3, 5, 7, 9, 10, 2, 3, 5, 7, 10, 2, 5, 2, 4, 1, 2, 3, 4, 5, 7, 8, 10, 7, 10, 3, 3, 5, 5, 3, 8, 2, 4, 2, 3, 6, 7, 3, 5, 1, 7, 2, 3, 5, 3, 1, 7, 4, 4, 5, 3, 4, 7, 1, 3, 5, 6, 1, 2, 3, 4, 5, 6, 7, 8, 9, 10, 5, 3, 3, 5, 1, 2, 4, 5, 6, 7, 8, 9, 2, 3, 4, 6, 1, 2, 3, 4, 5, 6, 7, 8, 9, 10, 10, 3, 10, 3, 9, 1, 7, 6, 4, 1, 2, 3, 4, 5, 6, 7, 8, 9, 10, 8, 1, 2, 3, 4, 5, 6, 7, 8, 9, 10, 1, 2, 3, 4, 5, 6, 7, 8, 9, 10, 3, 10, 1, 2, 3, 4, 5, 6, 7, 8, 9, 10, 1, 2, 3, 4, 5, 6, 7, 8, 9, 10, 1, 2, 3, 4, 5, 6, 7, 8, 9, 10, 2, 3, 5, 10, 3, 1, 2, 3, 4, 5, 6, 7, 8, 9, 10, 1, 2, 3, 4, 5, 6, 7, 8, 9, 1, 2, 3, 4, 5, 6, 7, 8, 9, 10, 1, 10, 9, 4, 1, 2, 3, 4, 9, 10, 10, 4, 5, 6, 9, 10, 1, 2, 3, 4, 5, 6, 7, 8, 9, 10, 1, 2, 3, 4, 5, 6, 7, 8, 9, 10, 8, 8, 1, 2, 3, 4, 5, 7, 8, 9, 10, 8, 3, 5, 6, 1, 2, 3, 4, 5, 6, 7, 8, 9, 10, 1, 2, 3, 4, 5, 7, 8, 9, 5, 2, 4, 8, 1, 2, 4, 5, 1, 2, 3, 4, 5, 6, 7, 8, 9, 10, 1, 2, 3, 4, 6, 7, 8, 8, 9, 2, 3, 5, 6, 7, 9, 10, 1, 2, 9, 10, 5, 1, 2, 4, 5, 6, 9, 4, 5, 6, 1, 2, 3, 4, 6, 9, 10, 1, 2, 4, 5, 6, 7, 8, 10, 1, 1, 2, 3, 4, 5, 6, 7, 9, 10, 7, 10, 1, 2, 3, 4, 6, 7, 10, 2, 3, 4, 5, 6, 7, 9, 10, 10, 3, 3, 6, 1, 2, 3, 4, 5, 6, 7, 8, 9, 10, 6, 4, 5, 9, 1, 7, 2, 3, 5, 10, 7, 7, 7, 8, 1, 5, 6, 8, 2, 1, 2, 3, 4, 5, 6, 8, 10, 8, 1, 2, 3, 4, 5, 6, 7, 8, 9, 1, 4, 5, 6, 2, 1, 2, 6, 1, 2, 3, 4, 5, 6, 7, 8, 9, 5, 1, 3, 4, 6, 9, 10, 6, 6, 1, 8, 1, 2, 3, 4, 5, 6, 7, 8, 9, 10, 7, 6, 1, 3, 4, 5, 6, 8, 9, 10, 1, 2, 3, 4, 5, 6, 7, 8, 10, 8, 4, 1, 2, 3, 4, 5, 6, 7, 8, 9, 10, 1, 3, 5, 7, 8, 4, 1, 2, 3, 4, 5, 6, 7, 8, 9, 10, 1, 2, 5, 1, 2, 3, 5, 8, 2, 3, 6, 2, 3, 4, 5, 6, 7, 9, 10, 5, 6, 8, 1, 2, 3, 4, 5, 6, 7, 8, 9, 10, 9, 2, 5, 1, 4, 5, 7, 9, 8, 7, 1, 2, 3, 4, 5, 6, 7, 1, 2, 3, 4, 5, 7, 8, 10, 1, 3, 4, 6, 7, 9, 1, 2, 3, 4, 5, 6, 7, 8, 9, 10, 5, 4, 5, 8, 9, 1, 2, 3, 4, 5, 6, 8, 9, 10, 3, 6, 5, 9, 1, 6, 1, 2, 3, 4, 5, 6, 7, 8, 9, 10, 1, 2, 3, 5, 8, 9, 2, 6, 6, 10, 3, 4, 5, 6, 8, 9, 10, 1, 2, 3, 4, 5, 6, 8, 9, 10, 4, 6, 1, 2, 7, 1, 2, 3, 4, 5, 6, 9, 10, 1, 3, 4, 5, 7, 9, 10, 2, 6, 1, 2, 3, 4, 6, 7, 8, 9, 1, 3, 5, 6, 1, 2, 3, 4, 5, 6, 7, 8, 9, 10, 1, 3, 4, 5, 6, 7, 9, 10, 1, 2, 3, 4, 5, 6, 7, 8, 9, 10, 5, 7, 10, 4, 4, 5, 1, 2, 3, 4, 5, 6, 7, 8, 9, 10, 2, 4, 5, 1, 1, 2, 3, 4, 5, 6, 7, 8, 9, 10, 4, 1, 2, 4, 1, 2, 3, 4, 5, 6, 7, 8, 9, 2, 4, 5, 1, 2, 3, 4, 5, 6, 7, 8, 9, 10, 3, 1, 2, 3, 4, 5, 6, 7, 8, 9, 10, 1, 2, 3, 4, 5, 6, 7, 8, 9, 10, 8, 2, 5, 9, 2, 1, 2, 3, 4, 5, 6, 7, 8, 9, 10, 1, 2, 3, 4, 5, 6, 7, 8, 9, 10, 1, 3, 5, 2, 7, 1, 2, 5, 6, 9, 10, 1, 2, 3, 4, 5, 6, 7, 10, 2, 1, 2, 3, 4, 5, 6, 7, 9, 10, 4, 8, 1, 2, 3, 4, 5, 6, 8, 9, 10, 1, 2, 4, 5, 6, 8, 9, 2, 3, 4, 5, 6, 8, 10, 1, 2, 3, 4, 5, 6, 7, 8, 9, 10, 3, 3, 4, 5, 6, 7, 8, 9, 10, 1, 2, 3, 4, 6, 7, 8, 10, 9, 9, 1, 2, 3, 4, 5, 6, 8, 9, 1, 2, 3, 4, 5, 6, 7, 8, 9, 10, 7, 1, 2, 3, 4, 5, 6, 7, 8, 9, 10, 1, 2, 3, 4, 5, 6, 7, 8, 9, 10, 5, 1, 2, 3, 4, 5, 6, 7, 9, 10, 3, 9, 1, 2, 3, 4, 5, 3, 6, 8, 1, 2, 3, 4, 5, 6, 7, 9, 10, 6, 1, 2, 3, 4, 5, 6, 8, 9, 10, 9, 1, 2, 3, 4, 5, 6, 8, 9, 10, 1, 2, 3, 4, 5, 6, 7, 9, 4, 8, 7, 10, 1, 2, 3, 4, 5, 6, 7, 8, 10, 7, 10, 2, 7, 1, 2, 3, 4, 5, 6, 7, 8, 9, 10, 1, 1, 2, 3, 8, 9, 10, 5, 1, 2, 3, 8, 9, 10, 1, 4, 6, 8, 1, 2, 3, 4, 5, 6, 7, 9, 2, 3, 1, 2, 3, 4, 5, 6, 7, 8, 9, 10, 6, 8, 8, 3, 7, 2, 5, 3, 7, 5, 7, 8, 10, 1, 2, 3, 4, 5, 6, 7, 8, 9, 10, 1, 2, 3, 4, 5, 6, 7, 8, 9, 10, 9, 1, 3, 4, 5, 6, 8, 10, 1, 5, 8, 1, 2, 3, 4, 5, 6, 7, 8, 9, 10, 2, 1, 2, 3, 4, 5, 6, 7, 8, 9, 10, 1, 2, 4, 5, 6, 8, 1, 2, 3, 4, 5, 6, 7, 8, 9, 10, 6, 3, 1, 2, 3, 4, 5, 6, 7, 8, 9, 10, 4, 1, 2, 3, 4, 5, 6, 7, 8, 9, 10, 3, 1, 2, 3, 4, 5, 6, 7, 8, 9, 10, 3, 1, 2, 4, 7, 9, 4, 9, 3, 5, 3, 2, 5, 7, 9, 10, 10, 2, 5, 9, 2, 3, 5, 9, 1, 3, 7, 10, 8, 1, 2, 3, 4, 5, 6, 7, 8, 9, 10, 7, 10, 4, 1, 2, 3, 4, 5, 6, 7, 8, 9, 10, 3, 1, 2, 3, 4, 5, 6, 7, 8, 9, 10, 9, 7, 7, 1, 2, 3, 4, 5, 6, 7, 8, 9, 10, 6, 1, 2, 3, 4, 5, 6, 7, 8, 9, 10, 1, 2, 3, 4, 5, 6, 7, 8, 9, 10, 2, 4, 3, 6, 9, 2, 8, 3, 4, 1, 2, 3, 4, 5, 6, 7, 8, 9, 10, 3, 4, 5, 9, 10, 5, 6, 10, 10, 5, 9, 1, 2, 3, 4, 5, 6, 7, 8, 9, 10, 5, 1, 10, 2, 5, 2, 7, 9, 10, 1, 2, 3, 4, 7, 8, 9, 1, 2, 4, 5, 10, 1, 6, 1, 2, 3, 4, 6, 7, 8, 9, 6, 8, 9, 3, 6, 1, 2, 3, 4, 5, 6, 7, 8, 9, 10, 6, 3, 6, 8, 7, 1, 2, 5, 6, 7, 9, 10, 9, 3, 2, 4, 1, 2, 3, 4, 5, 6, 7, 8, 9, 10, 1, 2, 3, 4, 5, 6, 7, 8, 9, 10, 9, 1, 3, 4, 5, 8, 9, 10, 1, 2, 3, 4, 5, 6, 8, 9, 8, 9, 5, 6, 8, 9, 8, 7, 2, 6, 1, 2, 3, 4, 5, 6, 7, 8, 9, 10, 8, 3, 9, 3, 3, 5, 4, 3, 1, 2, 3, 4, 5, 6, 7, 8, 9, 10, 10, 2, 3, 5, 1, 3, 4, 5, 6, 7, 8, 9, 1, 2, 3, 4, 5, 6, 7, 9, 3, 5, 10, 8, 8, 8, 1, 9, 9, 7, 6, 10, 1, 2, 3, 4, 5, 6, 8, 9, 10, 1, 2, 3, 4, 5, 6, 7, 8, 9, 10, 2, 3, 4, 5, 7, 8, 9, 10, 3, 9, 7, 6, 2, 5, 6, 8, 9, 10, 2, 5, 6, 2, 2, 5, 1, 2, 3, 4, 5, 6, 7, 10, 2, 3, 5, 6, 7, 10, 1, 2, 3, 4, 5, 6, 7, 8, 3, 4, 5, 9, 1, 2, 3, 4, 5, 7, 10, 1, 2, 3, 4, 5, 6, 7, 1, 2, 8, 9, 6, 7, 1, 2, 3, 4, 5, 8, 9, 10, 6, 8, 4, 2, 2, 5, 8, 9, 2, 1, 2, 3, 4, 5, 6, 7, 8, 9, 10, 8, 4, 5, 8, 2, 7, 2, 5, 2, 3, 4, 5, 6, 7, 8, 9, 10, 6, 9, 1, 3, 4, 5, 6, 7, 9, 10, 1, 2, 3, 4, 5, 6, 7, 8, 9, 10, 2, 4, 3, 4, 1, 2, 3, 4, 5, 6, 7, 8, 9, 10, 1, 3, 6, 7, 9, 2, 1, 2, 3, 4, 5, 6, 7, 8, 9, 10, 9, 6, 1, 2, 4, 5, 6, 7, 8, 9, 8, 3, 4, 5, 8, 1, 2, 3, 4, 5, 6, 7, 8, 9, 10, 7, 1, 3, 5, 8, 1, 3, 4, 1, 3, 4, 10, 3, 10, 10, 1, 6, 7, 5, 9, 10, 10, 3, 6, 9, 5, 6, 6, 2, 4, 6, 8, 6, 2, 3, 4, 5, 6, 7, 8, 10, 1, 2, 3, 4, 5, 6, 7, 8, 9, 10, 6, 3, 7, 1, 2, 3, 4, 5, 6, 7, 8, 9, 10, 8, 1, 3, 6, 7, 6, 1, 2, 3, 4, 5, 6, 7, 8, 9, 10, 8, 1, 2, 3, 4, 5, 6, 7, 8, 9, 10, 7, 1, 2, 3, 4, 5, 6, 7, 8, 9, 10, 4, 3, 4, 5, 6, 7, 9, 7, 1, 5, 7, 1, 3, 4, 6, 7, 9, 1, 1, 7, 1, 3, 4, 6, 8, 1, 3, 4, 1, 2, 3, 4, 5, 6, 7, 8, 9, 10, 2, 10, 4, 1, 2, 5, 9, 1, 3, 5, 6, 1, 2, 3, 5, 6, 7, 9, 10, 8, 6, 4, 1, 2, 3, 4, 5, 6, 7, 8, 9, 10, 1, 2, 3, 9, 1, 2, 3, 4, 5, 6, 7, 8, 9, 10, 6, 2, 2, 6, 2, 9, 9, 1, 4, 1, 2, 3, 4, 5, 6, 7, 8, 9, 10, 9, 4, 1, 2, 3, 4, 5, 6, 7, 8, 9, 10, 1, 3, 2, 3, 4, 6, 9, 10, 1, 1, 2, 3, 4, 5, 6, 7, 8, 9, 10, 5, 1, 2, 3, 4, 5, 6, 7, 8, 9, 10, 1, 4, 8, 3, 4, 5, 8, 1, 2, 3, 4, 5, 6, 7, 8, 9, 10, 1, 2, 3, 4, 5, 6, 7, 8, 9, 10, 3, 1, 2, 3, 7, 9, 10, 1, 1, 9, 2, 3, 6, 7, 8, 10, 5, 9, 1, 2, 3, 4, 5, 6, 7, 8, 9, 10, 4, 5, 6, 9, 5, 6, 7, 1, 2, 3, 4, 5, 6, 9, 10, 1, 2, 3, 4, 5, 6, 8, 9, 10, 4, 1, 2, 3, 4, 5, 6, 7, 8, 9, 10, 7, 1, 2, 3, 4, 5, 6, 7, 8, 9, 10, 1, 1, 2, 3, 4, 5, 6, 7, 8, 9, 1, 9, 1, 2, 3, 4, 5, 8, 10, 1, 2, 3, 4, 5, 6, 7, 8, 9, 10, 1, 3, 8, 5, 1, 3, 4, 5, 6, 7, 9, 10, 1, 10, 1, 2, 3, 4, 5, 6, 7, 8, 9, 10, 9, 2, 3, 4, 5, 7, 10, 2, 1, 2, 3, 4, 5, 7, 8, 10, 10, 10, 10, 6, 7, 5, 5, 1, 2, 3, 4, 5, 6, 7, 9, 10, 5, 1, 2, 3, 4, 5, 6, 7, 8, 9, 10, 1, 2, 3, 4, 5, 6, 7, 8, 9, 10, 1, 4, 9, 4, 2, 4, 5, 6, 8, 9, 9, 1, 2, 3, 4, 5, 6, 7, 8, 9, 10, 1, 3, 6, 2, 3, 4, 5, 6, 7, 9, 10, 1, 10, 2, 2, 3, 4, 5, 6, 9, 10, 1, 2, 3, 4, 6, 7, 8, 1, 2, 3, 4, 5, 6, 7, 8, 9, 10, 6, 1, 2, 3, 4, 5, 6, 7, 8, 9, 10, 3, 4, 1, 2, 3, 4, 5, 6, 7, 8, 9, 10, 1, 3, 4, 7, 9, 1, 4, 5, 3, 7, 1, 2, 3, 4, 5, 6, 7, 8, 9, 10, 6, 1, 3, 4, 6, 8, 9, 1, 2, 3, 4, 5, 6, 7, 10, 1, 2, 3, 4, 5, 6, 7, 9, 2, 10, 9], \"Freq\": [5.6746703306340604e-05, 0.0005674670330634061, 0.0005674670330634061, 0.00034048021983804365, 0.004256002747975545, 0.00017024010991902182, 0.00011349340661268121, 0.00011349340661268121, 0.9935780281907176, 0.00028373351653170303, 0.9904048526857959, 0.009906354783044361, 0.985682300912914, 0.9916689367656862, 0.005219310193503612, 0.9904234051730932, 0.9877681455412819, 0.0073168010780835695, 0.9828943684788147, 0.9920472746736673, 0.9783954957292561, 0.4485888222243702, 0.11315619407659055, 0.2757901956027867, 0.0756367690921464, 0.06980705764038017, 0.0025411562738468156, 0.010463584657016299, 0.002840115835475853, 0.0007473989040725928, 0.0002989595616290371, 0.30530694972874006, 0.11605109020013461, 0.36257891632101424, 0.03983200684049147, 0.09818051415818439, 0.019162424912452656, 0.006674552497595868, 0.01765526789686649, 0.00473677919184223, 0.029712524021555803, 0.9811127887369887, 0.13025068518621272, 0.0031012067901479215, 0.8497306605005306, 0.006202413580295843, 0.009303620370443764, 0.007098853552096961, 0.007098853552096961, 0.9867406437414775, 0.9880369056611483, 0.9741122906561647, 0.01422061738184182, 0.10126117864077212, 0.2957892323454133, 0.10925548221767518, 0.01732099108328997, 0.4476810003065715, 0.0013323839294838438, 0.006661919647419219, 0.0026647678589676875, 0.01732099108328997, 0.9824008042464282, 0.09915325549443338, 0.23695947499517128, 0.03865296400630454, 0.09411156453708931, 0.04537521861609663, 0.00504169095734407, 0.018486200176928258, 0.4554327498134143, 0.00504169095734407, 0.015236397265270105, 0.924341434093053, 0.03047279453054021, 0.025393995442116842, 0.9925192337512138, 0.9949714709816899, 0.9908305035949402, 0.9897451195653152, 0.9908710054864884, 0.026335947863198157, 0.9691628813656922, 0.7302666162836721, 0.052530971218518865, 0.03272421157874946, 0.014639778864177388, 0.00430581731299335, 0.08697750972246567, 0.00086116346259867, 0.07664354817128162, 0.00086116346259867, 0.9914443273139442, 0.9919203053280298, 0.13954580344516926, 0.08539501053594321, 0.0224677520012348, 0.17702131166597887, 0.21616434835563014, 0.22713493038748306, 0.10329900041192719, 0.0010531758750578814, 0.0005265879375289407, 0.027558102064014562, 0.011022060520152319, 0.15430884728213248, 0.586006217654765, 0.16165688762890068, 0.0055110302600761595, 0.06245834294752981, 0.0018370100866920533, 0.01653309078022848, 0.022780570184320927, 0.12073702197690091, 0.13098827855984532, 0.005695142546080232, 0.3872696931334557, 0.013668342110592554, 0.25172530053674624, 0.0296147412396172, 0.012529313601376508, 0.02391959869353697, 0.026897766370376157, 0.9683195893335417, 0.9803827115990218, 0.017444532234858038, 0.08945132718386502, 0.03440435660917886, 0.870430222212225, 0.0034404356609178855, 0.9521449222830378, 0.04577619818668451, 0.007567706973803924, 0.9888470445770461, 0.05946820659670728, 0.1697321729947687, 0.00247784194152947, 0.035928708152177316, 0.053273601742883606, 0.12265317610570878, 0.4782234947151877, 0.00495568388305894, 0.07309633727511937, 0.985815226415323, 0.13575344982626164, 0.8584409327248899, 0.9996316101742714, 0.9976868580044853, 0.002506790324830232, 0.0018800927436226742, 0.4092335205285354, 0.36912487533125166, 0.09212454443751103, 0.07896389523215232, 0.04574892342815173, 0.9839199096707941, 0.9984505381596595, 0.9815309361464727, 0.23734611531295535, 0.0905662808431014, 0.6402099163046823, 0.031229752014862548, 0.9917640504131557, 0.12399989019381168, 0.007999992915729785, 0.003999996457864892, 0.8519992455252221, 0.007999992915729785, 0.003999996457864892, 0.005021471248800664, 0.8335642273009102, 0.11298310309801494, 0.007532206873200996, 0.030128827492803986, 0.01255367812200166, 0.987331387184104, 0.986022476931964, 0.9960046309728267, 0.9907881498805302, 0.008993277582171267, 0.10278031522481447, 0.08350900612016175, 0.1284753940310181, 0.5755697652589611, 0.026979832746513797, 0.0038542618209305426, 0.019271309104652714, 0.0025695078806203617, 0.048820649731786875, 0.002437711597612995, 0.7678791532480934, 0.021939404378516953, 0.20233006260187858, 0.00487542319522599, 0.01198064346429721, 0.9584514771437768, 0.017970965196445813, 0.009713921753058814, 0.01618986958843136, 0.1359949045428234, 0.7835896880800777, 0.0032379739176862715, 0.04856960876529407, 0.008293657808599662, 0.004146828904299831, 0.2156351030235912, 0.7630165183911689, 0.004146828904299831, 0.9851517456637604, 0.01026199735066417, 0.9857572484172517, 0.007823470225533743, 0.0029654726770278242, 0.0029654726770278242, 0.031137463108792156, 0.2654098045939903, 0.01334462704662521, 0.04744756283244519, 0.0014827363385139121, 0.6346111528839544, 0.9950562444873707, 0.9879927910610291, 0.9910207364935082, 0.14661017888168248, 0.8495871904425703, 0.9797099324733887, 0.988865836099557, 0.9909456114245714, 0.960314779811714, 0.037195290767355116, 0.9920354681439325, 0.9725113786030368, 0.005145562849751518, 0.02058225139900607, 0.008816702605327482, 0.9874706917966779, 0.9888591959709975, 0.9864249472610789, 0.9870424204668314, 0.9890414270626956, 0.9816986873167584, 0.9938642243129955, 0.016825856092785384, 0.9758996533815522, 0.9862259868091974, 0.995407277655168, 0.004201803620325741, 0.005468531311691634, 0.9898041674161857, 0.9754517878431895, 0.9953178478740592, 0.003013505594774401, 0.0008610015985069716, 0.0004305007992534858, 0.040268151011323736, 0.13004632375788158, 0.17097460839234177, 0.03762761651877792, 0.31818440635177114, 0.0831768365151933, 0.17229487563861468, 0.03630734927250501, 0.0033006681156822733, 0.00858173710077391, 0.9947361983716002, 0.9837080311074529, 0.010271876912120968, 0.9758283066514919, 0.10416686496178187, 0.17165525634547155, 0.014671389431236885, 0.2288736751272954, 0.46508304497020925, 0.0014671389431236883, 0.011737111544989506, 0.0029342778862473766, 0.9909199704159617, 0.028408464800415686, 0.007102116200103922, 0.9516835708139254, 0.1736099317676964, 0.10383150910449793, 0.35983774824355286, 0.2503813989679474, 0.07661944449292381, 0.016874520513322503, 0.0022803406099084463, 0.0024323633172356764, 0.010793612220233314, 0.003192476853871825, 0.9887873277159539, 0.9893696829052967, 0.005152967098465087, 0.9832852240263902, 0.9909979172940275, 0.9969066590814984, 0.9920823316428218, 0.9935246824145368, 0.9941233293316474, 0.2624829711779731, 0.0682781598098186, 0.4580067924515446, 0.1544017477517489, 0.023509411843607997, 0.01202626678468396, 0.0048880955318392864, 0.009621013427747167, 0.005276039621667801, 0.0015517763593140591, 0.9880394315073671, 0.32071805783151147, 0.12353209735403013, 0.2942107609381815, 0.03773748756187816, 0.07486793779032129, 0.04239144045154678, 0.03358939911673874, 0.02407914755958982, 0.039356253784371596, 0.009409078668243082, 0.10556889184240723, 0.07932922508388983, 0.7762059562054451, 0.015255620208440351, 0.012814720975089894, 0.000610224808337614, 0.001220449616675228, 0.001220449616675228, 0.001220449616675228, 0.006712472891713755, 0.9947953852877729, 0.9890069692499168, 0.08422632468177346, 0.1656464226848018, 0.19481537041598376, 0.24892416370052053, 0.10659708947289677, 0.04375342159677298, 0.023003153901826445, 0.051895431397075815, 0.03600665499065961, 0.04517629709585503, 0.0014279169412566993, 0.14612350032193555, 0.7834504284361756, 0.016183058667575925, 0.009519446275044662, 0.02141875411885049, 0.0009519446275044662, 0.014755141726319226, 0.005711667765026797, 0.0009519446275044662, 0.04194652593495888, 0.21830993049622854, 0.556584575221009, 0.07296580561795368, 0.05910112757782721, 0.009517278993646131, 0.008459803549907673, 0.02479192429209054, 0.006579847205483745, 0.001527464529844441, 0.024726620606711137, 0.9396115830550232, 0.02060551717225928, 0.008242206868903713, 0.9926571131092372, 0.040211386142561575, 0.12130434819672742, 0.674210907656949, 0.06400312294357717, 0.006366802805905582, 0.003015853960692118, 0.004356233498777504, 0.05897669967575697, 0.027142685646229063, 0.00033509488452134644, 0.20908424573727422, 0.0040996910928877296, 0.7512683927716765, 0.0020498455464438648, 0.0051246138661096615, 0.007174459412553526, 0.016398764371550918, 0.0040996910928877296, 0.0010249227732219324, 0.6212769528311156, 0.014550574443654547, 0.2145123866674594, 0.010315705762292402, 0.006895234904269133, 0.026332196287956924, 0.03767947262647857, 0.04169716855495034, 0.024811987017724357, 0.002008847964235889, 0.9967123277625033, 0.9953554278414755, 0.9931256594914781, 0.987790942169651, 0.0017862129287513425, 0.003572425857502685, 0.2018420609489017, 0.012503490501259398, 0.003572425857502685, 0.7752164110780826, 0.989791371387926, 0.32828429862946606, 0.02051776866434163, 0.04513909106155158, 0.008207107465736652, 0.5991188449987755, 0.25362943798497634, 0.1690862919899842, 0.17887137833199718, 0.09824226687381027, 0.12329208790936348, 0.061058938774160965, 0.016830348508262316, 0.029746662479719445, 0.05283946624687007, 0.016438945054581797, 0.21777922785320208, 0.3440360460263243, 0.10475456529647695, 0.1835961591775096, 0.06505809844728569, 0.0413504863012409, 0.03638842794509199, 0.0038593787214491505, 0.0005513398173498787, 0.003308038904099272, 0.9912814818299385, 0.9984319476034118, 0.2800658180017194, 0.05257553262126141, 0.20827999461499713, 0.001011067935024258, 0.4438588234756492, 0.001011067935024258, 0.001011067935024258, 0.002022135870048516, 0.010110679350242579, 0.9868059763859915, 0.9875405068347567, 0.010852093481700622, 0.9885666527969083, 0.1483015130237543, 0.4803055454059656, 0.037314574244686566, 0.17891859958349712, 0.07175879662439724, 0.0066974876849437434, 0.0287035186497589, 0.005740703729951779, 0.004783919774959816, 0.037314574244686566, 0.10669758285926409, 0.0935335953636406, 0.6928414471380785, 0.060277205901012834, 0.03394923090976585, 0.002771365788552314, 0.008314097365656942, 0.0006928414471380785, 0.9884425818781052, 0.9918382865243061, 0.09259183862061407, 0.9053424220682266, 0.9847486925011366, 0.015293311025600439, 0.0764665551280022, 0.9023053505104259, 0.24462977054443313, 0.12713287948243096, 0.12961958617157385, 0.06527605059000122, 0.03761143867328642, 0.35124731984143515, 0.021758683530000406, 0.0027975450252857668, 0.008081796739714436, 0.011811856773428792, 0.7133299098094134, 0.0028322798460952317, 0.027108964241197218, 0.16791373373278873, 0.009710673758040795, 0.07687616725115629, 0.0016184456263401324, 0.9992065297181336, 0.0003184214562517953, 0.0072941308727491, 0.7063150061778711, 0.0012156884787915166, 0.008509819351540616, 0.27352990772809127, 0.0012156884787915166, 0.0012156884787915166, 0.15737448303761054, 0.005828684556948538, 0.02914342278474269, 0.7985297843019498, 0.9869540089419021, 0.1727031664762218, 0.0383784814391604, 0.0927479968113043, 0.1375228918236581, 0.0287838610793703, 0.5309023265750522, 0.009815345130023908, 0.9717191678723669, 0.009815345130023908, 0.002756958266538267, 0.05789612359730361, 0.024812624398844404, 0.8904975200918603, 0.011027833066153068, 0.0082708747996148, 0.0082708747996148, 0.241900496678867, 0.12917016812949209, 0.002348548511445311, 0.011742742557226554, 0.03287967916023435, 0.02583403362589842, 0.5495603516782027, 0.009394194045781243, 0.99185641493893, 0.018107765965016166, 0.1539160107026374, 0.23281413383592214, 0.009053882982508083, 0.18237107150480567, 0.001293411854644012, 0.3867301445385596, 0.001293411854644012, 0.014227530401084132, 0.9868245617168163, 0.9925456123415587, 0.006518995447918644, 0.3080225349141559, 0.05215196358334915, 0.10267417830471863, 0.04237347041147118, 0.470997421112122, 0.01629748861979661, 0.05922053276532615, 0.046346503903298725, 0.05664572699292066, 0.7029219758666974, 0.0334724750412713, 0.0514961154481097, 0.018023640406838393, 0.030897669268865818, 0.9851366751164018, 0.9900209897164405, 0.9831093656605612, 0.987849132514118, 0.27333177290577143, 0.09671739656665758, 0.013666588645288571, 0.5182790924713281, 0.03994848988622813, 0.018922968893476482, 0.027333177290577142, 0.0010512760496375823, 0.0021025520992751646, 0.009461484446738241, 0.9909919962906247, 0.009454472258958665, 0.009454472258958665, 0.9738106426727426, 0.010983423658553758, 0.9775247056112845, 0.010921939528637797, 0.9010600111126184, 0.032765818585913396, 0.05460969764318899, 0.9857092422506113, 0.9857537797148437, 0.9546056649683496, 0.02892744439298029, 0.004261258184196338, 0.008522516368392677, 0.9587830914441761, 0.025567549105178028, 0.9956254826945865, 0.0027936136107607587, 0.03911059055065062, 0.08939563554434428, 0.8464649240605099, 0.008380840832282277, 0.0027936136107607587, 0.0027936136107607587, 0.0027936136107607587, 0.9958240340297172, 0.08267421537589113, 0.23705166020101484, 0.07091958759732842, 0.09952251519183103, 0.2107996581622248, 0.2770173946481281, 0.004701851111425088, 0.01136280685261063, 0.0054854929633292695, 0.010131606987551943, 0.010131606987551943, 0.13894775297214093, 0.839476007540018, 0.9948487932720526, 0.9929730214245326, 0.7174891180904643, 0.28052206120830186, 0.005943241438508375, 0.6121538681663626, 0.14603393248906293, 0.04414979354320507, 0.16980689824309642, 0.009339379403370304, 0.0025471034736464465, 0.0016980689824309643, 0.007641310420939339, 0.9921407699649958, 0.006669658104452499, 0.0200089743133575, 0.09004038441010874, 0.006669658104452499, 0.006669658104452499, 0.8670555535788249, 0.9869672320254855, 0.9825800805885996, 0.0012171256780931356, 0.996825930358278, 0.009906190897101578, 0.05393370599533081, 0.25205752393736236, 0.009906190897101578, 0.09575984533864858, 0.018711693916747422, 0.5470418750954982, 0.0033020636323671925, 0.0011006878774557308, 0.007704815142190115, 0.9915111032538234, 0.9927233989192966, 0.14690545854426232, 0.7180004286350821, 0.04590795579508197, 0.003672636463606558, 0.049580592258688536, 0.005508954695409837, 0.011017909390819675, 0.020199500549836068, 0.05982931022738755, 0.01816246917617122, 0.03953007997166677, 0.5641049250010826, 0.12072700099454987, 0.021367610795495554, 0.021367610795495554, 0.017094088636396443, 0.13675270909117154, 0.9990171463142522, 0.9910207893573775, 0.09107852364808716, 0.18717054401074792, 0.24064784229953304, 0.02005398685829442, 0.1533294411873761, 0.05640183803895306, 0.004177913928811338, 0.0025067483572868026, 0.0037601225359302037, 0.24148342508529533, 0.02900401578613231, 0.009668005262044104, 0.08701204735839693, 0.003222668420681368, 0.8636751367426065, 0.9983816845561775, 0.03467386186319718, 0.35700788085626367, 0.03866075190321637, 0.15995886099955772, 0.09230254516892909, 0.25564422196001824, 0.008698669178223683, 0.017880597755237572, 0.016189189859471854, 0.01884711655281798, 0.006619234852146085, 0.9862659929697667, 0.9907544347471884, 0.027373582238850367, 0.035424635838512235, 0.8542167869241246, 0.052331848397802166, 0.030594003678715113, 0.9712969521885897, 0.006792286378941186, 0.013584572757882373, 0.24822336112150864, 0.01472511464280136, 0.012621526836686879, 0.2881915294376837, 0.00210358780611448, 0.00210358780611448, 0.4291319124473539, 0.00210358780611448, 0.025540118995712964, 0.005675581999047326, 0.9691056263373309, 0.20354236273668155, 0.1799231124532441, 0.07641522150523881, 0.19034336993123122, 0.1413681597846918, 0.08683547898322592, 0.09795042029307884, 0.004515444907127748, 0.01042025747798711, 0.009030889814255497, 0.9718752484003517, 0.059399315060115886, 0.9325692464438193, 0.0038313214170489756, 0.9597460149707684, 0.028734910627867316, 0.0038313214170489756, 0.0019156607085244878, 0.9934929159426316, 0.9819296313233385, 0.05159246269008454, 0.8577246922226553, 0.0032245289181302835, 0.0580415205263451, 0.00967358675439085, 0.01612264459065142, 0.0032245289181302835, 0.01604915975410399, 0.08666546267216156, 0.01604915975410399, 0.025678655606566386, 0.01604915975410399, 0.5585107594428189, 0.006419663901641596, 0.27283571581976784, 0.03358588244371337, 0.6778241729549426, 0.015266310201687896, 0.07022502692776432, 0.19540877058160508, 0.006106524080675159, 0.00793738954442265, 0.01852057560365285, 0.021166372118460404, 0.9101540010937973, 0.0026457965148075505, 0.0158747790888453, 0.005291593029615101, 0.0026457965148075505, 0.005291593029615101, 0.013228982574037752, 0.9924893911741258, 0.004908980766329501, 0.9916141147985593, 0.9892491244937239, 0.9925188405902812, 0.0014625836226527277, 0.5981967016649656, 0.0263265052077491, 0.01316325260387455, 0.08775501735916366, 0.26326505207749096, 0.0014625836226527277, 0.004387750867958183, 0.004387750867958183, 0.023056771535728306, 0.9735081315085284, 0.9888213626060525, 0.006066388727644493, 0.9830896260126818, 0.9888687625860905, 0.002259717697148428, 0.011298588485742141, 0.241036554362499, 0.39017792237429527, 0.1212715164136323, 0.022597176971484282, 0.01054534925335933, 0.033142526224843614, 0.02561013390101552, 0.14160897568796815, 0.8977355414936183, 0.002244338853734046, 0.002244338853734046, 0.001122169426867023, 0.004488677707468092, 0.09089572357622887, 0.008345500662167703, 0.984769078135789, 0.06484495085204613, 0.9272827971842597, 0.05020875858475167, 0.90375765452553, 0.0014345359595643334, 0.018648967474336337, 0.005738143838257334, 0.0014345359595643334, 0.018648967474336337, 0.0029811662771733905, 0.2524054114673471, 0.0009937220923911302, 0.1252089836412824, 0.004968610461955651, 0.5942458112498958, 0.0019874441847822603, 0.009937220923911302, 0.006956054646737911, 0.016820062514049935, 0.9755636258148962, 0.0062805663580231255, 0.9860489182096306, 0.9878384417156002, 0.007494787355780657, 0.009993049807707544, 0.002498262451926886, 0.17737663408680887, 0.29479496932737254, 0.03747393677890329, 0.012491312259634428, 0.4571820287026201, 0.0032426824310570718, 0.6647498983666997, 0.0032426824310570718, 0.0032426824310570718, 0.3231873489620215, 0.0010808941436856905, 0.0010808941436856905, 0.023828157820470125, 0.9701464255477122, 0.8133363671959897, 0.0047286998092790095, 0.08196413002750283, 0.018914799237116038, 0.028372198855674057, 0.04413453155327075, 0.00157623326975967, 0.0047286998092790095, 0.9524160223866744, 0.026309834872560067, 0.010523933949024027, 0.0052619669745120135, 0.6593087156711946, 0.014697364910646809, 0.18673190546732035, 0.011870948581676269, 0.00037685551052940537, 0.07122569149005761, 0.024118752673881944, 0.006406543678999891, 0.02393032491861724, 0.001130566531588216, 0.0019273934162072107, 0.6090563195214785, 0.03276568807552258, 0.058785499194319926, 0.0009636967081036054, 0.2717624716852167, 0.002891090124310816, 0.020237630870175712, 0.3416740820912159, 0.09540052425918874, 0.28803033682087337, 0.048462247147639005, 0.11521213472834935, 0.07955123588386026, 0.026212284620735563, 0.0009143820216535662, 0.003352734079396409, 0.0015239700360892769, 0.9129498051244263, 0.08346969646851897, 0.985031013845531, 0.9834095866383191, 0.007775010813086487, 0.9874263732619838, 0.12834314661072405, 0.3106276157100133, 0.12059295659799917, 0.04216103366922336, 0.16616407387282148, 0.1178028881934182, 0.06510159610688901, 0.015190372424940769, 0.015500380025449765, 0.018290448430030724, 0.006976627343532448, 0.9557979460639454, 0.027906509374129793, 0.9841671909194334, 0.32298731907171563, 0.011722943996345124, 0.16775937098218022, 0.45476937916856086, 0.027892521922338397, 0.008489028411146468, 0.002021197240749159, 0.0016169577925993273, 0.002021197240749159, 0.0012127183444494956, 0.9938725571822055, 0.08376094332382496, 0.8443103087041555, 0.06700875465905996, 0.0046646067580951075, 0.16918169895706484, 0.0534635697658593, 0.42914382174474985, 0.15142031168585654, 0.0884481204515726, 0.014532044130988603, 0.061178111711939674, 0.027808232596336215, 0.8704866662185454, 0.040176307671625174, 0.08800524537594086, 0.1784493581578484, 0.05948311938594946, 0.47423528058387104, 0.0871875859492684, 0.0994101447272032, 0.026889629311456605, 0.057038607630362496, 0.007333535266760892, 0.007333535266760892, 0.0024445117555869644, 0.9943795827195192, 0.23608640914106618, 0.2409613497427991, 0.037606684641939746, 0.060936757521661625, 0.019499762406931718, 0.2559343815909788, 0.11699857444159031, 0.0010446301289427707, 0.0059195707306757, 0.025071123094626495, 0.010643127057783976, 0.1209446256566361, 0.3342909453149422, 0.008224234544651255, 0.03725094470224392, 0.4175008477667078, 0.06482631935195694, 0.0019351140105061777, 0.003386449518385811, 0.0004837785026265444, 0.994346955823299, 0.029138215916425545, 0.9688456792211493, 0.992111058937266, 0.9939202129515808, 0.08974442954828746, 0.08747241867364727, 0.1570933233322645, 0.0017851514015030056, 0.22038505484009832, 0.006653746132874839, 0.4001984869187647, 0.0025965838567316444, 0.009088043498560756, 0.02499211962104208, 0.5337609503738511, 0.033331325497075105, 0.26986880092114607, 0.04022746180681479, 0.017929954405323162, 0.03034299976285458, 0.016090984722725913, 0.018849439246621785, 0.03884823454486685, 0.0006896136309739678, 0.003956227086179145, 0.00791245417235829, 0.9851005444586071, 0.012376602743678964, 0.9777516167506382, 0.002880735643584079, 0.005761471287168158, 0.2794313574276557, 0.08354133366393829, 0.014403678217920395, 0.6135966920834088, 0.9233511970945723, 0.0007946223727147782, 0.06992676879890049, 0.0007946223727147782, 0.0007946223727147782, 0.0007946223727147782, 0.003178489490859113, 0.0007946223727147782, 0.9957669794916069, 0.12800670771593906, 0.016552591514992117, 0.14124878092793275, 0.030898170827985287, 0.05296829284797478, 0.606928355549711, 0.005517530504997373, 0.002207012201998949, 0.016552591514992117, 0.9921266834283039, 0.9914318749655923, 0.029455633260628524, 0.5542309942460367, 0.017828409605117265, 0.23176932486652443, 0.03178107799173078, 0.11859768128621485, 0.005426037705905254, 0.004650889462204504, 0.006976334193306756, 0.003803489997050192, 0.007606979994100384, 0.015213959988200769, 0.928051559280247, 0.03423140997345173, 0.003803489997050192, 0.003803489997050192, 0.01683925901852204, 0.0799864803379797, 0.8356482287941562, 0.01683925901852204, 0.002104907377315255, 0.02104907377315255, 0.027363795905098316, 0.01813968687840713, 0.575028074045506, 0.03854683461661515, 0.03219794420917266, 0.17776893140838987, 0.14647797154313758, 0.003174445203721248, 0.00045349217196017825, 0.003174445203721248, 0.004988413891561961, 0.9800881349886157, 0.230218052212078, 0.0034619255971741055, 0.34965448531458465, 0.0017309627985870528, 0.38081181568915157, 0.029426367575979894, 0.0017309627985870528, 0.0017309627985870528, 0.31258407830999413, 0.03217777276720528, 0.018387298724117304, 0.002298412340514663, 0.6136760949174149, 0.002298412340514663, 0.01608888638360264, 0.006895237021543988, 0.9878150821126123, 0.9814878000450179, 0.0018975141691214624, 0.05502791090452241, 0.0018975141691214624, 0.7286454409426416, 0.07969559510310142, 0.02277017002945755, 0.0853881376104658, 0.02277017002945755, 0.4979280761940657, 0.022736441835345466, 0.13528182892030552, 0.04263082844127275, 0.018757564514160007, 0.2250907741699201, 0.02387326392711274, 0.018189153468276372, 0.0028420552294181833, 0.01193663196355637, 0.9788001124481999, 0.08512829780093467, 0.15404466241772075, 0.106535560924405, 0.16862914284979263, 0.03267424371477051, 0.2622076760942024, 0.09708381609503652, 0.020530942410813654, 0.049136554245392434, 0.02397363092482204, 0.0024006952782478466, 0.12403592270947209, 0.11203244631823285, 0.15924612012377384, 0.5017453131538, 0.06081761371561212, 0.02080602574481467, 0.001600463518831898, 0.0024006952782478466, 0.01520440342890303, 0.9905743205561707, 0.024421456470480395, 0.7147346260360596, 0.011396679686224185, 0.04884291294096079, 0.04558671874489674, 0.03581813615670458, 0.08466104909766538, 0.004884291294096079, 0.026049553568512424, 0.016179482693294854, 0.9707689615976912, 0.0046114834183503765, 0.006148644557800502, 0.6502191619874031, 0.16601340306061357, 0.17216204761841405, 0.9863462003063859, 0.010077546536705506, 0.9875995605971396, 0.007300007536029505, 0.17586381791343808, 0.07565462355521488, 0.6072278995879088, 0.12011830582012185, 0.004645459341109685, 0.000663637048729955, 0.001990911146189865, 0.00530909638983964, 0.9910555214234428, 0.007545691605729428, 0.06225195574726778, 0.02452349771862064, 0.7206135483471603, 0.03772845802864714, 0.001886422901432357, 0.003772845802864714, 0.007545691605729428, 0.13393602600169735, 0.9902929357098541, 0.045130547573045694, 0.6234312850788173, 0.004198190471911227, 0.2571391664045627, 0.0010495476179778068, 0.005247738089889034, 0.0010495476179778068, 0.0010495476179778068, 0.06297285707866841, 0.7900083003113855, 0.045904887178356044, 0.007404014061025168, 0.009625218279332718, 0.008884816873230202, 0.04442408436615101, 0.01406762671594782, 0.07996335185907182, 0.9803496919776642, 0.008524779930240558, 0.9871720839097113, 0.974271031316086, 0.02531405934399186, 0.0902501246177101, 0.06383545399789252, 0.037420783378074925, 0.4017231156763925, 0.001100611275825733, 0.34999438571258307, 0.001100611275825733, 0.02971650444729479, 0.010909563455186616, 0.9818607109667955, 0.9872198705969124, 0.9844442682849236, 0.07501730514219149, 0.6107603604497006, 0.08364761458332856, 0.08497535449734965, 0.07037021544311768, 0.027882538194442856, 0.029210278108463945, 0.0006638699570105441, 0.003319349785052721, 0.014605139054231973, 0.9881537061180903, 0.8581255471218819, 0.0573241762247411, 0.0034741924984691575, 0.03474192498469157, 0.045164502480099046, 0.9860921227238063, 0.983630510982182, 0.005382973591925949, 0.005382973591925949, 0.05921270951118544, 0.005382973591925949, 0.005382973591925949, 0.9204884842193374, 0.015764389905153664, 0.937981199356643, 0.015764389905153664, 0.02627398317525611, 0.8254738936509943, 0.01155130314043372, 0.08308052643311944, 0.007997056020300267, 0.036431032981367885, 0.019548359160733986, 0.015105550260567173, 0.0013328426700500446, 0.9912502324234755, 0.9866029720501188, 0.07020114084580083, 0.14898242112831064, 0.19266313098792007, 0.06474105211334966, 0.39858647746893583, 0.05616091267664067, 0.018720304225546887, 0.0007800126760644537, 0.0421206845074805, 0.007020114084580083, 0.0054270488001095536, 0.9877228816199387, 0.9990115208095569, 0.0566199549168017, 0.9342292561272281, 0.008605401311552418, 0.9810157495169758, 0.004165480613698317, 0.9934671263670486, 0.02340976498357233, 0.004681952996714466, 0.037455623973715726, 0.9317086463461788, 0.9829829317370878, 0.07351775243385743, 0.05016505460192624, 0.022487783097415212, 0.0021622868362899243, 0.023785155199189167, 0.0021622868362899243, 0.7805855479006626, 0.0038921163053218634, 0.04108344988950856, 0.5989640074492052, 0.0629978324987028, 0.09255835390194028, 0.10031193328639601, 0.08553167258477727, 0.012114967788212078, 0.022291540730310224, 0.00048459871152848314, 0.01841475103808236, 0.006057483894106039, 0.9940305613798125, 0.006056510688791014, 0.07267812826549216, 0.8554821347917307, 0.045423830165932606, 0.0015141276721977535, 0.015141276721977534, 0.00454238301659326, 0.0770200495550188, 0.9123913562671457, 0.0059246191965399075, 0.08991440395445002, 0.26412356161619693, 0.03549252787675659, 0.1623783150361614, 0.17361761553046764, 0.025732082710648526, 0.16563179675819742, 0.0011830842625585529, 0.0703935136222339, 0.011830842625585529, 0.9927182936301692, 0.24311895796557076, 0.25240664849459254, 0.013112033688030782, 0.14368603583133732, 0.06064315580714237, 0.09615491371222573, 0.1502420526753527, 0.0016390042110038478, 0.03660442737908593, 0.0010926694740025652, 0.0019168018518990327, 0.005750405555697098, 0.0038336037037980655, 0.0019168018518990327, 0.005750405555697098, 0.9794857463204057, 0.12246324990239638, 0.2608999671833662, 0.07294550102881871, 0.020765507592145474, 0.12406059664025372, 0.37537648339647584, 0.00798673368928672, 0.0031946934757146883, 0.010648978252382294, 0.0021297956504764586, 0.9898716369747705, 0.988565550713979, 0.22286260202130956, 0.22391054529100224, 0.1638284644952887, 0.09710940965818818, 0.13762988275297175, 0.0960614663884955, 0.032486241360473025, 0.0010479432696926783, 0.008034231734310534, 0.017116406738313744, 0.9831357965965561, 0.38691729114748924, 0.1737431148146369, 0.1293831706066445, 0.06161103362221167, 0.08748766774354057, 0.011706096388220216, 0.022796082440218315, 0.00184833100866635, 0.0024644413448884667, 0.12260595690820121, 0.9934609899344854, 0.7307099924850347, 0.0007388372017037762, 0.16402185877823833, 0.005171860411926433, 0.0007388372017037762, 0.047285580909041676, 0.01994860444600196, 0.025859302059632168, 0.003694186008518881, 0.0007388372017037762, 0.9892041080198282, 0.0440443690878627, 0.23673848384726204, 0.3165689028190132, 0.008258319203974258, 0.3908937756547815, 0.9864169852728087, 0.9765434118589453, 0.005377161916861357, 0.9893977927024897, 0.9838161053547071, 0.020501601418014746, 0.33388322309338303, 0.6384784441610307, 0.0029288002025735353, 0.0029288002025735353, 0.9903486530823847, 0.03279126910710471, 0.19674761464262827, 0.7623970067401846, 0.088390642250386, 0.0031568086517995, 0.290426395965554, 0.6171560914268022, 0.9910240524341838, 0.005820508021938291, 0.9739650090043407, 0.01940169340646097, 0.9941763893889776, 0.2148340001859947, 0.1297728224473775, 0.09705698485560166, 0.12868229452765165, 0.009814751277532752, 0.40349533029856866, 0.004362111678903445, 0.0010905279197258612, 0.004362111678903445, 0.006543167518355168, 0.9933379787213287, 0.9784342789852544, 0.9853436321137613, 0.07936329663234203, 0.2116354576862454, 0.1945680820663869, 0.05290886442156135, 0.4352180783063917, 0.0025601063429787746, 0.00853368780992925, 0.0025601063429787746, 0.005120212685957549, 0.009387056590922175, 0.9849936291374788, 0.07239154776343111, 0.275224469327007, 0.010927026077499036, 0.30151762582598907, 0.12975843467030107, 0.15844187812373603, 0.007853799993202433, 0.009219678252889812, 0.01331731303195195, 0.02151258259007623, 0.9787154171792893, 0.9900561938835463, 0.9819888983545244, 0.09086918699004189, 0.16285357961785013, 0.2866045262033106, 0.07198439262780824, 0.28327191543350466, 0.024216971593923144, 0.0422130697508752, 0.003554784821126333, 0.003332610769805937, 0.031104367184855413, 0.9881765698430222, 0.07991658600930636, 0.03995829300465318, 0.05660758175659201, 0.1232047367643473, 0.5877198929434405, 0.05660758175659201, 0.0016649288751938826, 0.0016649288751938826, 0.008324644375969413, 0.04495307963023483, 0.018520647720488736, 0.22681780260286852, 0.36752661970008815, 0.17005321997903292, 0.019723287182858134, 0.13421456400042486, 0.04666241113993266, 0.002886334709686556, 0.010102171483902946, 0.0038484462795820747, 0.9876511627920042, 0.9915417710778901, 0.9136368285831923, 0.0765923089830221, 0.010941758426146015, 0.9865908545261735, 0.9968384479289846, 0.9703420129123309, 0.028609592518299684, 0.010120030823989693, 0.0885502697099098, 0.2715541604437234, 0.035841775834963494, 0.1813172189298153, 0.15053545850684666, 0.028673420667970795, 0.013071706480986685, 0.10752532750489048, 0.11216367496588575, 0.004763850750799921, 0.1572070747763974, 0.07145776126199882, 0.004763850750799921, 0.7622161201279873, 0.007364072496835054, 0.007364072496835054, 0.9794216420790621, 0.9767771686436151, 0.9883204773406088, 0.0079703264301662, 0.22003707725442267, 0.12784085641105866, 0.10110737973528768, 0.11892969751913499, 0.18370696792581082, 0.12989727769381026, 0.06614821792851024, 0.0010282106413758067, 0.013709475218344092, 0.03770105685044625, 0.9786402379420464, 0.9947287885755207, 0.9800919021057218, 0.018361871927818338, 0.9731792121743719, 0.003541919736116425, 0.5383717998896966, 0.4533657262229024, 0.9901660428523529, 0.30601575941729947, 0.0017688772220653148, 0.019457649442718463, 0.0017688772220653148, 0.13443466887696393, 0.5342009210637251, 0.0017688772220653148, 0.007318484511817943, 0.0036592422559089716, 0.1793028705395396, 0.0036592422559089716, 0.7977148117881558, 0.21280374710859795, 0.7830086592329181, 0.1289204864372054, 0.04141789383276735, 0.02683412839869434, 0.0542516074147516, 0.0005833506173629204, 0.0011667012347258408, 0.7344384272599168, 0.012250362964621328, 0.04628302774502749, 0.9509058427614738, 0.9884456247572797, 0.9787656412869671, 0.009690748923633337, 0.39616136773840993, 0.10558716517195062, 0.27716630857637037, 0.03729070515993494, 0.10831064363868743, 0.011731907241327846, 0.046718130621716245, 0.002513980123141681, 0.004818461902688222, 0.009217927118186165, 0.988223723145977, 0.0173764467903667, 0.004344111697591675, 0.9730810202605352, 0.9950984876730893, 0.8280421315531372, 0.0012837862504699801, 0.0051351450018799205, 0.05263523626926919, 0.0847298925310187, 0.021824366257989666, 0.0051351450018799205, 0.9939832842914609, 0.990276358707355, 0.9949137843361475, 0.0024089922138889773, 0.029556037223360414, 0.38019811519140895, 0.2935451878774659, 0.0403036871227642, 0.1101634114688888, 0.00806073742455284, 0.08530947107651755, 0.011419378018116523, 0.00201518435613821, 0.03963195900405146, 0.14186555065200954, 0.26271398268890656, 0.11139072866009639, 0.01821483613309752, 0.2539568499326097, 0.12575242638042328, 0.04063309598921755, 0.0385313841277063, 0.002451997171763128, 0.00455370903327438, 0.9931303511590904, 0.038456660860859596, 0.08740150195649908, 0.2388974386810975, 0.05011019445505947, 0.09672432883185898, 0.027968480626079706, 0.4591492236114752, 0.012218136180888779, 0.0038181675565277435, 0.0015272670226110974, 0.004581801067833293, 0.3497441481779413, 0.6070886414879112, 0.01679993724872207, 0.0038181675565277435, 0.9845634496983167, 0.013269049187308849, 0.16064299420720607, 0.8247938807056551, 0.009590626519833199, 0.0023976566299582997, 0.9941861153092072, 0.9822980419883345, 0.9812574401810137, 0.012743603119233945, 0.11238885524983817, 0.16226556615952967, 0.4302697594476053, 0.0099753421819383, 0.17290593115359718, 0.0033251140606461, 0.061847121528017454, 0.0033251140606461, 0.043226482788399294, 0.0006650228121292199, 0.9953221341502986, 0.9432613682523883, 0.0556678840280098, 0.9799670067823253, 0.9786239570870724, 0.011513223024553793, 0.9845564761051476, 0.9815511289858371, 0.027239293212284767, 0.01981039506347983, 0.12257681945528145, 0.7144123719767415, 0.06686008333924444, 0.016095945989077362, 0.0012381496914674894, 0.011143347223207405, 0.006190748457337448, 0.012381496914674895, 0.9967312656570974, 0.006917972124691012, 0.013835944249382025, 0.9754340695814327, 0.5953435686177999, 0.3629730019493139, 0.00339227104625527, 0.001696135523127635, 0.0022615140308368466, 0.01017681313876581, 0.017526733738985563, 0.006219163584801329, 0.9375707200377228, 0.02443181029414261, 0.01985084586399087, 0.003817470358459783, 0.0007634940716919566, 0.009925422931995435, 0.00229048221507587, 0.0007634940716919566, 0.008644953990408087, 0.985524754906522, 0.9870165139762496, 0.9928527682044781, 0.9980198469552638, 0.9969688559259716, 0.08691412145852558, 0.9086476334300402, 0.9787989007753726, 0.9802480281992937, 0.9888938449753363, 0.9855655538659259, 0.0029019442695081056, 0.5649118177975778, 0.04449647879912428, 0.14316258396239986, 0.005803888539016211, 0.22828628253463762, 0.006771203295518912, 0.0009673147565027018, 0.0019346295130054036, 0.022614229216594735, 0.11562436551065372, 0.2407321174669762, 0.28048939141227985, 0.22833076596110166, 0.03319185255984066, 0.008753895180617316, 0.009483386445668759, 0.049970151656023844, 0.010577623343245924, 0.023943677744956947, 0.023943677744956947, 0.09919523637196449, 0.2975857091158935, 0.20694178622427076, 0.013682101568546828, 0.0017102626960683535, 0.3317909630372606, 0.9857978255549044, 0.9795970648906415, 0.9942223999939553, 0.9872758470041293, 0.11787242417408539, 0.021976214676524393, 0.856572912959985, 0.0004994594244664634, 0.0004994594244664634, 0.001997837697865854, 0.965087029716263, 0.026083433235574677, 0.9925566788956092, 0.983231120304901, 0.01457247803826808, 0.9836422675830954, 0.0036676928758466094, 0.2029456724635124, 0.11981130061098924, 0.007335385751693219, 0.19316515812792143, 0.05990565030549462, 0.0024451285838977396, 0.41078160209482023, 0.21281542823473276, 0.005387732360372982, 0.2559172871177166, 0.03502026034242438, 0.005387732360372982, 0.47950818007319534, 0.007690902696470335, 0.12305444314352536, 0.1653544079741122, 0.6524449120839001, 0.04101814771450845, 0.001281817116078389, 0.001281817116078389, 0.006409085580391946, 0.010109121771240957, 0.0016848536285401596, 0.9873242263245335, 0.9864952956677265, 0.028987225127045355, 0.053143246066249816, 0.14252052354130632, 0.0024156020939204463, 0.19083256541971524, 0.15942973819874945, 0.42514596852999853, 0.01796636351224785, 0.7466022170645218, 0.0019962626124719832, 0.20960757430955826, 0.00598878783741595, 0.00598878783741595, 0.0119775756748319, 0.04506400302545309, 0.726657048785431, 0.22532001512726543, 0.001877666792727212, 0.005568245483701764, 0.991147696098914, 0.020044370037591783, 0.0026725826716789045, 0.03474357473182576, 0.9233773130650615, 0.0026725826716789045, 0.0040088740075183565, 0.0066814566791972615, 0.005345165343357809, 0.9902896165675515, 0.9910577431919138, 0.9928529310065516, 0.9877699978300253, 0.9935538258906143, 0.006685907766082414, 0.9727995799649912, 0.020057723298247242, 0.9829485698730432, 0.14325279625863893, 0.24934377926189874, 0.01798152254292539, 0.0059938408476417964, 0.29609573787350474, 0.22836533629515246, 0.029369820153444803, 0.001798152254292539, 0.019180290712453748, 0.008990761271462694, 0.9945272161924709, 0.9883208766981042, 0.9923736341543861, 0.004531386457325964, 0.9924066365516775, 0.003422091850178198, 0.9954460817817467, 0.0036868373399323953, 0.2481797968888722, 0.030389362884351696, 0.0018758865977994874, 0.16357731132811532, 0.49504647315928474, 0.0056276597933984625, 0.05252482473838565, 0.0013131206184596412, 0.0013131206184596412, 0.9816414761154073, 0.0071133440298217915, 0.07507168224053437, 0.1644427325268848, 0.13226915442379863, 0.03574842011454017, 0.1215446283894366, 0.01429936804581607, 0.44328040942029817, 0.007149684022908035, 0.037506302090788195, 0.14120019610649673, 0.22779562887493418, 0.08328605317219143, 0.38278490663245596, 0.002757816330205014, 0.013237518384984067, 0.0011031265320820057, 0.02537191023788613, 0.08438917970427343, 0.9868148149046236, 0.9873061602055095, 0.019159256436999606, 0.97712207828698, 0.7882978419990208, 0.0017807933177688723, 0.0860716770254955, 0.06529575498485865, 0.006529575498485865, 0.038583855218325566, 0.0011871955451792481, 0.0029679888629481205, 0.008310368816254738, 0.0011871955451792481, 0.8635528614095548, 0.10601855696213841, 0.02174739629992583, 0.0036245660499876382, 0.0036245660499876382, 0.9898612956825802, 0.022820272893595762, 0.2712101663123496, 0.20450475323876202, 0.1878283999703651, 0.27208786911594945, 0.00877702803599837, 0.0021942570089995925, 0.007021622428798695, 0.0021942570089995925, 0.02106486728639609, 0.9863225833351171, 0.9809955634221668, 0.1920210744721075, 0.6516715214897149, 0.09361027380515241, 0.002400263430901344, 0.05160566376437889, 0.001200131715450672, 0.001200131715450672, 0.0060006585772533596, 0.9946763530309753, 0.006549947514786159, 0.8498556900435041, 0.10807413399397163, 0.03274973757393079, 0.3361259137510261, 0.15692625491388265, 0.10191769673976894, 0.08875613987602395, 0.05230875163796088, 0.08403147843775652, 0.13161556863744997, 0.003712233987210127, 0.0067495163403820495, 0.037797291506139474, 0.987843820459984, 0.9690514399004617, 0.018939116089259838, 0.003156519348209973, 0.006313038696419946, 0.948225226199161, 0.006001425482273171, 0.0420099783759122, 0.005695841100729206, 0.005695841100729206, 0.9796846693254234, 0.980376578568565, 0.06002487125661563, 0.9303855044775423, 0.9875352065662626, 0.0038502670390631348, 0.9895186290392257, 0.9878070361107495, 0.0713581174773085, 0.9174615104225379, 0.9738248851926985, 0.978070600537239, 0.008611640041498473, 0.24112592116195727, 0.744906863589618, 0.9894766724280535, 0.9959603838446643, 0.9868351961569712, 0.04191817129592068, 0.7997987083261666, 0.040241444444083854, 0.11737087962857791, 0.9862305079442047, 0.012810761838023621, 0.08326995194715354, 0.0016013452297529527, 0.1457224159075187, 0.3683094028431791, 0.0016013452297529527, 0.06565515441987106, 0.3202690459505905, 0.059051263376885224, 0.27601489398633994, 0.18445226088510217, 0.40075239415324354, 0.04777180857455883, 0.0066349734131331715, 0.015923936191519612, 0.0006634973413133171, 0.003980984047879903, 0.00464448138919322, 0.9844221441759585, 0.007431209486482817, 0.9883508617022146, 0.6878941121474512, 0.07744969532878161, 0.033092142549570325, 0.06055157998432017, 0.03590849510698056, 0.007744969532878161, 0.07463334277137137, 0.004224528836115361, 0.007744969532878161, 0.010561322090288401, 0.9925881731903646, 0.9791779861866218, 0.004618764085785952, 0.004618764085785952, 0.009237528171571904, 0.9831693965854179, 0.7236821381769465, 0.03281814347546618, 0.12454064703510243, 0.0008414908583452866, 0.07910014068445695, 0.01514683545021516, 0.01514683545021516, 0.00252447257503586, 0.00504894515007172, 0.0008414908583452866, 0.9954709733586057, 0.6578144303845292, 0.05766667184998235, 0.08391018718290845, 0.06906188245506868, 0.020027945911969918, 0.03522156005208503, 0.051796411841301515, 0.005524950596405495, 0.005179641184130152, 0.013812376491013738, 0.9849144330663223, 0.12996260582207114, 0.05319712880799803, 0.2754129833224202, 0.043769789525568, 0.3467914093179618, 0.08080576527797169, 0.05050360329873231, 0.0006733813773164307, 0.004713669641215015, 0.014141008923645046, 0.9932036780456174, 0.031023296201006214, 0.8235274991539832, 0.019742097582458498, 0.08460898963910786, 0.0028202996546369285, 0.039484195164916996, 0.9905661830783619, 0.01329867097805119, 0.9619372007457028, 0.017731561304068253, 0.6904179866994409, 0.3030341389585781, 0.0037488759458793167, 0.0006248126576465529, 0.0012496253152931057, 0.0006248126576465529, 0.9925296740857124, 0.9498065675275723, 0.04107271643362475, 0.9208616491902581, 0.07402424832719116, 0.0009869899776958823, 0.0019739799553917647, 0.0019739799553917647, 0.8951166631869631, 0.10009291760876585, 0.9832384521626617, 0.7985932045257055, 0.015364433017720508, 0.05788460811327261, 0.02929961645239725, 0.008218185102501666, 0.016079057809242393, 0.005002373540653189, 0.00035731239576094207, 0.06860397998610088, 0.0010719371872828262, 0.02222710588265537, 0.9557655529541809, 0.9833873932219818, 0.08280638609584513, 0.17198249419906297, 0.012739444014745405, 0.7325180308478608, 0.006385159302661692, 0.003192579651330846, 0.012770318605323384, 0.9705442140045771, 0.4188961003298728, 0.06715128325898724, 0.019186080931139212, 0.003197680155189869, 0.01438956069835441, 0.4684601427353158, 0.006395360310379738, 0.0015988400775949344, 0.9894597007244577, 0.9874518811519448, 0.9950201566112026, 0.5355118678218822, 0.15128810615595778, 0.1172682939251207, 0.00040023308506867135, 0.08404894786442098, 0.04442587244262252, 0.06203612818564406, 0.002401398510412028, 0.0008004661701373427, 0.0020011654253433565, 0.9777948123129085, 0.006308353627825216, 0.006308353627825216, 0.006308353627825216, 0.04256225628383301, 0.3033364428204292, 0.007908092934911572, 0.084224404428733, 0.03613291243431141, 0.46760617817570616, 0.04860583950238332, 0.0027646178552942894, 0.002443150662818209, 0.00437195381767469, 0.992310690529994, 0.9904255267857889, 0.01265535688747835, 0.9807901587795722, 0.9973558618786154, 0.991575158780016, 0.9994882940233655, 0.9909493527466582, 0.9933133052967479, 0.36923636551969585, 0.20701955221606377, 0.21258127152933115, 0.05808906838301491, 0.10381876051432452, 0.025336721315995864, 0.012050391845412668, 0.0015449220314631626, 0.006797656938437915, 0.00370781287551159, 0.9825870229755442, 0.9955407184648002, 0.06749347291214362, 0.11248912152023936, 0.08749153896018617, 0.03749637384007979, 0.4862029807930346, 0.018748186920039895, 0.11748863803225, 0.012498791280026596, 0.05624456076011968, 0.0037496373840079787, 0.9891665352216157, 0.9933716090156675, 0.0058674694175035, 0.0058674694175035, 0.9779115695839167, 0.0039116462783356665, 0.0019558231391678333, 0.0039116462783356665, 0.9909857117478074, 0.5661971319559349, 0.15615801443492627, 0.06117017762896793, 0.07136520723379591, 0.018400785140421247, 0.06912727390590685, 0.03157972584910133, 0.0022379333278890706, 0.0022379333278890706, 0.021882014761582025, 0.9921951238396559, 0.0183245045346933, 0.10197985132351053, 0.19041550364311732, 0.0701111477849135, 0.49237146967132434, 0.10118313373504562, 0.004780305530789557, 0.007967175884649262, 0.0055770231192544826, 0.007967175884649262, 0.9892443600033526, 0.005526504804488003, 0.9937670376735314, 0.004728104479828895, 0.9692614183649234, 0.00945620895965779, 0.014184313439486685, 0.22246537173890304, 0.2273908043235282, 0.1983854791029578, 0.10480225999507978, 0.15651930213364396, 0.04569706897957787, 0.03256258208724411, 0.0024627162923125797, 0.0019154460051320065, 0.007388148876937739, 0.6191336572581894, 0.05373012612232074, 0.13273462078244366, 0.04860455488038883, 0.008837191796434333, 0.08960912481584413, 0.027218550733017745, 0.00106046301557212, 0.014492994546152306, 0.004595339734145853, 0.9887253126817714, 0.004005226015461114, 0.09612542437106672, 0.016020904061844456, 0.8531131412932172, 0.004005226015461114, 0.028036582108227796, 0.9890031428039922, 0.09697473505568709, 0.8992202705163711, 0.11276209708077359, 0.0025627749336539453, 0.07432047307596441, 0.7688324800961835, 0.028190524270193397, 0.012813874668269727, 0.9946318035314272, 0.0025438153543003252, 0.011682814771677024, 0.03823466652548844, 0.06691066641960478, 0.36429140606229266, 0.01593111105228685, 0.016993185122439306, 0.00637244442091474, 0.056289925718080204, 0.13063511062875216, 0.2920703692919256, 0.9406665029390967, 0.015505491806688408, 0.031010983613376817, 0.005168497268896136, 0.031149872784530932, 0.020766581856353956, 0.9344961835359279, 0.017996951266848478, 0.7278766956814272, 0.12997798137168343, 0.011997967511232317, 0.03799356378556901, 0.057990176304289535, 0.011997967511232317, 0.0059989837556161585, 0.033294365250986835, 0.05327098440157893, 0.24637830285730256, 0.04661211135138157, 0.17812485409277956, 0.0016647182625493416, 0.004994154787648025, 0.13484217926649666, 0.2996492872588815, 0.9904532826388022, 0.49275468858815813, 0.1321571420543872, 0.08829063639357794, 0.07304888442668658, 0.16468527125202115, 0.022305002878377583, 0.017844002302702066, 0.0009293751199323993, 0.003717500479729597, 0.004089250527702557, 0.9824504555602025, 0.205141594100625, 0.06972509237689782, 0.07894493930276861, 0.07952117973563554, 0.010372327791604635, 0.003457442597201545, 0.009219846925870787, 0.5353273621333725, 0.00691488519440309, 0.0011524808657338483, 0.9885523464038237, 0.8397075994249842, 0.039589192032443425, 0.04931285323339444, 0.01597458625870524, 0.026392794688295616, 0.018058227944623317, 0.008334566743672299, 0.0006945472286393583, 0.0020836416859180747, 0.16967798415311788, 0.8284278049828697, 0.00357747488470522, 0.12163414607997748, 0.6886639153057549, 0.01967611186587871, 0.01967611186587871, 0.13773278306115097, 0.00894368721176305, 0.04105358738720309, 0.26452053728867975, 0.04740208028213141, 0.13077895363552325, 0.25393971579713254, 0.12823955647755192, 0.037244491650246105, 0.0025393971579713254, 0.022008108702418153, 0.07194958614252088, 0.9853359075028087, 0.008010861036608202, 0.9873207352979986, 0.9896643742137947, 0.002901213444972687, 0.0009670711483242289, 0.00435182016745903, 0.0038682845932969155, 0.8340988654296474, 0.15279724143522816, 0.00048353557416211444, 0.00048353557416211444, 0.9855841510921582, 0.9900022261664299, 0.006115252506768348, 0.04717480505221297, 0.18695200520691804, 0.2585878202862044, 0.04717480505221297, 0.1292939101431022, 0.10308568511409501, 0.007862467508702162, 0.013104112514503602, 0.20005611772142165, 0.9742990824739576, 0.0016598404605974433, 0.0016598404605974433, 0.8481784753652934, 0.07137313980569006, 0.07137313980569006, 0.0033196809211948866, 0.9838970074406811, 0.015270481868133734, 0.012216385494506987, 0.7230573164561324, 0.025959819175827348, 0.003054096373626747, 0.165684728269251, 0.003054096373626747, 0.05115611425824801, 0.9939707706440307, 0.9966407154432139, 0.9890755878379651, 0.9944511730823618, 0.9798512181208373, 0.9936184651249853, 0.9901485771176166, 0.026667329795270374, 0.0033334162244087967, 0.1733376436692574, 0.07000174071258473, 0.04333441091731435, 0.5400134283542251, 0.12666981652753426, 0.0033334162244087967, 0.01000024867322639, 0.9929006528666803, 0.08526831581081647, 0.16823208254566493, 0.4274938535920664, 0.00921819630387205, 0.22296512309990524, 0.035720510677504196, 0.02016480441472011, 0.0034568236139520194, 0.0034568236139520194, 0.024197765297664136, 0.002045317289784081, 0.008181269159136324, 0.05011027359970998, 0.9193701217579443, 0.007158610514244283, 0.006135951869352242, 0.0010226586448920405, 0.002045317289784081, 0.002045317289784081, 0.002045317289784081, 0.02258084047372503, 0.01693563035529377, 0.956863115074098, 0.9888298485335228, 0.029867634426351364, 0.020907344098445954, 0.06869555918060814, 0.8736283069707774, 0.0014933817213175682, 0.004480145163952704, 0.9860066648743808, 0.00421795137256814, 0.14341034666731675, 0.02892309512618153, 0.11448725154113523, 0.043987207171067744, 0.6061798686862213, 0.0006025644817954486, 0.013256418599499869, 0.010243596190522626, 0.03494873994413602, 0.04907828129979249, 0.05889393755975099, 0.888316891526244, 0.0181950155668613, 0.0012130010377907532, 0.9327977980610892, 0.0012130010377907532, 0.023047019718024312, 0.0012130010377907532, 0.020621017642442806, 0.0012130010377907532, 0.9889671800304899, 0.9826596767178799, 0.9922118810268886, 0.004109566187510958, 0.11506785325030683, 0.0780817575627082, 0.04520522806262054, 0.008219132375021917, 0.004109566187510958, 0.7438314799394834, 0.3102479458326539, 0.0026745512571780513, 0.040118268857670766, 0.045467371372026874, 0.040118268857670766, 0.5536321102358566, 0.008023653771534153, 0.2878041987122934, 0.24602036010074646, 0.07132069004384743, 0.05403082579079351, 0.06555740195949612, 0.16029144984602076, 0.040343016590459156, 0.0003602055052719567, 0.0021612330316317404, 0.07204110105439135, 0.9924755239505504, 0.3718397160252944, 0.13269906342588336, 0.13580478618691466, 0.15161573842489226, 0.15048638469360814, 0.028516181714923868, 0.010164183581557023, 0.0005646768656420568, 0.006211445522062625, 0.011858214178483192, 0.9848527166341109, 0.9884198010014206, 0.0034949904501348265, 0.16706054351644473, 0.13001364474501556, 0.12162566766469196, 0.4333788158167185, 0.016076956070620204, 0.0887727574334246, 0.0055919847202157225, 0.004892986630188757, 0.02865892169110558, 0.007749466605020829, 0.09299359926024994, 0.05812099953765622, 0.8369423933422495, 0.0038747333025104143, 0.007273402218929895, 0.9891827017744658, 0.9935111232871346, 0.9863464538814628, 0.9908402416554615, 0.0880229101815844, 0.2008160865449212, 0.03848237781807961, 0.28574271345378655, 0.27910782072653145, 0.024327939999935388, 0.024327939999935388, 0.000884652363634014, 0.00442326181817007, 0.05396379418167486, 0.9926859304599117, 0.011999207868010623, 0.9359382137048285, 0.019998679780017705, 0.015998943824014164, 0.011999207868010623, 0.003999735956003541, 0.9353967184831297, 0.0018486101155793075, 0.048063863005062, 0.009859253949756307, 0.0006162033718597692, 0.0024648134874390767, 0.0006162033718597692, 0.0006162033718597692, 0.8616696219152535, 0.006079772829421289, 0.09340741892474526, 0.0011054132417129617, 0.0038689463459953654, 0.0005527066208564808, 0.015475785383981462, 0.016581198625694425, 0.19327157518152127, 0.804640843612864, 0.9925189453365881], \"Term\": [\"\", \"\", \"\", \"\", \"\", \"\", \"\", \"\", \"\", \"\", \"120\", \"17\", \"17\", \"20th\", \"20th\", \"27\", \"35\", \"35\", \"4oceanbracelets\", \"4th\", \"91\", \"act\", \"act\", \"act\", \"act\", \"act\", \"act\", \"act\", \"act\", \"act\", \"act\", \"actonclim\", \"actonclim\", \"actonclim\", \"actonclim\", \"actonclim\", \"actonclim\", \"actonclim\", \"actonclim\", \"actonclim\", \"actonclim\", \"adam\", \"adapt\", \"adapt\", \"adapt\", \"adapt\", \"adapt\", \"addit\", \"addit\", \"addit\", \"admit\", \"ai\", \"ai\", \"air\", \"air\", \"air\", \"air\", \"air\", \"air\", \"air\", \"air\", \"air\", \"airq\", \"al\", \"al\", \"al\", \"al\", \"al\", \"al\", \"al\", \"al\", \"al\", \"alask\", \"alask\", \"alask\", \"alask\", \"albuquerqu\", \"alg\", \"allarecal\", \"alongsid\", \"alrok\", \"altern\", \"altern\", \"amaz\", \"amaz\", \"amaz\", \"amaz\", \"amaz\", \"amaz\", \"amaz\", \"amaz\", \"amaz\", \"amb\", \"americanforest\", \"amp\", \"amp\", \"amp\", \"amp\", \"amp\", \"amp\", \"amp\", \"amp\", \"amp\", \"amp\", \"anim\", \"anim\", \"anim\", \"anim\", \"anim\", \"anim\", \"anim\", \"anim\", \"aoc\", \"aoc\", \"aoc\", \"aoc\", \"aoc\", \"aoc\", \"aoc\", \"aoc\", \"aoc\", \"aoc\", \"app\", \"app\", \"apprecy\", \"apprecy\", \"april\", \"april\", \"april\", \"april\", \"architect\", \"architect\", \"arct\", \"arct\", \"art\", \"art\", \"art\", \"art\", \"art\", \"art\", \"art\", \"art\", \"art\", \"asset\", \"au\", \"au\", \"auspol\", \"aust\", \"austral\", \"austral\", \"austral\", \"austral\", \"austral\", \"austral\", \"austral\", \"australiafir\", \"bag\", \"bamboo\", \"ban\", \"ban\", \"ban\", \"ban\", \"bay\", \"bc\", \"bc\", \"bc\", \"bc\", \"bc\", \"bc\", \"beach\", \"beach\", \"beach\", \"beach\", \"beach\", \"beach\", \"bean\", \"bed\", \"bee\", \"being\", \"believ\", \"believ\", \"believ\", \"believ\", \"believ\", \"believ\", \"believ\", \"believ\", \"believ\", \"believ\", \"benefit\", \"benefit\", \"benefit\", \"benefit\", \"benefit\", \"bernie2020\", \"bernie2020\", \"bernie2020\", \"berniesand\", \"berniesand\", \"berniesand\", \"berniesand\", \"berniesand\", \"berniesand\", \"berny\", \"berny\", \"berny\", \"berny\", \"berny\", \"bethechang\", \"bethechang\", \"bhfyp\", \"bhfyp\", \"bil\", \"bil\", \"bil\", \"bil\", \"bil\", \"bil\", \"bil\", \"bil\", \"bio\", \"bipart\", \"bir\", \"bird\", \"bird\", \"bitch\", \"blast\", \"blind\", \"blog\", \"blog\", \"blogpost\", \"boom\", \"boom\", \"boom\", \"bord\", \"bord\", \"bot\", \"branch\", \"bravo\", \"breakfast\", \"buddy\", \"burg\", \"bus\", \"bus\", \"bush\", \"bushfir\", \"bushfir\", \"bushfiresnsw\", \"bushfiresnsw\", \"cancel\", \"capitol\", \"capitol\", \"capitol\", \"capitol\", \"car\", \"car\", \"car\", \"car\", \"car\", \"car\", \"car\", \"car\", \"car\", \"car\", \"carbonfootprint\", \"cbsnews\", \"cbsthismorning\", \"cbsthismorning\", \"celebr\", \"celebr\", \"celebr\", \"celebr\", \"celebr\", \"celebr\", \"celebr\", \"celebr\", \"cert\", \"chamb\", \"chamb\", \"chamb\", \"chang\", \"chang\", \"chang\", \"chang\", \"chang\", \"chang\", \"chang\", \"chang\", \"chang\", \"chang\", \"charlot\", \"che\", \"che\", \"chevron\", \"chick\", \"circulareconom\", \"cleanup\", \"cleanw\", \"cli\", \"clim\", \"clim\", \"clim\", \"clim\", \"clim\", \"clim\", \"clim\", \"clim\", \"clim\", \"clim\", \"climat\", \"climateact\", \"climateact\", \"climateact\", \"climateact\", \"climateact\", \"climateact\", \"climateact\", \"climateact\", \"climateact\", \"climateact\", \"climateactionnow\", \"climateactionnow\", \"climateactionnow\", \"climateactionnow\", \"climateactionnow\", \"climateactionnow\", \"climateactionnow\", \"climateactionnow\", \"climateactionnow\", \"climateactionnow\", \"climatebreakdown\", \"climatecatastroph\", \"climatechang\", \"climatechang\", \"climatechang\", \"climatechang\", \"climatechang\", \"climatechang\", \"climatechang\", \"climatechang\", \"climatechang\", \"climatechang\", \"climatechangeisr\", \"climatechangeisr\", \"climatechangeisr\", \"climatechangeisr\", \"climatechangeisr\", \"climatechangeisr\", \"climatechangeisr\", \"climatechangeisr\", \"climatechangeisr\", \"climatechangeisr\", \"climatecris\", \"climatecris\", \"climatecris\", \"climatecris\", \"climatecris\", \"climatecris\", \"climatecris\", \"climatecris\", \"climatecris\", \"climatecris\", \"climatedeb\", \"climatedeb\", \"climatedeb\", \"climatedeb\", \"climatedisrupt\", \"climateemerg\", \"climateemerg\", \"climateemerg\", \"climateemerg\", \"climateemerg\", \"climateemerg\", \"climateemerg\", \"climateemerg\", \"climateemerg\", \"climateemerg\", \"climatejust\", \"climatejust\", \"climatejust\", \"climatejust\", \"climatejust\", \"climatejust\", \"climatejust\", \"climatejust\", \"climatejust\", \"climatestrik\", \"climatestrik\", \"climatestrik\", \"climatestrik\", \"climatestrik\", \"climatestrik\", \"climatestrik\", \"climatestrik\", \"climatestrik\", \"climatestrik\", \"climatestrikedc\", \"cloth\", \"cloud\", \"cmpsharebtntw\", \"coal\", \"coal\", \"coal\", \"coal\", \"coal\", \"coal\", \"cod\", \"cold\", \"cold\", \"cold\", \"cold\", \"cold\", \"com\", \"com\", \"com\", \"com\", \"com\", \"com\", \"com\", \"com\", \"com\", \"com\", \"commun\", \"commun\", \"commun\", \"commun\", \"commun\", \"commun\", \"commun\", \"commun\", \"commun\", \"commun\", \"con\", \"congr\", \"congress\", \"congress\", \"congress\", \"congress\", \"congress\", \"congress\", \"congress\", \"congress\", \"congress\", \"construct\", \"contest\", \"contest\", \"cotton\", \"cre\", \"cre\", \"cre\", \"cre\", \"cre\", \"cre\", \"cre\", \"cre\", \"cre\", \"cre\", \"cris\", \"cris\", \"cris\", \"cris\", \"cris\", \"cris\", \"cris\", \"cris\", \"cry\", \"csr\", \"cup\", \"cup\", \"darrellclark\", \"daught\", \"daught\", \"daught\", \"day\", \"day\", \"day\", \"day\", \"day\", \"day\", \"day\", \"day\", \"day\", \"day\", \"dc\", \"dc\", \"dc\", \"dc\", \"dc\", \"dc\", \"dc\", \"de\", \"de\", \"deal\", \"deal\", \"deal\", \"deal\", \"deal\", \"deal\", \"deal\", \"dec\", \"dec\", \"dec\", \"dec\", \"decemb\", \"ded\", \"ded\", \"ded\", \"ded\", \"ded\", \"ded\", \"deforest\", \"deforest\", \"deforest\", \"degr\", \"degr\", \"degr\", \"degr\", \"degr\", \"degr\", \"degr\", \"del\", \"del\", \"del\", \"del\", \"del\", \"del\", \"del\", \"del\", \"deleg\", \"democr\", \"democr\", \"democr\", \"democr\", \"democr\", \"democr\", \"democr\", \"democr\", \"democr\", \"der\", \"derangeddonald\", \"design\", \"design\", \"design\", \"design\", \"design\", \"design\", \"design\", \"destroy\", \"destroy\", \"destroy\", \"destroy\", \"destroy\", \"destroy\", \"destroy\", \"destroy\", \"dioxid\", \"dirty\", \"disciplin\", \"disclos\", \"discuss\", \"discuss\", \"discuss\", \"discuss\", \"discuss\", \"discuss\", \"discuss\", \"discuss\", \"discuss\", \"discuss\", \"dispos\", \"distract\", \"distract\", \"distract\", \"divest\", \"divest\", \"dnc\", \"dnc\", \"dnc\", \"dnc\", \"doll\", \"dougla\", \"dress\", \"dress\", \"drink\", \"drink\", \"drink\", \"drink\", \"du\", \"due\", \"due\", \"due\", \"due\", \"due\", \"due\", \"due\", \"due\", \"e\", \"ear\", \"ear\", \"ear\", \"ear\", \"ear\", \"ear\", \"ear\", \"ear\", \"ear\", \"earthday\", \"earthday\", \"earthday\", \"earthday\", \"earthday2019\", \"earthr\", \"ecofriend\", \"ecofriend\", \"econom\", \"econom\", \"econom\", \"econom\", \"econom\", \"econom\", \"econom\", \"econom\", \"econom\", \"ed\", \"efficy\", \"efficy\", \"efficy\", \"efficy\", \"efficy\", \"efficy\", \"eg\", \"eib\", \"el\", \"el\", \"elect\", \"elect\", \"elect\", \"elect\", \"elect\", \"elect\", \"elect\", \"elect\", \"elect\", \"elect\", \"electricc\", \"embassy\", \"emerg\", \"emerg\", \"emerg\", \"emerg\", \"emerg\", \"emerg\", \"emerg\", \"emerg\", \"emit\", \"emit\", \"emit\", \"emit\", \"emit\", \"emit\", \"emit\", \"emit\", \"emit\", \"en\", \"endangeredspecy\", \"energy\", \"energy\", \"energy\", \"energy\", \"energy\", \"energy\", \"energy\", \"energy\", \"energy\", \"energy\", \"ent\", \"ent\", \"ent\", \"ent\", \"ent\", \"entrepr\", \"environ\", \"environ\", \"environ\", \"environ\", \"environ\", \"environ\", \"environ\", \"environ\", \"environ\", \"environ\", \"episod\", \"episod\", \"equip\", \"er\", \"er\", \"er\", \"er\", \"er\", \"esg\", \"esg\", \"esg\", \"espec\", \"espec\", \"espec\", \"espec\", \"espec\", \"espec\", \"espec\", \"espec\", \"est\", \"est\", \"est\", \"ev\", \"ev\", \"ev\", \"ev\", \"ev\", \"ev\", \"ev\", \"ev\", \"ev\", \"ev\", \"evangel\", \"exact\", \"exact\", \"excel\", \"excel\", \"excel\", \"excel\", \"excel\", \"excess\", \"exerc\", \"explain\", \"explain\", \"explain\", \"explain\", \"explain\", \"explain\", \"explain\", \"extinct\", \"extinct\", \"extinct\", \"extinct\", \"extinct\", \"extinct\", \"extinct\", \"extinct\", \"extinctionrebel\", \"extinctionrebel\", \"extinctionrebel\", \"extinctionrebel\", \"extinctionrebel\", \"extinctionrebel\", \"extrem\", \"extrem\", \"extrem\", \"extrem\", \"extrem\", \"extrem\", \"extrem\", \"extrem\", \"extrem\", \"extrem\", \"factsmat\", \"fai\", \"fai\", \"fakenew\", \"fantasticbeast\", \"farm\", \"farm\", \"farm\", \"farm\", \"farm\", \"farm\", \"farm\", \"farm\", \"farm\", \"fash\", \"fash\", \"fear\", \"fear\", \"fer\", \"filt\", \"fir\", \"fir\", \"fir\", \"fir\", \"fir\", \"fir\", \"fir\", \"fir\", \"fir\", \"fir\", \"firedrillfriday\", \"firedrillfriday\", \"firedrillfriday\", \"firedrillfriday\", \"firedrillfriday\", \"firedrillfriday\", \"firefight\", \"firefight\", \"fish\", \"fish\", \"flood\", \"flood\", \"flood\", \"flood\", \"flood\", \"flood\", \"flood\", \"food\", \"food\", \"food\", \"food\", \"food\", \"food\", \"food\", \"food\", \"food\", \"foodwast\", \"foodwast\", \"footprint\", \"footprint\", \"forecast\", \"forest\", \"forest\", \"forest\", \"forest\", \"forest\", \"forest\", \"forest\", \"forest\", \"fossil\", \"fossil\", \"fossil\", \"fossil\", \"fossil\", \"fossil\", \"fossil\", \"fresh\", \"fresh\", \"friday\", \"friday\", \"friday\", \"friday\", \"friday\", \"friday\", \"friday\", \"friday\", \"fridayforfut\", \"fridayforfut\", \"fridayforfut\", \"fridayforfut\", \"fridaysforfut\", \"fridaysforfut\", \"fridaysforfut\", \"fridaysforfut\", \"fridaysforfut\", \"fridaysforfut\", \"fridaysforfut\", \"fridaysforfut\", \"fridaysforfut\", \"fridaysforfut\", \"fuel\", \"fuel\", \"fuel\", \"fuel\", \"fuel\", \"fuel\", \"fuel\", \"fuel\", \"fut\", \"fut\", \"fut\", \"fut\", \"fut\", \"fut\", \"fut\", \"fut\", \"fut\", \"fut\", \"gam\", \"gam\", \"gend\", \"geograph\", \"georg\", \"georg\", \"get\", \"get\", \"get\", \"get\", \"get\", \"get\", \"get\", \"get\", \"get\", \"get\", \"glacy\", \"glacy\", \"glacy\", \"glass\", \"glob\", \"glob\", \"glob\", \"glob\", \"glob\", \"glob\", \"glob\", \"glob\", \"glob\", \"glob\", \"globalcit\", \"globalgo\", \"globalgo\", \"globalgo\", \"globalwarm\", \"globalwarm\", \"globalwarm\", \"globalwarm\", \"globalwarm\", \"globalwarm\", \"globalwarm\", \"globalwarm\", \"globalwarm\", \"gogreen\", \"gogreen\", \"gogreen\", \"govern\", \"govern\", \"govern\", \"govern\", \"govern\", \"govern\", \"govern\", \"govern\", \"govern\", \"govern\", \"grand\", \"gre\", \"gre\", \"gre\", \"gre\", \"gre\", \"gre\", \"gre\", \"gre\", \"gre\", \"gre\", \"green\", \"green\", \"green\", \"green\", \"green\", \"green\", \"green\", \"green\", \"green\", \"green\", \"greenbuild\", \"greenenergy\", \"greenenergy\", \"greenjob\", \"greenl\", \"greennewd\", \"greennewd\", \"greennewd\", \"greennewd\", \"greennewd\", \"greennewd\", \"greennewd\", \"greennewd\", \"greennewd\", \"greennewd\", \"gretathunberg\", \"gretathunberg\", \"gretathunberg\", \"gretathunberg\", \"gretathunberg\", \"gretathunberg\", \"gretathunberg\", \"gretathunberg\", \"gretathunberg\", \"gretathunberg\", \"gt\", \"gt\", \"gt\", \"gun\", \"gun\", \"guy\", \"guy\", \"guy\", \"guy\", \"guy\", \"guy\", \"hal\", \"hal\", \"hal\", \"hal\", \"hal\", \"hal\", \"hal\", \"hal\", \"handmad\", \"happy\", \"happy\", \"happy\", \"happy\", \"happy\", \"happy\", \"happy\", \"happy\", \"happy\", \"happyearthday\", \"harvest\", \"heal\", \"heal\", \"heal\", \"heal\", \"heal\", \"heal\", \"heal\", \"heal\", \"heal\", \"healthc\", \"healthc\", \"healthc\", \"healthc\", \"healthc\", \"healthc\", \"healthc\", \"heat\", \"heat\", \"heat\", \"heat\", \"heat\", \"heat\", \"heat\", \"help\", \"help\", \"help\", \"help\", \"help\", \"help\", \"help\", \"help\", \"help\", \"help\", \"herit\", \"hey\", \"hey\", \"hey\", \"hey\", \"hey\", \"hey\", \"hey\", \"hey\", \"hil\", \"hil\", \"hil\", \"hil\", \"hil\", \"hil\", \"hil\", \"hil\", \"homestead\", \"honeyb\", \"hot\", \"hot\", \"hot\", \"hot\", \"hot\", \"hot\", \"hot\", \"hot\", \"hous\", \"hous\", \"hous\", \"hous\", \"hous\", \"hous\", \"hous\", \"hous\", \"hous\", \"hous\", \"hq\", \"http\", \"http\", \"http\", \"http\", \"http\", \"http\", \"http\", \"http\", \"http\", \"http\", \"hum\", \"hum\", \"hum\", \"hum\", \"hum\", \"hum\", \"hum\", \"hum\", \"hum\", \"hum\", \"hurt\", \"ide\", \"ide\", \"ide\", \"ide\", \"ide\", \"ide\", \"ide\", \"ide\", \"ide\", \"idl\", \"idl\", \"ign\", \"ign\", \"ign\", \"ign\", \"ign\", \"igshid1nb987ukhtqr7\", \"il\", \"il\", \"impact\", \"impact\", \"impact\", \"impact\", \"impact\", \"impact\", \"impact\", \"impact\", \"impact\", \"impend\", \"increas\", \"increas\", \"increas\", \"increas\", \"increas\", \"increas\", \"increas\", \"increas\", \"increas\", \"ingredy\", \"innov\", \"innov\", \"innov\", \"innov\", \"innov\", \"innov\", \"innov\", \"innov\", \"innov\", \"inspir\", \"inspir\", \"inspir\", \"inspir\", \"inspir\", \"inspir\", \"inspir\", \"inspir\", \"intellig\", \"intellig\", \"interact\", \"invas\", \"invest\", \"invest\", \"invest\", \"invest\", \"invest\", \"invest\", \"invest\", \"invest\", \"invest\", \"iow\", \"iow\", \"ipb\", \"israel\", \"issu\", \"issu\", \"issu\", \"issu\", \"issu\", \"issu\", \"issu\", \"issu\", \"issu\", \"issu\", \"jamiemargolin\", \"janefond\", \"janefond\", \"janefond\", \"janefond\", \"janefond\", \"jar\", \"jfk\", \"joebid\", \"joebid\", \"joebid\", \"joebid\", \"joebid\", \"joebid\", \"john\", \"john\", \"john\", \"john\", \"join\", \"join\", \"join\", \"join\", \"join\", \"join\", \"join\", \"join\", \"kellytalkstrashcom\", \"khayho\", \"know\", \"know\", \"know\", \"know\", \"know\", \"know\", \"know\", \"know\", \"know\", \"know\", \"koal\", \"koal\", \"la\", \"landarch\", \"landarch\", \"landfil\", \"landfil\", \"landscapearchitect\", \"landscapearchitect\", \"law\", \"law\", \"law\", \"law\", \"lcvoters\", \"le\", \"le\", \"le\", \"le\", \"le\", \"le\", \"le\", \"le\", \"le\", \"lead\", \"lead\", \"lead\", \"lead\", \"lead\", \"lead\", \"lead\", \"lead\", \"lead\", \"lead\", \"lee\", \"level\", \"level\", \"level\", \"level\", \"level\", \"level\", \"level\", \"lgbtq\", \"lgbtq\", \"lgbtq\", \"lik\", \"lik\", \"lik\", \"lik\", \"lik\", \"lik\", \"lik\", \"lik\", \"lik\", \"lik\", \"london\", \"look\", \"look\", \"look\", \"look\", \"look\", \"look\", \"look\", \"look\", \"look\", \"look\", \"los\", \"los\", \"los\", \"los\", \"los\", \"los\", \"lov\", \"lov\", \"lov\", \"lov\", \"lov\", \"lov\", \"lov\", \"lov\", \"lov\", \"lov\", \"machin\", \"maintain\", \"mak\", \"mak\", \"mak\", \"mak\", \"mak\", \"mak\", \"mak\", \"mak\", \"mak\", \"mak\", \"makeadiff\", \"many\", \"many\", \"many\", \"many\", \"many\", \"many\", \"many\", \"many\", \"many\", \"many\", \"map\", \"march\", \"march\", \"march\", \"march\", \"march\", \"march\", \"march\", \"march\", \"march\", \"march\", \"margin\", \"maryland\", \"maryland\", \"maryland\", \"maryland\", \"maryland\", \"mask\", \"math\", \"md\", \"md\", \"meatless\", \"medicareforal\", \"medicareforal\", \"medicareforal\", \"medicareforal\", \"medicareforal\", \"mentalheal\", \"mexico\", \"mexico\", \"mexico\", \"minim\", \"minim\", \"minim\", \"minim\", \"mitch\", \"modern\", \"modern\", \"modern\", \"momsapprov\", \"morn\", \"morn\", \"morn\", \"morn\", \"morn\", \"morn\", \"morn\", \"morn\", \"morn\", \"morn\", \"morrison\", \"mou\", \"muellerreport\", \"must\", \"must\", \"must\", \"must\", \"must\", \"must\", \"must\", \"must\", \"must\", \"must\", \"nail\", \"nat\", \"nat\", \"nat\", \"nat\", \"nat\", \"nat\", \"nat\", \"nat\", \"nat\", \"nat\", \"naturelov\", \"nc\", \"ne\", \"nee\", \"nee\", \"nee\", \"nee\", \"nee\", \"nee\", \"nee\", \"nee\", \"nee\", \"nee\", \"neu\", \"nev\", \"nev\", \"nev\", \"nev\", \"nev\", \"nev\", \"nev\", \"nev\", \"nev\", \"nev\", \"new\", \"new\", \"new\", \"new\", \"new\", \"new\", \"new\", \"new\", \"new\", \"new\", \"newpost\", \"nmnh\", \"noplanetb\", \"noplanetb\", \"noplanetb\", \"noplast\", \"nou\", \"nsw\", \"nsw\", \"nt\", \"nt\", \"nt\", \"nt\", \"nt\", \"nt\", \"nt\", \"nt\", \"nt\", \"nt\", \"nuclear\", \"nuclear\", \"nuclear\", \"nuclear\", \"nuclear\", \"nut\", \"nut\", \"nut\", \"nye\", \"omg\", \"omg\", \"on\", \"on\", \"on\", \"on\", \"on\", \"on\", \"on\", \"on\", \"on\", \"on\", \"oneplanetonehom\", \"orang\", \"origin\", \"ourdailyplanet\", \"ourdailyplanet\", \"outdo\", \"outdo\", \"outdo\", \"own\", \"pa\", \"pa\", \"pa\", \"pa\", \"pa\", \"pa\", \"pa\", \"pac\", \"pac\", \"pac\", \"pac\", \"pac\", \"pack\", \"pack\", \"par\", \"par\", \"par\", \"par\", \"par\", \"par\", \"par\", \"par\", \"parlia\", \"parlia\", \"pat\", \"pennst\", \"pennst\", \"peopl\", \"peopl\", \"peopl\", \"peopl\", \"peopl\", \"peopl\", \"peopl\", \"peopl\", \"peopl\", \"peopl\", \"pesticid\", \"petit\", \"petit\", \"petit\", \"phenom\", \"philadelph\", \"philadelph\", \"philadelph\", \"philadelph\", \"philadelph\", \"philadelph\", \"philadelph\", \"photooftheday\", \"pipelin\", \"pittsburgh\", \"pittsburgh\", \"plan\", \"plan\", \"plan\", \"plan\", \"plan\", \"plan\", \"plan\", \"plan\", \"plan\", \"plan\", \"planet\", \"planet\", \"planet\", \"planet\", \"planet\", \"planet\", \"planet\", \"planet\", \"planet\", \"planet\", \"planetarypoem\", \"plant\", \"plant\", \"plant\", \"plant\", \"plant\", \"plant\", \"plant\", \"plast\", \"plast\", \"plast\", \"plast\", \"plast\", \"plast\", \"plast\", \"plast\", \"plasticfr\", \"plasticfr\", \"plasticpollut\", \"plasticpollut\", \"plasticpollut\", \"plasticpollut\", \"plug\", \"pocket\", \"podcast\", \"podcast\", \"polit\", \"polit\", \"polit\", \"polit\", \"polit\", \"polit\", \"polit\", \"polit\", \"polit\", \"polit\", \"por\", \"pour\", \"pour\", \"pra\", \"priorit\", \"priorit\", \"priz\", \"pro\", \"problem\", \"problem\", \"problem\", \"problem\", \"problem\", \"problem\", \"problem\", \"problem\", \"problem\", \"problem\", \"prof\", \"prop\", \"prop\", \"prop\", \"protest\", \"protest\", \"protest\", \"protest\", \"protest\", \"protest\", \"protest\", \"protest\", \"proud\", \"proud\", \"proud\", \"proud\", \"proud\", \"proud\", \"proud\", \"proud\", \"purchas\", \"purchas\", \"purpos\", \"qu\", \"que\", \"qui\", \"quot\", \"quot\", \"rag\", \"rail\", \"rainbow\", \"rang\", \"read\", \"read\", \"read\", \"read\", \"read\", \"read\", \"read\", \"read\", \"read\", \"real\", \"real\", \"real\", \"real\", \"real\", \"real\", \"real\", \"real\", \"real\", \"real\", \"realdonaldtrump\", \"realdonaldtrump\", \"realdonaldtrump\", \"realdonaldtrump\", \"realdonaldtrump\", \"realdonaldtrump\", \"realdonaldtrump\", \"realdonaldtrump\", \"realest\", \"realm\", \"rebel\", \"rebelforl\", \"recyc\", \"recyc\", \"recyc\", \"recyc\", \"recyc\", \"recyc\", \"reef\", \"reef\", \"refil\", \"refug\", \"rely\", \"rely\", \"renew\", \"renew\", \"renew\", \"renew\", \"renew\", \"renew\", \"renew\", \"renew\", \"renewableenergy\", \"renewableenergy\", \"renewableenergy\", \"renewableenergy\", \"renewableenergy\", \"renewableenergy\", \"report\", \"report\", \"report\", \"report\", \"report\", \"report\", \"report\", \"report\", \"resist\", \"resist\", \"resist\", \"resort\", \"rest\", \"rest\", \"rest\", \"rest\", \"rest\", \"rest\", \"rest\", \"resy\", \"resy\", \"resy\", \"resy\", \"resy\", \"resy\", \"resy\", \"reus\", \"reus\", \"reus\", \"reus\", \"richmond\", \"richmond\", \"ris\", \"ris\", \"ris\", \"ris\", \"ris\", \"ris\", \"ris\", \"ris\", \"risingfromthewreck\", \"roof\", \"row\", \"roy\", \"s\", \"sal\", \"sal\", \"sal\", \"saturdaythought\", \"sav\", \"sav\", \"sav\", \"sav\", \"sav\", \"sav\", \"sav\", \"sav\", \"sav\", \"sav\", \"saveear\", \"saveouroc\", \"savetheamazon\", \"savetheamazon\", \"savetheb\", \"savetheb\", \"savetheear\", \"savetheear\", \"savetheplanet\", \"savetheplanet\", \"savetheplanet\", \"savetheplanet\", \"savetheplanet\", \"savetheplanet\", \"savetheplanet\", \"savetheplanet\", \"savetheplanet\", \"savetheworld\", \"savetheworld\", \"saw\", \"saw\", \"saw\", \"saw\", \"saw\", \"saw\", \"saw\", \"saw\", \"say\", \"say\", \"say\", \"say\", \"say\", \"say\", \"say\", \"say\", \"say\", \"say\", \"saynotoplast\", \"sc\", \"scary\", \"scary\", \"school\", \"school\", \"school\", \"school\", \"school\", \"school\", \"school\", \"school\", \"school\", \"school\", \"schoolstrike4climate\", \"schoolstrike4climate\", \"schoolstrike4climate\", \"schoolstrike4climate\", \"schoolstrike4climate\", \"schoolstrikeforclimate\", \"sci\", \"sci\", \"sci\", \"sci\", \"sci\", \"sci\", \"sci\", \"sci\", \"sci\", \"sci\", \"scottmorrison\", \"sculpt\", \"sdgs\", \"sdgs\", \"sdgs\", \"sdgs\", \"sdgs\", \"sdgs\", \"sdgs\", \"sdgs\", \"se\", \"sea\", \"sea\", \"sea\", \"sea\", \"see\", \"see\", \"see\", \"see\", \"see\", \"see\", \"see\", \"see\", \"see\", \"see\", \"sel\", \"sept\", \"sept\", \"sept\", \"sept\", \"septemb\", \"septemb\", \"septemb\", \"sess\", \"sess\", \"sess\", \"sharp\", \"shel\", \"shel\", \"ship\", \"shop\", \"shop\", \"shor\", \"si\", \"si\", \"sick\", \"sierraclubmd\", \"sky\", \"sky\", \"sky\", \"sleep\", \"slowfash\", \"smh\", \"smok\", \"smok\", \"smok\", \"smok\", \"soap\", \"sol\", \"sol\", \"sol\", \"sol\", \"sol\", \"sol\", \"sol\", \"sol\", \"solv\", \"solv\", \"solv\", \"solv\", \"solv\", \"solv\", \"solv\", \"solv\", \"solv\", \"solv\", \"sometim\", \"son\", \"son\", \"speak\", \"speak\", \"speak\", \"speak\", \"speak\", \"speak\", \"speak\", \"speak\", \"speak\", \"speak\", \"sport\", \"staff\", \"staff\", \"staff\", \"staff\", \"stakehold\", \"stand\", \"stand\", \"stand\", \"stand\", \"stand\", \"stand\", \"stand\", \"stand\", \"stand\", \"stand\", \"starbuck\", \"stat\", \"stat\", \"stat\", \"stat\", \"stat\", \"stat\", \"stat\", \"stat\", \"stat\", \"stat\", \"stev\", \"stop\", \"stop\", \"stop\", \"stop\", \"stop\", \"stop\", \"stop\", \"stop\", \"stop\", \"stop\", \"stopadan\", \"storm\", \"storm\", \"storm\", \"storm\", \"storm\", \"storm\", \"strategic\", \"straw\", \"straw\", \"straw\", \"strike\", \"strike\", \"strike\", \"strike\", \"strike\", \"strike\", \"strike4climate\", \"striker\", \"striker\", \"strikewithus\", \"strikewithus\", \"strikewithus\", \"strikewithus\", \"strikewithus\", \"striking\", \"striking\", \"strongertogether\", \"stud\", \"stud\", \"stud\", \"stud\", \"stud\", \"stud\", \"stud\", \"stud\", \"stud\", \"stud\", \"stupid\", \"stupid\", \"suburb\", \"suck\", \"suck\", \"suck\", \"suck\", \"sun\", \"sun\", \"sun\", \"sun\", \"sunrisemvmt\", \"sunrisemvmt\", \"sunrisemvmt\", \"sunrisemvmt\", \"sunrisemvmt\", \"sunrisemvmt\", \"sunrisemvmt\", \"sunrisemvmt\", \"sunset\", \"sunshin\", \"supplychain\", \"support\", \"support\", \"support\", \"support\", \"support\", \"support\", \"support\", \"support\", \"support\", \"support\", \"suprem\", \"suprem\", \"suprem\", \"suprem\", \"sustain\", \"sustain\", \"sustain\", \"sustain\", \"sustain\", \"sustain\", \"sustain\", \"sustain\", \"sustain\", \"sustain\", \"sustainabilitynowsummitcom\", \"sustainablebusy\", \"sustainablefash\", \"sustainablefash\", \"sustainablel\", \"swim\", \"sydney\", \"symbol\", \"sympos\", \"tak\", \"tak\", \"tak\", \"tak\", \"tak\", \"tak\", \"tak\", \"tak\", \"tak\", \"tak\", \"tbt\", \"tech\", \"tel\", \"tel\", \"tel\", \"tel\", \"tel\", \"tel\", \"tel\", \"tel\", \"tel\", \"tel\", \"telesummit\", \"tellthetru\", \"temp\", \"temp\", \"temp\", \"temp\", \"temp\", \"temp\", \"terrac\", \"thank\", \"thank\", \"thank\", \"thank\", \"thank\", \"thank\", \"thank\", \"thank\", \"thank\", \"thank\", \"theresist\", \"thing\", \"thing\", \"thing\", \"thing\", \"thing\", \"thing\", \"thing\", \"thing\", \"thing\", \"thing\", \"thisiszeroho\", \"thisiszeroho\", \"threatened\", \"tid\", \"tid\", \"tid\", \"tid\", \"tim\", \"tim\", \"tim\", \"tim\", \"tim\", \"tim\", \"tim\", \"tim\", \"tim\", \"tim\", \"today\", \"today\", \"today\", \"today\", \"today\", \"today\", \"today\", \"today\", \"today\", \"today\", \"tokyo\", \"tour\", \"tour\", \"tour\", \"tour\", \"tour\", \"tour\", \"tout\", \"transp\", \"transp\", \"transport\", \"transport\", \"transport\", \"transport\", \"transport\", \"transport\", \"trash\", \"trash\", \"tre\", \"tre\", \"tre\", \"tre\", \"tre\", \"tre\", \"tre\", \"tre\", \"tre\", \"tre\", \"trend\", \"trend\", \"trend\", \"trend\", \"tril\", \"tril\", \"tril\", \"try\", \"try\", \"try\", \"try\", \"try\", \"try\", \"try\", \"try\", \"turn\", \"turn\", \"turn\", \"turn\", \"turn\", \"turn\", \"turn\", \"turn\", \"turn\", \"turtl\", \"u\", \"u\", \"u\", \"u\", \"u\", \"u\", \"u\", \"u\", \"u\", \"u\", \"ua\", \"un\", \"un\", \"un\", \"un\", \"un\", \"un\", \"un\", \"un\", \"un\", \"un\", \"unenviron\", \"unit\", \"unit\", \"unit\", \"unit\", \"unit\", \"unit\", \"unit\", \"unit\", \"unit\", \"upcyc\", \"upcyc\", \"urg\", \"urg\", \"urg\", \"urg\", \"urg\", \"urg\", \"urg\", \"us\", \"us\", \"us\", \"us\", \"us\", \"us\", \"us\", \"us\", \"us\", \"us\", \"usclimatestrik\", \"usclimatestrik\", \"ut\", \"utmmediumsoc\", \"utmsourceigtwittersh\", \"utmsourceigtwittersh\", \"utmsourceigtwittersh\", \"utmsourceigtwittersh\", \"utmsourceigtwittersh\", \"utmsourceigtwittersh\", \"utmsourceigtwittersh\", \"utmsourceigtwittersh\", \"valley\", \"ver\", \"via\", \"via\", \"via\", \"via\", \"via\", \"via\", \"via\", \"via\", \"via\", \"via\", \"vic\", \"virgin\", \"virgin\", \"virgin\", \"virgin\", \"virgin\", \"virgin\", \"voc\", \"vot\", \"vot\", \"vot\", \"vot\", \"vot\", \"vot\", \"vot\", \"vot\", \"votebluenomatterwho\", \"votebluetoendthisnightm\", \"votebluetosaveameric\", \"voteoutthegop\", \"votethemout\", \"vou\", \"vp\", \"wait\", \"wait\", \"wait\", \"wait\", \"wait\", \"wait\", \"wait\", \"wait\", \"wait\", \"wan\", \"want\", \"want\", \"want\", \"want\", \"want\", \"want\", \"want\", \"want\", \"want\", \"want\", \"warm\", \"warm\", \"warm\", \"warm\", \"warm\", \"warm\", \"warm\", \"warm\", \"warm\", \"warm\", \"washingtondc\", \"washingtondc\", \"washingtondc\", \"washingtonpost\", \"wast\", \"wast\", \"wast\", \"wast\", \"wast\", \"wast\", \"wasteland\", \"wat\", \"wat\", \"wat\", \"wat\", \"wat\", \"wat\", \"wat\", \"wat\", \"wat\", \"wat\", \"wear\", \"wear\", \"wear\", \"weath\", \"weath\", \"weath\", \"weath\", \"weath\", \"weath\", \"weath\", \"weath\", \"wed\", \"wh\", \"whatev\", \"wind\", \"wind\", \"wind\", \"wind\", \"wind\", \"wind\", \"wind\", \"wish\", \"wish\", \"wish\", \"wish\", \"wish\", \"wish\", \"wish\", \"work\", \"work\", \"work\", \"work\", \"work\", \"work\", \"work\", \"work\", \"work\", \"work\", \"workshop\", \"world\", \"world\", \"world\", \"world\", \"world\", \"world\", \"world\", \"world\", \"world\", \"world\", \"worldenvironmentday\", \"worldresourc\", \"would\", \"would\", \"would\", \"would\", \"would\", \"would\", \"would\", \"would\", \"would\", \"would\", \"wow\", \"wow\", \"wow\", \"wow\", \"wow\", \"wtf\", \"wtf\", \"wwf\", \"wwwinstagramcompb2pfmhwdsde\", \"yard\", \"year\", \"year\", \"year\", \"year\", \"year\", \"year\", \"year\", \"year\", \"year\", \"year\", \"yog\", \"york\", \"york\", \"york\", \"york\", \"york\", \"york\", \"you\", \"you\", \"you\", \"you\", \"you\", \"you\", \"you\", \"you\", \"young\", \"young\", \"young\", \"young\", \"young\", \"young\", \"young\", \"young\", \"youtub\", \"youtub\", \"youtubeehg2h9ryplq\"]}, \"R\": 30, \"lambda.step\": 0.01, \"plot.opts\": {\"xlab\": \"PC1\", \"ylab\": \"PC2\"}, \"topic.order\": [8, 9, 6, 3, 5, 4, 2, 1, 7, 10]};\n",
              "\n",
              "function LDAvis_load_lib(url, callback){\n",
              "  var s = document.createElement('script');\n",
              "  s.src = url;\n",
              "  s.async = true;\n",
              "  s.onreadystatechange = s.onload = callback;\n",
              "  s.onerror = function(){console.warn(\"failed to load library \" + url);};\n",
              "  document.getElementsByTagName(\"head\")[0].appendChild(s);\n",
              "}\n",
              "\n",
              "if(typeof(LDAvis) !== \"undefined\"){\n",
              "   // already loaded: just create the visualization\n",
              "   !function(LDAvis){\n",
              "       new LDAvis(\"#\" + \"ldavis_el1829139786016570192370502094\", ldavis_el1829139786016570192370502094_data);\n",
              "   }(LDAvis);\n",
              "}else if(typeof define === \"function\" && define.amd){\n",
              "   // require.js is available: use it to load d3/LDAvis\n",
              "   require.config({paths: {d3: \"https://d3js.org/d3.v5\"}});\n",
              "   require([\"d3\"], function(d3){\n",
              "      window.d3 = d3;\n",
              "      LDAvis_load_lib(\"https://cdn.jsdelivr.net/gh/bmabey/pyLDAvis@3.3.1/pyLDAvis/js/ldavis.v3.0.0.js\", function(){\n",
              "        new LDAvis(\"#\" + \"ldavis_el1829139786016570192370502094\", ldavis_el1829139786016570192370502094_data);\n",
              "      });\n",
              "    });\n",
              "}else{\n",
              "    // require.js not available: dynamically load d3 & LDAvis\n",
              "    LDAvis_load_lib(\"https://d3js.org/d3.v5.js\", function(){\n",
              "         LDAvis_load_lib(\"https://cdn.jsdelivr.net/gh/bmabey/pyLDAvis@3.3.1/pyLDAvis/js/ldavis.v3.0.0.js\", function(){\n",
              "                 new LDAvis(\"#\" + \"ldavis_el1829139786016570192370502094\", ldavis_el1829139786016570192370502094_data);\n",
              "            })\n",
              "         });\n",
              "}\n",
              "</script>"
            ]
          },
          "metadata": {},
          "execution_count": 36
        }
      ]
    },
    {
      "cell_type": "markdown",
      "source": [
        "# Análisis frecuencial por token o hashtags"
      ],
      "metadata": {
        "id": "Ypx9bBK_5LnA"
      }
    },
    {
      "cell_type": "markdown",
      "source": [
        "# Nubes de palabras por token o hashtags"
      ],
      "metadata": {
        "id": "6LWz9PDA5T7p"
      }
    },
    {
      "cell_type": "markdown",
      "source": [
        "# Análisis exploratorio no supervisado utilizando técnicas de LDA"
      ],
      "metadata": {
        "id": "yMe5YdkZ5h-A"
      }
    },
    {
      "cell_type": "markdown",
      "source": [
        "# Clasificación y análisis de sentimientos"
      ],
      "metadata": {
        "id": "0BO2mYq55pvG"
      }
    },
    {
      "cell_type": "markdown",
      "source": [
        "# REFERENCIAS "
      ],
      "metadata": {
        "id": "iI6fy7CR9vnY"
      }
    },
    {
      "cell_type": "markdown",
      "source": [
        "https://towardsdatascience.com/end-to-end-topic-modeling-in-python-latent-dirichlet-allocation-lda-35ce4ed6b3e0"
      ],
      "metadata": {
        "id": "e7bcjc5b9y3O"
      }
    }
  ]
}
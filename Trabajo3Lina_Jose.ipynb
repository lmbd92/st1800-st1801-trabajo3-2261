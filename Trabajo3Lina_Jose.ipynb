{
  "nbformat": 4,
  "nbformat_minor": 0,
  "metadata": {
    "colab": {
      "name": "Trabajo3Lina_Jose.ipynb",
      "provenance": [],
      "toc_visible": true,
      "include_colab_link": true
    },
    "kernelspec": {
      "name": "python3",
      "display_name": "Python 3"
    },
    "language_info": {
      "name": "python"
    }
  },
  "cells": [
    {
      "cell_type": "markdown",
      "metadata": {
        "id": "view-in-github",
        "colab_type": "text"
      },
      "source": [
        "<a href=\"https://colab.research.google.com/github/lmbd92/st1800-st1801-trabajo3-2261/blob/main/Trabajo3Lina_Jose.ipynb\" target=\"_parent\"><img src=\"https://colab.research.google.com/assets/colab-badge.svg\" alt=\"Open In Colab\"/></a>"
      ]
    },
    {
      "cell_type": "markdown",
      "source": [
        "Integrantes: Lina Beltrán (lbeltra1@eafit.edu.co), Jose Muñoz (jjmunozm@eafit.edu.co)\n",
        "\n",
        "Materia: Alm. & Recu. de información.\n",
        "\n",
        "Trabajo 3\n",
        "\n",
        "Universidad EAFIT - Maestria ciencia en datos y analítica\n",
        "\n",
        "Trabajo 2 Unidad 2 recuperación de texto"
      ],
      "metadata": {
        "id": "Z4h_pwsBq34m"
      }
    },
    {
      "cell_type": "markdown",
      "source": [
        "Data: https://github.com/lmbd92/st1800-st1801-trabajo3-2261/blob/main/Trabajo3/twitter.txt"
      ],
      "metadata": {
        "id": "6yp5sbzv7dbk"
      }
    },
    {
      "cell_type": "markdown",
      "source": [
        "# Abrir archivos desde GitHub"
      ],
      "metadata": {
        "id": "UHB37enaq8xD"
      }
    },
    {
      "cell_type": "code",
      "source": [
        "# OJO!!!! Ejecutar este bloque una sola vez (La primera vez), de lo contrario el repo se clonaría varias veces de manera recursiva\n",
        "\n",
        "!git clone -l -s https://github.com/lmbd92/st1800-st1801-trabajo3-2261.git cloned-repo\n",
        "%cd cloned-repo\n",
        "!ls"
      ],
      "metadata": {
        "colab": {
          "base_uri": "https://localhost:8080/"
        },
        "id": "zOzWds09rd5z",
        "outputId": "e3caad7d-b340-4a3d-bab0-84049c92161a"
      },
      "execution_count": 1,
      "outputs": [
        {
          "output_type": "stream",
          "name": "stdout",
          "text": [
            "Cloning into 'cloned-repo'...\n",
            "warning: --local is ignored\n",
            "remote: Enumerating objects: 60, done.\u001b[K\n",
            "remote: Counting objects: 100% (60/60), done.\u001b[K\n",
            "remote: Compressing objects: 100% (53/53), done.\u001b[K\n",
            "remote: Total 60 (delta 29), reused 16 (delta 5), pack-reused 0\u001b[K\n",
            "Unpacking objects: 100% (60/60), done.\n",
            "/content/cloned-repo\n",
            "LICENSE    Trabajo3\t\t    twitterClimateData.csv.zip\n",
            "README.md  Trabajo3Lina_Jose.ipynb\n"
          ]
        }
      ]
    },
    {
      "cell_type": "code",
      "source": [
        "# Delete repo local colab (Usar solo en caso de requerir actualizar el repo desde Github Nuevamente)\n",
        "\n",
        "!rm -r /content/cloned-repo"
      ],
      "metadata": {
        "id": "r1lCqeA9SkNA"
      },
      "execution_count": null,
      "outputs": []
    },
    {
      "cell_type": "markdown",
      "source": [
        "**Nota:** Para guardar el notebook directamente en Github, dirigirse a File→Save a copy in GitHub"
      ],
      "metadata": {
        "id": "KZbH5N-4ynB-"
      }
    },
    {
      "cell_type": "markdown",
      "source": [
        "# Preparación de ambiente de trabajo (Dependencias/librerias)"
      ],
      "metadata": {
        "id": "eNUP62YtFN2H"
      }
    },
    {
      "cell_type": "code",
      "source": [
        "# Transmisión eficiente de archivos muy grandes desde/hacia almacenamientos como S3, GCS, Azure Blob Storage, HDFS, WebHDFS\n",
        "!pip install smart-open\n",
        "\n",
        "# Modelado y procesamiento NLP\n",
        "!pip install --upgrade gensim\n",
        "!pip install nltk\n",
        "\n",
        "# Interpretar el tema en un modelo de temas que se ha ajustado a un corpus\n",
        "!pip install pyLDAvis"
      ],
      "metadata": {
        "id": "mtsUDGc89I3Y"
      },
      "execution_count": null,
      "outputs": []
    },
    {
      "cell_type": "code",
      "source": [
        "import pandas as pd\n",
        "import numpy as np\n",
        "import nltk\n",
        "# Soporte para expresiones regulares (RE).\n",
        "import re"
      ],
      "metadata": {
        "id": "xXpQ5d5lDgGl"
      },
      "execution_count": 3,
      "outputs": []
    },
    {
      "cell_type": "code",
      "source": [
        "# nltk: tokenizador y stopwords\n",
        "\n",
        "from nltk.corpus import stopwords\n",
        "nltk.download('punkt')\n",
        "nltk.download('stopwords')\n",
        "nltk.download('words')\n",
        "nltk.download('wordnet')\n",
        "nltk.download('omw-1.4')\n",
        "stop_words_nltk = set(stopwords.words('english'))\n",
        "print(len(stopwords.words('english')))"
      ],
      "metadata": {
        "id": "rtPvxrfnDnXe",
        "outputId": "35c48a3e-0827-4f6d-de02-b63e1790e223",
        "colab": {
          "base_uri": "https://localhost:8080/"
        }
      },
      "execution_count": 11,
      "outputs": [
        {
          "output_type": "stream",
          "name": "stdout",
          "text": [
            "[nltk_data] Downloading package punkt to /root/nltk_data...\n",
            "[nltk_data]   Package punkt is already up-to-date!\n",
            "[nltk_data] Downloading package stopwords to /root/nltk_data...\n",
            "[nltk_data]   Package stopwords is already up-to-date!\n",
            "[nltk_data] Downloading package words to /root/nltk_data...\n",
            "[nltk_data]   Unzipping corpora/words.zip.\n",
            "[nltk_data] Downloading package wordnet to /root/nltk_data...\n",
            "[nltk_data]   Package wordnet is already up-to-date!\n",
            "[nltk_data] Downloading package omw-1.4 to /root/nltk_data...\n",
            "[nltk_data]   Package omw-1.4 is already up-to-date!\n",
            "179\n"
          ]
        }
      ]
    },
    {
      "cell_type": "code",
      "source": [
        "#Lematizar, Stem\n",
        "from nltk.stem import WordNetLemmatizer\n",
        "from nltk.stem import LancasterStemmer\n",
        "#\n",
        "lancaster = LancasterStemmer()\n",
        "wordnet_lemmatizer = WordNetLemmatizer()"
      ],
      "metadata": {
        "id": "LYP0qN2cFAJt"
      },
      "execution_count": 5,
      "outputs": []
    },
    {
      "cell_type": "code",
      "source": [
        "#imprimir listas grandes\n",
        "import pprint\n",
        "from pprint import pprint"
      ],
      "metadata": {
        "id": "c6Z6T2tpH0uy"
      },
      "execution_count": 6,
      "outputs": []
    },
    {
      "cell_type": "markdown",
      "source": [
        "# Carga de Data Raw y EDA básico\n",
        "\n"
      ],
      "metadata": {
        "id": "Lk0ARlhr5Als"
      }
    },
    {
      "cell_type": "code",
      "source": [
        "# Carga de los datos\n",
        "\n",
        "path_in = '/content/cloned-repo/Trabajo3/'\n",
        "path_out = '/content/cloned-repo/Trabajo3/out/'\n",
        "file_name = 'twitterClimateData.csv'\n",
        "\n",
        "df = pd.read_csv(f'{path_in}{file_name}')\n",
        "df.head()"
      ],
      "metadata": {
        "id": "6WWOc5yXF-IE",
        "outputId": "269723f9-6133-49db-8689-2687d6d0b0a6",
        "colab": {
          "base_uri": "https://localhost:8080/",
          "height": 646
        }
      },
      "execution_count": 7,
      "outputs": [
        {
          "output_type": "execute_result",
          "data": {
            "text/plain": [
              "   Unnamed: 0            id     author_id  \\\n",
              "0           0  1.211810e+18  7.590000e+17   \n",
              "1           1  1.210670e+18  2.219547e+07   \n",
              "2           2  1.210590e+18  1.070000e+18   \n",
              "3           3  1.210260e+18  1.339821e+09   \n",
              "4           4  1.209640e+18  1.339821e+09   \n",
              "\n",
              "                                                text  retweets  \\\n",
              "0  2020 is the year we #votethemout, the year we ...        15   \n",
              "1  Winter has not stopped this group of dedicated...         9   \n",
              "2  WEEK 55 of #ClimateStrike at the @UN. Next wee...       545   \n",
              "3   A year of resistance, as youth protests shape...         1   \n",
              "4   HAPPY HOLIDAYS #greta #gretathunberg #climate...         1   \n",
              "\n",
              "                                           permalink  \\\n",
              "0  https://twitter.com/Sphiamia/status/1211807074...   \n",
              "1  https://twitter.com/StephDujarric/status/12106...   \n",
              "2  https://twitter.com/AlexandriaV2005/status/121...   \n",
              "3  https://twitter.com/EnergyHouseVA/status/12102...   \n",
              "4  https://twitter.com/EnergyHouseVA/status/12096...   \n",
              "\n",
              "                        date                  formatted_date  favorites  \\\n",
              "0  2019-12-31 00:31:35+00:00  Tue Dec 31 00:31:35 +0000 2019         46   \n",
              "1  2019-12-27 20:56:21+00:00  Fri Dec 27 20:56:21 +0000 2019         35   \n",
              "2  2019-12-27 15:50:22+00:00  Fri Dec 27 15:50:22 +0000 2019       3283   \n",
              "3  2019-12-26 17:53:26+00:00  Thu Dec 26 17:53:26 +0000 2019          2   \n",
              "4  2019-12-25 00:56:37+00:00  Wed Dec 25 00:56:37 +0000 2019          4   \n",
              "\n",
              "              mentions  ...         location  \\\n",
              "0                  NaN  ...  California, USA   \n",
              "1                  NaN  ...  California, USA   \n",
              "2  @UN @Fridays4future  ...  California, USA   \n",
              "3                  NaN  ...  California, USA   \n",
              "4                  NaN  ...  California, USA   \n",
              "\n",
              "                                          text_clean tb_sentiment_polarity  \\\n",
              "0  2020 is the year we votethemout the year we cl...             -0.100000   \n",
              "1  Winter has not stopped this group of dedicated...              0.000000   \n",
              "2  WEEK 55 of ClimateStrike at the UN Next week F...              0.166667   \n",
              "3   A year of resistance as youth protests shaped...              0.183333   \n",
              "4   HAPPY HOLIDAYS greta gretathunberg climatecha...              0.650000   \n",
              "\n",
              "  tb_sentiment_subjectivity textBlob_sentiment vader_compound  vader_pos  \\\n",
              "0                  0.462500           negative        -0.5682      0.000   \n",
              "1                  0.000000           positive         0.5670      0.215   \n",
              "2                  0.333333           positive        -0.8567      0.023   \n",
              "3                  0.600000           positive         0.7739      0.203   \n",
              "4                  0.800000           positive         0.9413      0.451   \n",
              "\n",
              "   vader_neg vader_neu  V_Sentiment  \n",
              "0      0.131     0.869     Negative  \n",
              "1      0.000     0.785     Positive  \n",
              "2      0.180     0.797     Negative  \n",
              "3      0.051     0.746     Positive  \n",
              "4      0.000     0.549     Positive  \n",
              "\n",
              "[5 rows x 24 columns]"
            ],
            "text/html": [
              "\n",
              "  <div id=\"df-b139b5a2-788a-4559-8128-592223386f30\">\n",
              "    <div class=\"colab-df-container\">\n",
              "      <div>\n",
              "<style scoped>\n",
              "    .dataframe tbody tr th:only-of-type {\n",
              "        vertical-align: middle;\n",
              "    }\n",
              "\n",
              "    .dataframe tbody tr th {\n",
              "        vertical-align: top;\n",
              "    }\n",
              "\n",
              "    .dataframe thead th {\n",
              "        text-align: right;\n",
              "    }\n",
              "</style>\n",
              "<table border=\"1\" class=\"dataframe\">\n",
              "  <thead>\n",
              "    <tr style=\"text-align: right;\">\n",
              "      <th></th>\n",
              "      <th>Unnamed: 0</th>\n",
              "      <th>id</th>\n",
              "      <th>author_id</th>\n",
              "      <th>text</th>\n",
              "      <th>retweets</th>\n",
              "      <th>permalink</th>\n",
              "      <th>date</th>\n",
              "      <th>formatted_date</th>\n",
              "      <th>favorites</th>\n",
              "      <th>mentions</th>\n",
              "      <th>...</th>\n",
              "      <th>location</th>\n",
              "      <th>text_clean</th>\n",
              "      <th>tb_sentiment_polarity</th>\n",
              "      <th>tb_sentiment_subjectivity</th>\n",
              "      <th>textBlob_sentiment</th>\n",
              "      <th>vader_compound</th>\n",
              "      <th>vader_pos</th>\n",
              "      <th>vader_neg</th>\n",
              "      <th>vader_neu</th>\n",
              "      <th>V_Sentiment</th>\n",
              "    </tr>\n",
              "  </thead>\n",
              "  <tbody>\n",
              "    <tr>\n",
              "      <th>0</th>\n",
              "      <td>0</td>\n",
              "      <td>1.211810e+18</td>\n",
              "      <td>7.590000e+17</td>\n",
              "      <td>2020 is the year we #votethemout, the year we ...</td>\n",
              "      <td>15</td>\n",
              "      <td>https://twitter.com/Sphiamia/status/1211807074...</td>\n",
              "      <td>2019-12-31 00:31:35+00:00</td>\n",
              "      <td>Tue Dec 31 00:31:35 +0000 2019</td>\n",
              "      <td>46</td>\n",
              "      <td>NaN</td>\n",
              "      <td>...</td>\n",
              "      <td>California, USA</td>\n",
              "      <td>2020 is the year we votethemout the year we cl...</td>\n",
              "      <td>-0.100000</td>\n",
              "      <td>0.462500</td>\n",
              "      <td>negative</td>\n",
              "      <td>-0.5682</td>\n",
              "      <td>0.000</td>\n",
              "      <td>0.131</td>\n",
              "      <td>0.869</td>\n",
              "      <td>Negative</td>\n",
              "    </tr>\n",
              "    <tr>\n",
              "      <th>1</th>\n",
              "      <td>1</td>\n",
              "      <td>1.210670e+18</td>\n",
              "      <td>2.219547e+07</td>\n",
              "      <td>Winter has not stopped this group of dedicated...</td>\n",
              "      <td>9</td>\n",
              "      <td>https://twitter.com/StephDujarric/status/12106...</td>\n",
              "      <td>2019-12-27 20:56:21+00:00</td>\n",
              "      <td>Fri Dec 27 20:56:21 +0000 2019</td>\n",
              "      <td>35</td>\n",
              "      <td>NaN</td>\n",
              "      <td>...</td>\n",
              "      <td>California, USA</td>\n",
              "      <td>Winter has not stopped this group of dedicated...</td>\n",
              "      <td>0.000000</td>\n",
              "      <td>0.000000</td>\n",
              "      <td>positive</td>\n",
              "      <td>0.5670</td>\n",
              "      <td>0.215</td>\n",
              "      <td>0.000</td>\n",
              "      <td>0.785</td>\n",
              "      <td>Positive</td>\n",
              "    </tr>\n",
              "    <tr>\n",
              "      <th>2</th>\n",
              "      <td>2</td>\n",
              "      <td>1.210590e+18</td>\n",
              "      <td>1.070000e+18</td>\n",
              "      <td>WEEK 55 of #ClimateStrike at the @UN. Next wee...</td>\n",
              "      <td>545</td>\n",
              "      <td>https://twitter.com/AlexandriaV2005/status/121...</td>\n",
              "      <td>2019-12-27 15:50:22+00:00</td>\n",
              "      <td>Fri Dec 27 15:50:22 +0000 2019</td>\n",
              "      <td>3283</td>\n",
              "      <td>@UN @Fridays4future</td>\n",
              "      <td>...</td>\n",
              "      <td>California, USA</td>\n",
              "      <td>WEEK 55 of ClimateStrike at the UN Next week F...</td>\n",
              "      <td>0.166667</td>\n",
              "      <td>0.333333</td>\n",
              "      <td>positive</td>\n",
              "      <td>-0.8567</td>\n",
              "      <td>0.023</td>\n",
              "      <td>0.180</td>\n",
              "      <td>0.797</td>\n",
              "      <td>Negative</td>\n",
              "    </tr>\n",
              "    <tr>\n",
              "      <th>3</th>\n",
              "      <td>3</td>\n",
              "      <td>1.210260e+18</td>\n",
              "      <td>1.339821e+09</td>\n",
              "      <td>A year of resistance, as youth protests shape...</td>\n",
              "      <td>1</td>\n",
              "      <td>https://twitter.com/EnergyHouseVA/status/12102...</td>\n",
              "      <td>2019-12-26 17:53:26+00:00</td>\n",
              "      <td>Thu Dec 26 17:53:26 +0000 2019</td>\n",
              "      <td>2</td>\n",
              "      <td>NaN</td>\n",
              "      <td>...</td>\n",
              "      <td>California, USA</td>\n",
              "      <td>A year of resistance as youth protests shaped...</td>\n",
              "      <td>0.183333</td>\n",
              "      <td>0.600000</td>\n",
              "      <td>positive</td>\n",
              "      <td>0.7739</td>\n",
              "      <td>0.203</td>\n",
              "      <td>0.051</td>\n",
              "      <td>0.746</td>\n",
              "      <td>Positive</td>\n",
              "    </tr>\n",
              "    <tr>\n",
              "      <th>4</th>\n",
              "      <td>4</td>\n",
              "      <td>1.209640e+18</td>\n",
              "      <td>1.339821e+09</td>\n",
              "      <td>HAPPY HOLIDAYS #greta #gretathunberg #climate...</td>\n",
              "      <td>1</td>\n",
              "      <td>https://twitter.com/EnergyHouseVA/status/12096...</td>\n",
              "      <td>2019-12-25 00:56:37+00:00</td>\n",
              "      <td>Wed Dec 25 00:56:37 +0000 2019</td>\n",
              "      <td>4</td>\n",
              "      <td>NaN</td>\n",
              "      <td>...</td>\n",
              "      <td>California, USA</td>\n",
              "      <td>HAPPY HOLIDAYS greta gretathunberg climatecha...</td>\n",
              "      <td>0.650000</td>\n",
              "      <td>0.800000</td>\n",
              "      <td>positive</td>\n",
              "      <td>0.9413</td>\n",
              "      <td>0.451</td>\n",
              "      <td>0.000</td>\n",
              "      <td>0.549</td>\n",
              "      <td>Positive</td>\n",
              "    </tr>\n",
              "  </tbody>\n",
              "</table>\n",
              "<p>5 rows × 24 columns</p>\n",
              "</div>\n",
              "      <button class=\"colab-df-convert\" onclick=\"convertToInteractive('df-b139b5a2-788a-4559-8128-592223386f30')\"\n",
              "              title=\"Convert this dataframe to an interactive table.\"\n",
              "              style=\"display:none;\">\n",
              "        \n",
              "  <svg xmlns=\"http://www.w3.org/2000/svg\" height=\"24px\"viewBox=\"0 0 24 24\"\n",
              "       width=\"24px\">\n",
              "    <path d=\"M0 0h24v24H0V0z\" fill=\"none\"/>\n",
              "    <path d=\"M18.56 5.44l.94 2.06.94-2.06 2.06-.94-2.06-.94-.94-2.06-.94 2.06-2.06.94zm-11 1L8.5 8.5l.94-2.06 2.06-.94-2.06-.94L8.5 2.5l-.94 2.06-2.06.94zm10 10l.94 2.06.94-2.06 2.06-.94-2.06-.94-.94-2.06-.94 2.06-2.06.94z\"/><path d=\"M17.41 7.96l-1.37-1.37c-.4-.4-.92-.59-1.43-.59-.52 0-1.04.2-1.43.59L10.3 9.45l-7.72 7.72c-.78.78-.78 2.05 0 2.83L4 21.41c.39.39.9.59 1.41.59.51 0 1.02-.2 1.41-.59l7.78-7.78 2.81-2.81c.8-.78.8-2.07 0-2.86zM5.41 20L4 18.59l7.72-7.72 1.47 1.35L5.41 20z\"/>\n",
              "  </svg>\n",
              "      </button>\n",
              "      \n",
              "  <style>\n",
              "    .colab-df-container {\n",
              "      display:flex;\n",
              "      flex-wrap:wrap;\n",
              "      gap: 12px;\n",
              "    }\n",
              "\n",
              "    .colab-df-convert {\n",
              "      background-color: #E8F0FE;\n",
              "      border: none;\n",
              "      border-radius: 50%;\n",
              "      cursor: pointer;\n",
              "      display: none;\n",
              "      fill: #1967D2;\n",
              "      height: 32px;\n",
              "      padding: 0 0 0 0;\n",
              "      width: 32px;\n",
              "    }\n",
              "\n",
              "    .colab-df-convert:hover {\n",
              "      background-color: #E2EBFA;\n",
              "      box-shadow: 0px 1px 2px rgba(60, 64, 67, 0.3), 0px 1px 3px 1px rgba(60, 64, 67, 0.15);\n",
              "      fill: #174EA6;\n",
              "    }\n",
              "\n",
              "    [theme=dark] .colab-df-convert {\n",
              "      background-color: #3B4455;\n",
              "      fill: #D2E3FC;\n",
              "    }\n",
              "\n",
              "    [theme=dark] .colab-df-convert:hover {\n",
              "      background-color: #434B5C;\n",
              "      box-shadow: 0px 1px 3px 1px rgba(0, 0, 0, 0.15);\n",
              "      filter: drop-shadow(0px 1px 2px rgba(0, 0, 0, 0.3));\n",
              "      fill: #FFFFFF;\n",
              "    }\n",
              "  </style>\n",
              "\n",
              "      <script>\n",
              "        const buttonEl =\n",
              "          document.querySelector('#df-b139b5a2-788a-4559-8128-592223386f30 button.colab-df-convert');\n",
              "        buttonEl.style.display =\n",
              "          google.colab.kernel.accessAllowed ? 'block' : 'none';\n",
              "\n",
              "        async function convertToInteractive(key) {\n",
              "          const element = document.querySelector('#df-b139b5a2-788a-4559-8128-592223386f30');\n",
              "          const dataTable =\n",
              "            await google.colab.kernel.invokeFunction('convertToInteractive',\n",
              "                                                     [key], {});\n",
              "          if (!dataTable) return;\n",
              "\n",
              "          const docLinkHtml = 'Like what you see? Visit the ' +\n",
              "            '<a target=\"_blank\" href=https://colab.research.google.com/notebooks/data_table.ipynb>data table notebook</a>'\n",
              "            + ' to learn more about interactive tables.';\n",
              "          element.innerHTML = '';\n",
              "          dataTable['output_type'] = 'display_data';\n",
              "          await google.colab.output.renderOutput(dataTable, element);\n",
              "          const docLink = document.createElement('div');\n",
              "          docLink.innerHTML = docLinkHtml;\n",
              "          element.appendChild(docLink);\n",
              "        }\n",
              "      </script>\n",
              "    </div>\n",
              "  </div>\n",
              "  "
            ]
          },
          "metadata": {},
          "execution_count": 7
        }
      ]
    },
    {
      "cell_type": "code",
      "source": [
        "df.shape"
      ],
      "metadata": {
        "id": "7E7uxYmwgRnI",
        "outputId": "5d17b863-dc3f-4968-eedc-528896f1727a",
        "colab": {
          "base_uri": "https://localhost:8080/"
        }
      },
      "execution_count": 10,
      "outputs": [
        {
          "output_type": "execute_result",
          "data": {
            "text/plain": [
              "(72405, 24)"
            ]
          },
          "metadata": {},
          "execution_count": 10
        }
      ]
    },
    {
      "cell_type": "code",
      "source": [
        "df.count()"
      ],
      "metadata": {
        "id": "1d-oQ1lRWxTI",
        "outputId": "25202f69-e4a2-4418-d68b-7bed80702280",
        "colab": {
          "base_uri": "https://localhost:8080/"
        }
      },
      "execution_count": 9,
      "outputs": [
        {
          "output_type": "execute_result",
          "data": {
            "text/plain": [
              "Unnamed: 0                   72405\n",
              "id                           72405\n",
              "author_id                    72405\n",
              "text                         72405\n",
              "retweets                     72405\n",
              "permalink                    72405\n",
              "date                         72405\n",
              "formatted_date               72405\n",
              "favorites                    72405\n",
              "mentions                     27554\n",
              "hashtags                     72402\n",
              "geo                              0\n",
              "urls                         33349\n",
              "search_hashtags              72405\n",
              "location                     72405\n",
              "text_clean                   72405\n",
              "tb_sentiment_polarity        72405\n",
              "tb_sentiment_subjectivity    72405\n",
              "textBlob_sentiment           72405\n",
              "vader_compound               72405\n",
              "vader_pos                    72405\n",
              "vader_neg                    72405\n",
              "vader_neu                    72405\n",
              "V_Sentiment                  72405\n",
              "dtype: int64"
            ]
          },
          "metadata": {},
          "execution_count": 9
        }
      ]
    },
    {
      "cell_type": "markdown",
      "source": [
        "# Preparación de data"
      ],
      "metadata": {
        "id": "s4qk4geXhaoc"
      }
    },
    {
      "cell_type": "markdown",
      "source": [
        "Definimos funcion para optimizar incluyendo stem y Lematización"
      ],
      "metadata": {
        "id": "IfTk9Rsmhnx7"
      }
    },
    {
      "cell_type": "code",
      "source": [
        "def textprep(line):\n",
        "    tokens = nltk.word_tokenize(str(line))\n",
        "    tokens = [w.lower() for w in tokens if len(w)>1]\n",
        "    tokens = [re.sub(r'[^A-Za-z0-9]+','',w) for w in tokens]\n",
        "    tokens = [w for w in tokens if w not in stop_words_nltk] \n",
        "    tokens= [wordnet_lemmatizer.lemmatize(w) for w in tokens]\n",
        "    tokens= [lancaster.stem(w) for w in tokens]\n",
        "    return tokens"
      ],
      "metadata": {
        "id": "6Ei3T9xuhmly"
      },
      "execution_count": 12,
      "outputs": []
    },
    {
      "cell_type": "code",
      "source": [
        "#Filtramos solo la columna de interés\n",
        "text_df = df[['text']]\n",
        "text_df.head()"
      ],
      "metadata": {
        "id": "ciaHgLYFvKMk",
        "outputId": "3b25a602-f6e0-47f8-ff1c-623e4129820d",
        "colab": {
          "base_uri": "https://localhost:8080/",
          "height": 206
        }
      },
      "execution_count": 13,
      "outputs": [
        {
          "output_type": "execute_result",
          "data": {
            "text/plain": [
              "                                                text\n",
              "0  2020 is the year we #votethemout, the year we ...\n",
              "1  Winter has not stopped this group of dedicated...\n",
              "2  WEEK 55 of #ClimateStrike at the @UN. Next wee...\n",
              "3   A year of resistance, as youth protests shape...\n",
              "4   HAPPY HOLIDAYS #greta #gretathunberg #climate..."
            ],
            "text/html": [
              "\n",
              "  <div id=\"df-96002083-e49a-40ce-8d8a-81402cae4a4b\">\n",
              "    <div class=\"colab-df-container\">\n",
              "      <div>\n",
              "<style scoped>\n",
              "    .dataframe tbody tr th:only-of-type {\n",
              "        vertical-align: middle;\n",
              "    }\n",
              "\n",
              "    .dataframe tbody tr th {\n",
              "        vertical-align: top;\n",
              "    }\n",
              "\n",
              "    .dataframe thead th {\n",
              "        text-align: right;\n",
              "    }\n",
              "</style>\n",
              "<table border=\"1\" class=\"dataframe\">\n",
              "  <thead>\n",
              "    <tr style=\"text-align: right;\">\n",
              "      <th></th>\n",
              "      <th>text</th>\n",
              "    </tr>\n",
              "  </thead>\n",
              "  <tbody>\n",
              "    <tr>\n",
              "      <th>0</th>\n",
              "      <td>2020 is the year we #votethemout, the year we ...</td>\n",
              "    </tr>\n",
              "    <tr>\n",
              "      <th>1</th>\n",
              "      <td>Winter has not stopped this group of dedicated...</td>\n",
              "    </tr>\n",
              "    <tr>\n",
              "      <th>2</th>\n",
              "      <td>WEEK 55 of #ClimateStrike at the @UN. Next wee...</td>\n",
              "    </tr>\n",
              "    <tr>\n",
              "      <th>3</th>\n",
              "      <td>A year of resistance, as youth protests shape...</td>\n",
              "    </tr>\n",
              "    <tr>\n",
              "      <th>4</th>\n",
              "      <td>HAPPY HOLIDAYS #greta #gretathunberg #climate...</td>\n",
              "    </tr>\n",
              "  </tbody>\n",
              "</table>\n",
              "</div>\n",
              "      <button class=\"colab-df-convert\" onclick=\"convertToInteractive('df-96002083-e49a-40ce-8d8a-81402cae4a4b')\"\n",
              "              title=\"Convert this dataframe to an interactive table.\"\n",
              "              style=\"display:none;\">\n",
              "        \n",
              "  <svg xmlns=\"http://www.w3.org/2000/svg\" height=\"24px\"viewBox=\"0 0 24 24\"\n",
              "       width=\"24px\">\n",
              "    <path d=\"M0 0h24v24H0V0z\" fill=\"none\"/>\n",
              "    <path d=\"M18.56 5.44l.94 2.06.94-2.06 2.06-.94-2.06-.94-.94-2.06-.94 2.06-2.06.94zm-11 1L8.5 8.5l.94-2.06 2.06-.94-2.06-.94L8.5 2.5l-.94 2.06-2.06.94zm10 10l.94 2.06.94-2.06 2.06-.94-2.06-.94-.94-2.06-.94 2.06-2.06.94z\"/><path d=\"M17.41 7.96l-1.37-1.37c-.4-.4-.92-.59-1.43-.59-.52 0-1.04.2-1.43.59L10.3 9.45l-7.72 7.72c-.78.78-.78 2.05 0 2.83L4 21.41c.39.39.9.59 1.41.59.51 0 1.02-.2 1.41-.59l7.78-7.78 2.81-2.81c.8-.78.8-2.07 0-2.86zM5.41 20L4 18.59l7.72-7.72 1.47 1.35L5.41 20z\"/>\n",
              "  </svg>\n",
              "      </button>\n",
              "      \n",
              "  <style>\n",
              "    .colab-df-container {\n",
              "      display:flex;\n",
              "      flex-wrap:wrap;\n",
              "      gap: 12px;\n",
              "    }\n",
              "\n",
              "    .colab-df-convert {\n",
              "      background-color: #E8F0FE;\n",
              "      border: none;\n",
              "      border-radius: 50%;\n",
              "      cursor: pointer;\n",
              "      display: none;\n",
              "      fill: #1967D2;\n",
              "      height: 32px;\n",
              "      padding: 0 0 0 0;\n",
              "      width: 32px;\n",
              "    }\n",
              "\n",
              "    .colab-df-convert:hover {\n",
              "      background-color: #E2EBFA;\n",
              "      box-shadow: 0px 1px 2px rgba(60, 64, 67, 0.3), 0px 1px 3px 1px rgba(60, 64, 67, 0.15);\n",
              "      fill: #174EA6;\n",
              "    }\n",
              "\n",
              "    [theme=dark] .colab-df-convert {\n",
              "      background-color: #3B4455;\n",
              "      fill: #D2E3FC;\n",
              "    }\n",
              "\n",
              "    [theme=dark] .colab-df-convert:hover {\n",
              "      background-color: #434B5C;\n",
              "      box-shadow: 0px 1px 3px 1px rgba(0, 0, 0, 0.15);\n",
              "      filter: drop-shadow(0px 1px 2px rgba(0, 0, 0, 0.3));\n",
              "      fill: #FFFFFF;\n",
              "    }\n",
              "  </style>\n",
              "\n",
              "      <script>\n",
              "        const buttonEl =\n",
              "          document.querySelector('#df-96002083-e49a-40ce-8d8a-81402cae4a4b button.colab-df-convert');\n",
              "        buttonEl.style.display =\n",
              "          google.colab.kernel.accessAllowed ? 'block' : 'none';\n",
              "\n",
              "        async function convertToInteractive(key) {\n",
              "          const element = document.querySelector('#df-96002083-e49a-40ce-8d8a-81402cae4a4b');\n",
              "          const dataTable =\n",
              "            await google.colab.kernel.invokeFunction('convertToInteractive',\n",
              "                                                     [key], {});\n",
              "          if (!dataTable) return;\n",
              "\n",
              "          const docLinkHtml = 'Like what you see? Visit the ' +\n",
              "            '<a target=\"_blank\" href=https://colab.research.google.com/notebooks/data_table.ipynb>data table notebook</a>'\n",
              "            + ' to learn more about interactive tables.';\n",
              "          element.innerHTML = '';\n",
              "          dataTable['output_type'] = 'display_data';\n",
              "          await google.colab.output.renderOutput(dataTable, element);\n",
              "          const docLink = document.createElement('div');\n",
              "          docLink.innerHTML = docLinkHtml;\n",
              "          element.appendChild(docLink);\n",
              "        }\n",
              "      </script>\n",
              "    </div>\n",
              "  </div>\n",
              "  "
            ]
          },
          "metadata": {},
          "execution_count": 13
        }
      ]
    },
    {
      "cell_type": "code",
      "source": [
        "# creación de columna con tokenización de la columna de interés especifica\n",
        "text_df['tokens_twitter'] = text_df.apply(lambda row: textprep(row['text']), axis=1)\n",
        "text_df.head()"
      ],
      "metadata": {
        "id": "C_m8M7mInA5m",
        "outputId": "3d5423b9-938a-4e89-ecd6-a1d256bb6ecf",
        "colab": {
          "base_uri": "https://localhost:8080/",
          "height": 310
        }
      },
      "execution_count": 16,
      "outputs": [
        {
          "output_type": "stream",
          "name": "stderr",
          "text": [
            "/usr/local/lib/python3.7/dist-packages/ipykernel_launcher.py:2: SettingWithCopyWarning: \n",
            "A value is trying to be set on a copy of a slice from a DataFrame.\n",
            "Try using .loc[row_indexer,col_indexer] = value instead\n",
            "\n",
            "See the caveats in the documentation: https://pandas.pydata.org/pandas-docs/stable/user_guide/indexing.html#returning-a-view-versus-a-copy\n",
            "  \n"
          ]
        },
        {
          "output_type": "execute_result",
          "data": {
            "text/plain": [
              "                                                text  \\\n",
              "0  2020 is the year we #votethemout, the year we ...   \n",
              "1  Winter has not stopped this group of dedicated...   \n",
              "2  WEEK 55 of #ClimateStrike at the @UN. Next wee...   \n",
              "3   A year of resistance, as youth protests shape...   \n",
              "4   HAPPY HOLIDAYS #greta #gretathunberg #climate...   \n",
              "\n",
              "                                      tokens_twitter  \n",
              "0  [2020, year, votethemout, year, climatestrik, ...  \n",
              "1  [wint, stop, group, ded, clim, act, exampl, fo...  \n",
              "2  [week, 55, climatestrik, un, next, week, frida...  \n",
              "3  [year, resist, you, protest, shap, clim, chang...  \n",
              "4  [happy, holiday, gret, gretathunberg, climatec...  "
            ],
            "text/html": [
              "\n",
              "  <div id=\"df-552bb319-7631-46e3-9d5d-5ede9eb56ebf\">\n",
              "    <div class=\"colab-df-container\">\n",
              "      <div>\n",
              "<style scoped>\n",
              "    .dataframe tbody tr th:only-of-type {\n",
              "        vertical-align: middle;\n",
              "    }\n",
              "\n",
              "    .dataframe tbody tr th {\n",
              "        vertical-align: top;\n",
              "    }\n",
              "\n",
              "    .dataframe thead th {\n",
              "        text-align: right;\n",
              "    }\n",
              "</style>\n",
              "<table border=\"1\" class=\"dataframe\">\n",
              "  <thead>\n",
              "    <tr style=\"text-align: right;\">\n",
              "      <th></th>\n",
              "      <th>text</th>\n",
              "      <th>tokens_twitter</th>\n",
              "    </tr>\n",
              "  </thead>\n",
              "  <tbody>\n",
              "    <tr>\n",
              "      <th>0</th>\n",
              "      <td>2020 is the year we #votethemout, the year we ...</td>\n",
              "      <td>[2020, year, votethemout, year, climatestrik, ...</td>\n",
              "    </tr>\n",
              "    <tr>\n",
              "      <th>1</th>\n",
              "      <td>Winter has not stopped this group of dedicated...</td>\n",
              "      <td>[wint, stop, group, ded, clim, act, exampl, fo...</td>\n",
              "    </tr>\n",
              "    <tr>\n",
              "      <th>2</th>\n",
              "      <td>WEEK 55 of #ClimateStrike at the @UN. Next wee...</td>\n",
              "      <td>[week, 55, climatestrik, un, next, week, frida...</td>\n",
              "    </tr>\n",
              "    <tr>\n",
              "      <th>3</th>\n",
              "      <td>A year of resistance, as youth protests shape...</td>\n",
              "      <td>[year, resist, you, protest, shap, clim, chang...</td>\n",
              "    </tr>\n",
              "    <tr>\n",
              "      <th>4</th>\n",
              "      <td>HAPPY HOLIDAYS #greta #gretathunberg #climate...</td>\n",
              "      <td>[happy, holiday, gret, gretathunberg, climatec...</td>\n",
              "    </tr>\n",
              "  </tbody>\n",
              "</table>\n",
              "</div>\n",
              "      <button class=\"colab-df-convert\" onclick=\"convertToInteractive('df-552bb319-7631-46e3-9d5d-5ede9eb56ebf')\"\n",
              "              title=\"Convert this dataframe to an interactive table.\"\n",
              "              style=\"display:none;\">\n",
              "        \n",
              "  <svg xmlns=\"http://www.w3.org/2000/svg\" height=\"24px\"viewBox=\"0 0 24 24\"\n",
              "       width=\"24px\">\n",
              "    <path d=\"M0 0h24v24H0V0z\" fill=\"none\"/>\n",
              "    <path d=\"M18.56 5.44l.94 2.06.94-2.06 2.06-.94-2.06-.94-.94-2.06-.94 2.06-2.06.94zm-11 1L8.5 8.5l.94-2.06 2.06-.94-2.06-.94L8.5 2.5l-.94 2.06-2.06.94zm10 10l.94 2.06.94-2.06 2.06-.94-2.06-.94-.94-2.06-.94 2.06-2.06.94z\"/><path d=\"M17.41 7.96l-1.37-1.37c-.4-.4-.92-.59-1.43-.59-.52 0-1.04.2-1.43.59L10.3 9.45l-7.72 7.72c-.78.78-.78 2.05 0 2.83L4 21.41c.39.39.9.59 1.41.59.51 0 1.02-.2 1.41-.59l7.78-7.78 2.81-2.81c.8-.78.8-2.07 0-2.86zM5.41 20L4 18.59l7.72-7.72 1.47 1.35L5.41 20z\"/>\n",
              "  </svg>\n",
              "      </button>\n",
              "      \n",
              "  <style>\n",
              "    .colab-df-container {\n",
              "      display:flex;\n",
              "      flex-wrap:wrap;\n",
              "      gap: 12px;\n",
              "    }\n",
              "\n",
              "    .colab-df-convert {\n",
              "      background-color: #E8F0FE;\n",
              "      border: none;\n",
              "      border-radius: 50%;\n",
              "      cursor: pointer;\n",
              "      display: none;\n",
              "      fill: #1967D2;\n",
              "      height: 32px;\n",
              "      padding: 0 0 0 0;\n",
              "      width: 32px;\n",
              "    }\n",
              "\n",
              "    .colab-df-convert:hover {\n",
              "      background-color: #E2EBFA;\n",
              "      box-shadow: 0px 1px 2px rgba(60, 64, 67, 0.3), 0px 1px 3px 1px rgba(60, 64, 67, 0.15);\n",
              "      fill: #174EA6;\n",
              "    }\n",
              "\n",
              "    [theme=dark] .colab-df-convert {\n",
              "      background-color: #3B4455;\n",
              "      fill: #D2E3FC;\n",
              "    }\n",
              "\n",
              "    [theme=dark] .colab-df-convert:hover {\n",
              "      background-color: #434B5C;\n",
              "      box-shadow: 0px 1px 3px 1px rgba(0, 0, 0, 0.15);\n",
              "      filter: drop-shadow(0px 1px 2px rgba(0, 0, 0, 0.3));\n",
              "      fill: #FFFFFF;\n",
              "    }\n",
              "  </style>\n",
              "\n",
              "      <script>\n",
              "        const buttonEl =\n",
              "          document.querySelector('#df-552bb319-7631-46e3-9d5d-5ede9eb56ebf button.colab-df-convert');\n",
              "        buttonEl.style.display =\n",
              "          google.colab.kernel.accessAllowed ? 'block' : 'none';\n",
              "\n",
              "        async function convertToInteractive(key) {\n",
              "          const element = document.querySelector('#df-552bb319-7631-46e3-9d5d-5ede9eb56ebf');\n",
              "          const dataTable =\n",
              "            await google.colab.kernel.invokeFunction('convertToInteractive',\n",
              "                                                     [key], {});\n",
              "          if (!dataTable) return;\n",
              "\n",
              "          const docLinkHtml = 'Like what you see? Visit the ' +\n",
              "            '<a target=\"_blank\" href=https://colab.research.google.com/notebooks/data_table.ipynb>data table notebook</a>'\n",
              "            + ' to learn more about interactive tables.';\n",
              "          element.innerHTML = '';\n",
              "          dataTable['output_type'] = 'display_data';\n",
              "          await google.colab.output.renderOutput(dataTable, element);\n",
              "          const docLink = document.createElement('div');\n",
              "          docLink.innerHTML = docLinkHtml;\n",
              "          element.appendChild(docLink);\n",
              "        }\n",
              "      </script>\n",
              "    </div>\n",
              "  </div>\n",
              "  "
            ]
          },
          "metadata": {},
          "execution_count": 16
        }
      ]
    },
    {
      "cell_type": "markdown",
      "source": [
        "# Características y representación"
      ],
      "metadata": {
        "id": "Cz8uJi1B5HKx"
      }
    },
    {
      "cell_type": "markdown",
      "source": [
        "Construir el BoW (diccionario) de términos"
      ],
      "metadata": {
        "id": "TvcQLLrjgm2A"
      }
    },
    {
      "cell_type": "code",
      "source": [
        "len(text_df['tokens_twitter'])"
      ],
      "metadata": {
        "id": "JGREnFOFFnLg",
        "outputId": "f046fdcc-e141-4938-93aa-ce6e3f34c798",
        "colab": {
          "base_uri": "https://localhost:8080/"
        }
      },
      "execution_count": 17,
      "outputs": [
        {
          "output_type": "execute_result",
          "data": {
            "text/plain": [
              "72405"
            ]
          },
          "metadata": {},
          "execution_count": 17
        }
      ]
    },
    {
      "cell_type": "code",
      "source": [
        "# Creación del BoW - en gensim es Dictionary\n",
        "from gensim.corpora import Dictionary\n",
        "dictionary = Dictionary(text_df.tokens_twitter)"
      ],
      "metadata": {
        "id": "jXPGQCXuwXqc"
      },
      "execution_count": 19,
      "outputs": []
    },
    {
      "cell_type": "code",
      "source": [
        "# Bag-of-words representation of the documents.\n",
        "corpus = [dictionary.doc2bow(line) for line in text_df.tokens_twitter]"
      ],
      "metadata": {
        "id": "YkyqTx6QHEcz"
      },
      "execution_count": 21,
      "outputs": []
    },
    {
      "cell_type": "code",
      "source": [
        "for i in corpus[:10]:\n",
        "    print(i)"
      ],
      "metadata": {
        "id": "k4_hD_TLHcEX",
        "outputId": "4f7bc16f-d609-4ff7-a429-c11ee1abebae",
        "colab": {
          "base_uri": "https://localhost:8080/"
        }
      },
      "execution_count": 23,
      "outputs": [
        {
          "output_type": "stream",
          "name": "stdout",
          "text": [
            "[(0, 2), (1, 1), (2, 1), (3, 1), (4, 1), (5, 1), (6, 1), (7, 1), (8, 1), (9, 1), (10, 1), (11, 1), (12, 1), (13, 1), (14, 1), (15, 4)]\n",
            "[(2, 1), (16, 1), (17, 1), (18, 1), (19, 1), (20, 1), (21, 1), (22, 1), (23, 1), (24, 1), (25, 1)]\n",
            "[(0, 1), (2, 1), (6, 1), (15, 1), (16, 1), (17, 1), (24, 2), (26, 1), (27, 1), (28, 1), (29, 1), (30, 1), (31, 1), (32, 1), (33, 1), (34, 1), (35, 1), (36, 1), (37, 1), (38, 1), (39, 1), (40, 1), (41, 1), (42, 1), (43, 1), (44, 1), (45, 1), (46, 1), (47, 1), (48, 2)]\n",
            "[(0, 1), (2, 1), (15, 1), (16, 1), (17, 2), (49, 1), (50, 1), (51, 1), (52, 1), (53, 1), (54, 1), (55, 1), (56, 1), (57, 1), (58, 1), (59, 1), (60, 1), (61, 1), (62, 1), (63, 1), (64, 1), (65, 1), (66, 2)]\n",
            "[(2, 1), (17, 1), (49, 1), (51, 1), (52, 1), (54, 1), (55, 1), (56, 1), (57, 2), (58, 1), (59, 1), (63, 1), (67, 1), (68, 1), (69, 1), (70, 1), (71, 1), (72, 1), (73, 1), (74, 1), (75, 1), (76, 1), (77, 1)]\n",
            "[(2, 1), (17, 2), (36, 1), (50, 1), (52, 1), (54, 1), (56, 1), (57, 1), (78, 1), (79, 1), (80, 1), (81, 1), (82, 1), (83, 1), (84, 1), (85, 1), (86, 1), (87, 1), (88, 1), (89, 1), (90, 1)]\n",
            "[(2, 1), (5, 1), (54, 1), (56, 1), (91, 1), (92, 1), (93, 1), (94, 1), (95, 1), (96, 1), (97, 1), (98, 1), (99, 1), (100, 1), (101, 1)]\n",
            "[(2, 1), (102, 1), (103, 1)]\n",
            "[(2, 1), (5, 1), (15, 1), (45, 1), (55, 1), (93, 1), (104, 1), (105, 1), (106, 1), (107, 1), (108, 1), (109, 1), (110, 1), (111, 1), (112, 1)]\n",
            "[(2, 1), (45, 1), (48, 1), (52, 1), (80, 1), (100, 1), (113, 1), (114, 1), (115, 1), (116, 1), (117, 1), (118, 1), (119, 1), (120, 1), (121, 1), (122, 1), (123, 1), (124, 1), (125, 1)]\n"
          ]
        }
      ]
    },
    {
      "cell_type": "markdown",
      "source": [
        "Construir matriz de documentos vs términos"
      ],
      "metadata": {
        "id": "a3Goa699gzT_"
      }
    },
    {
      "cell_type": "code",
      "source": [
        "# libreria para paralelizar\n",
        "import multiprocessing as mp\n",
        "import time\n",
        "\n",
        "t0 = time.time()\n",
        "pool = mp.Pool(mp.cpu_count())\n",
        "doc_term_matrix = pool.map(dictionary.doc2bow, [sentence for sentence in df.tokens_twitter])\n",
        "pool.close()\n"
      ],
      "metadata": {
        "id": "cSwWU75Gg0fi",
        "outputId": "15a65188-260e-4c4e-c664-41a397b42b0d",
        "colab": {
          "base_uri": "https://localhost:8080/"
        }
      },
      "execution_count": null,
      "outputs": [
        {
          "output_type": "stream",
          "name": "stderr",
          "text": [
            "IOPub data rate exceeded.\n",
            "The notebook server will temporarily stop sending output\n",
            "to the client in order to avoid crashing it.\n",
            "To change this limit, set the config variable\n",
            "`--NotebookApp.iopub_data_rate_limit`.\n",
            "\n",
            "Current values:\n",
            "NotebookApp.iopub_data_rate_limit=1000000.0 (bytes/sec)\n",
            "NotebookApp.rate_limit_window=3.0 (secs)\n",
            "\n"
          ]
        }
      ]
    },
    {
      "cell_type": "code",
      "source": [
        "for i in doc_term_matrix[:5]:\n",
        "    print(i)"
      ],
      "metadata": {
        "id": "2MN7GI4Hl2Bg",
        "outputId": "b7a14ac2-a919-40cb-9f91-51a5cc9c5cce",
        "colab": {
          "base_uri": "https://localhost:8080/"
        }
      },
      "execution_count": null,
      "outputs": [
        {
          "output_type": "stream",
          "name": "stdout",
          "text": [
            "[(0, 2), (1, 1), (2, 1), (3, 1), (4, 1), (5, 1), (6, 1), (7, 1), (8, 1), (9, 1), (10, 1), (11, 1), (12, 1), (13, 1), (14, 1), (15, 4)]\n",
            "[(2, 1), (16, 1), (17, 1), (18, 1), (19, 1), (20, 1), (21, 1), (22, 1), (23, 1), (24, 1), (25, 1)]\n",
            "[(0, 1), (2, 1), (6, 1), (15, 1), (16, 1), (17, 1), (24, 2), (26, 1), (27, 1), (28, 1), (29, 1), (30, 1), (31, 1), (32, 1), (33, 1), (34, 1), (35, 1), (36, 1), (37, 1), (38, 1), (39, 1), (40, 1), (41, 1), (42, 1), (43, 1), (44, 1), (45, 1), (46, 1), (47, 1), (48, 2)]\n",
            "[(0, 1), (2, 1), (15, 1), (16, 1), (17, 2), (49, 1), (50, 1), (51, 1), (52, 1), (53, 1), (54, 1), (55, 1), (56, 1), (57, 1), (58, 1), (59, 1), (60, 1), (61, 1), (62, 1), (63, 1), (64, 1), (65, 1), (66, 2)]\n",
            "[(2, 1), (17, 1), (49, 1), (51, 1), (52, 1), (54, 1), (55, 1), (56, 1), (57, 2), (58, 1), (59, 1), (63, 1), (67, 1), (68, 1), (69, 1), (70, 1), (71, 1), (72, 1), (73, 1), (74, 1), (75, 1), (76, 1), (77, 1)]\n"
          ]
        }
      ]
    },
    {
      "cell_type": "markdown",
      "source": [
        "Construir modelo LDA"
      ],
      "metadata": {
        "id": "rx4ZCidLlTu7"
      }
    },
    {
      "cell_type": "code",
      "source": [
        "from gensim.models.ldamulticore import LdaMulticore\n",
        "\n",
        "t0 = time.time()\n",
        "lda_model = LdaMulticore(doc_term_matrix, num_topics=20, id2word = dictionary, passes=10, workers=10)\n",
        "print(time.time()-t0)"
      ],
      "metadata": {
        "id": "QI3baWDulUdC",
        "outputId": "ffe3d0e5-d689-4cd4-9423-66d1c78ad2cf",
        "colab": {
          "base_uri": "https://localhost:8080/"
        }
      },
      "execution_count": null,
      "outputs": [
        {
          "output_type": "stream",
          "name": "stdout",
          "text": [
            "345.45307898521423\n"
          ]
        }
      ]
    },
    {
      "cell_type": "code",
      "source": [
        "def assigntopic(doc):\n",
        "    vector = lda_model[dictionary.doc2bow(doc)] \n",
        "    # opción 1: todos los tópicos ordenados de mayor a menor, podria ser topN tambien asi: return vector[:5] n=5\n",
        "    #vector = sorted(vector, key=lambda item: -item[1])\n",
        "    # opción 2: asignar el tópico mayor a cada documento\n",
        "    vector = max(vector,key=lambda item: item[1])\n",
        "    return vector"
      ],
      "metadata": {
        "id": "JkYbDMlvoH-X"
      },
      "execution_count": null,
      "outputs": []
    },
    {
      "cell_type": "code",
      "source": [
        "df['topics'] = df.apply(lambda row: assigntopic(row['tokens_twitter']), axis=1)\n",
        "df.head()"
      ],
      "metadata": {
        "id": "S7CMmpqTqjK-",
        "outputId": "7e79027f-cc59-40d6-89a9-45f750b99ce8",
        "colab": {
          "base_uri": "https://localhost:8080/",
          "height": 206
        }
      },
      "execution_count": null,
      "outputs": [
        {
          "output_type": "execute_result",
          "data": {
            "text/plain": [
              "                                                text  \\\n",
              "0  2020 is the year we #votethemout, the year we ...   \n",
              "1  Winter has not stopped this group of dedicated...   \n",
              "2  WEEK 55 of #ClimateStrike at the @UN. Next wee...   \n",
              "3   A year of resistance, as youth protests shape...   \n",
              "4   HAPPY HOLIDAYS #greta #gretathunberg #climate...   \n",
              "\n",
              "                                      tokens_twitter            topics  \n",
              "0  [2020, year, votethemout, year, climatestrik, ...    (2, 0.6880466)  \n",
              "1  [wint, stop, group, ded, clim, act, exampl, fo...  (10, 0.92081636)  \n",
              "2  [week, 55, climatestrik, un, next, week, frida...   (4, 0.42697763)  \n",
              "3  [year, resist, you, protest, shap, clim, chang...   (13, 0.7469429)  \n",
              "4  [happy, holiday, gret, gretathunberg, climatec...    (5, 0.4563971)  "
            ],
            "text/html": [
              "\n",
              "  <div id=\"df-32a2152e-d0d7-4c85-aa33-ec02d44a44ba\">\n",
              "    <div class=\"colab-df-container\">\n",
              "      <div>\n",
              "<style scoped>\n",
              "    .dataframe tbody tr th:only-of-type {\n",
              "        vertical-align: middle;\n",
              "    }\n",
              "\n",
              "    .dataframe tbody tr th {\n",
              "        vertical-align: top;\n",
              "    }\n",
              "\n",
              "    .dataframe thead th {\n",
              "        text-align: right;\n",
              "    }\n",
              "</style>\n",
              "<table border=\"1\" class=\"dataframe\">\n",
              "  <thead>\n",
              "    <tr style=\"text-align: right;\">\n",
              "      <th></th>\n",
              "      <th>text</th>\n",
              "      <th>tokens_twitter</th>\n",
              "      <th>topics</th>\n",
              "    </tr>\n",
              "  </thead>\n",
              "  <tbody>\n",
              "    <tr>\n",
              "      <th>0</th>\n",
              "      <td>2020 is the year we #votethemout, the year we ...</td>\n",
              "      <td>[2020, year, votethemout, year, climatestrik, ...</td>\n",
              "      <td>(2, 0.6880466)</td>\n",
              "    </tr>\n",
              "    <tr>\n",
              "      <th>1</th>\n",
              "      <td>Winter has not stopped this group of dedicated...</td>\n",
              "      <td>[wint, stop, group, ded, clim, act, exampl, fo...</td>\n",
              "      <td>(10, 0.92081636)</td>\n",
              "    </tr>\n",
              "    <tr>\n",
              "      <th>2</th>\n",
              "      <td>WEEK 55 of #ClimateStrike at the @UN. Next wee...</td>\n",
              "      <td>[week, 55, climatestrik, un, next, week, frida...</td>\n",
              "      <td>(4, 0.42697763)</td>\n",
              "    </tr>\n",
              "    <tr>\n",
              "      <th>3</th>\n",
              "      <td>A year of resistance, as youth protests shape...</td>\n",
              "      <td>[year, resist, you, protest, shap, clim, chang...</td>\n",
              "      <td>(13, 0.7469429)</td>\n",
              "    </tr>\n",
              "    <tr>\n",
              "      <th>4</th>\n",
              "      <td>HAPPY HOLIDAYS #greta #gretathunberg #climate...</td>\n",
              "      <td>[happy, holiday, gret, gretathunberg, climatec...</td>\n",
              "      <td>(5, 0.4563971)</td>\n",
              "    </tr>\n",
              "  </tbody>\n",
              "</table>\n",
              "</div>\n",
              "      <button class=\"colab-df-convert\" onclick=\"convertToInteractive('df-32a2152e-d0d7-4c85-aa33-ec02d44a44ba')\"\n",
              "              title=\"Convert this dataframe to an interactive table.\"\n",
              "              style=\"display:none;\">\n",
              "        \n",
              "  <svg xmlns=\"http://www.w3.org/2000/svg\" height=\"24px\"viewBox=\"0 0 24 24\"\n",
              "       width=\"24px\">\n",
              "    <path d=\"M0 0h24v24H0V0z\" fill=\"none\"/>\n",
              "    <path d=\"M18.56 5.44l.94 2.06.94-2.06 2.06-.94-2.06-.94-.94-2.06-.94 2.06-2.06.94zm-11 1L8.5 8.5l.94-2.06 2.06-.94-2.06-.94L8.5 2.5l-.94 2.06-2.06.94zm10 10l.94 2.06.94-2.06 2.06-.94-2.06-.94-.94-2.06-.94 2.06-2.06.94z\"/><path d=\"M17.41 7.96l-1.37-1.37c-.4-.4-.92-.59-1.43-.59-.52 0-1.04.2-1.43.59L10.3 9.45l-7.72 7.72c-.78.78-.78 2.05 0 2.83L4 21.41c.39.39.9.59 1.41.59.51 0 1.02-.2 1.41-.59l7.78-7.78 2.81-2.81c.8-.78.8-2.07 0-2.86zM5.41 20L4 18.59l7.72-7.72 1.47 1.35L5.41 20z\"/>\n",
              "  </svg>\n",
              "      </button>\n",
              "      \n",
              "  <style>\n",
              "    .colab-df-container {\n",
              "      display:flex;\n",
              "      flex-wrap:wrap;\n",
              "      gap: 12px;\n",
              "    }\n",
              "\n",
              "    .colab-df-convert {\n",
              "      background-color: #E8F0FE;\n",
              "      border: none;\n",
              "      border-radius: 50%;\n",
              "      cursor: pointer;\n",
              "      display: none;\n",
              "      fill: #1967D2;\n",
              "      height: 32px;\n",
              "      padding: 0 0 0 0;\n",
              "      width: 32px;\n",
              "    }\n",
              "\n",
              "    .colab-df-convert:hover {\n",
              "      background-color: #E2EBFA;\n",
              "      box-shadow: 0px 1px 2px rgba(60, 64, 67, 0.3), 0px 1px 3px 1px rgba(60, 64, 67, 0.15);\n",
              "      fill: #174EA6;\n",
              "    }\n",
              "\n",
              "    [theme=dark] .colab-df-convert {\n",
              "      background-color: #3B4455;\n",
              "      fill: #D2E3FC;\n",
              "    }\n",
              "\n",
              "    [theme=dark] .colab-df-convert:hover {\n",
              "      background-color: #434B5C;\n",
              "      box-shadow: 0px 1px 3px 1px rgba(0, 0, 0, 0.15);\n",
              "      filter: drop-shadow(0px 1px 2px rgba(0, 0, 0, 0.3));\n",
              "      fill: #FFFFFF;\n",
              "    }\n",
              "  </style>\n",
              "\n",
              "      <script>\n",
              "        const buttonEl =\n",
              "          document.querySelector('#df-32a2152e-d0d7-4c85-aa33-ec02d44a44ba button.colab-df-convert');\n",
              "        buttonEl.style.display =\n",
              "          google.colab.kernel.accessAllowed ? 'block' : 'none';\n",
              "\n",
              "        async function convertToInteractive(key) {\n",
              "          const element = document.querySelector('#df-32a2152e-d0d7-4c85-aa33-ec02d44a44ba');\n",
              "          const dataTable =\n",
              "            await google.colab.kernel.invokeFunction('convertToInteractive',\n",
              "                                                     [key], {});\n",
              "          if (!dataTable) return;\n",
              "\n",
              "          const docLinkHtml = 'Like what you see? Visit the ' +\n",
              "            '<a target=\"_blank\" href=https://colab.research.google.com/notebooks/data_table.ipynb>data table notebook</a>'\n",
              "            + ' to learn more about interactive tables.';\n",
              "          element.innerHTML = '';\n",
              "          dataTable['output_type'] = 'display_data';\n",
              "          await google.colab.output.renderOutput(dataTable, element);\n",
              "          const docLink = document.createElement('div');\n",
              "          docLink.innerHTML = docLinkHtml;\n",
              "          element.appendChild(docLink);\n",
              "        }\n",
              "      </script>\n",
              "    </div>\n",
              "  </div>\n",
              "  "
            ]
          },
          "metadata": {},
          "execution_count": 25
        }
      ]
    },
    {
      "cell_type": "markdown",
      "source": [
        "# Análisis frecuencial por token o hashtags"
      ],
      "metadata": {
        "id": "Ypx9bBK_5LnA"
      }
    },
    {
      "cell_type": "markdown",
      "source": [
        "# Nubes de palabras por token o hashtags"
      ],
      "metadata": {
        "id": "6LWz9PDA5T7p"
      }
    },
    {
      "cell_type": "markdown",
      "source": [
        "# Análisis exploratorio no supervisado utilizando técnicas de LDA"
      ],
      "metadata": {
        "id": "yMe5YdkZ5h-A"
      }
    },
    {
      "cell_type": "markdown",
      "source": [
        "# Clasificación y análisis de sentimientos"
      ],
      "metadata": {
        "id": "0BO2mYq55pvG"
      }
    }
  ]
}
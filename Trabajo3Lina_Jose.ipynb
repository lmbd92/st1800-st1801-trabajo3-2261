{
  "nbformat": 4,
  "nbformat_minor": 0,
  "metadata": {
    "colab": {
      "name": "Trabajo3Lina_Jose.ipynb",
      "provenance": [],
      "toc_visible": true,
      "include_colab_link": true
    },
    "kernelspec": {
      "name": "python3",
      "display_name": "Python 3"
    },
    "language_info": {
      "name": "python"
    }
  },
  "cells": [
    {
      "cell_type": "markdown",
      "metadata": {
        "id": "view-in-github",
        "colab_type": "text"
      },
      "source": [
        "<a href=\"https://colab.research.google.com/github/lmbd92/st1800-st1801-trabajo3-2261/blob/main/Trabajo3Lina_Jose.ipynb\" target=\"_parent\"><img src=\"https://colab.research.google.com/assets/colab-badge.svg\" alt=\"Open In Colab\"/></a>"
      ]
    },
    {
      "cell_type": "markdown",
      "source": [
        "Integrantes: Lina Beltrán (lbeltra1@eafit.edu.co), Jose Muñoz (jjmunozm@eafit.edu.co)\n",
        "\n",
        "Materia: Alm. & Recu. de información.\n",
        "\n",
        "Trabajo 3\n",
        "\n",
        "Universidad EAFIT - Maestria ciencia en datos y analítica\n",
        "\n",
        "Trabajo 2 Unidad 2 recuperación de texto"
      ],
      "metadata": {
        "id": "Z4h_pwsBq34m"
      }
    },
    {
      "cell_type": "markdown",
      "source": [
        "Data: https://github.com/lmbd92/st1800-st1801-trabajo3-2261/blob/main/Trabajo3/twitter.txt"
      ],
      "metadata": {
        "id": "6yp5sbzv7dbk"
      }
    },
    {
      "cell_type": "markdown",
      "source": [
        "# Abrir archivos desde GitHub"
      ],
      "metadata": {
        "id": "UHB37enaq8xD"
      }
    },
    {
      "cell_type": "code",
      "source": [
        "# OJO!!!! Ejecutar este bloque una sola vez (Por cada sesión iniciada)\n",
        "\n",
        "#!git clone -l -s https://github.com/lmbd92/st1800-st1801-trabajo3-2261.git cloned-repo\n",
        "#%cd cloned-repo\n",
        "#!ls"
      ],
      "metadata": {
        "id": "zOzWds09rd5z"
      },
      "execution_count": 40,
      "outputs": []
    },
    {
      "cell_type": "code",
      "source": [
        "# Delete repo local colab (Usar solo en caso de requerir actualizar el repo desde Github Nuevamente)\n",
        "\n",
        "#!rm -r /content/cloned-repo"
      ],
      "metadata": {
        "id": "r1lCqeA9SkNA"
      },
      "execution_count": 41,
      "outputs": []
    },
    {
      "cell_type": "markdown",
      "source": [
        "**Nota:** Para guardar el notebook directamente en Github, dirigirse a File→Save a copy in GitHub"
      ],
      "metadata": {
        "id": "KZbH5N-4ynB-"
      }
    },
    {
      "cell_type": "markdown",
      "source": [
        "# Preparación de ambiente de trabajo (Dependencias/librerias)"
      ],
      "metadata": {
        "id": "eNUP62YtFN2H"
      }
    },
    {
      "cell_type": "code",
      "source": [
        "# Transmisión eficiente de archivos muy grandes desde/hacia almacenamientos como S3, GCS, Azure Blob Storage, HDFS, WebHDFS\n",
        "!pip install smart-open\n",
        "\n",
        "# Modelado y procesamiento NLP\n",
        "!pip install --upgrade gensim\n",
        "!pip install nltk\n",
        "\n",
        "# Interpretar el tema en un modelo de temas que se ha ajustado a un corpus\n",
        "!pip install pyLDAvis"
      ],
      "metadata": {
        "id": "mtsUDGc89I3Y",
        "colab": {
          "base_uri": "https://localhost:8080/"
        },
        "outputId": "1ba42800-ddd5-467e-927a-790cb03a3455"
      },
      "execution_count": 42,
      "outputs": [
        {
          "output_type": "stream",
          "name": "stdout",
          "text": [
            "Requirement already satisfied: smart-open in /usr/local/lib/python3.7/dist-packages (5.2.1)\n",
            "Requirement already satisfied: gensim in /usr/local/lib/python3.7/dist-packages (4.1.2)\n",
            "Requirement already satisfied: smart-open>=1.8.1 in /usr/local/lib/python3.7/dist-packages (from gensim) (5.2.1)\n",
            "Requirement already satisfied: numpy>=1.17.0 in /usr/local/lib/python3.7/dist-packages (from gensim) (1.21.5)\n",
            "Requirement already satisfied: scipy>=0.18.1 in /usr/local/lib/python3.7/dist-packages (from gensim) (1.4.1)\n",
            "Requirement already satisfied: nltk in /usr/local/lib/python3.7/dist-packages (3.2.5)\n",
            "Requirement already satisfied: six in /usr/local/lib/python3.7/dist-packages (from nltk) (1.15.0)\n",
            "Requirement already satisfied: pyLDAvis in /usr/local/lib/python3.7/dist-packages (3.3.1)\n",
            "Requirement already satisfied: joblib in /usr/local/lib/python3.7/dist-packages (from pyLDAvis) (1.1.0)\n",
            "Requirement already satisfied: sklearn in /usr/local/lib/python3.7/dist-packages (from pyLDAvis) (0.0)\n",
            "Requirement already satisfied: numexpr in /usr/local/lib/python3.7/dist-packages (from pyLDAvis) (2.8.1)\n",
            "Requirement already satisfied: funcy in /usr/local/lib/python3.7/dist-packages (from pyLDAvis) (1.17)\n",
            "Requirement already satisfied: gensim in /usr/local/lib/python3.7/dist-packages (from pyLDAvis) (4.1.2)\n",
            "Requirement already satisfied: pandas>=1.2.0 in /usr/local/lib/python3.7/dist-packages (from pyLDAvis) (1.3.5)\n",
            "Requirement already satisfied: scipy in /usr/local/lib/python3.7/dist-packages (from pyLDAvis) (1.4.1)\n",
            "Requirement already satisfied: setuptools in /usr/local/lib/python3.7/dist-packages (from pyLDAvis) (57.4.0)\n",
            "Requirement already satisfied: numpy>=1.20.0 in /usr/local/lib/python3.7/dist-packages (from pyLDAvis) (1.21.5)\n",
            "Requirement already satisfied: future in /usr/local/lib/python3.7/dist-packages (from pyLDAvis) (0.16.0)\n",
            "Requirement already satisfied: jinja2 in /usr/local/lib/python3.7/dist-packages (from pyLDAvis) (2.11.3)\n",
            "Requirement already satisfied: scikit-learn in /usr/local/lib/python3.7/dist-packages (from pyLDAvis) (1.0.2)\n",
            "Requirement already satisfied: python-dateutil>=2.7.3 in /usr/local/lib/python3.7/dist-packages (from pandas>=1.2.0->pyLDAvis) (2.8.2)\n",
            "Requirement already satisfied: pytz>=2017.3 in /usr/local/lib/python3.7/dist-packages (from pandas>=1.2.0->pyLDAvis) (2018.9)\n",
            "Requirement already satisfied: six>=1.5 in /usr/local/lib/python3.7/dist-packages (from python-dateutil>=2.7.3->pandas>=1.2.0->pyLDAvis) (1.15.0)\n",
            "Requirement already satisfied: smart-open>=1.8.1 in /usr/local/lib/python3.7/dist-packages (from gensim->pyLDAvis) (5.2.1)\n",
            "Requirement already satisfied: MarkupSafe>=0.23 in /usr/local/lib/python3.7/dist-packages (from jinja2->pyLDAvis) (2.0.1)\n",
            "Requirement already satisfied: packaging in /usr/local/lib/python3.7/dist-packages (from numexpr->pyLDAvis) (21.3)\n",
            "Requirement already satisfied: pyparsing!=3.0.5,>=2.0.2 in /usr/local/lib/python3.7/dist-packages (from packaging->numexpr->pyLDAvis) (3.0.7)\n",
            "Requirement already satisfied: threadpoolctl>=2.0.0 in /usr/local/lib/python3.7/dist-packages (from scikit-learn->pyLDAvis) (3.1.0)\n"
          ]
        }
      ]
    },
    {
      "cell_type": "code",
      "source": [
        "import pandas as pd\n",
        "import numpy as np\n",
        "import nltk\n",
        "# Soporte para expresiones regulares (RE).\n",
        "import re"
      ],
      "metadata": {
        "id": "xXpQ5d5lDgGl"
      },
      "execution_count": 43,
      "outputs": []
    },
    {
      "cell_type": "code",
      "source": [
        "# nltk: tokenizador y stopwords\n",
        "\n",
        "from nltk.corpus import stopwords\n",
        "nltk.download('punkt')\n",
        "nltk.download('stopwords')\n",
        "nltk.download('words')\n",
        "nltk.download('wordnet')\n",
        "nltk.download('omw-1.4')\n",
        "stop_words_nltk = set(stopwords.words('english'))\n",
        "print(len(stopwords.words('english')))"
      ],
      "metadata": {
        "id": "rtPvxrfnDnXe",
        "outputId": "961e37ca-fff3-4fc2-bd60-d8eaa82d6ec6",
        "colab": {
          "base_uri": "https://localhost:8080/"
        }
      },
      "execution_count": 44,
      "outputs": [
        {
          "output_type": "stream",
          "name": "stdout",
          "text": [
            "[nltk_data] Downloading package punkt to /root/nltk_data...\n",
            "[nltk_data]   Package punkt is already up-to-date!\n",
            "[nltk_data] Downloading package stopwords to /root/nltk_data...\n",
            "[nltk_data]   Package stopwords is already up-to-date!\n",
            "[nltk_data] Downloading package words to /root/nltk_data...\n",
            "[nltk_data]   Package words is already up-to-date!\n",
            "[nltk_data] Downloading package wordnet to /root/nltk_data...\n",
            "[nltk_data]   Package wordnet is already up-to-date!\n",
            "[nltk_data] Downloading package omw-1.4 to /root/nltk_data...\n",
            "[nltk_data]   Package omw-1.4 is already up-to-date!\n",
            "179\n"
          ]
        }
      ]
    },
    {
      "cell_type": "code",
      "source": [
        "#Lematizar, Stem\n",
        "from nltk.stem import WordNetLemmatizer\n",
        "from nltk.stem import LancasterStemmer\n",
        "#\n",
        "lancaster = LancasterStemmer()\n",
        "wordnet_lemmatizer = WordNetLemmatizer()"
      ],
      "metadata": {
        "id": "LYP0qN2cFAJt"
      },
      "execution_count": 45,
      "outputs": []
    },
    {
      "cell_type": "code",
      "source": [
        "#imprimir listas grandes\n",
        "import pprint\n",
        "from pprint import pprint"
      ],
      "metadata": {
        "id": "c6Z6T2tpH0uy"
      },
      "execution_count": 46,
      "outputs": []
    },
    {
      "cell_type": "markdown",
      "source": [
        "# Carga de Data Raw y EDA básico\n",
        "\n"
      ],
      "metadata": {
        "id": "Lk0ARlhr5Als"
      }
    },
    {
      "cell_type": "code",
      "source": [
        "# Carga de los datos\n",
        "\n",
        "path_in = '/content/cloned-repo/Trabajo3/'\n",
        "path_out = '/content/cloned-repo/Trabajo3/out/'\n",
        "file_name = 'twitterClimateData.csv'\n",
        "\n",
        "df = pd.read_csv(f'{path_in}{file_name}')\n",
        "df.head()"
      ],
      "metadata": {
        "id": "6WWOc5yXF-IE",
        "outputId": "9423237b-358b-4bd1-8c7a-362ddbc75826",
        "colab": {
          "base_uri": "https://localhost:8080/",
          "height": 0
        }
      },
      "execution_count": 47,
      "outputs": [
        {
          "output_type": "execute_result",
          "data": {
            "text/plain": [
              "   Unnamed: 0            id     author_id  \\\n",
              "0           0  1.211810e+18  7.590000e+17   \n",
              "1           1  1.210670e+18  2.219547e+07   \n",
              "2           2  1.210590e+18  1.070000e+18   \n",
              "3           3  1.210260e+18  1.339821e+09   \n",
              "4           4  1.209640e+18  1.339821e+09   \n",
              "\n",
              "                                                text  retweets  \\\n",
              "0  2020 is the year we #votethemout, the year we ...        15   \n",
              "1  Winter has not stopped this group of dedicated...         9   \n",
              "2  WEEK 55 of #ClimateStrike at the @UN. Next wee...       545   \n",
              "3   A year of resistance, as youth protests shape...         1   \n",
              "4   HAPPY HOLIDAYS #greta #gretathunberg #climate...         1   \n",
              "\n",
              "                                           permalink  \\\n",
              "0  https://twitter.com/Sphiamia/status/1211807074...   \n",
              "1  https://twitter.com/StephDujarric/status/12106...   \n",
              "2  https://twitter.com/AlexandriaV2005/status/121...   \n",
              "3  https://twitter.com/EnergyHouseVA/status/12102...   \n",
              "4  https://twitter.com/EnergyHouseVA/status/12096...   \n",
              "\n",
              "                        date                  formatted_date  favorites  \\\n",
              "0  2019-12-31 00:31:35+00:00  Tue Dec 31 00:31:35 +0000 2019         46   \n",
              "1  2019-12-27 20:56:21+00:00  Fri Dec 27 20:56:21 +0000 2019         35   \n",
              "2  2019-12-27 15:50:22+00:00  Fri Dec 27 15:50:22 +0000 2019       3283   \n",
              "3  2019-12-26 17:53:26+00:00  Thu Dec 26 17:53:26 +0000 2019          2   \n",
              "4  2019-12-25 00:56:37+00:00  Wed Dec 25 00:56:37 +0000 2019          4   \n",
              "\n",
              "              mentions  ...         location  \\\n",
              "0                  NaN  ...  California, USA   \n",
              "1                  NaN  ...  California, USA   \n",
              "2  @UN @Fridays4future  ...  California, USA   \n",
              "3                  NaN  ...  California, USA   \n",
              "4                  NaN  ...  California, USA   \n",
              "\n",
              "                                          text_clean tb_sentiment_polarity  \\\n",
              "0  2020 is the year we votethemout the year we cl...             -0.100000   \n",
              "1  Winter has not stopped this group of dedicated...              0.000000   \n",
              "2  WEEK 55 of ClimateStrike at the UN Next week F...              0.166667   \n",
              "3   A year of resistance as youth protests shaped...              0.183333   \n",
              "4   HAPPY HOLIDAYS greta gretathunberg climatecha...              0.650000   \n",
              "\n",
              "  tb_sentiment_subjectivity textBlob_sentiment vader_compound  vader_pos  \\\n",
              "0                  0.462500           negative        -0.5682      0.000   \n",
              "1                  0.000000           positive         0.5670      0.215   \n",
              "2                  0.333333           positive        -0.8567      0.023   \n",
              "3                  0.600000           positive         0.7739      0.203   \n",
              "4                  0.800000           positive         0.9413      0.451   \n",
              "\n",
              "   vader_neg vader_neu  V_Sentiment  \n",
              "0      0.131     0.869     Negative  \n",
              "1      0.000     0.785     Positive  \n",
              "2      0.180     0.797     Negative  \n",
              "3      0.051     0.746     Positive  \n",
              "4      0.000     0.549     Positive  \n",
              "\n",
              "[5 rows x 24 columns]"
            ],
            "text/html": [
              "\n",
              "  <div id=\"df-18213480-0131-4155-90c6-aa94f533e0b1\">\n",
              "    <div class=\"colab-df-container\">\n",
              "      <div>\n",
              "<style scoped>\n",
              "    .dataframe tbody tr th:only-of-type {\n",
              "        vertical-align: middle;\n",
              "    }\n",
              "\n",
              "    .dataframe tbody tr th {\n",
              "        vertical-align: top;\n",
              "    }\n",
              "\n",
              "    .dataframe thead th {\n",
              "        text-align: right;\n",
              "    }\n",
              "</style>\n",
              "<table border=\"1\" class=\"dataframe\">\n",
              "  <thead>\n",
              "    <tr style=\"text-align: right;\">\n",
              "      <th></th>\n",
              "      <th>Unnamed: 0</th>\n",
              "      <th>id</th>\n",
              "      <th>author_id</th>\n",
              "      <th>text</th>\n",
              "      <th>retweets</th>\n",
              "      <th>permalink</th>\n",
              "      <th>date</th>\n",
              "      <th>formatted_date</th>\n",
              "      <th>favorites</th>\n",
              "      <th>mentions</th>\n",
              "      <th>...</th>\n",
              "      <th>location</th>\n",
              "      <th>text_clean</th>\n",
              "      <th>tb_sentiment_polarity</th>\n",
              "      <th>tb_sentiment_subjectivity</th>\n",
              "      <th>textBlob_sentiment</th>\n",
              "      <th>vader_compound</th>\n",
              "      <th>vader_pos</th>\n",
              "      <th>vader_neg</th>\n",
              "      <th>vader_neu</th>\n",
              "      <th>V_Sentiment</th>\n",
              "    </tr>\n",
              "  </thead>\n",
              "  <tbody>\n",
              "    <tr>\n",
              "      <th>0</th>\n",
              "      <td>0</td>\n",
              "      <td>1.211810e+18</td>\n",
              "      <td>7.590000e+17</td>\n",
              "      <td>2020 is the year we #votethemout, the year we ...</td>\n",
              "      <td>15</td>\n",
              "      <td>https://twitter.com/Sphiamia/status/1211807074...</td>\n",
              "      <td>2019-12-31 00:31:35+00:00</td>\n",
              "      <td>Tue Dec 31 00:31:35 +0000 2019</td>\n",
              "      <td>46</td>\n",
              "      <td>NaN</td>\n",
              "      <td>...</td>\n",
              "      <td>California, USA</td>\n",
              "      <td>2020 is the year we votethemout the year we cl...</td>\n",
              "      <td>-0.100000</td>\n",
              "      <td>0.462500</td>\n",
              "      <td>negative</td>\n",
              "      <td>-0.5682</td>\n",
              "      <td>0.000</td>\n",
              "      <td>0.131</td>\n",
              "      <td>0.869</td>\n",
              "      <td>Negative</td>\n",
              "    </tr>\n",
              "    <tr>\n",
              "      <th>1</th>\n",
              "      <td>1</td>\n",
              "      <td>1.210670e+18</td>\n",
              "      <td>2.219547e+07</td>\n",
              "      <td>Winter has not stopped this group of dedicated...</td>\n",
              "      <td>9</td>\n",
              "      <td>https://twitter.com/StephDujarric/status/12106...</td>\n",
              "      <td>2019-12-27 20:56:21+00:00</td>\n",
              "      <td>Fri Dec 27 20:56:21 +0000 2019</td>\n",
              "      <td>35</td>\n",
              "      <td>NaN</td>\n",
              "      <td>...</td>\n",
              "      <td>California, USA</td>\n",
              "      <td>Winter has not stopped this group of dedicated...</td>\n",
              "      <td>0.000000</td>\n",
              "      <td>0.000000</td>\n",
              "      <td>positive</td>\n",
              "      <td>0.5670</td>\n",
              "      <td>0.215</td>\n",
              "      <td>0.000</td>\n",
              "      <td>0.785</td>\n",
              "      <td>Positive</td>\n",
              "    </tr>\n",
              "    <tr>\n",
              "      <th>2</th>\n",
              "      <td>2</td>\n",
              "      <td>1.210590e+18</td>\n",
              "      <td>1.070000e+18</td>\n",
              "      <td>WEEK 55 of #ClimateStrike at the @UN. Next wee...</td>\n",
              "      <td>545</td>\n",
              "      <td>https://twitter.com/AlexandriaV2005/status/121...</td>\n",
              "      <td>2019-12-27 15:50:22+00:00</td>\n",
              "      <td>Fri Dec 27 15:50:22 +0000 2019</td>\n",
              "      <td>3283</td>\n",
              "      <td>@UN @Fridays4future</td>\n",
              "      <td>...</td>\n",
              "      <td>California, USA</td>\n",
              "      <td>WEEK 55 of ClimateStrike at the UN Next week F...</td>\n",
              "      <td>0.166667</td>\n",
              "      <td>0.333333</td>\n",
              "      <td>positive</td>\n",
              "      <td>-0.8567</td>\n",
              "      <td>0.023</td>\n",
              "      <td>0.180</td>\n",
              "      <td>0.797</td>\n",
              "      <td>Negative</td>\n",
              "    </tr>\n",
              "    <tr>\n",
              "      <th>3</th>\n",
              "      <td>3</td>\n",
              "      <td>1.210260e+18</td>\n",
              "      <td>1.339821e+09</td>\n",
              "      <td>A year of resistance, as youth protests shape...</td>\n",
              "      <td>1</td>\n",
              "      <td>https://twitter.com/EnergyHouseVA/status/12102...</td>\n",
              "      <td>2019-12-26 17:53:26+00:00</td>\n",
              "      <td>Thu Dec 26 17:53:26 +0000 2019</td>\n",
              "      <td>2</td>\n",
              "      <td>NaN</td>\n",
              "      <td>...</td>\n",
              "      <td>California, USA</td>\n",
              "      <td>A year of resistance as youth protests shaped...</td>\n",
              "      <td>0.183333</td>\n",
              "      <td>0.600000</td>\n",
              "      <td>positive</td>\n",
              "      <td>0.7739</td>\n",
              "      <td>0.203</td>\n",
              "      <td>0.051</td>\n",
              "      <td>0.746</td>\n",
              "      <td>Positive</td>\n",
              "    </tr>\n",
              "    <tr>\n",
              "      <th>4</th>\n",
              "      <td>4</td>\n",
              "      <td>1.209640e+18</td>\n",
              "      <td>1.339821e+09</td>\n",
              "      <td>HAPPY HOLIDAYS #greta #gretathunberg #climate...</td>\n",
              "      <td>1</td>\n",
              "      <td>https://twitter.com/EnergyHouseVA/status/12096...</td>\n",
              "      <td>2019-12-25 00:56:37+00:00</td>\n",
              "      <td>Wed Dec 25 00:56:37 +0000 2019</td>\n",
              "      <td>4</td>\n",
              "      <td>NaN</td>\n",
              "      <td>...</td>\n",
              "      <td>California, USA</td>\n",
              "      <td>HAPPY HOLIDAYS greta gretathunberg climatecha...</td>\n",
              "      <td>0.650000</td>\n",
              "      <td>0.800000</td>\n",
              "      <td>positive</td>\n",
              "      <td>0.9413</td>\n",
              "      <td>0.451</td>\n",
              "      <td>0.000</td>\n",
              "      <td>0.549</td>\n",
              "      <td>Positive</td>\n",
              "    </tr>\n",
              "  </tbody>\n",
              "</table>\n",
              "<p>5 rows × 24 columns</p>\n",
              "</div>\n",
              "      <button class=\"colab-df-convert\" onclick=\"convertToInteractive('df-18213480-0131-4155-90c6-aa94f533e0b1')\"\n",
              "              title=\"Convert this dataframe to an interactive table.\"\n",
              "              style=\"display:none;\">\n",
              "        \n",
              "  <svg xmlns=\"http://www.w3.org/2000/svg\" height=\"24px\"viewBox=\"0 0 24 24\"\n",
              "       width=\"24px\">\n",
              "    <path d=\"M0 0h24v24H0V0z\" fill=\"none\"/>\n",
              "    <path d=\"M18.56 5.44l.94 2.06.94-2.06 2.06-.94-2.06-.94-.94-2.06-.94 2.06-2.06.94zm-11 1L8.5 8.5l.94-2.06 2.06-.94-2.06-.94L8.5 2.5l-.94 2.06-2.06.94zm10 10l.94 2.06.94-2.06 2.06-.94-2.06-.94-.94-2.06-.94 2.06-2.06.94z\"/><path d=\"M17.41 7.96l-1.37-1.37c-.4-.4-.92-.59-1.43-.59-.52 0-1.04.2-1.43.59L10.3 9.45l-7.72 7.72c-.78.78-.78 2.05 0 2.83L4 21.41c.39.39.9.59 1.41.59.51 0 1.02-.2 1.41-.59l7.78-7.78 2.81-2.81c.8-.78.8-2.07 0-2.86zM5.41 20L4 18.59l7.72-7.72 1.47 1.35L5.41 20z\"/>\n",
              "  </svg>\n",
              "      </button>\n",
              "      \n",
              "  <style>\n",
              "    .colab-df-container {\n",
              "      display:flex;\n",
              "      flex-wrap:wrap;\n",
              "      gap: 12px;\n",
              "    }\n",
              "\n",
              "    .colab-df-convert {\n",
              "      background-color: #E8F0FE;\n",
              "      border: none;\n",
              "      border-radius: 50%;\n",
              "      cursor: pointer;\n",
              "      display: none;\n",
              "      fill: #1967D2;\n",
              "      height: 32px;\n",
              "      padding: 0 0 0 0;\n",
              "      width: 32px;\n",
              "    }\n",
              "\n",
              "    .colab-df-convert:hover {\n",
              "      background-color: #E2EBFA;\n",
              "      box-shadow: 0px 1px 2px rgba(60, 64, 67, 0.3), 0px 1px 3px 1px rgba(60, 64, 67, 0.15);\n",
              "      fill: #174EA6;\n",
              "    }\n",
              "\n",
              "    [theme=dark] .colab-df-convert {\n",
              "      background-color: #3B4455;\n",
              "      fill: #D2E3FC;\n",
              "    }\n",
              "\n",
              "    [theme=dark] .colab-df-convert:hover {\n",
              "      background-color: #434B5C;\n",
              "      box-shadow: 0px 1px 3px 1px rgba(0, 0, 0, 0.15);\n",
              "      filter: drop-shadow(0px 1px 2px rgba(0, 0, 0, 0.3));\n",
              "      fill: #FFFFFF;\n",
              "    }\n",
              "  </style>\n",
              "\n",
              "      <script>\n",
              "        const buttonEl =\n",
              "          document.querySelector('#df-18213480-0131-4155-90c6-aa94f533e0b1 button.colab-df-convert');\n",
              "        buttonEl.style.display =\n",
              "          google.colab.kernel.accessAllowed ? 'block' : 'none';\n",
              "\n",
              "        async function convertToInteractive(key) {\n",
              "          const element = document.querySelector('#df-18213480-0131-4155-90c6-aa94f533e0b1');\n",
              "          const dataTable =\n",
              "            await google.colab.kernel.invokeFunction('convertToInteractive',\n",
              "                                                     [key], {});\n",
              "          if (!dataTable) return;\n",
              "\n",
              "          const docLinkHtml = 'Like what you see? Visit the ' +\n",
              "            '<a target=\"_blank\" href=https://colab.research.google.com/notebooks/data_table.ipynb>data table notebook</a>'\n",
              "            + ' to learn more about interactive tables.';\n",
              "          element.innerHTML = '';\n",
              "          dataTable['output_type'] = 'display_data';\n",
              "          await google.colab.output.renderOutput(dataTable, element);\n",
              "          const docLink = document.createElement('div');\n",
              "          docLink.innerHTML = docLinkHtml;\n",
              "          element.appendChild(docLink);\n",
              "        }\n",
              "      </script>\n",
              "    </div>\n",
              "  </div>\n",
              "  "
            ]
          },
          "metadata": {},
          "execution_count": 47
        }
      ]
    },
    {
      "cell_type": "code",
      "source": [
        "df.shape"
      ],
      "metadata": {
        "id": "7E7uxYmwgRnI",
        "outputId": "f8a9c0bc-0a0f-45e6-aacd-07f98636f37e",
        "colab": {
          "base_uri": "https://localhost:8080/"
        }
      },
      "execution_count": 48,
      "outputs": [
        {
          "output_type": "execute_result",
          "data": {
            "text/plain": [
              "(72405, 24)"
            ]
          },
          "metadata": {},
          "execution_count": 48
        }
      ]
    },
    {
      "cell_type": "code",
      "source": [
        "df.count()"
      ],
      "metadata": {
        "id": "1d-oQ1lRWxTI",
        "outputId": "bbd6f62a-112c-47eb-8117-e336ba4e2b43",
        "colab": {
          "base_uri": "https://localhost:8080/"
        }
      },
      "execution_count": 49,
      "outputs": [
        {
          "output_type": "execute_result",
          "data": {
            "text/plain": [
              "Unnamed: 0                   72405\n",
              "id                           72405\n",
              "author_id                    72405\n",
              "text                         72405\n",
              "retweets                     72405\n",
              "permalink                    72405\n",
              "date                         72405\n",
              "formatted_date               72405\n",
              "favorites                    72405\n",
              "mentions                     27554\n",
              "hashtags                     72402\n",
              "geo                              0\n",
              "urls                         33349\n",
              "search_hashtags              72405\n",
              "location                     72405\n",
              "text_clean                   72405\n",
              "tb_sentiment_polarity        72405\n",
              "tb_sentiment_subjectivity    72405\n",
              "textBlob_sentiment           72405\n",
              "vader_compound               72405\n",
              "vader_pos                    72405\n",
              "vader_neg                    72405\n",
              "vader_neu                    72405\n",
              "V_Sentiment                  72405\n",
              "dtype: int64"
            ]
          },
          "metadata": {},
          "execution_count": 49
        }
      ]
    },
    {
      "cell_type": "code",
      "source": [
        "# Importar wordcloud Libreria\n",
        "from wordcloud import WordCloud\n",
        "# Unir palabras y caracteres Raw\n",
        "long_string = ','.join(list(df['text'].values))\n",
        "# Crear objeto de nube de palabras\n",
        "wordcloud = WordCloud(background_color=\"white\", max_words=5000, contour_width=3, contour_color='steelblue')\n",
        "# Generar nube de palabras\n",
        "wordcloud.generate(long_string)\n",
        "# Visualización\n",
        "wordcloud.to_image()"
      ],
      "metadata": {
        "colab": {
          "base_uri": "https://localhost:8080/",
          "height": 0
        },
        "id": "d8cpZLH59GME",
        "outputId": "c525bdc5-9398-4c3c-e3c6-b2c5cbc0581d"
      },
      "execution_count": 50,
      "outputs": [
        {
          "output_type": "execute_result",
          "data": {
            "text/plain": [
              "<PIL.Image.Image image mode=RGB size=400x200 at 0x7F228E94D9D0>"
            ],
            "image/png": "[encoded data removed]"
          },
          "metadata": {},
          "execution_count": 50
        }
      ]
    },
    {
      "cell_type": "markdown",
      "source": [
        "# Preparación de data, Nubes de tokens y Frecuencia"
      ],
      "metadata": {
        "id": "s4qk4geXhaoc"
      }
    },
    {
      "cell_type": "markdown",
      "source": [
        "Definimos funcion para optimizar incluyendo stem y Lematización"
      ],
      "metadata": {
        "id": "IfTk9Rsmhnx7"
      }
    },
    {
      "cell_type": "code",
      "source": [
        "def textprep(line):\n",
        "    tokens = nltk.word_tokenize(str(line))\n",
        "    tokens = [w.lower() for w in tokens if len(w)>1]\n",
        "    tokens = [re.sub(r'[^A-Za-z0-9]+','',w) for w in tokens]\n",
        "    tokens = [w for w in tokens if w not in stop_words_nltk] \n",
        "    tokens= [wordnet_lemmatizer.lemmatize(w) for w in tokens]\n",
        "    tokens= [lancaster.stem(w) for w in tokens]\n",
        "    return tokens"
      ],
      "metadata": {
        "id": "6Ei3T9xuhmly"
      },
      "execution_count": 51,
      "outputs": []
    },
    {
      "cell_type": "code",
      "source": [
        "#Filtramos solo la columna de interés\n",
        "text_df = df[['text']]\n",
        "text_df.head()"
      ],
      "metadata": {
        "id": "ciaHgLYFvKMk",
        "outputId": "3d3ec155-cd6c-43c0-bb6c-a4bdf0f2fee5",
        "colab": {
          "base_uri": "https://localhost:8080/",
          "height": 0
        }
      },
      "execution_count": 52,
      "outputs": [
        {
          "output_type": "execute_result",
          "data": {
            "text/plain": [
              "                                                text\n",
              "0  2020 is the year we #votethemout, the year we ...\n",
              "1  Winter has not stopped this group of dedicated...\n",
              "2  WEEK 55 of #ClimateStrike at the @UN. Next wee...\n",
              "3   A year of resistance, as youth protests shape...\n",
              "4   HAPPY HOLIDAYS #greta #gretathunberg #climate..."
            ],
            "text/html": [
              "\n",
              "  <div id=\"df-0df11f80-9571-47ba-b360-98ec760386da\">\n",
              "    <div class=\"colab-df-container\">\n",
              "      <div>\n",
              "<style scoped>\n",
              "    .dataframe tbody tr th:only-of-type {\n",
              "        vertical-align: middle;\n",
              "    }\n",
              "\n",
              "    .dataframe tbody tr th {\n",
              "        vertical-align: top;\n",
              "    }\n",
              "\n",
              "    .dataframe thead th {\n",
              "        text-align: right;\n",
              "    }\n",
              "</style>\n",
              "<table border=\"1\" class=\"dataframe\">\n",
              "  <thead>\n",
              "    <tr style=\"text-align: right;\">\n",
              "      <th></th>\n",
              "      <th>text</th>\n",
              "    </tr>\n",
              "  </thead>\n",
              "  <tbody>\n",
              "    <tr>\n",
              "      <th>0</th>\n",
              "      <td>2020 is the year we #votethemout, the year we ...</td>\n",
              "    </tr>\n",
              "    <tr>\n",
              "      <th>1</th>\n",
              "      <td>Winter has not stopped this group of dedicated...</td>\n",
              "    </tr>\n",
              "    <tr>\n",
              "      <th>2</th>\n",
              "      <td>WEEK 55 of #ClimateStrike at the @UN. Next wee...</td>\n",
              "    </tr>\n",
              "    <tr>\n",
              "      <th>3</th>\n",
              "      <td>A year of resistance, as youth protests shape...</td>\n",
              "    </tr>\n",
              "    <tr>\n",
              "      <th>4</th>\n",
              "      <td>HAPPY HOLIDAYS #greta #gretathunberg #climate...</td>\n",
              "    </tr>\n",
              "  </tbody>\n",
              "</table>\n",
              "</div>\n",
              "      <button class=\"colab-df-convert\" onclick=\"convertToInteractive('df-0df11f80-9571-47ba-b360-98ec760386da')\"\n",
              "              title=\"Convert this dataframe to an interactive table.\"\n",
              "              style=\"display:none;\">\n",
              "        \n",
              "  <svg xmlns=\"http://www.w3.org/2000/svg\" height=\"24px\"viewBox=\"0 0 24 24\"\n",
              "       width=\"24px\">\n",
              "    <path d=\"M0 0h24v24H0V0z\" fill=\"none\"/>\n",
              "    <path d=\"M18.56 5.44l.94 2.06.94-2.06 2.06-.94-2.06-.94-.94-2.06-.94 2.06-2.06.94zm-11 1L8.5 8.5l.94-2.06 2.06-.94-2.06-.94L8.5 2.5l-.94 2.06-2.06.94zm10 10l.94 2.06.94-2.06 2.06-.94-2.06-.94-.94-2.06-.94 2.06-2.06.94z\"/><path d=\"M17.41 7.96l-1.37-1.37c-.4-.4-.92-.59-1.43-.59-.52 0-1.04.2-1.43.59L10.3 9.45l-7.72 7.72c-.78.78-.78 2.05 0 2.83L4 21.41c.39.39.9.59 1.41.59.51 0 1.02-.2 1.41-.59l7.78-7.78 2.81-2.81c.8-.78.8-2.07 0-2.86zM5.41 20L4 18.59l7.72-7.72 1.47 1.35L5.41 20z\"/>\n",
              "  </svg>\n",
              "      </button>\n",
              "      \n",
              "  <style>\n",
              "    .colab-df-container {\n",
              "      display:flex;\n",
              "      flex-wrap:wrap;\n",
              "      gap: 12px;\n",
              "    }\n",
              "\n",
              "    .colab-df-convert {\n",
              "      background-color: #E8F0FE;\n",
              "      border: none;\n",
              "      border-radius: 50%;\n",
              "      cursor: pointer;\n",
              "      display: none;\n",
              "      fill: #1967D2;\n",
              "      height: 32px;\n",
              "      padding: 0 0 0 0;\n",
              "      width: 32px;\n",
              "    }\n",
              "\n",
              "    .colab-df-convert:hover {\n",
              "      background-color: #E2EBFA;\n",
              "      box-shadow: 0px 1px 2px rgba(60, 64, 67, 0.3), 0px 1px 3px 1px rgba(60, 64, 67, 0.15);\n",
              "      fill: #174EA6;\n",
              "    }\n",
              "\n",
              "    [theme=dark] .colab-df-convert {\n",
              "      background-color: #3B4455;\n",
              "      fill: #D2E3FC;\n",
              "    }\n",
              "\n",
              "    [theme=dark] .colab-df-convert:hover {\n",
              "      background-color: #434B5C;\n",
              "      box-shadow: 0px 1px 3px 1px rgba(0, 0, 0, 0.15);\n",
              "      filter: drop-shadow(0px 1px 2px rgba(0, 0, 0, 0.3));\n",
              "      fill: #FFFFFF;\n",
              "    }\n",
              "  </style>\n",
              "\n",
              "      <script>\n",
              "        const buttonEl =\n",
              "          document.querySelector('#df-0df11f80-9571-47ba-b360-98ec760386da button.colab-df-convert');\n",
              "        buttonEl.style.display =\n",
              "          google.colab.kernel.accessAllowed ? 'block' : 'none';\n",
              "\n",
              "        async function convertToInteractive(key) {\n",
              "          const element = document.querySelector('#df-0df11f80-9571-47ba-b360-98ec760386da');\n",
              "          const dataTable =\n",
              "            await google.colab.kernel.invokeFunction('convertToInteractive',\n",
              "                                                     [key], {});\n",
              "          if (!dataTable) return;\n",
              "\n",
              "          const docLinkHtml = 'Like what you see? Visit the ' +\n",
              "            '<a target=\"_blank\" href=https://colab.research.google.com/notebooks/data_table.ipynb>data table notebook</a>'\n",
              "            + ' to learn more about interactive tables.';\n",
              "          element.innerHTML = '';\n",
              "          dataTable['output_type'] = 'display_data';\n",
              "          await google.colab.output.renderOutput(dataTable, element);\n",
              "          const docLink = document.createElement('div');\n",
              "          docLink.innerHTML = docLinkHtml;\n",
              "          element.appendChild(docLink);\n",
              "        }\n",
              "      </script>\n",
              "    </div>\n",
              "  </div>\n",
              "  "
            ]
          },
          "metadata": {},
          "execution_count": 52
        }
      ]
    },
    {
      "cell_type": "code",
      "source": [
        "# creación de columna con tokenización de la columna de interés especifica\n",
        "text_df['tokens_twitter'] = text_df.apply(lambda row: textprep(row['text']), axis=1)\n",
        "text_df.head()"
      ],
      "metadata": {
        "id": "C_m8M7mInA5m",
        "outputId": "8ac583b1-4f84-4467-f5f9-4edacb93f4bb",
        "colab": {
          "base_uri": "https://localhost:8080/",
          "height": 0
        }
      },
      "execution_count": 53,
      "outputs": [
        {
          "output_type": "stream",
          "name": "stderr",
          "text": [
            "/usr/local/lib/python3.7/dist-packages/ipykernel_launcher.py:2: SettingWithCopyWarning: \n",
            "A value is trying to be set on a copy of a slice from a DataFrame.\n",
            "Try using .loc[row_indexer,col_indexer] = value instead\n",
            "\n",
            "See the caveats in the documentation: https://pandas.pydata.org/pandas-docs/stable/user_guide/indexing.html#returning-a-view-versus-a-copy\n",
            "  \n"
          ]
        },
        {
          "output_type": "execute_result",
          "data": {
            "text/plain": [
              "                                                text  \\\n",
              "0  2020 is the year we #votethemout, the year we ...   \n",
              "1  Winter has not stopped this group of dedicated...   \n",
              "2  WEEK 55 of #ClimateStrike at the @UN. Next wee...   \n",
              "3   A year of resistance, as youth protests shape...   \n",
              "4   HAPPY HOLIDAYS #greta #gretathunberg #climate...   \n",
              "\n",
              "                                      tokens_twitter  \n",
              "0  [2020, year, votethemout, year, climatestrik, ...  \n",
              "1  [wint, stop, group, ded, clim, act, exampl, fo...  \n",
              "2  [week, 55, climatestrik, un, next, week, frida...  \n",
              "3  [year, resist, you, protest, shap, clim, chang...  \n",
              "4  [happy, holiday, gret, gretathunberg, climatec...  "
            ],
            "text/html": [
              "\n",
              "  <div id=\"df-de665d0f-cdaa-4324-ba61-1806c9c35ca2\">\n",
              "    <div class=\"colab-df-container\">\n",
              "      <div>\n",
              "<style scoped>\n",
              "    .dataframe tbody tr th:only-of-type {\n",
              "        vertical-align: middle;\n",
              "    }\n",
              "\n",
              "    .dataframe tbody tr th {\n",
              "        vertical-align: top;\n",
              "    }\n",
              "\n",
              "    .dataframe thead th {\n",
              "        text-align: right;\n",
              "    }\n",
              "</style>\n",
              "<table border=\"1\" class=\"dataframe\">\n",
              "  <thead>\n",
              "    <tr style=\"text-align: right;\">\n",
              "      <th></th>\n",
              "      <th>text</th>\n",
              "      <th>tokens_twitter</th>\n",
              "    </tr>\n",
              "  </thead>\n",
              "  <tbody>\n",
              "    <tr>\n",
              "      <th>0</th>\n",
              "      <td>2020 is the year we #votethemout, the year we ...</td>\n",
              "      <td>[2020, year, votethemout, year, climatestrik, ...</td>\n",
              "    </tr>\n",
              "    <tr>\n",
              "      <th>1</th>\n",
              "      <td>Winter has not stopped this group of dedicated...</td>\n",
              "      <td>[wint, stop, group, ded, clim, act, exampl, fo...</td>\n",
              "    </tr>\n",
              "    <tr>\n",
              "      <th>2</th>\n",
              "      <td>WEEK 55 of #ClimateStrike at the @UN. Next wee...</td>\n",
              "      <td>[week, 55, climatestrik, un, next, week, frida...</td>\n",
              "    </tr>\n",
              "    <tr>\n",
              "      <th>3</th>\n",
              "      <td>A year of resistance, as youth protests shape...</td>\n",
              "      <td>[year, resist, you, protest, shap, clim, chang...</td>\n",
              "    </tr>\n",
              "    <tr>\n",
              "      <th>4</th>\n",
              "      <td>HAPPY HOLIDAYS #greta #gretathunberg #climate...</td>\n",
              "      <td>[happy, holiday, gret, gretathunberg, climatec...</td>\n",
              "    </tr>\n",
              "  </tbody>\n",
              "</table>\n",
              "</div>\n",
              "      <button class=\"colab-df-convert\" onclick=\"convertToInteractive('df-de665d0f-cdaa-4324-ba61-1806c9c35ca2')\"\n",
              "              title=\"Convert this dataframe to an interactive table.\"\n",
              "              style=\"display:none;\">\n",
              "        \n",
              "  <svg xmlns=\"http://www.w3.org/2000/svg\" height=\"24px\"viewBox=\"0 0 24 24\"\n",
              "       width=\"24px\">\n",
              "    <path d=\"M0 0h24v24H0V0z\" fill=\"none\"/>\n",
              "    <path d=\"M18.56 5.44l.94 2.06.94-2.06 2.06-.94-2.06-.94-.94-2.06-.94 2.06-2.06.94zm-11 1L8.5 8.5l.94-2.06 2.06-.94-2.06-.94L8.5 2.5l-.94 2.06-2.06.94zm10 10l.94 2.06.94-2.06 2.06-.94-2.06-.94-.94-2.06-.94 2.06-2.06.94z\"/><path d=\"M17.41 7.96l-1.37-1.37c-.4-.4-.92-.59-1.43-.59-.52 0-1.04.2-1.43.59L10.3 9.45l-7.72 7.72c-.78.78-.78 2.05 0 2.83L4 21.41c.39.39.9.59 1.41.59.51 0 1.02-.2 1.41-.59l7.78-7.78 2.81-2.81c.8-.78.8-2.07 0-2.86zM5.41 20L4 18.59l7.72-7.72 1.47 1.35L5.41 20z\"/>\n",
              "  </svg>\n",
              "      </button>\n",
              "      \n",
              "  <style>\n",
              "    .colab-df-container {\n",
              "      display:flex;\n",
              "      flex-wrap:wrap;\n",
              "      gap: 12px;\n",
              "    }\n",
              "\n",
              "    .colab-df-convert {\n",
              "      background-color: #E8F0FE;\n",
              "      border: none;\n",
              "      border-radius: 50%;\n",
              "      cursor: pointer;\n",
              "      display: none;\n",
              "      fill: #1967D2;\n",
              "      height: 32px;\n",
              "      padding: 0 0 0 0;\n",
              "      width: 32px;\n",
              "    }\n",
              "\n",
              "    .colab-df-convert:hover {\n",
              "      background-color: #E2EBFA;\n",
              "      box-shadow: 0px 1px 2px rgba(60, 64, 67, 0.3), 0px 1px 3px 1px rgba(60, 64, 67, 0.15);\n",
              "      fill: #174EA6;\n",
              "    }\n",
              "\n",
              "    [theme=dark] .colab-df-convert {\n",
              "      background-color: #3B4455;\n",
              "      fill: #D2E3FC;\n",
              "    }\n",
              "\n",
              "    [theme=dark] .colab-df-convert:hover {\n",
              "      background-color: #434B5C;\n",
              "      box-shadow: 0px 1px 3px 1px rgba(0, 0, 0, 0.15);\n",
              "      filter: drop-shadow(0px 1px 2px rgba(0, 0, 0, 0.3));\n",
              "      fill: #FFFFFF;\n",
              "    }\n",
              "  </style>\n",
              "\n",
              "      <script>\n",
              "        const buttonEl =\n",
              "          document.querySelector('#df-de665d0f-cdaa-4324-ba61-1806c9c35ca2 button.colab-df-convert');\n",
              "        buttonEl.style.display =\n",
              "          google.colab.kernel.accessAllowed ? 'block' : 'none';\n",
              "\n",
              "        async function convertToInteractive(key) {\n",
              "          const element = document.querySelector('#df-de665d0f-cdaa-4324-ba61-1806c9c35ca2');\n",
              "          const dataTable =\n",
              "            await google.colab.kernel.invokeFunction('convertToInteractive',\n",
              "                                                     [key], {});\n",
              "          if (!dataTable) return;\n",
              "\n",
              "          const docLinkHtml = 'Like what you see? Visit the ' +\n",
              "            '<a target=\"_blank\" href=https://colab.research.google.com/notebooks/data_table.ipynb>data table notebook</a>'\n",
              "            + ' to learn more about interactive tables.';\n",
              "          element.innerHTML = '';\n",
              "          dataTable['output_type'] = 'display_data';\n",
              "          await google.colab.output.renderOutput(dataTable, element);\n",
              "          const docLink = document.createElement('div');\n",
              "          docLink.innerHTML = docLinkHtml;\n",
              "          element.appendChild(docLink);\n",
              "        }\n",
              "      </script>\n",
              "    </div>\n",
              "  </div>\n",
              "  "
            ]
          },
          "metadata": {},
          "execution_count": 53
        }
      ]
    },
    {
      "cell_type": "markdown",
      "source": [
        "Representación Frecuencia Visual del BoW optimizado"
      ],
      "metadata": {
        "id": "AtzEa7eL9-Hp"
      }
    },
    {
      "cell_type": "code",
      "source": [
        "#Convertir Tokens en Lista y Str\n",
        "tokens_twitter_list=text_df['tokens_twitter'].to_list()\n",
        "tokens_twitter_str=\" \".join([str(item) for item in tokens_twitter_list ])\n",
        "# Crear nube de palabras\n",
        "wordcloud = WordCloud(background_color=\"white\", max_words=5000, contour_width=3, contour_color='steelblue')\n",
        "# Generar nube de palabras\n",
        "wordcloud.generate(tokens_twitter_str)\n",
        "# Visualización\n",
        "wordcloud.to_image()"
      ],
      "metadata": {
        "colab": {
          "base_uri": "https://localhost:8080/",
          "height": 0
        },
        "id": "ZSXtvfWK-B5V",
        "outputId": "e98eb053-de13-43ae-d650-7137162c427d"
      },
      "execution_count": 54,
      "outputs": [
        {
          "output_type": "execute_result",
          "data": {
            "text/plain": [
              "<PIL.Image.Image image mode=RGB size=400x200 at 0x7F226F8F8CD0>"
            ],
            "image/png": "[encoded data removed]"
          },
          "metadata": {},
          "execution_count": 54
        }
      ]
    },
    {
      "cell_type": "markdown",
      "source": [
        "# Características y representación"
      ],
      "metadata": {
        "id": "Cz8uJi1B5HKx"
      }
    },
    {
      "cell_type": "markdown",
      "source": [
        "Construir el BoW (diccionario) de términos"
      ],
      "metadata": {
        "id": "TvcQLLrjgm2A"
      }
    },
    {
      "cell_type": "code",
      "source": [
        "len(text_df['tokens_twitter'])"
      ],
      "metadata": {
        "id": "JGREnFOFFnLg",
        "outputId": "c1484490-1401-43e5-f6f8-026161bb71f3",
        "colab": {
          "base_uri": "https://localhost:8080/"
        }
      },
      "execution_count": 55,
      "outputs": [
        {
          "output_type": "execute_result",
          "data": {
            "text/plain": [
              "72405"
            ]
          },
          "metadata": {},
          "execution_count": 55
        }
      ]
    },
    {
      "cell_type": "code",
      "source": [
        "# Creación del BoW - en gensim es Dictionary\n",
        "from gensim.corpora import Dictionary\n",
        "dictionary = Dictionary(text_df.tokens_twitter)\n",
        "print(dictionary)"
      ],
      "metadata": {
        "id": "jXPGQCXuwXqc",
        "colab": {
          "base_uri": "https://localhost:8080/"
        },
        "outputId": "82d927ff-2ed4-4aa4-cf6c-24464557a882"
      },
      "execution_count": 72,
      "outputs": [
        {
          "output_type": "stream",
          "name": "stdout",
          "text": [
            "Dictionary(77295 unique tokens: ['2020', '33', 'climatestrik', 'don', 'els']...)\n"
          ]
        }
      ]
    },
    {
      "cell_type": "code",
      "source": [
        "# Bag-of-words representacion de documentos.\n",
        "corpus = [dictionary.doc2bow(line) for line in text_df.tokens_twitter]"
      ],
      "metadata": {
        "id": "YkyqTx6QHEcz"
      },
      "execution_count": 57,
      "outputs": []
    },
    {
      "cell_type": "code",
      "source": [
        "for i in corpus[:10]:\n",
        "    print(i)"
      ],
      "metadata": {
        "id": "k4_hD_TLHcEX",
        "outputId": "ca60213a-230d-4925-be18-e3fe1e0ed424",
        "colab": {
          "base_uri": "https://localhost:8080/"
        }
      },
      "execution_count": 58,
      "outputs": [
        {
          "output_type": "stream",
          "name": "stdout",
          "text": [
            "[(0, 2), (1, 1), (2, 1), (3, 1), (4, 1), (5, 1), (6, 1), (7, 1), (8, 1), (9, 1), (10, 1), (11, 1), (12, 1), (13, 1), (14, 1), (15, 4)]\n",
            "[(2, 1), (16, 1), (17, 1), (18, 1), (19, 1), (20, 1), (21, 1), (22, 1), (23, 1), (24, 1), (25, 1)]\n",
            "[(0, 1), (2, 1), (6, 1), (15, 1), (16, 1), (17, 1), (24, 2), (26, 1), (27, 1), (28, 1), (29, 1), (30, 1), (31, 1), (32, 1), (33, 1), (34, 1), (35, 1), (36, 1), (37, 1), (38, 1), (39, 1), (40, 1), (41, 1), (42, 1), (43, 1), (44, 1), (45, 1), (46, 1), (47, 1), (48, 2)]\n",
            "[(0, 1), (2, 1), (15, 1), (16, 1), (17, 2), (49, 1), (50, 1), (51, 1), (52, 1), (53, 1), (54, 1), (55, 1), (56, 1), (57, 1), (58, 1), (59, 1), (60, 1), (61, 1), (62, 1), (63, 1), (64, 1), (65, 1), (66, 2)]\n",
            "[(2, 1), (17, 1), (49, 1), (51, 1), (52, 1), (54, 1), (55, 1), (56, 1), (57, 2), (58, 1), (59, 1), (63, 1), (67, 1), (68, 1), (69, 1), (70, 1), (71, 1), (72, 1), (73, 1), (74, 1), (75, 1), (76, 1), (77, 1)]\n",
            "[(2, 1), (17, 2), (36, 1), (50, 1), (52, 1), (54, 1), (56, 1), (57, 1), (78, 1), (79, 1), (80, 1), (81, 1), (82, 1), (83, 1), (84, 1), (85, 1), (86, 1), (87, 1), (88, 1), (89, 1), (90, 1)]\n",
            "[(2, 1), (5, 1), (54, 1), (56, 1), (91, 1), (92, 1), (93, 1), (94, 1), (95, 1), (96, 1), (97, 1), (98, 1), (99, 1), (100, 1), (101, 1)]\n",
            "[(2, 1), (102, 1), (103, 1)]\n",
            "[(2, 1), (5, 1), (15, 1), (45, 1), (55, 1), (93, 1), (104, 1), (105, 1), (106, 1), (107, 1), (108, 1), (109, 1), (110, 1), (111, 1), (112, 1)]\n",
            "[(2, 1), (45, 1), (48, 1), (52, 1), (80, 1), (100, 1), (113, 1), (114, 1), (115, 1), (116, 1), (117, 1), (118, 1), (119, 1), (120, 1), (121, 1), (122, 1), (123, 1), (124, 1), (125, 1)]\n"
          ]
        }
      ]
    },
    {
      "cell_type": "markdown",
      "source": [
        "Construir matriz de documentos vs términos"
      ],
      "metadata": {
        "id": "a3Goa699gzT_"
      }
    },
    {
      "cell_type": "code",
      "source": [
        "# libreria para paralelizar\n",
        "import multiprocessing as mp\n",
        "import time\n",
        "\n",
        "pool = mp.Pool(mp.cpu_count())\n",
        "doc_term_matrix = pool.map(dictionary.doc2bow, [sentence for sentence in text_df.tokens_twitter])\n",
        "pool.close()"
      ],
      "metadata": {
        "id": "cSwWU75Gg0fi"
      },
      "execution_count": 59,
      "outputs": []
    },
    {
      "cell_type": "code",
      "source": [
        "for i in doc_term_matrix[:5]:\n",
        "    print(i)"
      ],
      "metadata": {
        "id": "2MN7GI4Hl2Bg",
        "outputId": "721814ca-7966-4649-e6fa-093644427afa",
        "colab": {
          "base_uri": "https://localhost:8080/"
        }
      },
      "execution_count": 60,
      "outputs": [
        {
          "output_type": "stream",
          "name": "stdout",
          "text": [
            "[(0, 2), (1, 1), (2, 1), (3, 1), (4, 1), (5, 1), (6, 1), (7, 1), (8, 1), (9, 1), (10, 1), (11, 1), (12, 1), (13, 1), (14, 1), (15, 4)]\n",
            "[(2, 1), (16, 1), (17, 1), (18, 1), (19, 1), (20, 1), (21, 1), (22, 1), (23, 1), (24, 1), (25, 1)]\n",
            "[(0, 1), (2, 1), (6, 1), (15, 1), (16, 1), (17, 1), (24, 2), (26, 1), (27, 1), (28, 1), (29, 1), (30, 1), (31, 1), (32, 1), (33, 1), (34, 1), (35, 1), (36, 1), (37, 1), (38, 1), (39, 1), (40, 1), (41, 1), (42, 1), (43, 1), (44, 1), (45, 1), (46, 1), (47, 1), (48, 2)]\n",
            "[(0, 1), (2, 1), (15, 1), (16, 1), (17, 2), (49, 1), (50, 1), (51, 1), (52, 1), (53, 1), (54, 1), (55, 1), (56, 1), (57, 1), (58, 1), (59, 1), (60, 1), (61, 1), (62, 1), (63, 1), (64, 1), (65, 1), (66, 2)]\n",
            "[(2, 1), (17, 1), (49, 1), (51, 1), (52, 1), (54, 1), (55, 1), (56, 1), (57, 2), (58, 1), (59, 1), (63, 1), (67, 1), (68, 1), (69, 1), (70, 1), (71, 1), (72, 1), (73, 1), (74, 1), (75, 1), (76, 1), (77, 1)]\n"
          ]
        }
      ]
    },
    {
      "cell_type": "markdown",
      "source": [
        "# Modelo no supervisado LDA"
      ],
      "metadata": {
        "id": "m_lxk9c6fwPw"
      }
    },
    {
      "cell_type": "markdown",
      "source": [
        "Modelo LDA"
      ],
      "metadata": {
        "id": "rx4ZCidLlTu7"
      }
    },
    {
      "cell_type": "code",
      "source": [
        "#from gensim.models.ldamulticore import LdaMulticore\n",
        "\n",
        "#t0 = time.time()\n",
        "#lda_model = LdaMulticore(doc_term_matrix, num_topics=20, id2word = dictionary, passes=10, workers=10)\n",
        "#print(time.time()-t0)"
      ],
      "metadata": {
        "id": "QI3baWDulUdC"
      },
      "execution_count": 61,
      "outputs": []
    },
    {
      "cell_type": "code",
      "source": [
        "# Build LDA model Otro modelo lda, tiene otro nombr para no confundirse\n",
        "from gensim.models.ldamulticore import LdaMulticore\n",
        "from gensim import corpora, models, similarities\n",
        "\n",
        "lda_model2 = models.LdaModel(corpus=corpus,\n",
        "                                       id2word=dictionary,\n",
        "                                       num_topics=10, passes=5, alpha='auto')\n"
      ],
      "metadata": {
        "id": "OPAJ-9qmdk_6",
        "colab": {
          "base_uri": "https://localhost:8080/"
        },
        "outputId": "05d30ec1-35b8-48ff-9764-22946e95c2ab"
      },
      "execution_count": 64,
      "outputs": [
        {
          "output_type": "stream",
          "name": "stdout",
          "text": [
            "91.8602774143219\n"
          ]
        }
      ]
    },
    {
      "cell_type": "code",
      "source": [
        "print(lda_model2)"
      ],
      "metadata": {
        "id": "Jf5_n-T5bd8w",
        "outputId": "0978e083-402d-45a4-e6b4-6f47944becbb",
        "colab": {
          "base_uri": "https://localhost:8080/"
        }
      },
      "execution_count": 74,
      "outputs": [
        {
          "output_type": "stream",
          "name": "stdout",
          "text": [
            "LdaModel(num_terms=77295, num_topics=10, decay=0.5, chunksize=2000)\n"
          ]
        }
      ]
    },
    {
      "cell_type": "code",
      "source": [
        "def assigntopic(doc):\n",
        "    vector = lda_model2[dictionary.doc2bow(doc)] \n",
        "    # opción 1: todos los tópicos ordenados de mayor a menor, podria ser topN tambien asi: return vector[:5] n=5\n",
        "    #vector = sorted(vector, key=lambda item: -item[1])\n",
        "    # opción 2: asignar el tópico mayor a cada documento\n",
        "    vector = max(vector,key=lambda item: item[1])\n",
        "    return vector"
      ],
      "metadata": {
        "id": "JkYbDMlvoH-X"
      },
      "execution_count": 65,
      "outputs": []
    },
    {
      "cell_type": "code",
      "source": [
        "text_df['topics'] = text_df.apply(lambda row: assigntopic(row['tokens_twitter']), axis=1)\n",
        "text_df.head(10)"
      ],
      "metadata": {
        "id": "S7CMmpqTqjK-"
      },
      "execution_count": null,
      "outputs": []
    },
    {
      "cell_type": "code",
      "source": [
        "text_df.head(10)"
      ],
      "metadata": {
        "id": "hJVmtgjEWnI_",
        "outputId": "27eaba8e-ff42-4c14-ba79-06effbb9e3fc",
        "colab": {
          "base_uri": "https://localhost:8080/",
          "height": 363
        }
      },
      "execution_count": 71,
      "outputs": [
        {
          "output_type": "execute_result",
          "data": {
            "text/plain": [
              "                                                text  \\\n",
              "0  2020 is the year we #votethemout, the year we ...   \n",
              "1  Winter has not stopped this group of dedicated...   \n",
              "2  WEEK 55 of #ClimateStrike at the @UN. Next wee...   \n",
              "3   A year of resistance, as youth protests shape...   \n",
              "4   HAPPY HOLIDAYS #greta #gretathunberg #climate...   \n",
              "5   10 Questions to Ask Politicians About Climate...   \n",
              "6  #climatestrike #FridaysForFuture #portraits #u...   \n",
              "7  #ClimateChangeIsReal #ClimateStrike #ClimateAc...   \n",
              "8  My oldest daughter finding inspiration and enc...   \n",
              "9  Our toddler #POTUS whined this week about #Tim...   \n",
              "\n",
              "                                      tokens_twitter           topics  \n",
              "0  [2020, year, votethemout, year, climatestrik, ...   (3, 0.6163625)  \n",
              "1  [wint, stop, group, ded, clim, act, exampl, fo...  (3, 0.63810366)  \n",
              "2  [week, 55, climatestrik, un, next, week, frida...  (3, 0.79957044)  \n",
              "3  [year, resist, you, protest, shap, clim, chang...   (3, 0.5190569)  \n",
              "4  [happy, holiday, gret, gretathunberg, climatec...  (3, 0.40614575)  \n",
              "5  [10, quest, ask, polit, clim, chang, http, www...   (3, 0.7711042)  \n",
              "6  [climatestrik, fridaysforfut, portrait, unique...   (0, 0.4583422)  \n",
              "7  [climatechangeisr, climatestrik, climateaction...  (3, 0.44943976)  \n",
              "8  [oldest, daught, find, inspir, enco, fut, read...   (3, 0.5370464)  \n",
              "9  [toddl, pot, whin, week, tim, magazin, pick, g...   (4, 0.4404266)  "
            ],
            "text/html": [
              "\n",
              "  <div id=\"df-3046c308-b890-4bd9-9e47-c1d5de73fad4\">\n",
              "    <div class=\"colab-df-container\">\n",
              "      <div>\n",
              "<style scoped>\n",
              "    .dataframe tbody tr th:only-of-type {\n",
              "        vertical-align: middle;\n",
              "    }\n",
              "\n",
              "    .dataframe tbody tr th {\n",
              "        vertical-align: top;\n",
              "    }\n",
              "\n",
              "    .dataframe thead th {\n",
              "        text-align: right;\n",
              "    }\n",
              "</style>\n",
              "<table border=\"1\" class=\"dataframe\">\n",
              "  <thead>\n",
              "    <tr style=\"text-align: right;\">\n",
              "      <th></th>\n",
              "      <th>text</th>\n",
              "      <th>tokens_twitter</th>\n",
              "      <th>topics</th>\n",
              "    </tr>\n",
              "  </thead>\n",
              "  <tbody>\n",
              "    <tr>\n",
              "      <th>0</th>\n",
              "      <td>2020 is the year we #votethemout, the year we ...</td>\n",
              "      <td>[2020, year, votethemout, year, climatestrik, ...</td>\n",
              "      <td>(3, 0.6163625)</td>\n",
              "    </tr>\n",
              "    <tr>\n",
              "      <th>1</th>\n",
              "      <td>Winter has not stopped this group of dedicated...</td>\n",
              "      <td>[wint, stop, group, ded, clim, act, exampl, fo...</td>\n",
              "      <td>(3, 0.63810366)</td>\n",
              "    </tr>\n",
              "    <tr>\n",
              "      <th>2</th>\n",
              "      <td>WEEK 55 of #ClimateStrike at the @UN. Next wee...</td>\n",
              "      <td>[week, 55, climatestrik, un, next, week, frida...</td>\n",
              "      <td>(3, 0.79957044)</td>\n",
              "    </tr>\n",
              "    <tr>\n",
              "      <th>3</th>\n",
              "      <td>A year of resistance, as youth protests shape...</td>\n",
              "      <td>[year, resist, you, protest, shap, clim, chang...</td>\n",
              "      <td>(3, 0.5190569)</td>\n",
              "    </tr>\n",
              "    <tr>\n",
              "      <th>4</th>\n",
              "      <td>HAPPY HOLIDAYS #greta #gretathunberg #climate...</td>\n",
              "      <td>[happy, holiday, gret, gretathunberg, climatec...</td>\n",
              "      <td>(3, 0.40614575)</td>\n",
              "    </tr>\n",
              "    <tr>\n",
              "      <th>5</th>\n",
              "      <td>10 Questions to Ask Politicians About Climate...</td>\n",
              "      <td>[10, quest, ask, polit, clim, chang, http, www...</td>\n",
              "      <td>(3, 0.7711042)</td>\n",
              "    </tr>\n",
              "    <tr>\n",
              "      <th>6</th>\n",
              "      <td>#climatestrike #FridaysForFuture #portraits #u...</td>\n",
              "      <td>[climatestrik, fridaysforfut, portrait, unique...</td>\n",
              "      <td>(0, 0.4583422)</td>\n",
              "    </tr>\n",
              "    <tr>\n",
              "      <th>7</th>\n",
              "      <td>#ClimateChangeIsReal #ClimateStrike #ClimateAc...</td>\n",
              "      <td>[climatechangeisr, climatestrik, climateaction...</td>\n",
              "      <td>(3, 0.44943976)</td>\n",
              "    </tr>\n",
              "    <tr>\n",
              "      <th>8</th>\n",
              "      <td>My oldest daughter finding inspiration and enc...</td>\n",
              "      <td>[oldest, daught, find, inspir, enco, fut, read...</td>\n",
              "      <td>(3, 0.5370464)</td>\n",
              "    </tr>\n",
              "    <tr>\n",
              "      <th>9</th>\n",
              "      <td>Our toddler #POTUS whined this week about #Tim...</td>\n",
              "      <td>[toddl, pot, whin, week, tim, magazin, pick, g...</td>\n",
              "      <td>(4, 0.4404266)</td>\n",
              "    </tr>\n",
              "  </tbody>\n",
              "</table>\n",
              "</div>\n",
              "      <button class=\"colab-df-convert\" onclick=\"convertToInteractive('df-3046c308-b890-4bd9-9e47-c1d5de73fad4')\"\n",
              "              title=\"Convert this dataframe to an interactive table.\"\n",
              "              style=\"display:none;\">\n",
              "        \n",
              "  <svg xmlns=\"http://www.w3.org/2000/svg\" height=\"24px\"viewBox=\"0 0 24 24\"\n",
              "       width=\"24px\">\n",
              "    <path d=\"M0 0h24v24H0V0z\" fill=\"none\"/>\n",
              "    <path d=\"M18.56 5.44l.94 2.06.94-2.06 2.06-.94-2.06-.94-.94-2.06-.94 2.06-2.06.94zm-11 1L8.5 8.5l.94-2.06 2.06-.94-2.06-.94L8.5 2.5l-.94 2.06-2.06.94zm10 10l.94 2.06.94-2.06 2.06-.94-2.06-.94-.94-2.06-.94 2.06-2.06.94z\"/><path d=\"M17.41 7.96l-1.37-1.37c-.4-.4-.92-.59-1.43-.59-.52 0-1.04.2-1.43.59L10.3 9.45l-7.72 7.72c-.78.78-.78 2.05 0 2.83L4 21.41c.39.39.9.59 1.41.59.51 0 1.02-.2 1.41-.59l7.78-7.78 2.81-2.81c.8-.78.8-2.07 0-2.86zM5.41 20L4 18.59l7.72-7.72 1.47 1.35L5.41 20z\"/>\n",
              "  </svg>\n",
              "      </button>\n",
              "      \n",
              "  <style>\n",
              "    .colab-df-container {\n",
              "      display:flex;\n",
              "      flex-wrap:wrap;\n",
              "      gap: 12px;\n",
              "    }\n",
              "\n",
              "    .colab-df-convert {\n",
              "      background-color: #E8F0FE;\n",
              "      border: none;\n",
              "      border-radius: 50%;\n",
              "      cursor: pointer;\n",
              "      display: none;\n",
              "      fill: #1967D2;\n",
              "      height: 32px;\n",
              "      padding: 0 0 0 0;\n",
              "      width: 32px;\n",
              "    }\n",
              "\n",
              "    .colab-df-convert:hover {\n",
              "      background-color: #E2EBFA;\n",
              "      box-shadow: 0px 1px 2px rgba(60, 64, 67, 0.3), 0px 1px 3px 1px rgba(60, 64, 67, 0.15);\n",
              "      fill: #174EA6;\n",
              "    }\n",
              "\n",
              "    [theme=dark] .colab-df-convert {\n",
              "      background-color: #3B4455;\n",
              "      fill: #D2E3FC;\n",
              "    }\n",
              "\n",
              "    [theme=dark] .colab-df-convert:hover {\n",
              "      background-color: #434B5C;\n",
              "      box-shadow: 0px 1px 3px 1px rgba(0, 0, 0, 0.15);\n",
              "      filter: drop-shadow(0px 1px 2px rgba(0, 0, 0, 0.3));\n",
              "      fill: #FFFFFF;\n",
              "    }\n",
              "  </style>\n",
              "\n",
              "      <script>\n",
              "        const buttonEl =\n",
              "          document.querySelector('#df-3046c308-b890-4bd9-9e47-c1d5de73fad4 button.colab-df-convert');\n",
              "        buttonEl.style.display =\n",
              "          google.colab.kernel.accessAllowed ? 'block' : 'none';\n",
              "\n",
              "        async function convertToInteractive(key) {\n",
              "          const element = document.querySelector('#df-3046c308-b890-4bd9-9e47-c1d5de73fad4');\n",
              "          const dataTable =\n",
              "            await google.colab.kernel.invokeFunction('convertToInteractive',\n",
              "                                                     [key], {});\n",
              "          if (!dataTable) return;\n",
              "\n",
              "          const docLinkHtml = 'Like what you see? Visit the ' +\n",
              "            '<a target=\"_blank\" href=https://colab.research.google.com/notebooks/data_table.ipynb>data table notebook</a>'\n",
              "            + ' to learn more about interactive tables.';\n",
              "          element.innerHTML = '';\n",
              "          dataTable['output_type'] = 'display_data';\n",
              "          await google.colab.output.renderOutput(dataTable, element);\n",
              "          const docLink = document.createElement('div');\n",
              "          docLink.innerHTML = docLinkHtml;\n",
              "          element.appendChild(docLink);\n",
              "        }\n",
              "      </script>\n",
              "    </div>\n",
              "  </div>\n",
              "  "
            ]
          },
          "metadata": {},
          "execution_count": 71
        }
      ]
    },
    {
      "cell_type": "code",
      "source": [
        "# Imprimir Keyword en los topics\n",
        "pprint(lda_model2.print_topics())\n",
        "doc_lda = lda_model2[corpus]\n"
      ],
      "metadata": {
        "colab": {
          "base_uri": "https://localhost:8080/"
        },
        "id": "LGpBAgGZgMol",
        "outputId": "859eaf50-89cd-4f40-e317-bee4c59eb0bc"
      },
      "execution_count": 75,
      "outputs": [
        {
          "output_type": "stream",
          "name": "stdout",
          "text": [
            "[(0,\n",
            "  '0.141*\"climatestrik\" + 0.042*\"fridaysforfut\" + 0.035*\"today\" + '\n",
            "  '0.034*\"gretathunberg\" + 0.021*\"stud\" + 0.019*\"clim\" + 0.018*\"dc\" + '\n",
            "  '0.016*\"capitol\" + 0.016*\"join\" + 0.015*\"stat\"'),\n",
            " (1,\n",
            "  '0.038*\"climatechangeisr\" + 0.024*\"pleas\" + 0.016*\"check\" + 0.012*\"design\" + '\n",
            "  '0.011*\"hey\" + 0.010*\"gard\" + 0.010*\"excel\" + 0.009*\"collab\" + '\n",
            "  '0.009*\"landscapearchitect\" + 0.009*\"plasticpollut\"'),\n",
            " (2,\n",
            "  '0.047*\"le\" + 0.016*\"fre\" + 0.016*\"pres\" + 0.014*\"resy\" + 0.014*\"whit\" + '\n",
            "  '0.012*\"heat\" + 0.011*\"link\" + 0.010*\"fal\" + 0.010*\"district\" + '\n",
            "  '0.010*\"award\"'),\n",
            " (3,\n",
            "  '0.038*\"climatechang\" + 0.025*\"sustain\" + 0.025*\"http\" + 0.018*\"amp\" + '\n",
            "  '0.015*\"clim\" + 0.014*\"environ\" + 0.013*\"climatecris\" + 0.012*\"climateact\" + '\n",
            "  '0.010*\"chang\" + 0.009*\"greennewd\"'),\n",
            " (4,\n",
            "  '0.040*\"sydney\" + 0.018*\"produc\" + 0.017*\"excit\" + 0.014*\"memb\" + '\n",
            "  '0.012*\"europ\" + 0.012*\"consum\" + 0.012*\"understand\" + 0.011*\"disc\" + '\n",
            "  '0.010*\"cov\" + 0.010*\"strong\"'),\n",
            " (5,\n",
            "  '0.031*\"city\" + 0.021*\"er\" + 0.020*\"hal\" + 0.018*\"busy\" + 0.014*\"report\" + '\n",
            "  '0.014*\"op\" + 0.014*\"farm\" + 0.013*\"town\" + 0.012*\"philadelph\" + '\n",
            "  '0.012*\"utmsourceigtwittersh\"'),\n",
            " (6,\n",
            "  '0.053*\"de\" + 0.034*\"la\" + 0.023*\"en\" + 0.018*\"par\" + 0.015*\"blog\" + '\n",
            "  '0.014*\"sea\" + 0.014*\"un\" + 0.014*\"el\" + 0.010*\"thought\" + 0.010*\"ic\"'),\n",
            " (7,\n",
            "  '0.344*\"\" + 0.012*\"modern\" + 0.010*\"maj\" + 0.008*\"fun\" + 0.008*\"storm\" + '\n",
            "  '0.007*\"congr\" + 0.006*\"writ\" + 0.006*\"cold\" + 0.005*\"requir\" + 0.005*\"die\"'),\n",
            " (8,\n",
            "  '0.037*\"bushfir\" + 0.016*\"oc\" + 0.016*\"warm\" + 0.013*\"weath\" + 0.012*\"wast\" '\n",
            "  '+ 0.011*\"celebr\" + 0.011*\"level\" + 0.010*\"burn\" + 0.010*\"extinctionrebel\" + '\n",
            "  '0.010*\"cost\"'),\n",
            " (9,\n",
            "  '0.032*\"utmsourceigtwittersh\" + 0.031*\"impact\" + 0.015*\"firedrillfriday\" + '\n",
            "  '0.014*\"man\" + 0.012*\"panel\" + 0.010*\"rememb\" + 0.010*\"janefond\" + '\n",
            "  '0.009*\"famy\" + 0.008*\"spec\" + 0.007*\"warn\"')]\n"
          ]
        }
      ]
    },
    {
      "cell_type": "code",
      "source": [
        "len(doc_lda)\n",
        "len(lda_model2.print_topics())"
      ],
      "metadata": {
        "id": "4iFXcDoDKfEK",
        "outputId": "79396120-b908-4f33-eb3e-ec094f3d1b0a",
        "colab": {
          "base_uri": "https://localhost:8080/"
        }
      },
      "execution_count": 77,
      "outputs": [
        {
          "output_type": "execute_result",
          "data": {
            "text/plain": [
              "10"
            ]
          },
          "metadata": {},
          "execution_count": 77
        }
      ]
    },
    {
      "cell_type": "markdown",
      "source": [
        "Analizando Resultados del LDA "
      ],
      "metadata": {
        "id": "taOKE5Hrgqoo"
      }
    },
    {
      "cell_type": "code",
      "source": [
        "#from pyLDAvis \n",
        "import pyLDAvis\n",
        "import pyLDAvis.gensim_models as gensimvis\n",
        "import pickle \n"
      ],
      "metadata": {
        "id": "Hbz-aB1xga6Q"
      },
      "execution_count": 78,
      "outputs": []
    },
    {
      "cell_type": "code",
      "source": [
        "# Visualize the topics\n",
        "pyLDAvis.enable_notebook()\n",
        "\n",
        "#LDAvis_data_filepath = os.path.join(')\n",
        "# # this is a bit time consuming - make the if statement True\n",
        "# # if you want to execute visualization prep yourself\n",
        "if 1 == 1:\n",
        "    LDAvis_prepared = gensimvis.prepare(lda_model2, corpus, dictionary)\n",
        "    with open(\"/content/cloned-repo/Trabajo3/out\", 'wb') as f:\n",
        "        pickle.dump(LDAvis_prepared, f)\n",
        "# load the pre-prepared pyLDAvis data from disk\n",
        "with open(\"/content/cloned-repo/Trabajo3/out\", 'rb') as f:\n",
        "    LDAvis_prepared = pickle.load(f)\n",
        "pyLDAvis.save_html(LDAvis_prepared, '/content/cloned-repo/Trabajo3/out.html')\n",
        "LDAvis_prepared"
      ],
      "metadata": {
        "colab": {
          "base_uri": "https://localhost:8080/",
          "height": 916
        },
        "id": "Sc6V_UzAgu3n",
        "outputId": "ce269086-d00c-4251-d0fa-f08969e09596"
      },
      "execution_count": 80,
      "outputs": [
        {
          "output_type": "stream",
          "name": "stderr",
          "text": [
            "/usr/local/lib/python3.7/dist-packages/pyLDAvis/_prepare.py:247: FutureWarning: In a future version of pandas all arguments of DataFrame.drop except for the argument 'labels' will be keyword-only\n",
            "  by='saliency', ascending=False).head(R).drop('saliency', 1)\n"
          ]
        },
        {
          "output_type": "execute_result",
          "data": {
            "text/plain": [
              "PreparedData(topic_coordinates=              x         y  topics  cluster       Freq\n",
              "topic                                                \n",
              "3     -0.406728 -0.170362       1        1  57.888805\n",
              "0     -0.249690  0.286321       2        1  11.438485\n",
              "8      0.055788 -0.163216       3        1   4.874404\n",
              "5      0.072777 -0.012019       4        1   4.343256\n",
              "1      0.049245 -0.152521       5        1   4.275493\n",
              "6      0.093690  0.049732       6        1   3.862810\n",
              "7      0.100216  0.053198       7        1   3.662569\n",
              "9      0.098620  0.027829       8        1   3.628449\n",
              "4      0.103595  0.012870       9        1   3.257648\n",
              "2      0.082488  0.068169      10        1   2.768082, topic_info=               Term          Freq         Total Category  logprob  loglift\n",
              "126                  14518.000000  14518.000000  Default  30.0000  30.0000\n",
              "2      climatestrik  18597.000000  18597.000000  Default  29.0000  29.0000\n",
              "52     climatechang  25372.000000  25372.000000  Default  28.0000  28.0000\n",
              "54    fridaysforfut   5471.000000   5471.000000  Default  27.0000  27.0000\n",
              "223           today   5677.000000   5677.000000  Default  26.0000  26.0000\n",
              "...             ...           ...           ...      ...      ...      ...\n",
              "452            main    184.843988    185.791169  Topic10  -5.1499   3.5819\n",
              "2131        network    183.133385    184.080620  Topic10  -5.1592   3.5819\n",
              "443            miss    306.140837    466.787126  Topic10  -4.6454   3.1652\n",
              "846            cont    189.174710    204.841924  Topic10  -5.1268   3.5074\n",
              "72             hous    208.491777   1661.730902  Topic10  -5.0295   1.5113\n",
              "\n",
              "[401 rows x 6 columns], token_table=      Topic      Freq    Term\n",
              "term                         \n",
              "126       7  0.999955        \n",
              "1876      4  0.997201     abl\n",
              "894       6  0.994097  absolv\n",
              "1908      8  0.995223  achiev\n",
              "16        1  0.800402     act\n",
              "...     ...       ...     ...\n",
              "2150      5  0.994042     wow\n",
              "639       7  0.996017    writ\n",
              "66        2  0.999442     you\n",
              "210       2  0.999708   young\n",
              "3106     10  0.993943    zero\n",
              "\n",
              "[462 rows x 3 columns], R=30, lambda_step=0.01, plot_opts={'xlab': 'PC1', 'ylab': 'PC2'}, topic_order=[4, 1, 9, 6, 2, 7, 8, 10, 5, 3])"
            ],
            "text/html": [
              "\n",
              "<link rel=\"stylesheet\" type=\"text/css\" href=\"https://cdn.jsdelivr.net/gh/bmabey/pyLDAvis@3.3.1/pyLDAvis/js/ldavis.v1.0.0.css\">\n",
              "\n",
              "\n",
              "<div id=\"ldavis_el18291397861962309928488510338\"></div>\n",
              "<script type=\"text/javascript\">\n",
              "\n",
              "var ldavis_el18291397861962309928488510338_data = {\"mdsDat\": {\"x\": [-0.4067280897819117, -0.24968953009126335, 0.05578754133494453, 0.0727765415819934, 0.0492450331772112, 0.09369026826378656, 0.1002158280311608, 0.09861953687032828, 0.10359521702707741, 0.08248765358667409], \"y\": [-0.17036209269039052, 0.28632136219523163, -0.16321627783098835, -0.012019250919321227, -0.15252066820422444, 0.04973200008488336, 0.053197576157362224, 0.027828863674455827, 0.012869778661432896, 0.06816870887155878], \"topics\": [1, 2, 3, 4, 5, 6, 7, 8, 9, 10], \"cluster\": [1, 1, 1, 1, 1, 1, 1, 1, 1, 1], \"Freq\": [57.88880512992121, 11.438484904414532, 4.874404045831452, 4.343255556286579, 4.275493051045268, 3.862809634827032, 3.6625688277593595, 3.6284489000089093, 3.2576483337861237, 2.7680816161195354]}, \"tinfo\": {\"Term\": [\"\", \"climatestrik\", \"climatechang\", \"fridaysforfut\", \"today\", \"clim\", \"gretathunberg\", \"sustain\", \"de\", \"climateact\", \"http\", \"bushfir\", \"amp\", \"climatechangeisr\", \"stud\", \"le\", \"utmsourceigtwittersh\", \"sydney\", \"dc\", \"stat\", \"act\", \"city\", \"la\", \"environ\", \"capitol\", \"new\", \"join\", \"impact\", \"climatecris\", \"un\", \"climatechang\", \"nee\", \"sustain\", \"tim\", \"lik\", \"get\", \"day\", \"nat\", \"on\", \"gre\", \"see\", \"mak\", \"ev\", \"work\", \"real\", \"ear\", \"com\", \"energy\", \"help\", \"nt\", \"us\", \"sci\", \"actonclim\", \"recyc\", \"amp\", \"lov\", \"thank\", \"good\", \"way\", \"look\", \"http\", \"environ\", \"chang\", \"savetheplanet\", \"globalwarm\", \"tak\", \"climatecris\", \"greennewd\", \"planet\", \"world\", \"lead\", \"clim\", \"climateact\", \"new\", \"u\", \"act\", \"peopl\", \"climatestrik\", \"fridaysforfut\", \"gretathunberg\", \"dc\", \"capitol\", \"young\", \"protest\", \"strike\", \"you\", \"march\", \"schoolstrike4climate\", \"park\", \"strikewithus\", \"globalclimatestrik\", \"climatejust\", \"friday\", \"ral\", \"thousand\", \"domain\", \"nashvil\", \"west\", \"pittsburgh\", \"concern\", \"nyc\", \"adult\", \"reason\", \"fridays4future\", \"heard\", \"shutdowndc\", \"emerg\", \"stud\", \"demand\", \"gret\", \"kid\", \"school\", \"stand\", \"join\", \"tomorrow\", \"proud\", \"unit\", \"today\", \"et\", \"inspir\", \"liv\", \"stat\", \"climateactionnow\", \"clim\", \"climateact\", \"act\", \"fut\", \"peopl\", \"bushfir\", \"oc\", \"warm\", \"weath\", \"wast\", \"celebr\", \"level\", \"burn\", \"extinctionrebel\", \"cost\", \"smok\", \"increas\", \"hot\", \"temp\", \"bag\", \"arct\", \"nsw\", \"beach\", \"sad\", \"wildfir\", \"extrem\", \"specy\", \"amazon\", \"infrastruct\", \"vis\", \"drought\", \"term\", \"jun\", \"valu\", \"extinct\", \"far\", \"low\", \"past\", \"record\", \"city\", \"er\", \"hal\", \"busy\", \"report\", \"town\", \"philadelph\", \"op\", \"interest\", \"enough\", \"night\", \"baltim\", \"degr\", \"wish\", \"eu\", \"bas\", \"maryland\", \"abl\", \"jersey\", \"adv\", \"april\", \"healthy\", \"washingtondc\", \"approach\", \"int\", \"decad\", \"admin\", \"rais\", \"model\", \"agend\", \"in\", \"entrepr\", \"transit\", \"farm\", \"transport\", \"convers\", \"utmsourceigtwittersh\", \"art\", \"new\", \"climatechangeisr\", \"pleas\", \"design\", \"hey\", \"gard\", \"excel\", \"landscapearchitect\", \"collab\", \"plasticpollut\", \"pap\", \"scottmorrisonmp\", \"interiordesign\", \"anyon\", \"dr\", \"destroy\", \"book\", \"lit\", \"medicareforal\", \"smart\", \"crowd\", \"na\", \"savetheear\", \"els\", \"gon\", \"architect\", \"feat\", \"artic\", \"wow\", \"votebluenomatterwho\", \"plasticfr\", \"rest\", \"check\", \"seem\", \"plast\", \"de\", \"la\", \"en\", \"sea\", \"el\", \"thought\", \"ic\", \"que\", \"nic\", \"train\", \"du\", \"georg\", \"climatebreakdown\", \"melt\", \"cop25\", \"se\", \"e\", \"workshop\", \"absolv\", \"gam\", \"msnbc\", \"alask\", \"club\", \"charg\", \"nou\", \"kellytalkstrashcom\", \"greenbuild\", \"ce\", \"expl\", \"qui\", \"blog\", \"par\", \"al\", \"un\", \"\", \"modern\", \"maj\", \"fun\", \"storm\", \"congr\", \"writ\", \"cold\", \"die\", \"bit\", \"fai\", \"dea\", \"simpl\", \"oh\", \"deep\", \"joebid\", \"mark\", \"va\", \"prom\", \"lgbtq\", \"drop\", \"baby\", \"leg\", \"return\", \"meas\", \"pretty\", \"definit\", \"addit\", \"wil\", \"self\", \"requir\", \"someon\", \"firedrillfriday\", \"man\", \"rememb\", \"janefond\", \"spec\", \"panel\", \"warn\", \"collect\", \"savetheb\", \"apprecy\", \"divers\", \"weekend\", \"success\", \"think100\", \"achiev\", \"fellow\", \"greenl\", \"shop\", \"dang\", \"bird\", \"environmentaljust\", \"preserv\", \"solid\", \"process\", \"tour\", \"enco\", \"ey\", \"arrest\", \"field\", \"fantast\", \"impact\", \"famy\", \"utmsourceigtwittersh\", \"hom\", \"lin\", \"sydney\", \"produc\", \"excit\", \"memb\", \"europ\", \"consum\", \"disc\", \"cov\", \"strong\", \"goal\", \"provid\", \"deb\", \"incred\", \"bad\", \"renewableenergy\", \"fail\", \"climatestrikedc\", \"market\", \"los\", \"sun\", \"theagu\", \"cleanenergy\", \"adapt\", \"tun\", \"ok\", \"agueo\", \"leav\", \"county\", \"understand\", \"etc\", \"host\", \"mad\", \"le\", \"fre\", \"pres\", \"resy\", \"whit\", \"heat\", \"link\", \"fal\", \"district\", \"award\", \"pennsylvan\", \"john\", \"wal\", \"st\", \"qual\", \"plu\", \"zero\", \"saveourplanet\", \"impl\", \"camp\", \"columb\", \"conv\", \"energyefficy\", \"marshal\", \"necess\", \"island\", \"fridaymot\", \"prim\", \"main\", \"network\", \"miss\", \"cont\", \"hous\"], \"Freq\": [14518.0, 18597.0, 25372.0, 5471.0, 5677.0, 12507.0, 4439.0, 16962.0, 2354.0, 9862.0, 16621.0, 2102.0, 11875.0, 1890.0, 2721.0, 1508.0, 1960.0, 1506.0, 2371.0, 2837.0, 6527.0, 1567.0, 1501.0, 9101.0, 2157.0, 4271.0, 2220.0, 1312.0, 8454.0, 1538.0, 25371.218582292793, 4605.325559884918, 16959.356237500422, 3713.204745617308, 3498.8807176040723, 3374.6820481038217, 3305.131029060316, 3197.6668757063726, 2986.16684966675, 2985.345936904885, 2955.065273913834, 2950.0643788923117, 2949.4839982251333, 2861.1708550681133, 2787.0475536776166, 2745.172933358695, 2524.7145610209764, 2458.514231647449, 2455.4096606240337, 2414.7639265359635, 2530.2232115352813, 2379.5833920031587, 4379.260772375054, 2216.673952730091, 11870.22969855145, 2003.380333174092, 3836.6926815732604, 1909.2126388324084, 1903.2607885358943, 1876.715976930312, 16544.677664805342, 9096.609111945208, 6459.874564514935, 5681.790171520076, 5737.614722238821, 3211.759263179049, 8365.877574112248, 6047.181700647987, 2983.1823895086814, 3492.5750523553747, 3665.7575398014937, 9964.640714520989, 7914.523288347394, 3940.320115243963, 4492.261509002686, 5224.964789284087, 3675.7971942517015, 18596.567499749784, 5470.154910732116, 4438.050127283072, 2370.7239686869025, 2156.7582353312523, 1776.5888736865033, 1732.870978697119, 1591.5631656887988, 1587.9703156056873, 1354.9337639360126, 1091.645421925671, 1052.395622920913, 969.958583550216, 842.2781627971841, 985.9072294923212, 641.4941037026936, 630.5606437597479, 600.7587415870681, 552.9862724119583, 539.2887231141157, 531.3188462843088, 504.75462416680983, 470.01756653739466, 434.88535427188, 427.5390410860337, 378.76937908710204, 373.5055158086093, 426.40806540527825, 341.6675262497045, 558.5909860772659, 2709.3955623130246, 1148.7576700429786, 883.2522673661867, 1385.5898158365724, 1614.874069599149, 1163.84474580078, 2048.2769270644685, 654.1203476016036, 1191.1130220503096, 1317.758503773495, 4626.806423753378, 691.9276344079703, 1185.7154679040127, 1254.1737778718748, 1976.7518221804792, 1063.8023975967549, 2541.593162958027, 1946.6737073157856, 1302.199585108865, 1091.443904406586, 1030.762723379765, 2101.8160171315803, 902.9754369760519, 870.9973899884203, 731.304044630236, 667.6105927492371, 643.6062552093059, 592.2440717891255, 586.1341020025753, 578.6771049417202, 542.2156920711409, 509.1077875408796, 488.74526357349794, 460.57283519790326, 459.76635410049033, 412.6332833358847, 366.32728689956554, 357.25578576492325, 352.8983835530556, 345.61015690461437, 344.92106767659806, 341.50580577720064, 336.4175529376515, 322.8144172685087, 315.89187726932533, 315.1846252298151, 310.30274896921185, 304.82724930848764, 301.46817452378366, 301.08160717469315, 291.59369418631866, 338.5507032803712, 319.61405148265715, 375.89362664663537, 347.15713190660256, 1566.119210486717, 1029.6126259323373, 1021.8408331757615, 914.3313593783889, 716.626606896696, 628.1567166880623, 622.5534421671103, 690.1879438954463, 463.1570827881093, 426.18394699988545, 418.2833369110988, 375.15724078410483, 335.5743664401682, 325.2066902097064, 321.06267016410874, 318.21893208356096, 309.9265841097809, 306.92438580766856, 290.7048120164834, 284.81938282915416, 281.52389922349954, 280.8843300176962, 264.1051739216737, 262.0636334359678, 259.26940107636733, 256.80207879032224, 256.416069224874, 249.02411528301695, 248.35397175378753, 246.50337525292062, 554.2673557334373, 382.26007758989346, 357.99729115343945, 683.3995126607914, 350.36488750579616, 392.76069274833645, 603.8697129657263, 306.8703626314702, 307.62927182779794, 1889.5632884753575, 1169.2157923007208, 593.5243100925007, 524.9116589655933, 468.94065725666826, 468.3144131595443, 449.5329584189173, 452.1649715858268, 420.7034033864058, 410.4639456376109, 410.38807199334, 403.32682596000035, 386.4069574424931, 382.46116117958934, 379.489367037143, 371.16683054991796, 362.21743105668816, 322.3911259533948, 320.9398763182186, 366.0660815478638, 297.3230469500764, 290.8742456380748, 280.8073030091538, 278.54532858528506, 265.24545811133953, 262.7265906568533, 310.350299523323, 237.48491917375745, 235.82353851228783, 232.3470585614089, 394.6801187545642, 811.0543232877114, 253.1650215128991, 390.28141872625145, 2353.4133970485955, 1501.019381386854, 1010.2291332259964, 630.9074656244144, 601.356079918943, 443.2548388838164, 443.1019576805499, 428.880360817166, 328.71919050024474, 327.3513779899578, 305.4433275978899, 286.9738616794539, 283.2908163925793, 245.16644428545882, 240.8342441196371, 231.59259402117618, 225.5611385413454, 217.61398756119587, 213.3413700588526, 210.7727918799947, 202.82214091022828, 199.4193433126794, 199.30371939533492, 184.9833772627591, 182.6673367962599, 175.37733475418253, 173.92840118277465, 164.4095063446594, 162.1725055845089, 162.10750725662328, 672.0567814204416, 796.2299100891487, 358.74566355371576, 621.3996713450841, 14517.725032027996, 495.13306105471986, 435.3709600150474, 333.5167568242452, 329.9246646311646, 299.32022765584867, 255.08632114361973, 238.63717803554167, 226.86486316623362, 221.2921620683103, 197.65007672616136, 183.54850813219895, 181.41216269872052, 178.64760858738157, 178.633588176154, 178.07178990553663, 176.81776819431096, 170.4382258121724, 164.2873398425541, 161.43807417094098, 160.30109540246312, 154.27311385003438, 149.3713699387145, 145.2318631602045, 141.69807152865704, 141.0075760939143, 137.9887793013863, 137.25991428185552, 136.98135188175144, 129.62731237357553, 231.37546902259274, 158.52700283498783, 634.935210307574, 584.6404029111728, 427.3042662455225, 418.5340446931046, 318.0364838638493, 502.3932601346873, 307.38991384439197, 304.42638705807826, 275.5558557462959, 274.25661481995706, 262.2764489925834, 262.1953084427195, 261.45459696426894, 256.60480042574915, 254.27462124958134, 250.45811683443003, 247.57228732842236, 244.53730783540763, 243.35947620460956, 238.53002802743177, 233.93540305270108, 226.19324063206372, 224.49059246944404, 232.4998319960707, 214.61926389151768, 214.5060445196146, 212.94641849139896, 202.41258150633655, 200.8061114493335, 192.41284037275173, 1300.5538041689026, 387.67347865837183, 1336.8748899314207, 303.4827755712172, 215.21664197955894, 1505.6422207515675, 683.6828930637402, 639.2056080301663, 535.240980362129, 440.87916232426994, 435.3719069184486, 400.6014909454381, 375.52393670449675, 366.7659331581933, 360.3062143457557, 357.5550842088982, 356.3074888360773, 343.3034483443364, 342.31580942701254, 341.88675203076554, 338.7754833483323, 322.6121091267564, 309.9464451714842, 307.9269097677536, 291.4016504509144, 289.912419928819, 284.713954507759, 276.6671459942317, 258.62429218837104, 256.7957594584725, 255.2318988682275, 248.4531902208531, 232.30438222367147, 432.59429908832766, 219.54728639225527, 272.74867444269694, 332.8380178234701, 1507.684232249752, 501.9656835491851, 497.5739515983405, 452.3559893972706, 441.53771126023616, 385.8566692585679, 355.4851189485573, 331.8166275432323, 319.2423927266993, 316.44734660440344, 307.75476741117643, 300.64854488956, 249.75767909947993, 241.47684147248017, 222.545529986464, 222.52515364669938, 220.39345904283007, 220.09293400260148, 216.88746714018114, 215.87669383450765, 210.7578545344799, 210.58834357104823, 204.92624404274355, 199.77459186054563, 199.24161626697875, 199.21071784062045, 186.63355939777014, 185.58397754986464, 184.84398843599416, 183.13338506627034, 306.1408366395785, 189.17471009348668, 208.49177700521454], \"Total\": [14518.0, 18597.0, 25372.0, 5471.0, 5677.0, 12507.0, 4439.0, 16962.0, 2354.0, 9862.0, 16621.0, 2102.0, 11875.0, 1890.0, 2721.0, 1508.0, 1960.0, 1506.0, 2371.0, 2837.0, 6527.0, 1567.0, 1501.0, 9101.0, 2157.0, 4271.0, 2220.0, 1312.0, 8454.0, 1538.0, 25372.86016084957, 4606.251976132041, 16962.998410715787, 3714.1311901820454, 3499.8185575350626, 3375.6088452246004, 3306.067806244499, 3198.5933990275835, 2987.093283833553, 2986.272379608011, 2955.9921655950643, 2950.990794913657, 2950.416369100808, 2862.0973045941987, 2787.973976241651, 2746.0994023681064, 2525.641605733453, 2459.440684287369, 2456.340989771916, 2415.690345831704, 2531.1971409729417, 2380.50982249727, 4381.089118611841, 2217.600617016095, 11875.306150041404, 2004.306854204606, 3838.5187698754817, 1910.1390856580485, 1904.1872139737914, 1877.642463575594, 16621.686476189534, 9101.110927154818, 6465.192485459094, 5691.942382610468, 5763.13596691681, 3213.3734677774555, 8454.48007165718, 6200.01033443226, 2997.719976007402, 3528.680295773844, 3890.3830539063483, 12507.03913506452, 9862.35450343009, 4271.765297698916, 5271.783458720352, 6527.969061710879, 4707.364621242507, 18597.844655911373, 5471.071797595801, 4439.00864886989, 2371.641036902348, 2157.6751322804835, 1777.5182934401996, 1733.7878650444534, 1592.480010736331, 1588.8871906711615, 1355.850655940526, 1092.5622630627456, 1053.3131475265484, 970.8754785860654, 843.1950128922188, 987.0006364999753, 642.4109728871064, 631.4775270315029, 601.6756472943491, 553.9032851220949, 540.2066113981833, 532.2359660690225, 505.671796468497, 470.9346076452263, 435.8023031643952, 428.4559444047276, 379.6864156840895, 374.42237114993316, 427.51313332295376, 342.5918835820646, 560.1040677473377, 2721.5269812217352, 1154.4682621235786, 886.2306632289516, 1401.3319934702401, 1667.051558492677, 1191.4404954112888, 2220.7278401911203, 668.2026329927311, 1273.3973774579858, 1428.2714397305367, 5677.709277357026, 712.2757115765155, 1332.3787759332552, 1521.418555652928, 2837.8874862021044, 1663.1400880553533, 12507.03913506452, 9862.35450343009, 6527.969061710879, 3309.175062562954, 4707.364621242507, 2102.7548794638515, 903.9142800328406, 871.936220244518, 732.2429518809902, 668.549453329219, 644.5453168406956, 593.182935652585, 587.0728895132332, 579.6159069415387, 543.1545307107149, 510.0466177368503, 489.68406506566544, 461.51168585726845, 460.70515350231057, 413.5722815784838, 367.26613858387736, 358.1946136094567, 353.83720454111415, 346.5489833182613, 345.8598445560032, 342.44460406661585, 337.3563920545778, 323.7532077407241, 316.83076479920686, 316.12347392286256, 311.24153367650865, 305.76612419075644, 302.4072794587522, 302.02051018698353, 292.53249639366265, 339.6477545820163, 321.1076504740795, 379.6693379639558, 367.765689759617, 1567.056378742331, 1030.5498183962247, 1022.7779921822458, 915.462804265069, 717.5638305524724, 629.0938945707685, 623.490819960326, 691.3047030665895, 464.0951999000834, 427.12118851588053, 419.2206004797066, 376.0945631514972, 336.5115854141227, 326.14402408618525, 321.9999015392619, 319.1562144609501, 310.86405915370773, 307.861659134663, 291.6421429502722, 285.7565781102631, 282.4613934107019, 281.8215650433915, 265.04270240528115, 263.0009071262372, 260.2066626805311, 257.7392971086616, 257.353334540393, 249.96131714154805, 249.2912147611319, 247.4405792437029, 559.3339026881406, 384.3455545782604, 360.16969251291556, 705.2548470598466, 361.5576802316128, 422.92069803737826, 1960.101043630183, 793.9738377775236, 4271.765297698916, 1890.49897422359, 1170.1514692757048, 594.459989838157, 525.8483158124121, 469.8763734985108, 469.2502887525187, 450.4693166653262, 453.1196758561023, 421.63904504438625, 411.3997004831917, 411.32375249837884, 404.2650869934001, 387.34262380700613, 383.3969807897263, 380.42502743235656, 372.1161648021012, 363.153097819709, 323.3268733098349, 321.8757261779605, 367.16196484925126, 298.25868215685085, 291.8099649138925, 281.74298464578266, 279.48096180167016, 266.18133591783516, 263.6623708402805, 311.46849443864187, 238.42055039971365, 236.75987761283548, 233.28269152319717, 397.5185600663528, 826.1824212943116, 257.7864567176829, 1375.550065269563, 2354.3365998662807, 1501.942586700839, 1011.1523448804128, 631.830877676813, 602.279331081283, 444.17823591590974, 444.02530825781866, 429.80357846178913, 329.6426222248597, 328.2747428602791, 306.3665946689937, 287.8978151903856, 284.21438082487657, 246.08974028129944, 241.75750845028165, 232.51579805836846, 226.4845121954711, 218.53764323788675, 214.2647732621697, 211.6962004262209, 203.7456149041389, 200.34274553884165, 200.22714700384856, 185.90683742929406, 183.59061414066412, 176.30067534710776, 174.85204293560673, 165.33278795200022, 163.095879582338, 163.03071036966352, 694.2115220856468, 1361.2753453863854, 515.4971048959248, 1538.6926279916588, 14518.658396462282, 496.06719338871466, 436.3044033955497, 334.4520938630885, 330.8581605823853, 300.25378125489124, 256.01979740876925, 239.57060938131661, 227.79823190708245, 222.22556001410217, 198.5836352667605, 184.48194211399107, 182.3455736765347, 179.5810219906203, 179.5671699611204, 179.00525951189255, 177.75123095329383, 171.37181714487699, 165.22083644178278, 162.37167994358015, 161.23453264775122, 155.2065456495391, 150.304881124861, 146.1653477416092, 142.63149407847854, 141.94096071985524, 138.9222001669756, 138.1935212293539, 137.91478165431707, 130.56073380349665, 233.28132129085063, 245.36057971257864, 635.8798757993018, 585.6203532965177, 428.24870908306696, 419.48178895974695, 318.98102451078455, 503.89187452635514, 308.33438963162433, 305.3763529154155, 276.5008149873342, 275.2011028269712, 263.2209531749943, 263.13979588768336, 262.3990393716913, 257.5514572762445, 255.2190549401592, 251.40267429177857, 248.5167097907723, 245.4817352517771, 244.3039197051983, 239.48451271800096, 234.87983106224866, 227.13767748756362, 225.4351841292255, 233.47813794686323, 215.56371708561664, 215.45046334513984, 213.89135853612856, 203.35697317914457, 201.75057509692968, 193.35725828543548, 1312.5575857099614, 440.3529182601116, 1960.101043630183, 611.4246508295257, 331.67020787882194, 1506.586650682862, 684.6272485120909, 640.1499387027723, 536.1853261078154, 441.8234258119483, 436.3162488955439, 401.5458457539854, 376.47146643537616, 367.71025879591417, 361.2505407528331, 358.4994335782691, 357.25176347558295, 344.2477736336374, 343.26011934954977, 342.83104359039896, 339.71981257606814, 323.55665620996126, 310.8916733107664, 308.87567323942557, 292.345928186732, 290.85778399891916, 285.67647156591823, 277.61147879755305, 259.56871611376187, 257.74011116197386, 256.17663667437836, 249.3974837787647, 233.2487380761079, 434.42636139975946, 220.49160672304268, 347.25937722982025, 721.4381233314054, 1508.6314323510571, 502.91300310452135, 498.52116378851974, 453.3032631835585, 442.4849614565743, 386.8038843693512, 356.4323358535313, 332.7638531507774, 320.18959463652124, 317.39458754176826, 308.70209300392617, 301.5957450962447, 250.70489240552567, 242.42412329476682, 223.49278108361256, 223.472362953367, 221.34066234914312, 221.04020848770847, 217.83467762153037, 216.82391304261614, 211.70500784538513, 211.5355477113825, 205.87348502478923, 200.72188991597204, 200.18884442007447, 200.15788761094203, 187.58069520011625, 186.53115325547577, 185.79116948828968, 184.080620320608, 466.7871255080751, 204.8419244608189, 1661.730901933958], \"Category\": [\"Default\", \"Default\", \"Default\", \"Default\", \"Default\", \"Default\", \"Default\", \"Default\", \"Default\", \"Default\", \"Default\", \"Default\", \"Default\", \"Default\", \"Default\", \"Default\", \"Default\", \"Default\", \"Default\", \"Default\", \"Default\", \"Default\", \"Default\", \"Default\", \"Default\", \"Default\", \"Default\", \"Default\", \"Default\", \"Default\", \"Topic1\", \"Topic1\", \"Topic1\", \"Topic1\", \"Topic1\", \"Topic1\", \"Topic1\", \"Topic1\", \"Topic1\", \"Topic1\", \"Topic1\", \"Topic1\", \"Topic1\", \"Topic1\", \"Topic1\", \"Topic1\", \"Topic1\", \"Topic1\", \"Topic1\", \"Topic1\", \"Topic1\", \"Topic1\", \"Topic1\", \"Topic1\", \"Topic1\", \"Topic1\", \"Topic1\", \"Topic1\", \"Topic1\", \"Topic1\", \"Topic1\", \"Topic1\", \"Topic1\", \"Topic1\", \"Topic1\", \"Topic1\", \"Topic1\", \"Topic1\", \"Topic1\", \"Topic1\", \"Topic1\", \"Topic1\", \"Topic1\", \"Topic1\", \"Topic1\", \"Topic1\", \"Topic1\", \"Topic2\", \"Topic2\", \"Topic2\", \"Topic2\", \"Topic2\", \"Topic2\", \"Topic2\", \"Topic2\", \"Topic2\", \"Topic2\", \"Topic2\", \"Topic2\", \"Topic2\", \"Topic2\", \"Topic2\", \"Topic2\", \"Topic2\", \"Topic2\", \"Topic2\", \"Topic2\", \"Topic2\", \"Topic2\", \"Topic2\", \"Topic2\", \"Topic2\", \"Topic2\", \"Topic2\", \"Topic2\", \"Topic2\", \"Topic2\", \"Topic2\", \"Topic2\", \"Topic2\", \"Topic2\", \"Topic2\", \"Topic2\", \"Topic2\", \"Topic2\", \"Topic2\", \"Topic2\", \"Topic2\", \"Topic2\", \"Topic2\", \"Topic2\", \"Topic2\", \"Topic2\", \"Topic2\", \"Topic2\", \"Topic2\", \"Topic2\", \"Topic2\", \"Topic3\", \"Topic3\", \"Topic3\", \"Topic3\", \"Topic3\", \"Topic3\", \"Topic3\", \"Topic3\", \"Topic3\", \"Topic3\", \"Topic3\", \"Topic3\", \"Topic3\", \"Topic3\", \"Topic3\", \"Topic3\", \"Topic3\", \"Topic3\", \"Topic3\", \"Topic3\", \"Topic3\", \"Topic3\", \"Topic3\", \"Topic3\", \"Topic3\", \"Topic3\", \"Topic3\", \"Topic3\", \"Topic3\", \"Topic3\", \"Topic3\", \"Topic3\", \"Topic3\", \"Topic3\", \"Topic4\", \"Topic4\", \"Topic4\", \"Topic4\", \"Topic4\", \"Topic4\", \"Topic4\", \"Topic4\", \"Topic4\", \"Topic4\", \"Topic4\", \"Topic4\", \"Topic4\", \"Topic4\", \"Topic4\", \"Topic4\", \"Topic4\", \"Topic4\", \"Topic4\", \"Topic4\", \"Topic4\", \"Topic4\", \"Topic4\", \"Topic4\", \"Topic4\", \"Topic4\", \"Topic4\", \"Topic4\", \"Topic4\", \"Topic4\", \"Topic4\", \"Topic4\", \"Topic4\", \"Topic4\", \"Topic4\", \"Topic4\", \"Topic4\", \"Topic4\", \"Topic4\", \"Topic5\", \"Topic5\", \"Topic5\", \"Topic5\", \"Topic5\", \"Topic5\", \"Topic5\", \"Topic5\", \"Topic5\", \"Topic5\", \"Topic5\", \"Topic5\", \"Topic5\", \"Topic5\", \"Topic5\", \"Topic5\", \"Topic5\", \"Topic5\", \"Topic5\", \"Topic5\", \"Topic5\", \"Topic5\", \"Topic5\", \"Topic5\", \"Topic5\", \"Topic5\", \"Topic5\", \"Topic5\", \"Topic5\", \"Topic5\", \"Topic5\", \"Topic5\", \"Topic5\", \"Topic5\", \"Topic6\", \"Topic6\", \"Topic6\", \"Topic6\", \"Topic6\", \"Topic6\", \"Topic6\", \"Topic6\", \"Topic6\", \"Topic6\", \"Topic6\", \"Topic6\", \"Topic6\", \"Topic6\", \"Topic6\", \"Topic6\", \"Topic6\", \"Topic6\", \"Topic6\", \"Topic6\", \"Topic6\", \"Topic6\", \"Topic6\", \"Topic6\", \"Topic6\", \"Topic6\", \"Topic6\", \"Topic6\", \"Topic6\", \"Topic6\", \"Topic6\", \"Topic6\", \"Topic6\", \"Topic6\", \"Topic7\", \"Topic7\", \"Topic7\", \"Topic7\", \"Topic7\", \"Topic7\", \"Topic7\", \"Topic7\", \"Topic7\", \"Topic7\", \"Topic7\", \"Topic7\", \"Topic7\", \"Topic7\", \"Topic7\", \"Topic7\", \"Topic7\", \"Topic7\", \"Topic7\", \"Topic7\", \"Topic7\", \"Topic7\", \"Topic7\", \"Topic7\", \"Topic7\", \"Topic7\", \"Topic7\", \"Topic7\", \"Topic7\", \"Topic7\", \"Topic7\", \"Topic7\", \"Topic8\", \"Topic8\", \"Topic8\", \"Topic8\", \"Topic8\", \"Topic8\", \"Topic8\", \"Topic8\", \"Topic8\", \"Topic8\", \"Topic8\", \"Topic8\", \"Topic8\", \"Topic8\", \"Topic8\", \"Topic8\", \"Topic8\", \"Topic8\", \"Topic8\", \"Topic8\", \"Topic8\", \"Topic8\", \"Topic8\", \"Topic8\", \"Topic8\", \"Topic8\", \"Topic8\", \"Topic8\", \"Topic8\", \"Topic8\", \"Topic8\", \"Topic8\", \"Topic8\", \"Topic8\", \"Topic8\", \"Topic9\", \"Topic9\", \"Topic9\", \"Topic9\", \"Topic9\", \"Topic9\", \"Topic9\", \"Topic9\", \"Topic9\", \"Topic9\", \"Topic9\", \"Topic9\", \"Topic9\", \"Topic9\", \"Topic9\", \"Topic9\", \"Topic9\", \"Topic9\", \"Topic9\", \"Topic9\", \"Topic9\", \"Topic9\", \"Topic9\", \"Topic9\", \"Topic9\", \"Topic9\", \"Topic9\", \"Topic9\", \"Topic9\", \"Topic9\", \"Topic9\", \"Topic9\", \"Topic10\", \"Topic10\", \"Topic10\", \"Topic10\", \"Topic10\", \"Topic10\", \"Topic10\", \"Topic10\", \"Topic10\", \"Topic10\", \"Topic10\", \"Topic10\", \"Topic10\", \"Topic10\", \"Topic10\", \"Topic10\", \"Topic10\", \"Topic10\", \"Topic10\", \"Topic10\", \"Topic10\", \"Topic10\", \"Topic10\", \"Topic10\", \"Topic10\", \"Topic10\", \"Topic10\", \"Topic10\", \"Topic10\", \"Topic10\", \"Topic10\", \"Topic10\", \"Topic10\"], \"logprob\": [30.0, 29.0, 28.0, 27.0, 26.0, 25.0, 24.0, 23.0, 22.0, 21.0, 20.0, 19.0, 18.0, 17.0, 16.0, 15.0, 14.0, 13.0, 12.0, 11.0, 10.0, 9.0, 8.0, 7.0, 6.0, 5.0, 4.0, 3.0, 2.0, 1.0, -3.2684, -4.9748, -3.6712, -5.1901, -5.2496, -5.2857, -5.3066, -5.3396, -5.4081, -5.4083, -5.4185, -5.4202, -5.4204, -5.4508, -5.4771, -5.4922, -5.5759, -5.6025, -5.6037, -5.6204, -5.5737, -5.6351, -5.0252, -5.706, -4.028, -5.8072, -5.1574, -5.8554, -5.8585, -5.8725, -3.696, -4.2941, -4.6364, -4.7648, -4.755, -5.3352, -4.3779, -4.7025, -5.4091, -5.2514, -5.203, -4.203, -4.4333, -5.1308, -4.9997, -4.8486, -5.2003, -1.9575, -3.1812, -3.3903, -4.0173, -4.1119, -4.3058, -4.3307, -4.4158, -4.418, -4.5767, -4.7928, -4.8294, -4.911, -5.0521, -4.8947, -5.3245, -5.3416, -5.3901, -5.4729, -5.498, -5.5129, -5.5642, -5.6355, -5.7132, -5.7302, -5.8513, -5.8653, -5.7329, -5.9544, -5.4628, -3.8838, -4.7418, -5.0046, -4.5544, -4.4012, -4.7288, -4.1635, -5.305, -4.7056, -4.6046, -3.3486, -5.2488, -4.7102, -4.654, -4.199, -4.8187, -3.9477, -4.2144, -4.6164, -4.793, -4.8502, -3.2847, -4.1296, -4.1656, -4.3404, -4.4316, -4.4682, -4.5514, -4.5617, -4.5745, -4.6396, -4.7026, -4.7434, -4.8028, -4.8046, -4.9127, -5.0317, -5.0568, -5.0691, -5.09, -5.092, -5.1019, -5.1169, -5.1582, -5.1799, -5.1821, -5.1977, -5.2155, -5.2266, -5.2279, -5.2599, -5.1106, -5.1682, -5.006, -5.0855, -3.4635, -3.883, -3.8905, -4.0017, -4.2453, -4.3771, -4.3861, -4.2829, -4.6818, -4.765, -4.7837, -4.8926, -5.0041, -5.0354, -5.0483, -5.0572, -5.0836, -5.0933, -5.1476, -5.168, -5.1797, -5.182, -5.2436, -5.2513, -5.262, -5.2716, -5.2731, -5.3023, -5.305, -5.3125, -4.5023, -4.8738, -4.9394, -4.2928, -4.9609, -4.8467, -4.4165, -5.0935, -5.091, -3.2601, -3.7401, -4.4181, -4.5409, -4.6537, -4.655, -4.696, -4.6901, -4.7622, -4.7869, -4.7871, -4.8044, -4.8473, -4.8575, -4.8653, -4.8875, -4.9119, -5.0284, -5.0329, -4.9014, -5.1094, -5.1313, -5.1665, -5.1746, -5.2235, -5.2331, -5.0665, -5.3341, -5.3411, -5.3559, -4.8261, -4.1058, -5.2701, -4.8373, -2.939, -3.3888, -3.7847, -4.2555, -4.3035, -4.6085, -4.6089, -4.6415, -4.9075, -4.9116, -4.9809, -5.0433, -5.0562, -5.2007, -5.2186, -5.2577, -5.2841, -5.3199, -5.3398, -5.3519, -5.3903, -5.4073, -5.4078, -5.4824, -5.495, -5.5357, -5.544, -5.6003, -5.614, -5.6144, -4.1923, -4.0228, -4.8201, -4.2707, -1.0663, -4.4446, -4.5732, -4.8397, -4.8506, -4.9479, -5.1078, -5.1745, -5.2251, -5.25, -5.3629, -5.437, -5.4487, -5.464, -5.4641, -5.4673, -5.4743, -5.5111, -5.5478, -5.5653, -5.5724, -5.6107, -5.643, -5.6711, -5.6957, -5.7006, -5.7223, -5.7276, -5.7296, -5.7848, -5.2054, -5.5835, -4.1866, -4.2691, -4.5826, -4.6033, -4.8779, -4.4207, -4.912, -4.9216, -5.0213, -5.026, -5.0707, -5.071, -5.0738, -5.0925, -5.1017, -5.1168, -5.1284, -5.1407, -5.1455, -5.1656, -5.185, -5.2187, -5.2262, -5.1912, -5.2712, -5.2717, -5.279, -5.3298, -5.3377, -5.3804, -3.4695, -4.6799, -3.442, -4.9248, -5.2684, -3.2153, -4.0048, -4.0721, -4.2496, -4.4435, -4.4561, -4.5393, -4.604, -4.6276, -4.6453, -4.653, -4.6565, -4.6937, -4.6965, -4.6978, -4.7069, -4.7558, -4.7959, -4.8024, -4.8576, -4.8627, -4.8808, -4.9095, -4.9769, -4.984, -4.9901, -5.017, -5.0842, -4.4625, -5.1407, -4.9237, -4.7246, -3.0511, -4.1509, -4.1597, -4.255, -4.2792, -4.414, -4.4959, -4.5648, -4.6035, -4.6123, -4.6401, -4.6635, -4.8489, -4.8827, -4.9643, -4.9644, -4.974, -4.9754, -4.99, -4.9947, -5.0187, -5.0195, -5.0468, -5.0722, -5.0749, -5.0751, -5.1403, -5.1459, -5.1499, -5.1592, -4.6454, -5.1268, -5.0295], \"loglift\": [30.0, 29.0, 28.0, 27.0, 26.0, 25.0, 24.0, 23.0, 22.0, 21.0, 20.0, 19.0, 18.0, 17.0, 16.0, 15.0, 14.0, 13.0, 12.0, 11.0, 10.0, 9.0, 8.0, 7.0, 6.0, 5.0, 4.0, 3.0, 2.0, 1.0, 0.5466, 0.5464, 0.5464, 0.5464, 0.5464, 0.5464, 0.5464, 0.5464, 0.5463, 0.5463, 0.5463, 0.5463, 0.5463, 0.5463, 0.5463, 0.5463, 0.5463, 0.5463, 0.5463, 0.5463, 0.5463, 0.5463, 0.5462, 0.5462, 0.5462, 0.5462, 0.5462, 0.5462, 0.5462, 0.5462, 0.542, 0.5462, 0.5458, 0.5449, 0.5422, 0.5461, 0.5361, 0.5217, 0.5418, 0.5364, 0.4872, 0.3194, 0.3266, 0.4659, 0.3866, 0.324, 0.2993, 2.1681, 2.168, 2.168, 2.1678, 2.1678, 2.1677, 2.1677, 2.1676, 2.1676, 2.1675, 2.1673, 2.1673, 2.1672, 2.1671, 2.1671, 2.1668, 2.1667, 2.1667, 2.1665, 2.1665, 2.1665, 2.1664, 2.1662, 2.1661, 2.166, 2.1658, 2.1657, 2.1656, 2.1655, 2.1655, 2.1637, 2.1632, 2.1648, 2.1569, 2.1364, 2.1448, 2.0874, 2.1469, 2.1014, 2.0877, 1.9635, 2.1392, 2.0516, 1.975, 1.8066, 1.7213, 0.5747, 0.5456, 0.5561, 1.059, 0.6494, 3.0207, 3.0201, 3.0201, 3.0199, 3.0198, 3.0197, 3.0196, 3.0196, 3.0196, 3.0194, 3.0193, 3.0193, 3.0191, 3.0191, 3.0189, 3.0186, 3.0185, 3.0185, 3.0185, 3.0185, 3.0184, 3.0184, 3.0183, 3.0182, 3.0182, 3.0182, 3.0181, 3.0181, 3.0181, 3.018, 3.0179, 3.0165, 3.0112, 2.9635, 3.1359, 3.1356, 3.1356, 3.1353, 3.1352, 3.1351, 3.135, 3.1349, 3.1345, 3.1343, 3.1343, 3.1341, 3.1338, 3.1337, 3.1336, 3.1336, 3.1335, 3.1335, 3.1333, 3.1333, 3.1332, 3.1332, 3.133, 3.133, 3.1329, 3.1329, 3.1329, 3.1328, 3.1328, 3.1328, 3.1274, 3.1311, 3.1305, 3.1051, 3.1051, 3.0626, 1.9592, 2.1859, 0.5057, 3.1518, 3.1515, 3.1507, 3.1505, 3.1503, 3.1503, 3.1502, 3.1502, 3.15, 3.15, 3.15, 3.1499, 3.1499, 3.1498, 3.1498, 3.1497, 3.1497, 3.1494, 3.1494, 3.1493, 3.1491, 3.1491, 3.1489, 3.1489, 3.1487, 3.1487, 3.1487, 3.1483, 3.1483, 3.1483, 3.1451, 3.1338, 3.1342, 1.8925, 3.2534, 3.2532, 3.2529, 3.2523, 3.2522, 3.2517, 3.2517, 3.2516, 3.251, 3.251, 3.2508, 3.2506, 3.2505, 3.25, 3.2499, 3.2498, 3.2497, 3.2495, 3.2495, 3.2494, 3.2492, 3.2492, 3.2492, 3.2488, 3.2487, 3.2485, 3.2485, 3.2482, 3.2481, 3.2481, 3.2213, 2.7175, 2.8913, 2.3471, 3.3069, 3.3051, 3.3049, 3.3042, 3.3042, 3.3039, 3.3034, 3.3031, 3.3029, 3.3028, 3.3023, 3.3019, 3.3019, 3.3018, 3.3018, 3.3018, 3.3017, 3.3015, 3.3013, 3.3012, 3.3012, 3.301, 3.3008, 3.3006, 3.3004, 3.3004, 3.3003, 3.3002, 3.3002, 3.2998, 3.2988, 2.8702, 3.3149, 3.3147, 3.3142, 3.3141, 3.3134, 3.3134, 3.3133, 3.3132, 3.3129, 3.3129, 3.3128, 3.3128, 3.3128, 3.3127, 3.3127, 3.3126, 3.3126, 3.3125, 3.3125, 3.3124, 3.3123, 3.3122, 3.3122, 3.3122, 3.312, 3.312, 3.3119, 3.3117, 3.3117, 3.3115, 3.3072, 3.189, 2.9337, 2.6159, 2.8839, 3.4235, 3.4228, 3.4227, 3.4224, 3.422, 3.422, 3.4218, 3.4216, 3.4216, 3.4215, 3.4215, 3.4215, 3.4214, 3.4214, 3.4214, 3.4214, 3.4212, 3.4211, 3.4211, 3.4209, 3.4209, 3.4208, 3.4208, 3.4205, 3.4205, 3.4205, 3.4204, 3.4201, 3.4199, 3.4199, 3.1826, 2.6506, 3.5864, 3.5851, 3.5851, 3.5849, 3.5849, 3.5846, 3.5844, 3.5842, 3.5841, 3.584, 3.5839, 3.5839, 3.5832, 3.5831, 3.5828, 3.5828, 3.5827, 3.5827, 3.5827, 3.5826, 3.5825, 3.5825, 3.5824, 3.5823, 3.5823, 3.5823, 3.582, 3.5819, 3.5819, 3.5819, 3.1652, 3.5074, 1.5113]}, \"token.table\": {\"Topic\": [7, 4, 6, 8, 1, 2, 1, 9, 9, 7, 4, 2, 4, 4, 9, 6, 7, 8, 6, 3, 1, 8, 5, 8, 4, 4, 5, 3, 8, 1, 4, 5, 10, 5, 10, 7, 9, 3, 4, 4, 3, 8, 7, 1, 6, 5, 3, 3, 4, 10, 2, 6, 3, 1, 2, 6, 4, 5, 4, 9, 1, 2, 1, 2, 1, 2, 5, 6, 1, 3, 5, 1, 5, 2, 2, 9, 6, 7, 5, 8, 10, 1, 2, 7, 9, 5, 9, 10, 10, 4, 8, 6, 3, 9, 9, 5, 8, 1, 2, 6, 7, 9, 4, 7, 7, 4, 1, 2, 5, 5, 7, 9, 10, 8, 2, 5, 7, 3, 6, 6, 1, 6, 5, 2, 8, 6, 8, 1, 10, 4, 1, 4, 1, 8, 8, 4, 2, 4, 9, 4, 9, 1, 5, 9, 6, 3, 3, 3, 8, 7, 9, 10, 3, 7, 8, 9, 8, 3, 3, 4, 5, 8, 8, 8, 10, 2, 10, 2, 2, 7, 1, 2, 6, 5, 6, 1, 2, 1, 3, 7, 9, 5, 1, 1, 6, 8, 1, 5, 1, 2, 2, 4, 4, 2, 10, 1, 5, 3, 8, 4, 9, 3, 1, 2, 10, 1, 2, 4, 5, 8, 6, 4, 8, 10, 4, 10, 3, 9, 3, 1, 2, 4, 4, 5, 10, 8, 4, 7, 10, 1, 2, 3, 6, 1, 2, 6, 5, 10, 1, 2, 9, 7, 3, 7, 1, 4, 8, 10, 5, 2, 3, 4, 8, 9, 10, 1, 9, 1, 1, 3, 2, 3, 5, 9, 10, 7, 1, 8, 2, 7, 9, 10, 4, 7, 5, 6, 9, 5, 10, 4, 7, 6, 5, 2, 1, 10, 1, 10, 1, 4, 5, 9, 6, 4, 6, 3, 1, 2, 3, 7, 9, 1, 4, 8, 10, 5, 1, 2, 6, 2, 3, 8, 10, 1, 2, 4, 2, 1, 2, 1, 3, 5, 5, 5, 5, 10, 10, 8, 7, 10, 8, 9, 7, 2, 1, 2, 9, 9, 10, 6, 6, 4, 2, 1, 2, 1, 3, 1, 8, 9, 4, 4, 7, 3, 5, 10, 7, 3, 10, 8, 5, 1, 5, 1, 2, 2, 1, 5, 6, 6, 1, 3, 5, 7, 8, 2, 7, 5, 3, 8, 3, 7, 8, 3, 10, 1, 2, 1, 2, 7, 2, 2, 9, 1, 2, 8, 9, 1, 4, 9, 1, 2, 3, 3, 1, 2, 9, 8, 6, 2, 1, 1, 2, 1, 2, 8, 4, 6, 4, 10, 3, 4, 9, 1, 2, 1, 2, 6, 4, 9, 1, 2, 1, 1, 4, 8, 7, 3, 3, 5, 10, 3, 8, 4, 3, 1, 3, 8, 2, 10, 7, 3, 4, 1, 6, 1, 2, 5, 7, 2, 2, 10], \"Freq\": [0.9999546517009834, 0.9972011482784672, 0.9940971479216411, 0.9952234955950094, 0.8004020776763009, 0.19944947466689833, 0.9995231508523839, 0.0002282537453419465, 0.9977973576589786, 0.9913634067738019, 0.9947413366809102, 0.9989358429712977, 0.9973523685254547, 0.9982194543633485, 0.9954069321478604, 0.6964151623557217, 0.03685762697704377, 0.2657628892555261, 0.9932977581233091, 0.9976735126549624, 0.9995531778318502, 0.00033683342134181976, 0.996533756616274, 0.9956355450082395, 0.9961942826084748, 0.9983665257572705, 0.9955619130328514, 0.9965525311188246, 0.9933271372113256, 0.45719390580438096, 0.3866626145508126, 0.15365745594527405, 0.0012594873438137217, 0.9952852552830792, 0.9956061394979373, 0.9922261935249592, 0.9963289666392426, 0.9986162477419919, 0.9970896597325809, 0.9963772773063407, 0.9976339273248558, 0.9979768515612887, 0.9944850627712474, 0.030250146146968113, 0.9680046767029796, 0.997000493642369, 0.9981724764805222, 0.9996410045358953, 0.9984021150195792, 0.9962000822185411, 0.9996871019782436, 0.9919387559569421, 0.9991539511242304, 0.9991968552412364, 0.0007733721789792851, 0.9951220867299249, 0.016945410165066645, 0.9816234031335035, 0.9993258833845029, 0.9976320361204051, 0.7967513247849602, 0.20324554617193868, 0.8025466938191274, 0.19741736106959457, 0.2952246798248413, 0.6397536849972121, 0.06433613185592264, 0.9957272365270468, 0.9999266869861033, 3.941219057136508e-05, 0.9997360621558682, 0.9895345342460736, 0.010290402161057663, 0.9989861845443954, 0.9999545831290131, 0.9982795711376123, 0.9938712256444179, 0.99761819956634, 0.9975289621798329, 0.9954929289636361, 0.9966698574938765, 0.9997459632704828, 0.9980154194870079, 0.9958242615641637, 0.9969832686752425, 0.05858175777046704, 0.00976362629507784, 0.9226626848848559, 0.9974682850368337, 0.9292522258280822, 0.06857077493387884, 0.9968666600878813, 0.9978743973483859, 0.9946463244071209, 0.9987476702023655, 0.9968352799023495, 0.9946627147580287, 0.9996770162298299, 0.9997297074505065, 0.9994322817449481, 0.997387591931934, 0.9964961307303147, 0.9971316088894666, 0.9968414607122047, 0.9933617509234147, 0.9984797390749768, 0.00433099823013132, 0.9952633932841773, 0.9992262055545871, 0.9962541175537933, 0.9964958819021561, 0.9986406390210302, 0.9962847180031829, 0.9953614894245042, 0.9983692367488022, 0.9963563072749066, 0.9923432491323164, 0.9960110282781248, 0.9955393483076371, 0.9978607270282, 0.9995996494638328, 0.9978758509295244, 0.9973628992156921, 0.9980288167665375, 0.0017853824986879025, 0.9988603647252096, 0.9979092022447025, 0.9998208193065259, 0.9957571757009697, 0.9973750107790804, 0.0026018253316271414, 0.993897276681568, 0.999548304906102, 0.00043950678461299414, 0.9962541225516487, 0.9994664805267925, 0.9715339000797342, 0.02807901445317151, 0.9977704061830336, 0.9968947147670479, 0.998136301146923, 0.999519942637371, 0.9973355610374954, 0.9982036416263625, 0.9932807647554042, 0.9981797017417645, 0.9989373877870457, 0.9987016759460186, 0.9958326575592907, 0.9970610102590957, 0.9978811580913993, 0.9977045188546027, 0.06585626845527119, 0.00454181161760491, 0.8811114538153525, 0.04768902198485155, 0.9929805671766825, 0.9980928636409993, 0.029776470289495195, 0.9684442479869151, 0.9974878067045762, 0.9944206071167301, 0.9962796879435458, 0.9986162861370699, 0.9981845704945282, 0.9978036289125555, 0.9969042912465126, 0.9988719393324818, 0.9998040973258161, 0.9986482552467632, 0.6699554898382847, 0.32968941786809586, 0.9967113229957874, 0.9981348849443403, 0.9968814796673887, 0.9998196339527129, 0.9985827562142241, 0.9956384914287808, 0.00312329955484804, 0.0010410998516160134, 0.9965383006756834, 0.9982790892139141, 0.9994036634993749, 0.999573923793188, 0.9951270633084881, 0.9979208247557787, 0.9753209549373645, 0.024516088167765734, 0.002256748816062251, 0.9963546022914839, 0.9997727760971705, 0.9992393342561215, 0.9970848041977731, 0.9964606155811108, 0.9979217262239705, 0.9994540701891553, 0.9983867670830104, 0.5021060233399, 0.4955639253159273, 0.21309719723141113, 0.7861558762726383, 0.9988912829881696, 0.4928595833698647, 0.3815298850506645, 0.12517068783996563, 0.9953863600844964, 0.000721948402599816, 0.00030081183441659, 0.003549579646115762, 6.016236688331801e-05, 0.997690878788325, 0.008380584684252242, 0.9911946067465605, 0.9961682977630377, 0.990463830884368, 0.007151363399887133, 0.998603048139674, 0.9963753617911112, 0.9973778910020517, 0.10957844918967231, 0.8901372653352834, 0.9953626756974605, 0.9976401395655047, 0.996870649892602, 0.9942151287428019, 0.9988514663271993, 0.9977981818958802, 0.9943841900811536, 0.9980246899834261, 0.07745208435140676, 0.9222201671609362, 0.9953464101086754, 0.9926224029230352, 0.010704101576139853, 0.9890589856353225, 0.9993724216163885, 0.9989581606383308, 0.9995814535362868, 0.9423236604732163, 0.05757787778123307, 0.9943965602315203, 0.9913184381299167, 0.9980057827333088, 0.9915522217664018, 0.9997661142937538, 0.3497450094835814, 0.6482342848187069, 0.9959814648968328, 0.9968247611637298, 0.8242307781383911, 0.14131548429007504, 0.03220678479169152, 0.0006572813222794188, 0.0006572813222794188, 0.0006572813222794188, 0.9996578349776077, 0.9971649653394788, 0.9993479769817358, 0.003114220413383524, 0.9965505322827277, 0.0013861202612668589, 0.28831301434350665, 0.2481155267667677, 0.46157804700186394, 0.9957416195265429, 0.9970103363949616, 0.9996642500832722, 0.9989406903414035, 0.999372603511457, 0.9957736947909451, 0.9971318842307009, 0.9964035316911661, 0.9972204597853479, 0.9955725481068642, 0.9958961861219515, 0.9955717768645951, 0.9977893350487234, 0.3427686653222232, 0.6555450724287519, 0.9948204562187676, 0.997848691864857, 0.9963404615874079, 0.9957798976789252, 0.9977663890579563, 0.9998144812567412, 0.9940613852709005, 0.9997282006849543, 0.9941296355981095, 0.9223353169993612, 0.0721013395014729, 0.005384190936798302, 0.0002340952581216653, 0.9980505487411718, 0.9970884052970921, 0.9967829829241075, 0.9966649034796508, 0.9997142242039031, 0.9981590203664148, 0.9989885323718889, 0.9967645690831928, 0.997128459522124, 0.9996339974250319, 0.99811269464709, 0.9962454752259432, 0.0019845527394939107, 0.996597711467588, 0.39448301316849127, 0.020568946682900848, 0.5847457699853241, 0.9987533170647, 0.990335437716321, 0.007901612534970646, 0.997725661665931, 0.7809040292760923, 0.21901851310763087, 0.9992127871901029, 0.9986714772839049, 0.995089609394735, 0.004670216068228726, 0.545963406902844, 0.17011376460088615, 0.2835229410014769, 0.9945015572530393, 0.9984843788735956, 0.9990159656198889, 0.9978862578480653, 0.9989545804142814, 0.994991242755725, 0.9933707598209626, 0.9971524689243287, 0.9936690520154841, 0.9990838101850984, 0.9926108808787386, 0.9995455816364056, 0.062038764488194106, 0.9352932722207491, 0.0023559024489187637, 0.998606877636363, 0.9977950917196372, 0.9981303588381814, 0.9936778146440849, 0.9961541363578122, 0.9992437941002467, 0.9996506508848536, 0.9981921510600984, 0.05438245207994421, 0.9435355435870321, 0.9997291590688214, 0.9970841498022479, 0.9975759383348264, 0.9992142433488624, 0.004286669821940949, 0.9902207288683592, 0.005031211623593538, 0.9936642956597237, 0.9971249640375283, 0.9920271955041677, 0.9984158565031566, 0.995294030462488, 0.9981887395617364, 0.9972243411422517, 0.9982532531178034, 0.0015811825550968374, 0.03059293501762683, 0.9687762755581829, 0.9994853720636758, 0.9997858347432756, 0.9967817260969288, 0.9977816644603263, 0.9986849682309481, 0.9996643544571558, 0.015516718957740419, 0.9814324740770816, 0.995705188021227, 0.998037592282444, 0.9982723362390375, 0.9926207494407205, 0.9972793034493185, 0.9979479959273246, 0.993633717226665, 0.3505045517121882, 0.6480258572353247, 0.9969245051103303, 0.9959793497721592, 0.9941254885222985, 0.022661643702717626, 0.976968639628271, 0.3030423172804934, 0.6966449549575994, 0.9974062583770799, 0.9996985766018444, 0.999098258628037, 0.9980684281199008, 0.0040418485930504835, 0.9953970762339781, 0.9946682755583204, 0.9953961110555564, 0.9997642863237397, 0.00017685552561891733, 0.9996106093980084, 0.9995725776069205, 0.0003111994326298009, 0.9984694039192964, 0.9974944111523666, 0.9996043343887229, 0.0002605171577765762, 0.9970508473690278, 0.9978588462201827, 0.9973473803517631, 0.9988770572693321, 0.9996954361264794, 0.184933738010759, 0.814941338834078, 0.019455176256603313, 0.9787450209091205, 0.9973849166583412, 0.9982611585008072, 0.9961168414932803, 0.9939759159140306, 0.0027764690388660074, 0.02765810421616277, 0.968033647565697, 0.9978089959287982, 0.8520835567647475, 0.14776782963484822, 0.560215850988449, 0.035094728484195176, 0.40358937756824453, 0.0023018860936014868, 0.9967166785294438, 0.07701617279468462, 0.922793779485403, 0.9995270455415884, 0.009693377829548657, 0.30814737942354675, 0.6821076925319238, 0.9919950831605102, 0.9966210566747545, 0.9964460914309176, 0.9967905135764681, 0.9971883579982737, 0.9989262743962448, 0.995672264669476, 0.9960659078864705, 0.9991781410836807, 0.9993765245533217, 0.9983025416935769, 0.9956684777236436, 0.9976777855165424, 0.998904004658197, 0.9933670514259308, 0.9975138930710298, 0.9964922733464436, 0.9996166082150886, 0.9975398140571072, 0.9898884872578065, 0.00991872231721249, 0.9940418290397699, 0.9960167244131476, 0.9994416276521263, 0.9997084173805061, 0.9939429911570954], \"Term\": [\"\", \"abl\", \"absolv\", \"achiev\", \"act\", \"act\", \"actonclim\", \"actonclim\", \"adapt\", \"addit\", \"admin\", \"adult\", \"adv\", \"agend\", \"agueo\", \"al\", \"al\", \"al\", \"alask\", \"amazon\", \"amp\", \"amp\", \"anyon\", \"apprecy\", \"approach\", \"april\", \"architect\", \"arct\", \"arrest\", \"art\", \"art\", \"art\", \"art\", \"artic\", \"award\", \"baby\", \"bad\", \"bag\", \"baltim\", \"bas\", \"beach\", \"bird\", \"bit\", \"blog\", \"blog\", \"book\", \"burn\", \"bushfir\", \"busy\", \"camp\", \"capitol\", \"ce\", \"celebr\", \"chang\", \"chang\", \"charg\", \"check\", \"check\", \"city\", \"cleanenergy\", \"clim\", \"clim\", \"climateact\", \"climateact\", \"climateactionnow\", \"climateactionnow\", \"climateactionnow\", \"climatebreakdown\", \"climatechang\", \"climatechang\", \"climatechangeisr\", \"climatecris\", \"climatecris\", \"climatejust\", \"climatestrik\", \"climatestrikedc\", \"club\", \"cold\", \"collab\", \"collect\", \"columb\", \"com\", \"concern\", \"congr\", \"consum\", \"cont\", \"cont\", \"cont\", \"conv\", \"convers\", \"convers\", \"cop25\", \"cost\", \"county\", \"cov\", \"crowd\", \"dang\", \"day\", \"dc\", \"de\", \"dea\", \"deb\", \"decad\", \"deep\", \"definit\", \"degr\", \"demand\", \"demand\", \"design\", \"destroy\", \"die\", \"disc\", \"district\", \"divers\", \"domain\", \"dr\", \"drop\", \"drought\", \"du\", \"e\", \"ear\", \"el\", \"els\", \"emerg\", \"emerg\", \"en\", \"enco\", \"energy\", \"energyefficy\", \"enough\", \"entrepr\", \"entrepr\", \"environ\", \"environ\", \"environmentaljust\", \"er\", \"et\", \"et\", \"etc\", \"eu\", \"europ\", \"ev\", \"excel\", \"excit\", \"expl\", \"extinct\", \"extinctionrebel\", \"extrem\", \"ey\", \"fai\", \"fail\", \"fal\", \"famy\", \"famy\", \"famy\", \"famy\", \"fantast\", \"far\", \"farm\", \"farm\", \"feat\", \"fellow\", \"field\", \"firedrillfriday\", \"fre\", \"friday\", \"fridaymot\", \"fridays4future\", \"fridaysforfut\", \"fun\", \"fut\", \"fut\", \"gam\", \"gard\", \"georg\", \"get\", \"globalclimatestrik\", \"globalwarm\", \"globalwarm\", \"globalwarm\", \"goal\", \"gon\", \"good\", \"gre\", \"greenbuild\", \"greenl\", \"greennewd\", \"greennewd\", \"gret\", \"gret\", \"gretathunberg\", \"hal\", \"healthy\", \"heard\", \"heat\", \"help\", \"hey\", \"hom\", \"hom\", \"host\", \"host\", \"hot\", \"hous\", \"hous\", \"hous\", \"http\", \"http\", \"http\", \"http\", \"http\", \"ic\", \"impact\", \"impact\", \"impl\", \"in\", \"in\", \"increas\", \"incred\", \"infrastruct\", \"inspir\", \"inspir\", \"int\", \"interest\", \"interiordesign\", \"island\", \"janefond\", \"jersey\", \"joebid\", \"john\", \"join\", \"join\", \"jun\", \"kellytalkstrashcom\", \"kid\", \"kid\", \"la\", \"landscapearchitect\", \"le\", \"lead\", \"lead\", \"leav\", \"leg\", \"level\", \"lgbtq\", \"lik\", \"lin\", \"lin\", \"link\", \"lit\", \"liv\", \"liv\", \"liv\", \"liv\", \"liv\", \"liv\", \"look\", \"los\", \"lov\", \"low\", \"low\", \"mad\", \"mad\", \"mad\", \"mad\", \"main\", \"maj\", \"mak\", \"man\", \"march\", \"mark\", \"market\", \"marshal\", \"maryland\", \"meas\", \"medicareforal\", \"melt\", \"memb\", \"miss\", \"miss\", \"model\", \"modern\", \"msnbc\", \"na\", \"nashvil\", \"nat\", \"necess\", \"nee\", \"network\", \"new\", \"new\", \"new\", \"new\", \"nic\", \"night\", \"nou\", \"nsw\", \"nt\", \"nyc\", \"oc\", \"oh\", \"ok\", \"on\", \"op\", \"panel\", \"panel\", \"pap\", \"par\", \"par\", \"par\", \"park\", \"past\", \"past\", \"pennsylvan\", \"peopl\", \"peopl\", \"philadelph\", \"pittsburgh\", \"planet\", \"planet\", \"plast\", \"plast\", \"plast\", \"plasticfr\", \"plasticpollut\", \"pleas\", \"plu\", \"pres\", \"preserv\", \"pretty\", \"prim\", \"process\", \"produc\", \"prom\", \"protest\", \"proud\", \"proud\", \"proud\", \"provid\", \"qual\", \"que\", \"qui\", \"rais\", \"ral\", \"real\", \"reason\", \"record\", \"record\", \"recyc\", \"rememb\", \"renewableenergy\", \"report\", \"requir\", \"requir\", \"rest\", \"rest\", \"resy\", \"return\", \"sad\", \"saveourplanet\", \"savetheb\", \"savetheear\", \"savetheplanet\", \"savetheplanet\", \"school\", \"school\", \"schoolstrike4climate\", \"sci\", \"scottmorrisonmp\", \"se\", \"sea\", \"see\", \"seem\", \"seem\", \"self\", \"shop\", \"shutdowndc\", \"simpl\", \"smart\", \"smok\", \"solid\", \"someon\", \"someon\", \"spec\", \"specy\", \"st\", \"stand\", \"stand\", \"stat\", \"stat\", \"storm\", \"strike\", \"strikewithus\", \"strong\", \"stud\", \"stud\", \"success\", \"sun\", \"sustain\", \"sustain\", \"sydney\", \"tak\", \"tak\", \"temp\", \"term\", \"thank\", \"thank\", \"theagu\", \"think100\", \"thought\", \"thousand\", \"tim\", \"today\", \"today\", \"tomorrow\", \"tomorrow\", \"tour\", \"town\", \"train\", \"transit\", \"transit\", \"transport\", \"transport\", \"tun\", \"u\", \"u\", \"un\", \"un\", \"un\", \"understand\", \"understand\", \"unit\", \"unit\", \"us\", \"utmsourceigtwittersh\", \"utmsourceigtwittersh\", \"utmsourceigtwittersh\", \"va\", \"valu\", \"vis\", \"votebluenomatterwho\", \"wal\", \"warm\", \"warn\", \"washingtondc\", \"wast\", \"way\", \"weath\", \"weekend\", \"west\", \"whit\", \"wil\", \"wildfir\", \"wish\", \"work\", \"workshop\", \"world\", \"world\", \"wow\", \"writ\", \"you\", \"young\", \"zero\"]}, \"R\": 30, \"lambda.step\": 0.01, \"plot.opts\": {\"xlab\": \"PC1\", \"ylab\": \"PC2\"}, \"topic.order\": [4, 1, 9, 6, 2, 7, 8, 10, 5, 3]};\n",
              "\n",
              "function LDAvis_load_lib(url, callback){\n",
              "  var s = document.createElement('script');\n",
              "  s.src = url;\n",
              "  s.async = true;\n",
              "  s.onreadystatechange = s.onload = callback;\n",
              "  s.onerror = function(){console.warn(\"failed to load library \" + url);};\n",
              "  document.getElementsByTagName(\"head\")[0].appendChild(s);\n",
              "}\n",
              "\n",
              "if(typeof(LDAvis) !== \"undefined\"){\n",
              "   // already loaded: just create the visualization\n",
              "   !function(LDAvis){\n",
              "       new LDAvis(\"#\" + \"ldavis_el18291397861962309928488510338\", ldavis_el18291397861962309928488510338_data);\n",
              "   }(LDAvis);\n",
              "}else if(typeof define === \"function\" && define.amd){\n",
              "   // require.js is available: use it to load d3/LDAvis\n",
              "   require.config({paths: {d3: \"https://d3js.org/d3.v5\"}});\n",
              "   require([\"d3\"], function(d3){\n",
              "      window.d3 = d3;\n",
              "      LDAvis_load_lib(\"https://cdn.jsdelivr.net/gh/bmabey/pyLDAvis@3.3.1/pyLDAvis/js/ldavis.v3.0.0.js\", function(){\n",
              "        new LDAvis(\"#\" + \"ldavis_el18291397861962309928488510338\", ldavis_el18291397861962309928488510338_data);\n",
              "      });\n",
              "    });\n",
              "}else{\n",
              "    // require.js not available: dynamically load d3 & LDAvis\n",
              "    LDAvis_load_lib(\"https://d3js.org/d3.v5.js\", function(){\n",
              "         LDAvis_load_lib(\"https://cdn.jsdelivr.net/gh/bmabey/pyLDAvis@3.3.1/pyLDAvis/js/ldavis.v3.0.0.js\", function(){\n",
              "                 new LDAvis(\"#\" + \"ldavis_el18291397861962309928488510338\", ldavis_el18291397861962309928488510338_data);\n",
              "            })\n",
              "         });\n",
              "}\n",
              "</script>"
            ]
          },
          "metadata": {},
          "execution_count": 80
        }
      ]
    },
    {
      "cell_type": "markdown",
      "source": [
        "# Clasificación y análisis de sentimientos"
      ],
      "metadata": {
        "id": "0BO2mYq55pvG"
      }
    },
    {
      "cell_type": "markdown",
      "source": [
        "# REFERENCIAS "
      ],
      "metadata": {
        "id": "iI6fy7CR9vnY"
      }
    },
    {
      "cell_type": "markdown",
      "source": [
        "https://towardsdatascience.com/end-to-end-topic-modeling-in-python-latent-dirichlet-allocation-lda-35ce4ed6b3e0"
      ],
      "metadata": {
        "id": "e7bcjc5b9y3O"
      }
    }
  ]
}
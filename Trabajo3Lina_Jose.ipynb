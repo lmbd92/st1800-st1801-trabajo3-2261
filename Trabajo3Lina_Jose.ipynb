{
  "nbformat": 4,
  "nbformat_minor": 0,
  "metadata": {
    "colab": {
      "name": "Trabajo3Lina_Jose.ipynb",
      "provenance": [],
      "toc_visible": true,
      "authorship_tag": "ABX9TyPUcd+s3P8w0ccMfUt6rfCk",
      "include_colab_link": true
    },
    "kernelspec": {
      "name": "python3",
      "display_name": "Python 3"
    },
    "language_info": {
      "name": "python"
    }
  },
  "cells": [
    {
      "cell_type": "markdown",
      "metadata": {
        "id": "view-in-github",
        "colab_type": "text"
      },
      "source": [
        "<a href=\"https://colab.research.google.com/github/lmbd92/st1800-st1801-trabajo3-2261/blob/main/Trabajo3Lina_Jose.ipynb\" target=\"_parent\"><img src=\"https://colab.research.google.com/assets/colab-badge.svg\" alt=\"Open In Colab\"/></a>"
      ]
    },
    {
      "cell_type": "markdown",
      "source": [
        "Integrantes: Lina Beltrán (lbeltra1@eafit.edu.co), Jose Muñoz (jjmunozm@eafit.edu.co)\n",
        "\n",
        "Materia: Alm. & Recu. de información.\n",
        "\n",
        "Trabajo 3\n",
        "\n",
        "Universidad EAFIT - Maestria ciencia en datos y analítica\n",
        "\n",
        "Trabajo 2 Unidad 2 recuperación de texto"
      ],
      "metadata": {
        "id": "Z4h_pwsBq34m"
      }
    },
    {
      "cell_type": "markdown",
      "source": [
        "# Open files from GitHub"
      ],
      "metadata": {
        "id": "UHB37enaq8xD"
      }
    },
    {
      "cell_type": "code",
      "source": [
        "# OJO!!!! Ejecutar este bloque una sola vez (La primera vez), de lo contrario el repo se clonaría varias veces de manera recursiva\n",
        "\n",
        "!git clone -l -s https://github.com/lmbd92/st1800-st1801-trabajo3-2261.git cloned-repo\n",
        "%cd cloned-repo\n",
        "!ls"
      ],
      "metadata": {
        "colab": {
          "base_uri": "https://localhost:8080/"
        },
        "id": "zOzWds09rd5z",
        "outputId": "6555c322-25ec-4938-e713-514d30cb90cc"
      },
      "execution_count": 2,
      "outputs": [
        {
          "output_type": "stream",
          "name": "stdout",
          "text": [
            "Cloning into 'cloned-repo'...\n",
            "warning: --local is ignored\n",
            "remote: Enumerating objects: 37, done.\u001b[K\n",
            "remote: Counting objects: 100% (37/37), done.\u001b[K\n",
            "remote: Compressing objects: 100% (31/31), done.\u001b[K\n",
            "remote: Total 37 (delta 15), reused 12 (delta 4), pack-reused 0\n",
            "^C\n",
            "[Errno 2] No such file or directory: 'cloned-repo'\n",
            "/content/cloned-repo\n",
            "LICENSE  README.md  Trabajo3  Trabajo3Lina_Jose.ipynb\n"
          ]
        }
      ]
    },
    {
      "cell_type": "markdown",
      "source": [
        "**Nota: Para guardar el notebook directamente en Github, dirigirse a File→Save a copy to GitHub**"
      ],
      "metadata": {
        "id": "KZbH5N-4ynB-"
      }
    },
    {
      "cell_type": "code",
      "source": [
        "from getpass import getpass\n",
        "\n",
        "# auth to github\n",
        "username = \"lmbd92\"\n",
        "!git config --global user.email '$username@gmail.com'\n",
        "!git config --global user.name '$username'\n",
        "\n",
        "password = getpass('Password:')\n",
        "\n",
        "# add changes to stage\n",
        "!git add .\n",
        "!git commit -m 'updating repo from colab'\n",
        "!git push origin master   "
      ],
      "metadata": {
        "id": "SKuUTR0O66FL"
      },
      "execution_count": null,
      "outputs": []
    },
    {
      "cell_type": "markdown",
      "source": [
        "# Preparación de ambiente de trabajo (Dependencias/ librerias)"
      ],
      "metadata": {
        "id": "eNUP62YtFN2H"
      }
    },
    {
      "cell_type": "markdown",
      "source": [
        "# Preparación de los datos"
      ],
      "metadata": {
        "id": "Lk0ARlhr5Als"
      }
    },
    {
      "cell_type": "markdown",
      "source": [
        "# Características y representación"
      ],
      "metadata": {
        "id": "Cz8uJi1B5HKx"
      }
    },
    {
      "cell_type": "markdown",
      "source": [
        "# Análisis frecuencial por token o hashtags"
      ],
      "metadata": {
        "id": "Ypx9bBK_5LnA"
      }
    },
    {
      "cell_type": "markdown",
      "source": [
        "# Nubes de palabras por token o hashtags"
      ],
      "metadata": {
        "id": "6LWz9PDA5T7p"
      }
    },
    {
      "cell_type": "markdown",
      "source": [
        "# Análisis exploratorio no supervisado utilizando técnicas de LDA"
      ],
      "metadata": {
        "id": "yMe5YdkZ5h-A"
      }
    },
    {
      "cell_type": "markdown",
      "source": [
        "# Clasificación y análisis de sentimientos"
      ],
      "metadata": {
        "id": "0BO2mYq55pvG"
      }
    }
  ]
}